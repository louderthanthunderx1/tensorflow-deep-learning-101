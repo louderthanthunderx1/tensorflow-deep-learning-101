{
 "cells": [
  {
   "cell_type": "markdown",
   "id": "62e48cd8",
   "metadata": {},
   "source": [
    "# Transfer Learning with Tensorflow part1: Feature Extraction\n",
    "\n",
    "Transfer learning is leveraging a working model's existing achitecture and learned patterns for our own problem\n",
    "\n",
    "There are two main benefits:\n",
    "1. Can Leverage an existing neural network architecture proven to work on problems similar to our own.\n",
    "2. Can leverage a working neural architecture which has already learned patterns on similar data to our own, then we can adapt those patterns to our own data"
   ]
  },
  {
   "cell_type": "code",
   "execution_count": 1,
   "id": "f52a070d",
   "metadata": {},
   "outputs": [
    {
     "name": "stdout",
     "output_type": "stream",
     "text": [
      "Wed Jun 29 23:05:12 2022       \n",
      "+-----------------------------------------------------------------------------+\n",
      "| NVIDIA-SMI 512.15       Driver Version: 512.15       CUDA Version: 11.6     |\n",
      "|-------------------------------+----------------------+----------------------+\n",
      "| GPU  Name            TCC/WDDM | Bus-Id        Disp.A | Volatile Uncorr. ECC |\n",
      "| Fan  Temp  Perf  Pwr:Usage/Cap|         Memory-Usage | GPU-Util  Compute M. |\n",
      "|                               |                      |               MIG M. |\n",
      "|===============================+======================+======================|\n",
      "|   0  NVIDIA GeForce ... WDDM  | 00000000:01:00.0  On |                  N/A |\n",
      "| N/A   43C    P8     5W /  N/A |    162MiB /  4096MiB |      6%      Default |\n",
      "|                               |                      |                  N/A |\n",
      "+-------------------------------+----------------------+----------------------+\n",
      "                                                                               \n",
      "+-----------------------------------------------------------------------------+\n",
      "| Processes:                                                                  |\n",
      "|  GPU   GI   CI        PID   Type   Process name                  GPU Memory |\n",
      "|        ID   ID                                                   Usage      |\n",
      "|=============================================================================|\n",
      "|    0   N/A  N/A      1904    C+G                                   N/A      |\n",
      "|    0   N/A  N/A      7896    C+G   ...wekyb3d8bbwe\\Video.UI.exe    N/A      |\n",
      "|    0   N/A  N/A      9192    C+G   ...r\\RoundedTB\\RoundedTB.exe    N/A      |\n",
      "+-----------------------------------------------------------------------------+\n"
     ]
    }
   ],
   "source": [
    "# Are we using a GPU ?\n",
    "!nvidia-smi"
   ]
  },
  {
   "cell_type": "markdown",
   "id": "dc2f433a",
   "metadata": {},
   "source": [
    "## Downloading and becoming one with the data"
   ]
  },
  {
   "cell_type": "code",
   "execution_count": 4,
   "id": "9b5c2f25",
   "metadata": {},
   "outputs": [],
   "source": [
    "# Get the data (10% of 10 food classes from Food101)\n",
    "# https://www.kaggle.com/datasets/dansbecker/food-101"
   ]
  },
  {
   "cell_type": "code",
   "execution_count": 6,
   "id": "d366af3e",
   "metadata": {},
   "outputs": [
    {
     "name": "stdout",
     "output_type": "stream",
     "text": [
      "There are 2 directories and 0 images in '10_food_classes_10_percent'.\n",
      "There are 10 directories and 0 images in '10_food_classes_10_percent\\test'.\n",
      "There are 0 directories and 250 images in '10_food_classes_10_percent\\test\\chicken_curry'.\n",
      "There are 0 directories and 250 images in '10_food_classes_10_percent\\test\\chicken_wings'.\n",
      "There are 0 directories and 250 images in '10_food_classes_10_percent\\test\\fried_rice'.\n",
      "There are 0 directories and 250 images in '10_food_classes_10_percent\\test\\grilled_salmon'.\n",
      "There are 0 directories and 250 images in '10_food_classes_10_percent\\test\\hamburger'.\n",
      "There are 0 directories and 250 images in '10_food_classes_10_percent\\test\\ice_cream'.\n",
      "There are 0 directories and 250 images in '10_food_classes_10_percent\\test\\pizza'.\n",
      "There are 0 directories and 250 images in '10_food_classes_10_percent\\test\\ramen'.\n",
      "There are 0 directories and 250 images in '10_food_classes_10_percent\\test\\steak'.\n",
      "There are 0 directories and 250 images in '10_food_classes_10_percent\\test\\sushi'.\n",
      "There are 10 directories and 0 images in '10_food_classes_10_percent\\train'.\n",
      "There are 0 directories and 75 images in '10_food_classes_10_percent\\train\\chicken_curry'.\n",
      "There are 0 directories and 75 images in '10_food_classes_10_percent\\train\\chicken_wings'.\n",
      "There are 0 directories and 75 images in '10_food_classes_10_percent\\train\\fried_rice'.\n",
      "There are 0 directories and 75 images in '10_food_classes_10_percent\\train\\grilled_salmon'.\n",
      "There are 0 directories and 75 images in '10_food_classes_10_percent\\train\\hamburger'.\n",
      "There are 0 directories and 75 images in '10_food_classes_10_percent\\train\\ice_cream'.\n",
      "There are 0 directories and 75 images in '10_food_classes_10_percent\\train\\pizza'.\n",
      "There are 0 directories and 75 images in '10_food_classes_10_percent\\train\\ramen'.\n",
      "There are 0 directories and 75 images in '10_food_classes_10_percent\\train\\steak'.\n",
      "There are 0 directories and 75 images in '10_food_classes_10_percent\\train\\sushi'.\n"
     ]
    }
   ],
   "source": [
    "# How many images in each folder?\n",
    "import os\n",
    "\n",
    "# Walk through 10 percent data directory and list number of files\n",
    "for dirpath, dirnames, filenames in os.walk(\"10_food_classes_10_percent\"):\n",
    "    print(f\"There are {len(dirnames)} directories and {len(filenames)} images in '{dirpath}'.\")"
   ]
  },
  {
   "cell_type": "markdown",
   "id": "84d1f65b",
   "metadata": {},
   "source": [
    "## Creating data loaders (preparing the data)\n",
    "\n",
    "We'll use the `ImageDataGenerator` class to load in our images in batches."
   ]
  },
  {
   "cell_type": "code",
   "execution_count": 22,
   "id": "cb5fae71",
   "metadata": {},
   "outputs": [
    {
     "name": "stdout",
     "output_type": "stream",
     "text": [
      "Training image: \n",
      "Found 750 images belonging to 10 classes.\n",
      "Testing image: \n",
      "Found 2500 images belonging to 10 classes.\n"
     ]
    }
   ],
   "source": [
    "# Setup data input\n",
    "from tensorflow.keras.preprocessing.image import ImageDataGenerator\n",
    "\n",
    "IMAGE_SHAPE = (224, 224)\n",
    "BATCH_SIZE = 32\n",
    "\n",
    "train_dir = \"10_food_classes_10_percent/train/\"\n",
    "test_dir = \"10_food_classes_10_percent/test/\"\n",
    "\n",
    "train_datagen = ImageDataGenerator(rescale=1/255.)\n",
    "test_datagen = ImageDataGenerator(rescale=1/255.)\n",
    "\n",
    "print(\"Training image: \")\n",
    "train_data_10_percent = train_datagen.flow_from_directory(train_dir,\n",
    "                                                         target_size=IMAGE_SHAPE,\n",
    "                                                         batch_size=BATCH_SIZE,\n",
    "                                                         class_mode='categorical')\n",
    "\n",
    "print(\"Testing image: \")\n",
    "test_data = test_datagen.flow_from_directory(test_dir,\n",
    "                                                       target_size=IMAGE_SHAPE,\n",
    "                                                       batch_size=BATCH_SIZE,\n",
    "                                                       class_mode='categorical')"
   ]
  },
  {
   "cell_type": "markdown",
   "id": "9384ec38",
   "metadata": {},
   "source": [
    "## Setting up callbacks (things to run whilst our model trains)\n",
    "\n",
    "Callbacks are extra functionally you can add to your models to be performed during our after training. Some of the most popular callbacks:\n",
    "\n",
    "* Tracking experiments with the `Tensorboard` callback\n",
    "* Model checkpoint with the `ModelCheckpoint` callback\n",
    "* Stopping a model from training (before it trains too long and overfits) with the `EarlyStopping` callback"
   ]
  },
  {
   "cell_type": "code",
   "execution_count": 8,
   "id": "227a81ba",
   "metadata": {},
   "outputs": [],
   "source": [
    "# Create Tensorboard callback (functionized bacause we need to create a new one for each model)\n",
    "import datetime\n",
    "\n",
    "def create_tensorboard_callback(dir_name, experiment_name):\n",
    "    log_dir = dir_name + \"/\" + experiment_name + \"/\" + datetime.datetime.now().strftime(\"%Y%m%d-%H%M%S\")\n",
    "    tensorboard_callback = tf.keras.callbacks.TensorBoard(log_dir=log_dir)\n",
    "    print(f\"Saving TensorBoard log files to: {log_dir}\")\n",
    "    return tensorboard_callback"
   ]
  },
  {
   "cell_type": "markdown",
   "id": "c42fcd55",
   "metadata": {},
   "source": [
    "# Creatng model using Tensorflow Hub"
   ]
  },
  {
   "cell_type": "markdown",
   "id": "ce4b496b",
   "metadata": {},
   "source": [
    "In the past we've used Tensorflow to create our own models lyers by layers from scratch.\n",
    "\n",
    "Now we're going to do a similar processs, except the majority of our model's layers are going to come from TensorFlow Hub.\n",
    "\n",
    "We can access pretrained models on: https://tfhub.dev/\n",
    "\n",
    "Browsing the Tensorflow Hub page and sorting for image classification, we found the following feature vector model link : https://tfhub.dev/tensorflow/efficientnet/b0/feature-vector/1"
   ]
  },
  {
   "cell_type": "code",
   "execution_count": 9,
   "id": "97bc867d",
   "metadata": {},
   "outputs": [],
   "source": [
    "# let's compare the following two models\n",
    "resnet_url  = \"https://tfhub.dev/google/imagenet/resnet_v2_50/feature_vector/5\"\n",
    "\n",
    "efficientnet_url = 'https://tfhub.dev/tensorflow/efficientnet/b0/feature-vector/1'"
   ]
  },
  {
   "cell_type": "code",
   "execution_count": 10,
   "id": "c6f827b3",
   "metadata": {},
   "outputs": [],
   "source": [
    "# Import dependencies\n",
    "import tensorflow as tf\n",
    "import tensorflow_hub as hub\n",
    "from tensorflow.keras import layers"
   ]
  },
  {
   "cell_type": "code",
   "execution_count": 12,
   "id": "20abdc57",
   "metadata": {},
   "outputs": [
    {
     "data": {
      "text/plain": [
       "((224, 224), (224, 224, 3))"
      ]
     },
     "execution_count": 12,
     "metadata": {},
     "output_type": "execute_result"
    }
   ],
   "source": [
    "IMAGE_SHAPE, IMAGE_SHAPE+(3,)"
   ]
  },
  {
   "cell_type": "code",
   "execution_count": 16,
   "id": "96c8d9cf",
   "metadata": {},
   "outputs": [],
   "source": [
    "# Let's make a create_model() function to create a model from a URL\n",
    "def create_model(model_url, num_classes=10):\n",
    "    \"\"\"\n",
    "    Takes a Tensorflow Hub URL and creates Keras Sequential model with it.\n",
    "    \n",
    "    Args:\n",
    "        model_url (str): A TensorFlow Hub feature extraction URL.\n",
    "        num_classes (int): Number of output nerons in the output layer,\n",
    "        should be equal to number of target classes, default 10\n",
    "        \n",
    "    Returns:\n",
    "        An uncompiled keras Sequential model with model_url as feature extractor \n",
    "        layer and Dense output layer with num_classes output neurons.\n",
    "    \"\"\"\n",
    "    \n",
    "    # Download the pretrained model and save it as a Keras model.\n",
    "    feature_extractor_layer = hub.KerasLayer(model_url,\n",
    "                                            trainable=False, # freeze the already learned patterns\n",
    "                                            name=\"feature_extraction_layer\",\n",
    "                                            input_shape=IMAGE_SHAPE+(3,))\n",
    "    \n",
    "    # Create our own model\n",
    "    model = tf.keras.Sequential([\n",
    "        feature_extractor_layer,\n",
    "        layers.Dense(num_classes, activation='softmax', name='output_layer')\n",
    "    ])\n",
    "    \n",
    "    return model"
   ]
  },
  {
   "cell_type": "markdown",
   "id": "17788018",
   "metadata": {},
   "source": [
    "### Creating and Testing ResNet TensorFlow Hub Feature Extraction Model"
   ]
  },
  {
   "cell_type": "code",
   "execution_count": 17,
   "id": "e60fee3c",
   "metadata": {},
   "outputs": [
    {
     "data": {
      "text/plain": [
       "10"
      ]
     },
     "execution_count": 17,
     "metadata": {},
     "output_type": "execute_result"
    }
   ],
   "source": [
    "train_data_10_percent.num_classes"
   ]
  },
  {
   "cell_type": "code",
   "execution_count": 18,
   "id": "ffa95f9a",
   "metadata": {},
   "outputs": [],
   "source": [
    "# Create Resnet model\n",
    "resnet_model = create_model(resnet_url,\n",
    "                           num_classes=train_data_10_percent.num_classes)"
   ]
  },
  {
   "cell_type": "code",
   "execution_count": 20,
   "id": "a2d08954",
   "metadata": {},
   "outputs": [],
   "source": [
    "# Compile our resnet model\n",
    "resnet_model.compile(loss='categorical_crossentropy',\n",
    "                    optimizer=tf.keras.optimizers.Adam(),\n",
    "                    metrics=['accuracy'])"
   ]
  },
  {
   "cell_type": "code",
   "execution_count": 19,
   "id": "e9541df9",
   "metadata": {},
   "outputs": [
    {
     "name": "stdout",
     "output_type": "stream",
     "text": [
      "Model: \"sequential\"\n",
      "_________________________________________________________________\n",
      "Layer (type)                 Output Shape              Param #   \n",
      "=================================================================\n",
      "feature_extraction_layer (Ke (None, 2048)              23564800  \n",
      "_________________________________________________________________\n",
      "output_layer (Dense)         (None, 10)                20490     \n",
      "=================================================================\n",
      "Total params: 23,585,290\n",
      "Trainable params: 20,490\n",
      "Non-trainable params: 23,564,800\n",
      "_________________________________________________________________\n"
     ]
    }
   ],
   "source": [
    "# model summary\n",
    "resnet_model.summary()"
   ]
  },
  {
   "cell_type": "code",
   "execution_count": 23,
   "id": "41c22d76",
   "metadata": {},
   "outputs": [
    {
     "name": "stdout",
     "output_type": "stream",
     "text": [
      "Saving TensorBoard log files to: tensorflow_hub/resnet50V2/20220630-000748\n",
      "Epoch 1/5\n",
      "24/24 [==============================] - 24s 687ms/step - loss: 1.8393 - accuracy: 0.3933 - val_loss: 1.2356 - val_accuracy: 0.5860\n",
      "Epoch 2/5\n",
      "24/24 [==============================] - 13s 568ms/step - loss: 0.9313 - accuracy: 0.7280 - val_loss: 0.8227 - val_accuracy: 0.7416\n",
      "Epoch 3/5\n",
      "24/24 [==============================] - 13s 574ms/step - loss: 0.6488 - accuracy: 0.8267 - val_loss: 0.7420 - val_accuracy: 0.7644\n",
      "Epoch 4/5\n",
      "24/24 [==============================] - 13s 574ms/step - loss: 0.5117 - accuracy: 0.8627 - val_loss: 0.7045 - val_accuracy: 0.7712\n",
      "Epoch 5/5\n",
      "24/24 [==============================] - 13s 577ms/step - loss: 0.4021 - accuracy: 0.8960 - val_loss: 0.6685 - val_accuracy: 0.7844\n"
     ]
    }
   ],
   "source": [
    "# Fit our ResNet model\n",
    "resnet_history = resnet_model.fit(train_data_10_percent,\n",
    "                                 epochs=5,\n",
    "                                 steps_per_epoch=len(train_data_10_percent),\n",
    "                                 validation_data=test_data,\n",
    "                                 validation_steps=len(test_data),\n",
    "                                 callbacks=[create_tensorboard_callback(dir_name='tensorflow_hub',\n",
    "                                                                       experiment_name='resnet50V2')])"
   ]
  },
  {
   "cell_type": "markdown",
   "id": "8c444773",
   "metadata": {},
   "source": [
    "That, Is Incredible. Our transfer learning feature extractor model out performed ALL of the prvious models we built by hand... (substantially)"
   ]
  },
  {
   "cell_type": "code",
   "execution_count": 30,
   "id": "694c00f4",
   "metadata": {},
   "outputs": [],
   "source": [
    "# Let's create the function to plot loss Curves\n",
    "import matplotlib.pyplot as plt\n",
    "\n",
    "# Plot the validation and training curves\n",
    "def plot_loss_curves(history):\n",
    "    \"\"\"\n",
    "    Returns separate loss curves for training and validation metrics.\n",
    "    \n",
    "    Args:\n",
    "        history: TensorFlow History object.\n",
    "        \n",
    "    Returns:\n",
    "        Plots of training/Validation loss and accuracy metrics.\n",
    "    \"\"\"\n",
    "    loss = history.history[\"loss\"]\n",
    "    val_loss = history.history['val_loss']\n",
    "    \n",
    "    accuracy = history.history[\"accuracy\"]\n",
    "    val_accuracy = history.history[\"val_accuracy\"]\n",
    "    \n",
    "    epochs = range(len(history.history[\"loss\"]))\n",
    "    \n",
    "    # Plot Loss\n",
    "    plt.plot(epochs, loss, label=\"training_loss\")\n",
    "    plt.plot(epochs, val_loss, label=\"val_loss\")\n",
    "    plt.title(\"Loss\")\n",
    "    plt.xlabel(\"Epochs\")\n",
    "    plt.legend()\n",
    "    \n",
    "    # Plot accuracy\n",
    "    plt.figure() # separate plot\n",
    "    plt.plot(epochs, accuracy, label=\"Training_accuracy\")\n",
    "    plt.plot(epochs, val_accuracy, label='val_accuracy')\n",
    "    plt.title(\"Accuracy\")\n",
    "    plt.xlabel(\"Epochs\")\n",
    "    plt.legend();"
   ]
  },
  {
   "cell_type": "code",
   "execution_count": 31,
   "id": "23854f9e",
   "metadata": {},
   "outputs": [
    {
     "data": {
      "image/png": "[encoded data removed]",
      "text/plain": [
       "<Figure size 432x288 with 1 Axes>"
      ]
     },
     "metadata": {
      "needs_background": "light"
     },
     "output_type": "display_data"
    },
    {
     "data": {
      "image/png": "[encoded data removed]",
      "text/plain": [
       "<Figure size 432x288 with 1 Axes>"
      ]
     },
     "metadata": {
      "needs_background": "light"
     },
     "output_type": "display_data"
    }
   ],
   "source": [
    "plot_loss_curves(resnet_history)"
   ]
  },
  {
   "cell_type": "markdown",
   "id": "3a209c7e",
   "metadata": {},
   "source": [
    "### Creating and Testing EfficientNetB0 TensorFlow Hub Feature Extraction Model"
   ]
  },
  {
   "cell_type": "code",
   "execution_count": 36,
   "id": "eb8b54aa",
   "metadata": {},
   "outputs": [],
   "source": [
    "# Create efficientnet model\n",
    "efficientnet_model = create_model(efficientnet_url,\n",
    "                           num_classes=train_data_10_percent.num_classes)"
   ]
  },
  {
   "cell_type": "code",
   "execution_count": 37,
   "id": "c6a355d5",
   "metadata": {},
   "outputs": [],
   "source": [
    "# Compile our resnet model\n",
    "efficientnet_model.compile(loss='categorical_crossentropy',\n",
    "                    optimizer=tf.keras.optimizers.Adam(),\n",
    "                    metrics=['accuracy'])"
   ]
  },
  {
   "cell_type": "code",
   "execution_count": 38,
   "id": "e6464a2d",
   "metadata": {},
   "outputs": [
    {
     "name": "stdout",
     "output_type": "stream",
     "text": [
      "Model: \"sequential_2\"\n",
      "_________________________________________________________________\n",
      "Layer (type)                 Output Shape              Param #   \n",
      "=================================================================\n",
      "feature_extraction_layer (Ke (None, 1280)              4049564   \n",
      "_________________________________________________________________\n",
      "output_layer (Dense)         (None, 10)                12810     \n",
      "=================================================================\n",
      "Total params: 4,062,374\n",
      "Trainable params: 12,810\n",
      "Non-trainable params: 4,049,564\n",
      "_________________________________________________________________\n"
     ]
    }
   ],
   "source": [
    "# model summary\n",
    "efficientnet_model.summary()"
   ]
  },
  {
   "cell_type": "code",
   "execution_count": 39,
   "id": "a5db4314",
   "metadata": {},
   "outputs": [
    {
     "name": "stdout",
     "output_type": "stream",
     "text": [
      "Saving TensorBoard log files to: tensorflow_hub/efficientnetb0/20220630-002610\n",
      "Epoch 1/5\n",
      "24/24 [==============================] - 20s 512ms/step - loss: 1.8372 - accuracy: 0.4187 - val_loss: 1.3267 - val_accuracy: 0.7000\n",
      "Epoch 2/5\n",
      "24/24 [==============================] - 8s 334ms/step - loss: 1.0754 - accuracy: 0.7573 - val_loss: 0.8827 - val_accuracy: 0.8116\n",
      "Epoch 3/5\n",
      "24/24 [==============================] - 8s 333ms/step - loss: 0.7584 - accuracy: 0.8373 - val_loss: 0.7067 - val_accuracy: 0.8372\n",
      "Epoch 4/5\n",
      "24/24 [==============================] - 8s 335ms/step - loss: 0.6093 - accuracy: 0.8667 - val_loss: 0.6153 - val_accuracy: 0.8488\n",
      "Epoch 5/5\n",
      "24/24 [==============================] - 8s 333ms/step - loss: 0.5136 - accuracy: 0.8920 - val_loss: 0.5617 - val_accuracy: 0.8576\n"
     ]
    }
   ],
   "source": [
    "# Fit our ResNet model\n",
    "efficientnet_history = efficientnet_model.fit(train_data_10_percent,\n",
    "                                 epochs=5,\n",
    "                                 steps_per_epoch=len(train_data_10_percent),\n",
    "                                 validation_data=test_data,\n",
    "                                 validation_steps=len(test_data),\n",
    "                                 callbacks=[create_tensorboard_callback(dir_name='tensorflow_hub',\n",
    "                                                                       experiment_name='efficientnetb0')])"
   ]
  },
  {
   "cell_type": "code",
   "execution_count": 40,
   "id": "82690b4f",
   "metadata": {},
   "outputs": [
    {
     "data": {
      "image/png": "[encoded data removed]",
      "text/plain": [
       "<Figure size 432x288 with 1 Axes>"
      ]
     },
     "metadata": {
      "needs_background": "light"
     },
     "output_type": "display_data"
    },
    {
     "data": {
      "image/png": "[encoded data removed]",
      "text/plain": [
       "<Figure size 432x288 with 1 Axes>"
      ]
     },
     "metadata": {
      "needs_background": "light"
     },
     "output_type": "display_data"
    }
   ],
   "source": [
    "plot_loss_curves(efficientnet_history)"
   ]
  },
  {
   "cell_type": "code",
   "execution_count": 44,
   "id": "e0af1be3",
   "metadata": {},
   "outputs": [
    {
     "data": {
      "text/plain": [
       "309"
      ]
     },
     "execution_count": 44,
     "metadata": {},
     "output_type": "execute_result"
    }
   ],
   "source": [
    "# how many layers does our efficientnetb0 feature extractor have ?\n",
    "len(efficientnet_model.layers[0].weights)"
   ]
  },
  {
   "cell_type": "markdown",
   "id": "d1a76324",
   "metadata": {},
   "source": [
    "## Different types of transfer learning\n",
    "\n",
    "* **\"As is\" transfer learning** - using an existing model with no changes waht so ever\n",
    "* **\"Feature extaction\" transfer learning** - use the prelearned patterns of an existing model (e.g. EfficientNetB0 trained on ImageNet) and aadjust the output layer for your own problem (e.g. 10 classes of food)\n",
    "* **\"Fine-tuning\" transfer learning** - use the prelearned patterns of an existing model and \"fine-tune\" many or all of the underlying layers (including new output layers)"
   ]
  },
  {
   "cell_type": "code",
   "execution_count": 49,
   "id": "c5d4c7ed",
   "metadata": {},
   "outputs": [
    {
     "name": "stdout",
     "output_type": "stream",
     "text": [
      "^C\n"
     ]
    }
   ],
   "source": [
    "# Comparing our models result using TensorBoard\n",
    "logdir = \"./tensorflow_hub/\"\n",
    "!tensorboard dev upload --logdir {logdir}\\\n",
    "    --name \"EfficientNetB0 vs. ResNet50V2\" \\\n",
    "    --description \"Comparing two diffrent TF HUB Feature Extraction model architectures\"\\\n",
    "    --one_shot"
   ]
  }
 ],
 "metadata": {
  "kernelspec": {
   "display_name": "Python 3",
   "language": "python",
   "name": "python3"
  },
  "language_info": {
   "codemirror_mode": {
    "name": "ipython",
    "version": 3
   },
   "file_extension": ".py",
   "mimetype": "text/x-python",
   "name": "python",
   "nbconvert_exporter": "python",
   "pygments_lexer": "ipython3",
   "version": "3.6.13"
  }
 },
 "nbformat": 4,
 "nbformat_minor": 5
}
