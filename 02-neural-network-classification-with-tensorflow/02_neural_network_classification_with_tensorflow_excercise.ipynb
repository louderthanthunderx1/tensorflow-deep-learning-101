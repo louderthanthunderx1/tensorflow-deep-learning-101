{
 "cells": [
  {
   "cell_type": "markdown",
   "id": "18562c4f",
   "metadata": {},
   "source": [
    "### 02. Neural network classification with TensorFlow Exercises\n",
    "\n",
    "1. Play with neural networks in the [TensorFlow Playground](https://playground.tensorflow.org/) for 10-minutes. Especially try different values of the learning, what happens when you decrease it? What happens when you increase it?\n",
    "\n",
    "2. Replicate the model pictured in the [TensorFlow Playground diagram](https://playground.tensorflow.org/#activation=relu&batchSize=10&dataset=circle&regDataset=reg-plane&learningRate=0.001&regularizationRate=0&noise=0&networkShape=6,6,6,6,6&seed=0.51287&showTestData=false&discretize=false&percTrainData=50&x=true&y=true&xTimesY=false&xSquared=false&ySquared=false&cosX=false&sinX=false&cosY=false&sinY=false&collectStats=false&problem=classification&initZero=false&hideText=false&regularization_hide=true&discretize_hide=true&regularizationRate_hide=true&percTrainData_hide=true&dataset_hide=true&problem_hide=true&noise_hide=true&batchSize_hide=true) below using TensorFlow code. Compile it using the Adam optimizer, binary crossentropy loss and accuracy metric. Once it's compiled check a summary of the model.\n",
    "![tensorflow playground example neural network](https://raw.githubusercontent.com/mrdbourke/tensorflow-deep-learning/main/images/02-tensorflow-playground-replication-exercise.png)\n",
    "*Try this network out for yourself on the [TensorFlow Playground website](https://playground.tensorflow.org/#activation=relu&batchSize=10&dataset=circle&regDataset=reg-plane&learningRate=0.001&regularizationRate=0&noise=0&networkShape=6,6,6,6,6&seed=0.51287&showTestData=false&discretize=false&percTrainData=50&x=true&y=true&xTimesY=false&xSquared=false&ySquared=false&cosX=false&sinX=false&cosY=false&sinY=false&collectStats=false&problem=classification&initZero=false&hideText=false&regularization_hide=true&discretize_hide=true&regularizationRate_hide=true&percTrainData_hide=true&dataset_hide=true&problem_hide=true&noise_hide=true&batchSize_hide=true). Hint: there are 5 hidden layers but the output layer isn't pictured, you'll have to decide what the output layer should be based on the input data.*\n",
    "\n",
    "3. Create a classification dataset using Scikit-Learn's [`make_moons()`](https://scikit-learn.org/stable/modules/generated/sklearn.datasets.make_moons.html) function, visualize it and then build a model to fit it at over 85% accuracy.\n",
    "\n",
    "4. Train a model to get 88%+ accuracy on the fashion MNIST test set. Plot a confusion matrix to see the results after.\n",
    "\n",
    "5. Recreate [TensorFlow's](https://www.tensorflow.org/api_docs/python/tf/keras/activations/softmax) [softmax activation function](https://en.wikipedia.org/wiki/Softmax_function) in your own code. Make sure it can accept a tensor and return that tensor after having the softmax function applied to it.\n",
    "\n",
    "6. Create a function (or write code) to visualize multiple image predictions for the fashion MNIST at the same time. Plot at least three different images and their prediciton labels at the same time. Hint: see the [classifcation tutorial in the TensorFlow documentation](https://www.tensorflow.org/tutorials/keras/classification) for ideas.\n",
    "\n",
    "7. Make a function to show an image of a certain class of the fashion MNIST dataset and make a prediction on it. For example, plot 3 images of the `T-shirt` class with their predictions.\n",
    "\n",
    "### 📖 02. Neural network classification with TensorFlow Extra-curriculum\n",
    "\n",
    "* Watch 3Blue1Brown's neural networks video 2: [*Gradient descent, how neural networks learn*](https://www.youtube.com/watch?v=IHZwWFHWa-w). After you're done, write 100 words about what you've learned.\n",
    "  * If you haven't already, watch video 1: [*But what is a Neural Network?*](https://youtu.be/aircAruvnKk). Note the activation function they talk about at the end.\n",
    "* Watch [MIT's introduction to deep learning lecture 1](https://youtu.be/njKP3FqW3Sk) (if you haven't already) to get an idea of the concepts behind using linear and non-linear functions.\n",
    "* Spend 1-hour reading [Michael Nielsen's Neural Networks and Deep Learning book](http://neuralnetworksanddeeplearning.com/index.html).\n",
    "* Read the [ML-Glossary documentation on activation functions](https://ml-cheatsheet.readthedocs.io/en/latest/activation_functions.html). Which one is your favourite?\n",
    "  * After you've read the ML-Glossary, see which activation functions are available in TensorFlow by searching \"tensorflow activation functions\"."
   ]
  },
  {
   "cell_type": "markdown",
   "id": "afb666e0",
   "metadata": {},
   "source": [
    "### 02. Neural network classification with TensorFlow Exercises"
   ]
  },
  {
   "cell_type": "markdown",
   "id": "bc56b9ea",
   "metadata": {},
   "source": [
    "**Questionnaire**\n",
    "\n",
    "1. Create a classification dataset using Scikit-Learn's [`make_moons()`](https://scikit-learn.org/stable/modules/generated/sklearn.datasets.make_moons.html) function, visualize it and then build a model to fit it at over 85% accuracy.\n",
    "\n",
    "2. Train a model to get 88%+ accuracy on the fashion MNIST test set. Plot a confusion matrix to see the results after.\n",
    "\n",
    "3. Recreate [TensorFlow's](https://www.tensorflow.org/api_docs/python/tf/keras/activations/softmax) [softmax activation function](https://en.wikipedia.org/wiki/Softmax_function) in your own code. Make sure it can accept a tensor and return that tensor after having the softmax function applied to it.\n",
    "\n",
    "4. Create a function (or write code) to visualize multiple image predictions for the fashion MNIST at the same time. Plot at least three different images and their prediciton labels at the same time. Hint: see the [classifcation tutorial in the TensorFlow documentation](https://www.tensorflow.org/tutorials/keras/classification) for ideas.\n",
    "\n",
    "5. Make a function to show an image of a certain class of the fashion MNIST dataset and make a prediction on it. For example, plot 3 images of the `T-shirt` class with their predictions."
   ]
  },
  {
   "cell_type": "code",
   "execution_count": 1,
   "id": "d1d6fc44",
   "metadata": {},
   "outputs": [],
   "source": [
    "# Importing the initial use\n",
    "import tensorflow as tf\n",
    "import matplotlib.pyplot as plt\n",
    "import pandas as pd\n",
    "import numpy as np"
   ]
  },
  {
   "cell_type": "markdown",
   "id": "906d0718",
   "metadata": {},
   "source": [
    "### 1. Create a classification dataset using Scikit-Learn's [`make_moons()`](https://scikit-learn.org/stable/modules/generated/sklearn.datasets.make_moons.html) function, visualize it and then build a model to fit it at over 85% accuracy."
   ]
  },
  {
   "cell_type": "code",
   "execution_count": 2,
   "id": "0eefeedb",
   "metadata": {},
   "outputs": [
    {
     "name": "stdout",
     "output_type": "stream",
     "text": [
      "(1000, 2) (1000,)\n"
     ]
    },
    {
     "data": {
      "text/html": [
       "<div>\n",
       "<style scoped>\n",
       "    .dataframe tbody tr th:only-of-type {\n",
       "        vertical-align: middle;\n",
       "    }\n",
       "\n",
       "    .dataframe tbody tr th {\n",
       "        vertical-align: top;\n",
       "    }\n",
       "\n",
       "    .dataframe thead th {\n",
       "        text-align: right;\n",
       "    }\n",
       "</style>\n",
       "<table border=\"1\" class=\"dataframe\">\n",
       "  <thead>\n",
       "    <tr style=\"text-align: right;\">\n",
       "      <th></th>\n",
       "      <th>col_1</th>\n",
       "      <th>col_2</th>\n",
       "      <th>label</th>\n",
       "    </tr>\n",
       "  </thead>\n",
       "  <tbody>\n",
       "    <tr>\n",
       "      <th>0</th>\n",
       "      <td>0.008727</td>\n",
       "      <td>0.368174</td>\n",
       "      <td>1</td>\n",
       "    </tr>\n",
       "    <tr>\n",
       "      <th>1</th>\n",
       "      <td>0.921384</td>\n",
       "      <td>-0.496905</td>\n",
       "      <td>1</td>\n",
       "    </tr>\n",
       "    <tr>\n",
       "      <th>2</th>\n",
       "      <td>0.940226</td>\n",
       "      <td>-0.498212</td>\n",
       "      <td>1</td>\n",
       "    </tr>\n",
       "    <tr>\n",
       "      <th>3</th>\n",
       "      <td>0.465875</td>\n",
       "      <td>-0.345406</td>\n",
       "      <td>1</td>\n",
       "    </tr>\n",
       "    <tr>\n",
       "      <th>4</th>\n",
       "      <td>-0.850412</td>\n",
       "      <td>0.526117</td>\n",
       "      <td>0</td>\n",
       "    </tr>\n",
       "  </tbody>\n",
       "</table>\n",
       "</div>"
      ],
      "text/plain": [
       "      col_1     col_2  label\n",
       "0  0.008727  0.368174      1\n",
       "1  0.921384 -0.496905      1\n",
       "2  0.940226 -0.498212      1\n",
       "3  0.465875 -0.345406      1\n",
       "4 -0.850412  0.526117      0"
      ]
     },
     "execution_count": 2,
     "metadata": {},
     "output_type": "execute_result"
    }
   ],
   "source": [
    "# Import the make_moons datasets from sklearn datasets\n",
    "from sklearn.datasets import make_moons\n",
    "\n",
    "# Make samples\n",
    "n_samples = 1000\n",
    "\n",
    "# Create circles and set random seed\n",
    "X, y = make_moons(n_samples=n_samples,\n",
    "                 random_state=42)\n",
    "\n",
    "# Checking the shape of X & y\n",
    "print(X.shape, y.shape)\n",
    "\n",
    "# Packing them into a DataFrame\n",
    "make_moons_df = pd.DataFrame({\"col_1\": X[:, 0],\n",
    "                             \"col_2\": X[:, 1],\n",
    "                             \"label\": y})\n",
    "make_moons_df.head()"
   ]
  },
  {
   "cell_type": "code",
   "execution_count": 3,
   "id": "49fee8c5",
   "metadata": {},
   "outputs": [
    {
     "data": {
      "image/png": "[encoded data removed]",
      "text/plain": [
       "<Figure size 432x288 with 1 Axes>"
      ]
     },
     "metadata": {
      "needs_background": "light"
     },
     "output_type": "display_data"
    }
   ],
   "source": [
    "# Let's plot the data to visualization\n",
    "plt.scatter(X[:, 0], X[:, 1], c=y, cmap=plt.cm.RdYlBu);"
   ]
  },
  {
   "cell_type": "code",
   "execution_count": 4,
   "id": "fd49f953",
   "metadata": {},
   "outputs": [
    {
     "data": {
      "text/plain": [
       "((800, 2), (200, 2), (800,), (200,))"
      ]
     },
     "execution_count": 4,
     "metadata": {},
     "output_type": "execute_result"
    }
   ],
   "source": [
    "# Splitting the dataset into train and test \n",
    "from sklearn.model_selection import train_test_split\n",
    "\n",
    "X_train, X_test, y_train, y_test = train_test_split(X, y, test_size=0.2, random_state=42)\n",
    "\n",
    "# Checking the shape of splitting\n",
    "X_train.shape, X_test.shape, y_train.shape, y_test.shape"
   ]
  },
  {
   "cell_type": "code",
   "execution_count": 5,
   "id": "aa801fa3",
   "metadata": {},
   "outputs": [
    {
     "name": "stdout",
     "output_type": "stream",
     "text": [
      "Epoch 1/10\n",
      "25/25 [==============================] - 1s 3ms/step - loss: 0.6808 - accuracy: 0.5038\n",
      "Epoch 2/10\n",
      "25/25 [==============================] - 0s 2ms/step - loss: 0.6388 - accuracy: 0.5125\n",
      "Epoch 3/10\n",
      "25/25 [==============================] - 0s 2ms/step - loss: 0.6017 - accuracy: 0.5350\n",
      "Epoch 4/10\n",
      "25/25 [==============================] - 0s 2ms/step - loss: 0.5689 - accuracy: 0.6500\n",
      "Epoch 5/10\n",
      "25/25 [==============================] - 0s 3ms/step - loss: 0.5388 - accuracy: 0.8475\n",
      "Epoch 6/10\n",
      "25/25 [==============================] - 0s 2ms/step - loss: 0.5128 - accuracy: 0.8775\n",
      "Epoch 7/10\n",
      "25/25 [==============================] - 0s 2ms/step - loss: 0.4895 - accuracy: 0.8800\n",
      "Epoch 8/10\n",
      "25/25 [==============================] - 0s 3ms/step - loss: 0.4690 - accuracy: 0.8788\n",
      "Epoch 9/10\n",
      "25/25 [==============================] - 0s 3ms/step - loss: 0.4506 - accuracy: 0.8775\n",
      "Epoch 10/10\n",
      "25/25 [==============================] - 0s 2ms/step - loss: 0.4338 - accuracy: 0.8788\n"
     ]
    },
    {
     "data": {
      "text/plain": [
       "<keras.callbacks.History at 0x14d0dc7cb38>"
      ]
     },
     "execution_count": 5,
     "metadata": {},
     "output_type": "execute_result"
    }
   ],
   "source": [
    "# Build the model\n",
    "\n",
    "# set random seed\n",
    "tf.random.set_seed(42)\n",
    "\n",
    "# create the model\n",
    "model = tf.keras.Sequential([\n",
    "    tf.keras.layers.Dense(4, activation=\"relu\"),\n",
    "    tf.keras.layers.Dense(4, activation=\"relu\"),\n",
    "    tf.keras.layers.Dense(1, activation=\"sigmoid\")\n",
    "])\n",
    "\n",
    "# Compile the model\n",
    "model.compile(loss=tf.keras.losses.BinaryCrossentropy(),\n",
    "             optimizer=tf.keras.optimizers.Adam(),\n",
    "             metrics=[\"accuracy\"])\n",
    "\n",
    "# Fit the model\n",
    "model.fit(X_train, y_train, epochs=10)"
   ]
  },
  {
   "cell_type": "code",
   "execution_count": 6,
   "id": "1230f98c",
   "metadata": {},
   "outputs": [],
   "source": [
    "# Create a function to visualize how our model is performing\n",
    "def plot_decision_boundary(model, X, y):\n",
    "    \"\"\"\n",
    "    Plots the decision boundary created by a model predicting on X.\n",
    "    \n",
    "    Arguments:\n",
    "        model --> the trained model\n",
    "        X --> the feature data (numpy array)\n",
    "        y --> the truth labels\n",
    "        \n",
    "    Returns:\n",
    "        A visualization of how our model is performing (fitting with our data)\n",
    "    \"\"\"\n",
    "    # Define the axis boundaries of the plot and create a meshgrid\n",
    "    x_min, x_max = X[:, 0].min() - 0.1, X[:, 0].max() + 0.1\n",
    "    y_min, y_max = X[:, 1].min() - 0.1, X[:, 1].max() + 0.1\n",
    "    xx, yy = np.meshgrid(np.linspace(x_min, x_max, 100),\n",
    "                        np.linspace(y_min, y_max, 100))\n",
    "    \n",
    "    # Create X values (we're going to predict pn all of these)\n",
    "    x_in = np.c_[xx.ravel(), yy.ravel()] # stack 2D arrays together: learn more https://numpy.org/devdocs/reference/generated/numpy.c_.html\n",
    "    \n",
    "    # Make predictions using the trained model\n",
    "    y_pred = model.predict(x_in)\n",
    "    \n",
    "    # Check for multi-class\n",
    "    if len(y_pred[0]) > 1:\n",
    "        print(\"doing multiclass classification...\")\n",
    "        # we have to reshape our predictions to get them ready for plotting\n",
    "        y_pred = np.argmax(y_pred, axis=1).reshape(xx.shape)\n",
    "    else:\n",
    "        print(\"doing binary classification...\")\n",
    "        y_pred = np.round(y_pred).reshape(xx.shape)\n",
    "        \n",
    "    # Plot the decision boundary\n",
    "    plt.contourf(xx, yy, y_pred, cmap=plt.cm.RdYlBu, alpha=0.7)\n",
    "    plt.scatter(X[:, 0], X[:, 1], c=y, s=40, cmap=plt.cm.RdYlBu)\n",
    "    plt.xlim(xx.min(), xx.max())\n",
    "    plt.ylim(yy.min(), yy.max())"
   ]
  },
  {
   "cell_type": "code",
   "execution_count": 7,
   "id": "0f382896",
   "metadata": {},
   "outputs": [
    {
     "name": "stdout",
     "output_type": "stream",
     "text": [
      "doing binary classification...\n"
     ]
    },
    {
     "data": {
      "image/png": "[encoded data removed]",
      "text/plain": [
       "<Figure size 432x288 with 1 Axes>"
      ]
     },
     "metadata": {
      "needs_background": "light"
     },
     "output_type": "display_data"
    }
   ],
   "source": [
    "# Plot the decision boundaries\n",
    "plot_decision_boundary(model, X, y)"
   ]
  },
  {
   "cell_type": "markdown",
   "id": "6b04fcdc",
   "metadata": {},
   "source": [
    "### 2. Train a model to get 88%+ accuracy on the fashion MNIST test set. Plot a confusion matrix to see the results after."
   ]
  },
  {
   "cell_type": "markdown",
   "id": "a93c7178",
   "metadata": {},
   "source": [
    "# Train Your First Neural Network Classifier - Fashion MNIST\n",
    "This guide uses the [Fashion MNIST](https://github.com/zalandoresearch/fashion-mnist) dataset which contains 70,000 grayscale images in 10 categories. The images show individual articles of clothing at low resolution (28 by 28 pixels), as seen here:\n",
    "\n",
    "<table>\n",
    "  <tr><td>\n",
    "    <img src=\"fashion-mnist-sprite.png\"\n",
    "         alt=\"Fashion MNIST sprite\"  width=\"600\">\n",
    "  </td></tr>\n",
    "</table>\n",
    "\n",
    "We will use 60,000 images to train the network and 10,000 images to evaluate how accurately the network learned to classify images. You can access the Fashion MNIST directly from TensorFlow, just import and load the data:"
   ]
  },
  {
   "cell_type": "markdown",
   "id": "8cdf4fd4",
   "metadata": {},
   "source": [
    "Let's also make sure to import all the libraries that we need in order to run the excercise:"
   ]
  },
  {
   "cell_type": "code",
   "execution_count": 8,
   "id": "1d70e953",
   "metadata": {},
   "outputs": [],
   "source": [
    "# Import MNIST from keras dataset\n",
    "import tensorflow as tf\n",
    "from tensorflow.keras.datasets import fashion_mnist\n",
    "\n",
    "# The data has already been sorted into training and test sets for us\n",
    "(train_data, train_labels ), (test_data, test_labels) = fashion_mnist.load_data()"
   ]
  },
  {
   "cell_type": "markdown",
   "id": "73b00ce1",
   "metadata": {},
   "source": [
    "Loading the dataset returns four NumPy arrays:\n",
    "\n",
    "* The `train_data` and `train_labels` arrays are the *training set*—the data the model uses to learn.\n",
    "* The model is tested against the *test set*, the `test_data`, and `test_labels` arrays.\n",
    "\n",
    "The images are 28x28 NumPy arrays, with pixel values ranging between 0 and 255. The *labels* are an array of integers, ranging from 0 to 9. These correspond to the *class* of clothing the image represents:\n",
    "\n",
    "<table>\n",
    "  <tr>\n",
    "    <th>Label</th>\n",
    "    <th>Class</th>\n",
    "  </tr>\n",
    "  <tr>\n",
    "    <td>0</td>\n",
    "    <td>T-shirt/top</td>\n",
    "  </tr>\n",
    "  <tr>\n",
    "    <td>1</td>\n",
    "    <td>Trouser</td>\n",
    "  </tr>\n",
    "    <tr>\n",
    "    <td>2</td>\n",
    "    <td>Pullover</td>\n",
    "  </tr>\n",
    "    <tr>\n",
    "    <td>3</td>\n",
    "    <td>Dress</td>\n",
    "  </tr>\n",
    "    <tr>\n",
    "    <td>4</td>\n",
    "    <td>Coat</td>\n",
    "  </tr>\n",
    "    <tr>\n",
    "    <td>5</td>\n",
    "    <td>Sandal</td>\n",
    "  </tr>\n",
    "    <tr>\n",
    "    <td>6</td>\n",
    "    <td>Shirt</td>\n",
    "  </tr>\n",
    "    <tr>\n",
    "    <td>7</td>\n",
    "    <td>Sneaker</td>\n",
    "  </tr>\n",
    "    <tr>\n",
    "    <td>8</td>\n",
    "    <td>Bag</td>\n",
    "  </tr>\n",
    "    <tr>\n",
    "    <td>9</td>\n",
    "    <td>Ankle boot</td>\n",
    "  </tr>\n",
    "</table>\n",
    "\n",
    "Each image is mapped to a single label. Since the *class names* are not included with the dataset, store them here to use later when plotting the images:"
   ]
  },
  {
   "cell_type": "markdown",
   "id": "cc316d8a",
   "metadata": {},
   "source": [
    "## Explore the data\n",
    "\n",
    "Let's explore the format of the dataset before training the model. The following shows there are 60,000 images in the training set, with each image represented as 28 x 28 pixels:"
   ]
  },
  {
   "cell_type": "code",
   "execution_count": 9,
   "id": "f54600ed",
   "metadata": {},
   "outputs": [
    {
     "data": {
      "text/plain": [
       "(60000, 28, 28)"
      ]
     },
     "execution_count": 9,
     "metadata": {},
     "output_type": "execute_result"
    }
   ],
   "source": [
    "# Check the training data\n",
    "train_data.shape"
   ]
  },
  {
   "cell_type": "code",
   "execution_count": 10,
   "id": "70cba059",
   "metadata": {},
   "outputs": [
    {
     "data": {
      "text/plain": [
       "60000"
      ]
     },
     "execution_count": 10,
     "metadata": {},
     "output_type": "execute_result"
    }
   ],
   "source": [
    "# Check there 60,000 labels of training set\n",
    "len(train_labels)"
   ]
  },
  {
   "cell_type": "code",
   "execution_count": 11,
   "id": "6c06c2c5",
   "metadata": {},
   "outputs": [
    {
     "data": {
      "text/plain": [
       "array([9, 0, 0, ..., 3, 0, 5], dtype=uint8)"
      ]
     },
     "execution_count": 11,
     "metadata": {},
     "output_type": "execute_result"
    }
   ],
   "source": [
    "# Each label is an integer between 0 to 9\n",
    "train_labels"
   ]
  },
  {
   "cell_type": "code",
   "execution_count": 12,
   "id": "043b16cf",
   "metadata": {},
   "outputs": [
    {
     "data": {
      "text/plain": [
       "((28, 28), ())"
      ]
     },
     "execution_count": 12,
     "metadata": {},
     "output_type": "execute_result"
    }
   ],
   "source": [
    "# Check the shape of a single example\n",
    "train_data[0].shape, train_labels[0].shape"
   ]
  },
  {
   "cell_type": "code",
   "execution_count": 13,
   "id": "75d1877e",
   "metadata": {},
   "outputs": [
    {
     "data": {
      "image/png": "[encoded data removed]",
      "text/plain": [
       "<Figure size 432x288 with 1 Axes>"
      ]
     },
     "metadata": {
      "needs_background": "light"
     },
     "output_type": "display_data"
    }
   ],
   "source": [
    "#Plot a single sample\n",
    "import matplotlib.pyplot as plt\n",
    "plt.imshow(train_data[0]);"
   ]
  },
  {
   "cell_type": "code",
   "execution_count": 14,
   "id": "39c0ec7c",
   "metadata": {},
   "outputs": [
    {
     "data": {
      "text/plain": [
       "9"
      ]
     },
     "execution_count": 14,
     "metadata": {},
     "output_type": "execute_result"
    }
   ],
   "source": [
    "# Check out sample label\n",
    "train_labels[0]"
   ]
  },
  {
   "cell_type": "code",
   "execution_count": 15,
   "id": "ae73c1d2",
   "metadata": {},
   "outputs": [
    {
     "data": {
      "text/plain": [
       "(10000, 28, 28)"
      ]
     },
     "execution_count": 15,
     "metadata": {},
     "output_type": "execute_result"
    }
   ],
   "source": [
    "# There are 10,000 images in the test set\n",
    "test_data.shape"
   ]
  },
  {
   "cell_type": "code",
   "execution_count": 16,
   "id": "675f85ed",
   "metadata": {},
   "outputs": [
    {
     "data": {
      "text/plain": [
       "10"
      ]
     },
     "execution_count": 16,
     "metadata": {},
     "output_type": "execute_result"
    }
   ],
   "source": [
    "# Create a small list so we can index onto our training labels so they're human-readable\n",
    "class_names = [\"T-shirt/top\", \"Trouser\", \"Pullover\", \"Dress\", \"Coat\", \"Sandal\", \"Shirt\", \"Sneaker\", \"Bag\", \"Ankle boot\"]\n",
    "\n",
    "len(class_names)"
   ]
  },
  {
   "cell_type": "markdown",
   "id": "90059101",
   "metadata": {},
   "source": [
    "## Preprocess the data\n",
    "\n",
    "The data must be preprocessed before training the network. If you inspect the first image in the training set, you will see that the pixel values fall in the range of 0 to 255:"
   ]
  },
  {
   "cell_type": "code",
   "execution_count": 17,
   "id": "63083100",
   "metadata": {},
   "outputs": [],
   "source": [
    "# Let's create the function to plot images\n",
    "def plot_image(images, labels, class_names = None, index=0, colorbar=True, cmap='Greys'):\n",
    "  plt.figure()\n",
    "  plt.imshow(images[index], cmap=cmap) # print the image\n",
    "  if(colorbar == True):\n",
    "    plt.colorbar()\n",
    "  plt.show()\n",
    "  label = labels[index] if class_names is None else class_names[labels[i]]\n",
    "  print(\"the label is:\", label) # The train label"
   ]
  },
  {
   "cell_type": "code",
   "execution_count": 18,
   "id": "8fceb8e4",
   "metadata": {},
   "outputs": [
    {
     "data": {
      "image/png": "[encoded data removed]",
      "text/plain": [
       "<Figure size 432x288 with 2 Axes>"
      ]
     },
     "metadata": {
      "needs_background": "light"
     },
     "output_type": "display_data"
    },
    {
     "name": "stdout",
     "output_type": "stream",
     "text": [
      "the label is: 9\n"
     ]
    }
   ],
   "source": [
    "plot_image(train_data, train_labels, cmap=None)"
   ]
  },
  {
   "cell_type": "markdown",
   "id": "6394be0f",
   "metadata": {},
   "source": [
    "We scale these values to a range of 0 to 1 before feeding to the neural network model. For this, we divide the values by 255. It's important that the *training set* and the *testing set* are preprocessed in the same way:"
   ]
  },
  {
   "cell_type": "code",
   "execution_count": 28,
   "id": "84a4d225",
   "metadata": {},
   "outputs": [
    {
     "data": {
      "text/plain": [
       "(0.0, 1.0)"
      ]
     },
     "execution_count": 28,
     "metadata": {},
     "output_type": "execute_result"
    }
   ],
   "source": [
    "# We can get our training and testing data between 0 & 1 by dividing by the maximum\n",
    "train_data_norm = train_data / 255.0\n",
    "test_data_norm = test_data / 255.0\n",
    "\n",
    "# Check the min and max values of scaled training data\n",
    "train_data_norm.min(), train_data_norm.max()"
   ]
  },
  {
   "cell_type": "markdown",
   "id": "425ac020",
   "metadata": {},
   "source": [
    "Display the first 25 images from the *training set* and display the class name below each image. Verify that the data is in the correct format and we're ready to build and train the network."
   ]
  },
  {
   "cell_type": "code",
   "execution_count": 20,
   "id": "50b95bfe",
   "metadata": {},
   "outputs": [],
   "source": [
    "# Create the function to plot multi-images\n",
    "def plot_multi_images(images, labels, class_names=None, start=0, num_rows=5, num_cols=5, cmap=plt.cm.binary):\n",
    "  plt.figure(figsize=(2*num_cols, 2*num_rows))\n",
    "  for i in range(num_cols*num_rows):\n",
    "    index = i + start\n",
    "    plt.subplot(num_rows,num_cols,i+1)\n",
    "    plt.xticks([])\n",
    "    plt.yticks([])\n",
    "    plt.grid(False)\n",
    "    plt.imshow(images[index], cmap=cmap)\n",
    "    label = labels[index] if class_names is None else class_names[labels[index]]\n",
    "    plt.xlabel(label)\n",
    "  plt.show()"
   ]
  },
  {
   "cell_type": "code",
   "execution_count": 21,
   "id": "40354187",
   "metadata": {},
   "outputs": [
    {
     "data": {
      "image/png": "[encoded data removed]",
      "text/plain": [
       "<Figure size 720x720 with 25 Axes>"
      ]
     },
     "metadata": {},
     "output_type": "display_data"
    }
   ],
   "source": [
    "plot_multi_images(train_data, train_labels, class_names)"
   ]
  },
  {
   "cell_type": "markdown",
   "id": "a155ec6f",
   "metadata": {},
   "source": [
    "## Build the model\n",
    "\n",
    "Building the neural network requires configuring the layers of the model, then compiling the model."
   ]
  },
  {
   "cell_type": "markdown",
   "id": "2f68eb1b",
   "metadata": {},
   "source": [
    "### Setup the layers\n",
    "\n",
    "The basic building block of a neural network is the *layer*. Layers extract representations from the data fed into them. And, hopefully, these representations are more meaningful for the problem at hand.\n",
    "\n",
    "Most of deep learning consists of chaining together simple layers. Most layers, like `tf.keras.layers.Dense`, have parameters that are learned during training."
   ]
  },
  {
   "cell_type": "code",
   "execution_count": 53,
   "id": "22c489a4",
   "metadata": {},
   "outputs": [],
   "source": [
    "# Create the model\n",
    "mnist_model = tf.keras.Sequential([\n",
    "    tf.keras.layers.Flatten(input_shape=(28, 28)),\n",
    "    tf.keras.layers.Dense(128, activation=\"relu\"),\n",
    "    tf.keras.layers.Dense(10, activation=\"softmax\")\n",
    "])"
   ]
  },
  {
   "cell_type": "markdown",
   "id": "010fb261",
   "metadata": {},
   "source": [
    "The first layer in this network, `tf.keras.layers.Flatten`, transforms the format of the images from a 2d-array (of 28 by 28 pixels), to a 1d-array of 28 * 28 = 784 pixels. Think of this layer as unstacking rows of pixels in the image and lining them up. This layer has no parameters to learn; it only reformats the data.\n",
    "\n",
    "After the pixels are flattened, the network consists of a sequence of two `tf.keras.layers.Dense` layers. These are densely-connected, or fully-connected, neural layers. The first `Dense` layer has 128 nodes (or neurons). The second (and last) layer is a 10-node *softmax* layer—this returns an array of 10 probability scores that sum to 1. Each node contains a score that indicates the probability that the current image belongs to one of the 10 classes.\n",
    "\n",
    "### Compile the model\n",
    "\n",
    "Before the model is ready for training, it needs a few more settings. These are added during the model's *compile* step:\n",
    "\n",
    "* *Loss function* —This measures how accurate the model is during training. We want to minimize this function to \"steer\" the model in the right direction.\n",
    "* *Optimizer* —This is how the model is updated based on the data it sees and its loss function.\n",
    "* *Metrics* —Used to monitor the training and testing steps. The following example uses *accuracy*, the fraction of the images that are correctly classified."
   ]
  },
  {
   "cell_type": "code",
   "execution_count": 54,
   "id": "8828e54a",
   "metadata": {},
   "outputs": [],
   "source": [
    "# Compile the model\n",
    "mnist_model.compile(loss=tf.keras.losses.SparseCategoricalCrossentropy(),\n",
    "                   optimizer=tf.keras.optimizers.Adam(),\n",
    "                   metrics=[\"accuracy\"])"
   ]
  },
  {
   "cell_type": "markdown",
   "id": "ac5459e6",
   "metadata": {},
   "source": [
    "## View the model\n",
    "\n",
    "Summarize model properties:"
   ]
  },
  {
   "cell_type": "code",
   "execution_count": 55,
   "id": "0718eba1",
   "metadata": {
    "scrolled": true
   },
   "outputs": [
    {
     "name": "stdout",
     "output_type": "stream",
     "text": [
      "Model: \"sequential_5\"\n",
      "_________________________________________________________________\n",
      "Layer (type)                 Output Shape              Param #   \n",
      "=================================================================\n",
      "flatten_4 (Flatten)          (None, 784)               0         \n",
      "_________________________________________________________________\n",
      "dense_11 (Dense)             (None, 128)               100480    \n",
      "_________________________________________________________________\n",
      "dense_12 (Dense)             (None, 10)                1290      \n",
      "=================================================================\n",
      "Total params: 101,770\n",
      "Trainable params: 101,770\n",
      "Non-trainable params: 0\n",
      "_________________________________________________________________\n"
     ]
    }
   ],
   "source": [
    "# model summary\n",
    "mnist_model.summary()"
   ]
  },
  {
   "cell_type": "code",
   "execution_count": 26,
   "id": "62e18aa7",
   "metadata": {},
   "outputs": [],
   "source": [
    "# Let's create function to draw the model\n",
    "def draw_model(model, view=True, filename=\"network.gv\", title=\"Neural Network\"):\n",
    "    \"\"\"Vizualizes a Sequential model.\n",
    "    # Arguments\n",
    "        model: A Keras model instance.\n",
    "        view: whether to display the model after generation.\n",
    "        filename: where to save the vizualization. (a .gv file)\n",
    "        title: A title for the graph\n",
    "    \"\"\"\n",
    "    from graphviz import Digraph;\n",
    "    import tensorflow as tf;\n",
    "    import tensorflow.keras as keras;\n",
    "    from tensorflow.keras.models import Sequential;\n",
    "    from tensorflow.keras.layers import Dense, Conv2D, MaxPooling2D, Dropout, Flatten;\n",
    "    import json;\n",
    "    input_layer = 0;\n",
    "    hidden_layers_nr = 0;\n",
    "    layer_types = [];\n",
    "    hidden_layers = [];\n",
    "    output_layer = 0;\n",
    "    for layer in model.layers:\n",
    "        if(layer == model.layers[0]):\n",
    "            input_layer = int(str(layer.input_shape).split(\",\")[1][1:-1]);\n",
    "            hidden_layers_nr += 1;\n",
    "            if (type(layer) == keras.layers.Dense):\n",
    "                hidden_layers.append(int(str(layer.output_shape).split(\",\")[1][1:-1]));\n",
    "                layer_types.append(\"Dense\");\n",
    "            else:\n",
    "                hidden_layers.append(1);\n",
    "                if (type(layer) == keras.layers.Conv2D):\n",
    "                    layer_types.append(\"Conv2D\");\n",
    "                elif (type(layer) == keras.layers.MaxPooling2D):\n",
    "                    layer_types.append(\"MaxPooling2D\");\n",
    "                elif (type(layer) == keras.layers.Dropout):\n",
    "                    layer_types.append(\"Dropout\");\n",
    "                elif (type(layer) == keras.layers.Flatten):\n",
    "                    layer_types.append(\"Flatten\");\n",
    "                elif (type(layer) == keras.layers.Activation):\n",
    "                    layer_types.append(\"Activation\");\n",
    "        else:\n",
    "            if(layer == model.layers[-1]):\n",
    "                output_layer = int(str(layer.output_shape).split(\",\")[1][1:-1]);\n",
    "            else:\n",
    "                hidden_layers_nr += 1;\n",
    "                if (type(layer) == keras.layers.Dense):\n",
    "                    hidden_layers.append(int(str(layer.output_shape).split(\",\")[1][1:-1]));\n",
    "                    layer_types.append(\"Dense\");\n",
    "                else:\n",
    "                    hidden_layers.append(1);\n",
    "                    if (type(layer) == keras.layers.Conv2D):\n",
    "                        layer_types.append(\"Conv2D\");\n",
    "                    elif (type(layer) == keras.layers.MaxPooling2D):\n",
    "                        layer_types.append(\"MaxPooling2D\");\n",
    "                    elif (type(layer) == keras.layers.Dropout):\n",
    "                        layer_types.append(\"Dropout\");\n",
    "                    elif (type(layer) == keras.layers.Flatten):\n",
    "                        layer_types.append(\"Flatten\");\n",
    "                    elif (type(layer) == keras.layers.Activation):\n",
    "                        layer_types.append(\"Activation\");\n",
    "        last_layer_nodes = input_layer;\n",
    "        nodes_up = input_layer;\n",
    "        if(type(model.layers[0]) != keras.layers.Dense):\n",
    "            last_layer_nodes = 1;\n",
    "            nodes_up = 1;\n",
    "            input_layer = 1;\n",
    "\n",
    "        g = Digraph('g', filename=filename);\n",
    "        n = 0;\n",
    "        g.graph_attr.update(splines=\"false\", nodesep='1', ranksep='2');\n",
    "        #Input Layer\n",
    "        with g.subgraph(name='cluster_input') as c:\n",
    "            if(type(model.layers[0]) == keras.layers.Dense):\n",
    "                the_label = title+'\\n\\n\\n\\nInput Layer';\n",
    "                if (int(str(model.layers[0].input_shape).split(\",\")[1][1:-1]) > 10):\n",
    "                    the_label += \" (+\"+str(int(str(model.layers[0].input_shape).split(\",\")[1][1:-1]) - 10)+\")\";\n",
    "                    input_layer = 10;\n",
    "                c.attr(color='white')\n",
    "                for i in range(0, input_layer):\n",
    "                    n += 1;\n",
    "                    c.node(str(n));\n",
    "                    c.attr(label=the_label)\n",
    "                    c.attr(rank='same');\n",
    "                    c.node_attr.update(color=\"#2ecc71\", style=\"filled\", fontcolor=\"#2ecc71\", shape=\"circle\");\n",
    "                    \n",
    "            elif(type(model.layers[0]) == keras.layers.Flatten):\n",
    "                #Conv2D Input visualizing\n",
    "                the_label = title+'\\n\\n\\n\\nInput Layer';\n",
    "                c.attr(color=\"white\", label=the_label);\n",
    "                c.node_attr.update(shape=\"square\");\n",
    "                pxls = str(model.layers[0].input_shape).split(',');\n",
    "                clr = 1\n",
    "                if(len(pxls) >3):\n",
    "                  clr = int(pxls[3][1:-1]);\n",
    "                if (clr == 1):\n",
    "                    clrmap = \"Grayscale\";\n",
    "                    the_color = \"black:white\";\n",
    "                elif (clr == 3):\n",
    "                    clrmap = \"RGB\";\n",
    "                    the_color = \"#e74c3c:#3498db\";\n",
    "                else:\n",
    "                    clrmap = \"\";\n",
    "                c.node_attr.update(fontcolor=\"white\", fillcolor=the_color, style=\"filled\");\n",
    "                n += 1;\n",
    "                c.node(str(n), label=\"Image\\n\"+pxls[1]+\" x\"+pxls[2]+\" pixels\\n\"+clrmap, fontcolor=\"white\");\n",
    "\n",
    "            elif(type(model.layers[0]) == keras.layers.Conv2D):\n",
    "                #Conv2D Input visualizing\n",
    "                the_label = title+'\\n\\n\\n\\nInput Layer';\n",
    "                c.attr(color=\"white\", label=the_label);\n",
    "                c.node_attr.update(shape=\"square\");\n",
    "                pxls = str(model.layers[0].input_shape).split(',');\n",
    "                clr = int(pxls[3][1:-1]);\n",
    "                if (clr == 1):\n",
    "                    clrmap = \"Grayscale\";\n",
    "                    the_color = \"black:white\";\n",
    "                elif (clr == 3):\n",
    "                    clrmap = \"RGB\";\n",
    "                    the_color = \"#e74c3c:#3498db\";\n",
    "                else:\n",
    "                    clrmap = \"\";\n",
    "                c.node_attr.update(fontcolor=\"white\", fillcolor=the_color, style=\"filled\");\n",
    "                n += 1;\n",
    "                c.node(str(n), label=\"Image\\n\"+pxls[1]+\" x\"+pxls[2]+\" pixels\\n\"+clrmap, fontcolor=\"white\");\n",
    "            else:\n",
    "                raise ValueError(\"ANN Visualizer: Layer not supported for visualizing\");\n",
    "        for i in range(0, hidden_layers_nr):\n",
    "            with g.subgraph(name=\"cluster_\"+str(i+1)) as c:\n",
    "                if (layer_types[i] == \"Dense\"):\n",
    "                    c.attr(color='white');\n",
    "                    c.attr(rank='same');\n",
    "                    #If hidden_layers[i] > 10, dont include all\n",
    "                    the_label = \"\";\n",
    "                    if (int(str(model.layers[i].output_shape).split(\",\")[1][1:-1]) > 10):\n",
    "                        the_label += \" (+\"+str(int(str(model.layers[i].output_shape).split(\",\")[1][1:-1]) - 10)+\")\";\n",
    "                        hidden_layers[i] = 10;\n",
    "                    c.attr(labeljust=\"right\", labelloc=\"b\", label=the_label);\n",
    "                    for j in range(0, hidden_layers[i]):\n",
    "                        n += 1;\n",
    "                        c.node(str(n), shape=\"circle\", style=\"filled\", color=\"#3498db\", fontcolor=\"#3498db\");\n",
    "                        for h in range(nodes_up - last_layer_nodes + 1 , nodes_up + 1):\n",
    "                            g.edge(str(h), str(n));\n",
    "                    last_layer_nodes = hidden_layers[i];\n",
    "                    nodes_up += hidden_layers[i];\n",
    "                elif (layer_types[i] == \"Conv2D\"):\n",
    "                    c.attr(style='filled', color='#5faad0');\n",
    "                    n += 1;\n",
    "                    kernel_size = str(model.layers[i].get_config()['kernel_size']).split(',')[0][1] + \"x\" + str(model.layers[i].get_config()['kernel_size']).split(',')[1][1 : -1];\n",
    "                    filters = str(model.layers[i].get_config()['filters']);\n",
    "                    c.node(\"conv_\"+str(n), label=\"Convolutional Layer\\nKernel Size: \"+kernel_size+\"\\nFilters: \"+filters, shape=\"square\");\n",
    "                    c.node(str(n), label=filters+\"\\nFeature Maps\", shape=\"square\");\n",
    "                    g.edge(\"conv_\"+str(n), str(n));\n",
    "                    for h in range(nodes_up - last_layer_nodes + 1 , nodes_up + 1):\n",
    "                        g.edge(str(h), \"conv_\"+str(n));\n",
    "                    last_layer_nodes = 1;\n",
    "                    nodes_up += 1;\n",
    "                elif (layer_types[i] == \"MaxPooling2D\"):\n",
    "                    c.attr(color=\"white\");\n",
    "                    n += 1;\n",
    "                    pool_size = str(model.layers[i].get_config()['pool_size']).split(',')[0][1] + \"x\" + str(model.layers[i].get_config()['pool_size']).split(',')[1][1 : -1];\n",
    "                    c.node(str(n), label=\"Max Pooling\\nPool Size: \"+pool_size, style=\"filled\", fillcolor=\"#8e44ad\", fontcolor=\"white\");\n",
    "                    for h in range(nodes_up - last_layer_nodes + 1 , nodes_up + 1):\n",
    "                        g.edge(str(h), str(n));\n",
    "                    last_layer_nodes = 1;\n",
    "                    nodes_up += 1;\n",
    "                elif (layer_types[i] == \"Flatten\"):\n",
    "                    n += 1;\n",
    "                    c.attr(color=\"white\");\n",
    "                    c.node(str(n), label=\"Flattening\", shape=\"invtriangle\", style=\"filled\", fillcolor=\"#2c3e50\", fontcolor=\"white\");\n",
    "                    for h in range(nodes_up - last_layer_nodes + 1 , nodes_up + 1):\n",
    "                        g.edge(str(h), str(n));\n",
    "                    last_layer_nodes = 1;\n",
    "                    nodes_up += 1;\n",
    "                elif (layer_types[i] == \"Dropout\"):\n",
    "                    n += 1;\n",
    "                    c.attr(color=\"white\");\n",
    "                    c.node(str(n), label=\"Dropout Layer\", style=\"filled\", fontcolor=\"white\", fillcolor=\"#f39c12\");\n",
    "                    for h in range(nodes_up - last_layer_nodes + 1 , nodes_up + 1):\n",
    "                        g.edge(str(h), str(n));\n",
    "                    last_layer_nodes = 1;\n",
    "                    nodes_up += 1;\n",
    "                elif (layer_types[i] == \"Activation\"):\n",
    "                    n += 1;\n",
    "                    c.attr(color=\"white\");\n",
    "                    fnc = model.layers[i].get_config()['activation'];\n",
    "                    c.node(str(n), shape=\"octagon\", label=\"Activation Layer\\nFunction: \"+fnc, style=\"filled\", fontcolor=\"white\", fillcolor=\"#00b894\");\n",
    "                    for h in range(nodes_up - last_layer_nodes + 1 , nodes_up + 1):\n",
    "                        g.edge(str(h), str(n));\n",
    "                    last_layer_nodes = 1;\n",
    "                    nodes_up += 1;\n",
    "\n",
    "\n",
    "        with g.subgraph(name='cluster_output') as c:\n",
    "            if (type(model.layers[-1]) == keras.layers.Dense):\n",
    "                c.attr(color='white')\n",
    "                c.attr(rank='same');\n",
    "                c.attr(labeljust=\"1\");\n",
    "                for i in range(1, output_layer+1):\n",
    "                    n += 1;\n",
    "                    c.node(str(n), shape=\"circle\", style=\"filled\", color=\"#e74c3c\", fontcolor=\"#e74c3c\");\n",
    "                    for h in range(nodes_up - last_layer_nodes + 1 , nodes_up + 1):\n",
    "                        g.edge(str(h), str(n));\n",
    "                c.attr(label='Output Layer', labelloc=\"bottom\")\n",
    "                c.node_attr.update(color=\"#2ecc71\", style=\"filled\", fontcolor=\"#2ecc71\", shape=\"circle\");\n",
    "\n",
    "        g.attr(arrowShape=\"none\");\n",
    "        g.edge_attr.update(arrowhead=\"none\", color=\"#707070\");\n",
    "        if view == True:\n",
    "            g.view();\n",
    "\n",
    "\n",
    "    if view == True:\n",
    "        import graphviz\n",
    "\n",
    "        with open(filename) as f:\n",
    "            dot_graph = f.read()\n",
    "\n",
    "        return graphviz.Source(dot_graph)"
   ]
  },
  {
   "cell_type": "code",
   "execution_count": 27,
   "id": "0b355530",
   "metadata": {},
   "outputs": [
    {
     "data": {
      "image/svg+xml": [
       "<?xml version=\"1.0\" encoding=\"UTF-8\" standalone=\"no\"?>\n",
       "<!DOCTYPE svg PUBLIC \"-//W3C//DTD SVG 1.1//EN\"\n",
       " \"http://www.w3.org/Graphics/SVG/1.1/DTD/svg11.dtd\">\n",
       "<!-- Generated by graphviz version 3.0.0 (20220226.1711)\n",
       " -->\n",
       "<!-- Title: g Pages: 1 -->\n",
       "<svg width=\"1077pt\" height=\"807pt\"\n",
       " viewBox=\"0.00 0.00 1077.00 806.99\" xmlns=\"http://www.w3.org/2000/svg\" xmlns:xlink=\"http://www.w3.org/1999/xlink\">\n",
       "<g id=\"graph0\" class=\"graph\" transform=\"scale(1 1) rotate(0) translate(4 802.99)\">\n",
       "<title>g</title>\n",
       "<polygon fill=\"white\" stroke=\"transparent\" points=\"-4,4 -4,-802.99 1073,-802.99 1073,4 -4,4\"/>\n",
       "<g id=\"clust3\" class=\"cluster\">\n",
       "<title>cluster_2</title>\n",
       "<polygon fill=\"none\" stroke=\"white\" points=\"22,-191 22,-268.99 1054,-268.99 1054,-191 22,-191\"/>\n",
       "<text text-anchor=\"middle\" x=\"1025\" y=\"-198.8\" font-family=\"Times New Roman,serif\" font-size=\"14.00\"> (+118)</text>\n",
       "</g>\n",
       "<g id=\"clust4\" class=\"cluster\">\n",
       "<title>cluster_output</title>\n",
       "<polygon fill=\"none\" stroke=\"white\" points=\"8,-8 8,-86 1061,-86 1061,-8 8,-8\"/>\n",
       "<text text-anchor=\"middle\" x=\"534.5\" y=\"-15.8\" font-family=\"Times New Roman,serif\" font-size=\"14.00\">Output Layer</text>\n",
       "</g>\n",
       "<g id=\"clust1\" class=\"cluster\">\n",
       "<title>cluster_input</title>\n",
       "<polygon fill=\"none\" stroke=\"white\" points=\"475,-586.99 475,-790.99 593,-790.99 593,-586.99 475,-586.99\"/>\n",
       "<text text-anchor=\"middle\" x=\"534\" y=\"-775.79\" font-family=\"Times New Roman,serif\" font-size=\"14.00\">Neural Network</text>\n",
       "<text text-anchor=\"middle\" x=\"534\" y=\"-712.79\" font-family=\"Times New Roman,serif\" font-size=\"14.00\">Input Layer</text>\n",
       "</g>\n",
       "<g id=\"clust2\" class=\"cluster\">\n",
       "<title>cluster_1</title>\n",
       "<polygon fill=\"none\" stroke=\"white\" points=\"434,-396.99 434,-458.99 634,-458.99 634,-396.99 434,-396.99\"/>\n",
       "</g>\n",
       "<!-- 1 -->\n",
       "<g id=\"node1\" class=\"node\">\n",
       "<title>1</title>\n",
       "<defs>\n",
       "<linearGradient id=\"l_0\" gradientUnits=\"userSpaceOnUse\" x1=\"483\" y1=\"-645.99\" x2=\"585\" y2=\"-645.99\" >\n",
       "<stop offset=\"0\" style=\"stop-color:black;stop-opacity:1.;\"/>\n",
       "<stop offset=\"1\" style=\"stop-color:white;stop-opacity:1.;\"/>\n",
       "</linearGradient>\n",
       "</defs>\n",
       "<polygon fill=\"url(#l_0)\" stroke=\"black\" points=\"585,-696.99 483,-696.99 483,-594.99 585,-594.99 585,-696.99\"/>\n",
       "<text text-anchor=\"middle\" x=\"534\" y=\"-657.29\" font-family=\"Times New Roman,serif\" font-size=\"14.00\" fill=\"white\">Image</text>\n",
       "<text text-anchor=\"middle\" x=\"534\" y=\"-642.29\" font-family=\"Times New Roman,serif\" font-size=\"14.00\" fill=\"white\"> 28 x 28) pixels</text>\n",
       "<text text-anchor=\"middle\" x=\"534\" y=\"-627.29\" font-family=\"Times New Roman,serif\" font-size=\"14.00\" fill=\"white\">Grayscale</text>\n",
       "</g>\n",
       "<!-- 2 -->\n",
       "<g id=\"node2\" class=\"node\">\n",
       "<title>2</title>\n",
       "<polygon fill=\"#2c3e50\" stroke=\"black\" points=\"534,-404.99 626.08,-439.49 441.92,-439.49 534,-404.99\"/>\n",
       "<text text-anchor=\"middle\" x=\"534\" y=\"-424.29\" font-family=\"Times New Roman,serif\" font-size=\"14.00\" fill=\"white\">Flattening</text>\n",
       "</g>\n",
       "<!-- 1&#45;&gt;2 -->\n",
       "<g id=\"edge1\" class=\"edge\">\n",
       "<title>1&#45;&gt;2</title>\n",
       "<path fill=\"none\" stroke=\"#707070\" d=\"M534,-594.9C534,-543.55 534,-467.41 534,-439.63\"/>\n",
       "</g>\n",
       "<!-- 3 -->\n",
       "<g id=\"node3\" class=\"node\">\n",
       "<title>3</title>\n",
       "<ellipse fill=\"#3498db\" stroke=\"#3498db\" cx=\"588\" cy=\"-241.49\" rx=\"18\" ry=\"18\"/>\n",
       "<text text-anchor=\"middle\" x=\"588\" y=\"-237.79\" font-family=\"Times New Roman,serif\" font-size=\"14.00\" fill=\"#3498db\">3</text>\n",
       "</g>\n",
       "<!-- 2&#45;&gt;3 -->\n",
       "<g id=\"edge2\" class=\"edge\">\n",
       "<title>2&#45;&gt;3</title>\n",
       "<path fill=\"none\" stroke=\"#707070\" d=\"M539.88,-406.9C550.62,-370.19 573.23,-292.97 583.15,-259.06\"/>\n",
       "</g>\n",
       "<!-- 4 -->\n",
       "<g id=\"node4\" class=\"node\">\n",
       "<title>4</title>\n",
       "<ellipse fill=\"#3498db\" stroke=\"#3498db\" cx=\"480\" cy=\"-241.49\" rx=\"18\" ry=\"18\"/>\n",
       "<text text-anchor=\"middle\" x=\"480\" y=\"-237.79\" font-family=\"Times New Roman,serif\" font-size=\"14.00\" fill=\"#3498db\">4</text>\n",
       "</g>\n",
       "<!-- 2&#45;&gt;4 -->\n",
       "<g id=\"edge3\" class=\"edge\">\n",
       "<title>2&#45;&gt;4</title>\n",
       "<path fill=\"none\" stroke=\"#707070\" d=\"M528.12,-406.9C517.38,-370.19 494.77,-292.97 484.85,-259.06\"/>\n",
       "</g>\n",
       "<!-- 5 -->\n",
       "<g id=\"node5\" class=\"node\">\n",
       "<title>5</title>\n",
       "<ellipse fill=\"#3498db\" stroke=\"#3498db\" cx=\"372\" cy=\"-241.49\" rx=\"18\" ry=\"18\"/>\n",
       "<text text-anchor=\"middle\" x=\"372\" y=\"-237.79\" font-family=\"Times New Roman,serif\" font-size=\"14.00\" fill=\"#3498db\">5</text>\n",
       "</g>\n",
       "<!-- 2&#45;&gt;5 -->\n",
       "<g id=\"edge4\" class=\"edge\">\n",
       "<title>2&#45;&gt;5</title>\n",
       "<path fill=\"none\" stroke=\"#707070\" d=\"M519.34,-410.29C487.4,-373.93 412.13,-288.2 383.41,-255.49\"/>\n",
       "</g>\n",
       "<!-- 6 -->\n",
       "<g id=\"node6\" class=\"node\">\n",
       "<title>6</title>\n",
       "<ellipse fill=\"#3498db\" stroke=\"#3498db\" cx=\"264\" cy=\"-241.49\" rx=\"18\" ry=\"18\"/>\n",
       "<text text-anchor=\"middle\" x=\"264\" y=\"-237.79\" font-family=\"Times New Roman,serif\" font-size=\"14.00\" fill=\"#3498db\">6</text>\n",
       "</g>\n",
       "<!-- 2&#45;&gt;6 -->\n",
       "<g id=\"edge5\" class=\"edge\">\n",
       "<title>2&#45;&gt;6</title>\n",
       "<path fill=\"none\" stroke=\"#707070\" d=\"M512.81,-412.52C459.98,-376.41 323.42,-283.1 278.53,-252.43\"/>\n",
       "</g>\n",
       "<!-- 7 -->\n",
       "<g id=\"node7\" class=\"node\">\n",
       "<title>7</title>\n",
       "<ellipse fill=\"#3498db\" stroke=\"#3498db\" cx=\"156\" cy=\"-241.49\" rx=\"18\" ry=\"18\"/>\n",
       "<text text-anchor=\"middle\" x=\"156\" y=\"-237.79\" font-family=\"Times New Roman,serif\" font-size=\"14.00\" fill=\"#3498db\">7</text>\n",
       "</g>\n",
       "<!-- 2&#45;&gt;7 -->\n",
       "<g id=\"edge6\" class=\"edge\">\n",
       "<title>2&#45;&gt;7</title>\n",
       "<path fill=\"none\" stroke=\"#707070\" d=\"M508.32,-414.46C435.7,-379.01 230.38,-278.8 171.79,-250.2\"/>\n",
       "</g>\n",
       "<!-- 8 -->\n",
       "<g id=\"node8\" class=\"node\">\n",
       "<title>8</title>\n",
       "<ellipse fill=\"#3498db\" stroke=\"#3498db\" cx=\"48\" cy=\"-241.49\" rx=\"18\" ry=\"18\"/>\n",
       "<text text-anchor=\"middle\" x=\"48\" y=\"-237.79\" font-family=\"Times New Roman,serif\" font-size=\"14.00\" fill=\"#3498db\">8</text>\n",
       "</g>\n",
       "<!-- 2&#45;&gt;8 -->\n",
       "<g id=\"edge7\" class=\"edge\">\n",
       "<title>2&#45;&gt;8</title>\n",
       "<path fill=\"none\" stroke=\"#707070\" d=\"M504.69,-415.87C413.37,-381.2 135.8,-275.83 64.72,-248.84\"/>\n",
       "</g>\n",
       "<!-- 9 -->\n",
       "<g id=\"node9\" class=\"node\">\n",
       "<title>9</title>\n",
       "<ellipse fill=\"#3498db\" stroke=\"#3498db\" cx=\"1028\" cy=\"-241.49\" rx=\"18\" ry=\"18\"/>\n",
       "<text text-anchor=\"middle\" x=\"1028\" y=\"-237.79\" font-family=\"Times New Roman,serif\" font-size=\"14.00\" fill=\"#3498db\">9</text>\n",
       "</g>\n",
       "<!-- 2&#45;&gt;9 -->\n",
       "<g id=\"edge8\" class=\"edge\">\n",
       "<title>2&#45;&gt;9</title>\n",
       "<path fill=\"none\" stroke=\"#707070\" d=\"M563.42,-416C656.06,-381.41 939.83,-275.42 1011.45,-248.68\"/>\n",
       "</g>\n",
       "<!-- 10 -->\n",
       "<g id=\"node10\" class=\"node\">\n",
       "<title>10</title>\n",
       "<ellipse fill=\"#3498db\" stroke=\"#3498db\" cx=\"919\" cy=\"-241.49\" rx=\"19.5\" ry=\"19.5\"/>\n",
       "<text text-anchor=\"middle\" x=\"919\" y=\"-237.79\" font-family=\"Times New Roman,serif\" font-size=\"14.00\" fill=\"#3498db\">10</text>\n",
       "</g>\n",
       "<!-- 2&#45;&gt;10 -->\n",
       "<g id=\"edge9\" class=\"edge\">\n",
       "<title>2&#45;&gt;10</title>\n",
       "<path fill=\"none\" stroke=\"#707070\" d=\"M559.86,-414.6C633.03,-379.54 840.2,-280.26 901.63,-250.82\"/>\n",
       "</g>\n",
       "<!-- 11 -->\n",
       "<g id=\"node11\" class=\"node\">\n",
       "<title>11</title>\n",
       "<ellipse fill=\"#3498db\" stroke=\"#3498db\" cx=\"808\" cy=\"-241.49\" rx=\"19.5\" ry=\"19.5\"/>\n",
       "<text text-anchor=\"middle\" x=\"808\" y=\"-237.79\" font-family=\"Times New Roman,serif\" font-size=\"14.00\" fill=\"#3498db\">11</text>\n",
       "</g>\n",
       "<!-- 2&#45;&gt;11 -->\n",
       "<g id=\"edge10\" class=\"edge\">\n",
       "<title>2&#45;&gt;11</title>\n",
       "<path fill=\"none\" stroke=\"#707070\" d=\"M555.05,-412.82C607.93,-377.21 745.48,-284.59 792.2,-253.13\"/>\n",
       "</g>\n",
       "<!-- 12 -->\n",
       "<g id=\"node12\" class=\"node\">\n",
       "<title>12</title>\n",
       "<ellipse fill=\"#3498db\" stroke=\"#3498db\" cx=\"697\" cy=\"-241.49\" rx=\"19.5\" ry=\"19.5\"/>\n",
       "<text text-anchor=\"middle\" x=\"697\" y=\"-237.79\" font-family=\"Times New Roman,serif\" font-size=\"14.00\" fill=\"#3498db\">12</text>\n",
       "</g>\n",
       "<!-- 2&#45;&gt;12 -->\n",
       "<g id=\"edge11\" class=\"edge\">\n",
       "<title>2&#45;&gt;12</title>\n",
       "<path fill=\"none\" stroke=\"#707070\" d=\"M548.75,-410.29C580.41,-374.46 654.41,-290.7 684.22,-256.96\"/>\n",
       "</g>\n",
       "<!-- 13 -->\n",
       "<g id=\"node13\" class=\"node\">\n",
       "<title>13</title>\n",
       "<ellipse fill=\"#e74c3c\" stroke=\"#e74c3c\" cx=\"146\" cy=\"-58.5\" rx=\"19.5\" ry=\"19.5\"/>\n",
       "<text text-anchor=\"middle\" x=\"146\" y=\"-54.8\" font-family=\"Times New Roman,serif\" font-size=\"14.00\" fill=\"#e74c3c\">13</text>\n",
       "</g>\n",
       "<!-- 3&#45;&gt;13 -->\n",
       "<g id=\"edge12\" class=\"edge\">\n",
       "<title>3&#45;&gt;13</title>\n",
       "<path fill=\"none\" stroke=\"#707070\" d=\"M571.48,-233.73C502.21,-205.36 235.45,-96.13 163.8,-66.79\"/>\n",
       "</g>\n",
       "<!-- 14 -->\n",
       "<g id=\"node14\" class=\"node\">\n",
       "<title>14</title>\n",
       "<ellipse fill=\"#e74c3c\" stroke=\"#e74c3c\" cx=\"35\" cy=\"-58.5\" rx=\"19.5\" ry=\"19.5\"/>\n",
       "<text text-anchor=\"middle\" x=\"35\" y=\"-54.8\" font-family=\"Times New Roman,serif\" font-size=\"14.00\" fill=\"#e74c3c\">14</text>\n",
       "</g>\n",
       "<!-- 3&#45;&gt;14 -->\n",
       "<g id=\"edge22\" class=\"edge\">\n",
       "<title>3&#45;&gt;14</title>\n",
       "<path fill=\"none\" stroke=\"#707070\" d=\"M571.15,-234.98C489.78,-208.35 138.04,-93.22 53.38,-65.51\"/>\n",
       "</g>\n",
       "<!-- 15 -->\n",
       "<g id=\"node15\" class=\"node\">\n",
       "<title>15</title>\n",
       "<ellipse fill=\"#e74c3c\" stroke=\"#e74c3c\" cx=\"1034\" cy=\"-58.5\" rx=\"19.5\" ry=\"19.5\"/>\n",
       "<text text-anchor=\"middle\" x=\"1034\" y=\"-54.8\" font-family=\"Times New Roman,serif\" font-size=\"14.00\" fill=\"#e74c3c\">15</text>\n",
       "</g>\n",
       "<!-- 3&#45;&gt;15 -->\n",
       "<g id=\"edge32\" class=\"edge\">\n",
       "<title>3&#45;&gt;15</title>\n",
       "<path fill=\"none\" stroke=\"#707070\" d=\"M604.4,-233.84C673.87,-205.65 943.56,-96.2 1016,-66.8\"/>\n",
       "</g>\n",
       "<!-- 16 -->\n",
       "<g id=\"node16\" class=\"node\">\n",
       "<title>16</title>\n",
       "<ellipse fill=\"#e74c3c\" stroke=\"#e74c3c\" cx=\"923\" cy=\"-58.5\" rx=\"19.5\" ry=\"19.5\"/>\n",
       "<text text-anchor=\"middle\" x=\"923\" y=\"-54.8\" font-family=\"Times New Roman,serif\" font-size=\"14.00\" fill=\"#e74c3c\">16</text>\n",
       "</g>\n",
       "<!-- 3&#45;&gt;16 -->\n",
       "<g id=\"edge42\" class=\"edge\">\n",
       "<title>3&#45;&gt;16</title>\n",
       "<path fill=\"none\" stroke=\"#707070\" d=\"M603.71,-232.01C659.59,-201.82 848.48,-99.76 906.14,-68.61\"/>\n",
       "</g>\n",
       "<!-- 17 -->\n",
       "<g id=\"node17\" class=\"node\">\n",
       "<title>17</title>\n",
       "<ellipse fill=\"#e74c3c\" stroke=\"#e74c3c\" cx=\"812\" cy=\"-58.5\" rx=\"19.5\" ry=\"19.5\"/>\n",
       "<text text-anchor=\"middle\" x=\"812\" y=\"-54.8\" font-family=\"Times New Roman,serif\" font-size=\"14.00\" fill=\"#e74c3c\">17</text>\n",
       "</g>\n",
       "<!-- 3&#45;&gt;17 -->\n",
       "<g id=\"edge52\" class=\"edge\">\n",
       "<title>3&#45;&gt;17</title>\n",
       "<path fill=\"none\" stroke=\"#707070\" d=\"M601.68,-229.45C641.28,-197.44 755.89,-104.84 797.06,-71.57\"/>\n",
       "</g>\n",
       "<!-- 18 -->\n",
       "<g id=\"node18\" class=\"node\">\n",
       "<title>18</title>\n",
       "<ellipse fill=\"#e74c3c\" stroke=\"#e74c3c\" cx=\"701\" cy=\"-58.5\" rx=\"19.5\" ry=\"19.5\"/>\n",
       "<text text-anchor=\"middle\" x=\"701\" y=\"-54.8\" font-family=\"Times New Roman,serif\" font-size=\"14.00\" fill=\"#e74c3c\">18</text>\n",
       "</g>\n",
       "<!-- 3&#45;&gt;18 -->\n",
       "<g id=\"edge62\" class=\"edge\">\n",
       "<title>3&#45;&gt;18</title>\n",
       "<path fill=\"none\" stroke=\"#707070\" d=\"M597.25,-225.68C618.23,-192.08 669.28,-110.3 690.98,-75.55\"/>\n",
       "</g>\n",
       "<!-- 19 -->\n",
       "<g id=\"node19\" class=\"node\">\n",
       "<title>19</title>\n",
       "<ellipse fill=\"#e74c3c\" stroke=\"#e74c3c\" cx=\"590\" cy=\"-58.5\" rx=\"19.5\" ry=\"19.5\"/>\n",
       "<text text-anchor=\"middle\" x=\"590\" y=\"-54.8\" font-family=\"Times New Roman,serif\" font-size=\"14.00\" fill=\"#e74c3c\">19</text>\n",
       "</g>\n",
       "<!-- 3&#45;&gt;19 -->\n",
       "<g id=\"edge72\" class=\"edge\">\n",
       "<title>3&#45;&gt;19</title>\n",
       "<path fill=\"none\" stroke=\"#707070\" d=\"M588.19,-223.47C588.56,-189.5 589.4,-113.55 589.79,-78.23\"/>\n",
       "</g>\n",
       "<!-- 20 -->\n",
       "<g id=\"node20\" class=\"node\">\n",
       "<title>20</title>\n",
       "<ellipse fill=\"#e74c3c\" stroke=\"#e74c3c\" cx=\"479\" cy=\"-58.5\" rx=\"19.5\" ry=\"19.5\"/>\n",
       "<text text-anchor=\"middle\" x=\"479\" y=\"-54.8\" font-family=\"Times New Roman,serif\" font-size=\"14.00\" fill=\"#e74c3c\">20</text>\n",
       "</g>\n",
       "<!-- 3&#45;&gt;20 -->\n",
       "<g id=\"edge82\" class=\"edge\">\n",
       "<title>3&#45;&gt;20</title>\n",
       "<path fill=\"none\" stroke=\"#707070\" d=\"M579.08,-225.68C558.84,-192.08 509.59,-110.3 488.67,-75.55\"/>\n",
       "</g>\n",
       "<!-- 21 -->\n",
       "<g id=\"node21\" class=\"node\">\n",
       "<title>21</title>\n",
       "<ellipse fill=\"#e74c3c\" stroke=\"#e74c3c\" cx=\"368\" cy=\"-58.5\" rx=\"19.5\" ry=\"19.5\"/>\n",
       "<text text-anchor=\"middle\" x=\"368\" y=\"-54.8\" font-family=\"Times New Roman,serif\" font-size=\"14.00\" fill=\"#e74c3c\">21</text>\n",
       "</g>\n",
       "<!-- 3&#45;&gt;21 -->\n",
       "<g id=\"edge92\" class=\"edge\">\n",
       "<title>3&#45;&gt;21</title>\n",
       "<path fill=\"none\" stroke=\"#707070\" d=\"M574.57,-229.45C535.67,-197.44 423.11,-104.84 382.68,-71.57\"/>\n",
       "</g>\n",
       "<!-- 22 -->\n",
       "<g id=\"node22\" class=\"node\">\n",
       "<title>22</title>\n",
       "<ellipse fill=\"#e74c3c\" stroke=\"#e74c3c\" cx=\"257\" cy=\"-58.5\" rx=\"19.5\" ry=\"19.5\"/>\n",
       "<text text-anchor=\"middle\" x=\"257\" y=\"-54.8\" font-family=\"Times New Roman,serif\" font-size=\"14.00\" fill=\"#e74c3c\">22</text>\n",
       "</g>\n",
       "<!-- 3&#45;&gt;22 -->\n",
       "<g id=\"edge102\" class=\"edge\">\n",
       "<title>3&#45;&gt;22</title>\n",
       "<path fill=\"none\" stroke=\"#707070\" d=\"M572.48,-232.01C517.39,-201.89 331.49,-100.23 274.05,-68.82\"/>\n",
       "</g>\n",
       "<!-- 4&#45;&gt;13 -->\n",
       "<g id=\"edge13\" class=\"edge\">\n",
       "<title>4&#45;&gt;13</title>\n",
       "<path fill=\"none\" stroke=\"#707070\" d=\"M464.34,-232.01C408.62,-201.82 220.3,-99.76 162.81,-68.61\"/>\n",
       "</g>\n",
       "<!-- 4&#45;&gt;14 -->\n",
       "<g id=\"edge23\" class=\"edge\">\n",
       "<title>4&#45;&gt;14</title>\n",
       "<path fill=\"none\" stroke=\"#707070\" d=\"M463.63,-233.84C394.33,-205.65 125.24,-96.2 52.96,-66.8\"/>\n",
       "</g>\n",
       "<!-- 4&#45;&gt;15 -->\n",
       "<g id=\"edge33\" class=\"edge\">\n",
       "<title>4&#45;&gt;15</title>\n",
       "<path fill=\"none\" stroke=\"#707070\" d=\"M496.88,-234.98C578.39,-208.35 930.77,-93.22 1015.59,-65.51\"/>\n",
       "</g>\n",
       "<!-- 4&#45;&gt;16 -->\n",
       "<g id=\"edge43\" class=\"edge\">\n",
       "<title>4&#45;&gt;16</title>\n",
       "<path fill=\"none\" stroke=\"#707070\" d=\"M496.29,-233.84C565.29,-205.65 833.16,-96.2 905.12,-66.8\"/>\n",
       "</g>\n",
       "<!-- 4&#45;&gt;17 -->\n",
       "<g id=\"edge53\" class=\"edge\">\n",
       "<title>4&#45;&gt;17</title>\n",
       "<path fill=\"none\" stroke=\"#707070\" d=\"M495.57,-232.01C550.95,-201.82 738.15,-99.76 795.29,-68.61\"/>\n",
       "</g>\n",
       "<!-- 4&#45;&gt;18 -->\n",
       "<g id=\"edge63\" class=\"edge\">\n",
       "<title>4&#45;&gt;18</title>\n",
       "<path fill=\"none\" stroke=\"#707070\" d=\"M493.49,-229.45C532.57,-197.44 645.64,-104.84 686.26,-71.57\"/>\n",
       "</g>\n",
       "<!-- 4&#45;&gt;19 -->\n",
       "<g id=\"edge73\" class=\"edge\">\n",
       "<title>4&#45;&gt;19</title>\n",
       "<path fill=\"none\" stroke=\"#707070\" d=\"M489,-225.68C509.42,-192.08 559.13,-110.3 580.25,-75.55\"/>\n",
       "</g>\n",
       "<!-- 4&#45;&gt;20 -->\n",
       "<g id=\"edge83\" class=\"edge\">\n",
       "<title>4&#45;&gt;20</title>\n",
       "<path fill=\"none\" stroke=\"#707070\" d=\"M479.91,-223.47C479.72,-189.5 479.3,-113.55 479.1,-78.23\"/>\n",
       "</g>\n",
       "<!-- 4&#45;&gt;21 -->\n",
       "<g id=\"edge93\" class=\"edge\">\n",
       "<title>4&#45;&gt;21</title>\n",
       "<path fill=\"none\" stroke=\"#707070\" d=\"M470.83,-225.68C450.04,-192.08 399.44,-110.3 377.93,-75.55\"/>\n",
       "</g>\n",
       "<!-- 4&#45;&gt;22 -->\n",
       "<g id=\"edge103\" class=\"edge\">\n",
       "<title>4&#45;&gt;22</title>\n",
       "<path fill=\"none\" stroke=\"#707070\" d=\"M466.39,-229.45C426.95,-197.44 312.86,-104.84 271.88,-71.57\"/>\n",
       "</g>\n",
       "<!-- 5&#45;&gt;13 -->\n",
       "<g id=\"edge14\" class=\"edge\">\n",
       "<title>5&#45;&gt;13</title>\n",
       "<path fill=\"none\" stroke=\"#707070\" d=\"M358.2,-229.45C318.14,-197.36 202.06,-104.39 160.78,-71.34\"/>\n",
       "</g>\n",
       "<!-- 5&#45;&gt;14 -->\n",
       "<g id=\"edge24\" class=\"edge\">\n",
       "<title>5&#45;&gt;14</title>\n",
       "<path fill=\"none\" stroke=\"#707070\" d=\"M356.2,-232.01C299.98,-201.82 109.97,-99.76 51.96,-68.61\"/>\n",
       "</g>\n",
       "<!-- 5&#45;&gt;15 -->\n",
       "<g id=\"edge34\" class=\"edge\">\n",
       "<title>5&#45;&gt;15</title>\n",
       "<path fill=\"none\" stroke=\"#707070\" d=\"M389.37,-235.75C482.19,-210.37 919.13,-90.91 1015.26,-64.62\"/>\n",
       "</g>\n",
       "<!-- 5&#45;&gt;16 -->\n",
       "<g id=\"edge44\" class=\"edge\">\n",
       "<title>5&#45;&gt;16</title>\n",
       "<path fill=\"none\" stroke=\"#707070\" d=\"M388.79,-234.98C469.86,-208.35 820.33,-93.22 904.69,-65.51\"/>\n",
       "</g>\n",
       "<!-- 5&#45;&gt;17 -->\n",
       "<g id=\"edge54\" class=\"edge\">\n",
       "<title>5&#45;&gt;17</title>\n",
       "<path fill=\"none\" stroke=\"#707070\" d=\"M388.45,-233.73C457.4,-205.36 722.96,-96.13 794.28,-66.79\"/>\n",
       "</g>\n",
       "<!-- 5&#45;&gt;18 -->\n",
       "<g id=\"edge64\" class=\"edge\">\n",
       "<title>5&#45;&gt;18</title>\n",
       "<path fill=\"none\" stroke=\"#707070\" d=\"M387.43,-232.01C442.18,-201.89 626.96,-100.23 684.05,-68.82\"/>\n",
       "</g>\n",
       "<!-- 5&#45;&gt;19 -->\n",
       "<g id=\"edge74\" class=\"edge\">\n",
       "<title>5&#45;&gt;19</title>\n",
       "<path fill=\"none\" stroke=\"#707070\" d=\"M385.64,-229.17C424.41,-196.98 535.09,-105.09 575.23,-71.76\"/>\n",
       "</g>\n",
       "<!-- 5&#45;&gt;20 -->\n",
       "<g id=\"edge84\" class=\"edge\">\n",
       "<title>5&#45;&gt;20</title>\n",
       "<path fill=\"none\" stroke=\"#707070\" d=\"M380.76,-225.68C400.62,-192.08 448.97,-110.3 469.51,-75.55\"/>\n",
       "</g>\n",
       "<!-- 5&#45;&gt;21 -->\n",
       "<g id=\"edge94\" class=\"edge\">\n",
       "<title>5&#45;&gt;21</title>\n",
       "<path fill=\"none\" stroke=\"#707070\" d=\"M371.62,-223.47C370.87,-189.5 369.19,-113.55 368.41,-78.23\"/>\n",
       "</g>\n",
       "<!-- 5&#45;&gt;22 -->\n",
       "<g id=\"edge104\" class=\"edge\">\n",
       "<title>5&#45;&gt;22</title>\n",
       "<path fill=\"none\" stroke=\"#707070\" d=\"M362.78,-225.99C341.52,-192.52 289.15,-110.1 267.08,-75.36\"/>\n",
       "</g>\n",
       "<!-- 6&#45;&gt;13 -->\n",
       "<g id=\"edge15\" class=\"edge\">\n",
       "<title>6&#45;&gt;13</title>\n",
       "<path fill=\"none\" stroke=\"#707070\" d=\"M254.54,-225.99C232.72,-192.52 178.99,-110.1 156.34,-75.36\"/>\n",
       "</g>\n",
       "<!-- 6&#45;&gt;14 -->\n",
       "<g id=\"edge25\" class=\"edge\">\n",
       "<title>6&#45;&gt;14</title>\n",
       "<path fill=\"none\" stroke=\"#707070\" d=\"M250.36,-229.71C210.11,-197.9 92.04,-104.58 50.04,-71.39\"/>\n",
       "</g>\n",
       "<!-- 6&#45;&gt;15 -->\n",
       "<g id=\"edge35\" class=\"edge\">\n",
       "<title>6&#45;&gt;15</title>\n",
       "<path fill=\"none\" stroke=\"#707070\" d=\"M281.53,-236.37C384.39,-212.2 908.69,-88.95 1015.13,-63.93\"/>\n",
       "</g>\n",
       "<!-- 6&#45;&gt;16 -->\n",
       "<g id=\"edge45\" class=\"edge\">\n",
       "<title>6&#45;&gt;16</title>\n",
       "<path fill=\"none\" stroke=\"#707070\" d=\"M281.29,-235.75C373.69,-210.37 808.65,-90.91 904.35,-64.62\"/>\n",
       "</g>\n",
       "<!-- 6&#45;&gt;17 -->\n",
       "<g id=\"edge55\" class=\"edge\">\n",
       "<title>6&#45;&gt;17</title>\n",
       "<path fill=\"none\" stroke=\"#707070\" d=\"M281,-234.88C362.12,-208.09 709.33,-93.41 793.54,-65.59\"/>\n",
       "</g>\n",
       "<!-- 6&#45;&gt;18 -->\n",
       "<g id=\"edge65\" class=\"edge\">\n",
       "<title>6&#45;&gt;18</title>\n",
       "<path fill=\"none\" stroke=\"#707070\" d=\"M280.33,-233.73C348.67,-205.43 611.37,-96.62 682.92,-66.99\"/>\n",
       "</g>\n",
       "<!-- 6&#45;&gt;19 -->\n",
       "<g id=\"edge75\" class=\"edge\">\n",
       "<title>6&#45;&gt;19</title>\n",
       "<path fill=\"none\" stroke=\"#707070\" d=\"M279.72,-231.76C334.54,-201.33 516.94,-100.06 573.28,-68.78\"/>\n",
       "</g>\n",
       "<!-- 6&#45;&gt;20 -->\n",
       "<g id=\"edge85\" class=\"edge\">\n",
       "<title>6&#45;&gt;20</title>\n",
       "<path fill=\"none\" stroke=\"#707070\" d=\"M277.45,-229.17C315.69,-196.98 424.85,-105.09 464.43,-71.76\"/>\n",
       "</g>\n",
       "<!-- 6&#45;&gt;21 -->\n",
       "<g id=\"edge95\" class=\"edge\">\n",
       "<title>6&#45;&gt;21</title>\n",
       "<path fill=\"none\" stroke=\"#707070\" d=\"M272.69,-225.37C292.07,-191.64 338.7,-110.49 358.67,-75.74\"/>\n",
       "</g>\n",
       "<!-- 6&#45;&gt;22 -->\n",
       "<g id=\"edge105\" class=\"edge\">\n",
       "<title>6&#45;&gt;22</title>\n",
       "<path fill=\"none\" stroke=\"#707070\" d=\"M263.34,-223.47C262.03,-189.5 259.09,-113.55 257.72,-78.23\"/>\n",
       "</g>\n",
       "<!-- 7&#45;&gt;13 -->\n",
       "<g id=\"edge16\" class=\"edge\">\n",
       "<title>7&#45;&gt;13</title>\n",
       "<path fill=\"none\" stroke=\"#707070\" d=\"M155.06,-223.47C153.18,-189.5 148.99,-113.55 147.03,-78.23\"/>\n",
       "</g>\n",
       "<!-- 7&#45;&gt;14 -->\n",
       "<g id=\"edge26\" class=\"edge\">\n",
       "<title>7&#45;&gt;14</title>\n",
       "<path fill=\"none\" stroke=\"#707070\" d=\"M146.3,-225.99C123.87,-192.43 68.55,-109.69 45.43,-75.1\"/>\n",
       "</g>\n",
       "<!-- 7&#45;&gt;15 -->\n",
       "<g id=\"edge36\" class=\"edge\">\n",
       "<title>7&#45;&gt;15</title>\n",
       "<path fill=\"none\" stroke=\"#707070\" d=\"M173.54,-236.88C285.44,-213.81 898.6,-87.41 1014.94,-63.43\"/>\n",
       "</g>\n",
       "<!-- 7&#45;&gt;16 -->\n",
       "<g id=\"edge46\" class=\"edge\">\n",
       "<title>7&#45;&gt;16</title>\n",
       "<path fill=\"none\" stroke=\"#707070\" d=\"M173.46,-236.37C275.92,-212.2 798.18,-88.95 904.21,-63.93\"/>\n",
       "</g>\n",
       "<!-- 7&#45;&gt;17 -->\n",
       "<g id=\"edge56\" class=\"edge\">\n",
       "<title>7&#45;&gt;17</title>\n",
       "<path fill=\"none\" stroke=\"#707070\" d=\"M173.21,-235.75C265.19,-210.37 698.17,-90.91 793.43,-64.62\"/>\n",
       "</g>\n",
       "<!-- 7&#45;&gt;18 -->\n",
       "<g id=\"edge66\" class=\"edge\">\n",
       "<title>7&#45;&gt;18</title>\n",
       "<path fill=\"none\" stroke=\"#707070\" d=\"M172.91,-234.88C253.58,-208.09 598.89,-93.41 682.65,-65.59\"/>\n",
       "</g>\n",
       "<!-- 7&#45;&gt;19 -->\n",
       "<g id=\"edge76\" class=\"edge\">\n",
       "<title>7&#45;&gt;19</title>\n",
       "<path fill=\"none\" stroke=\"#707070\" d=\"M172.48,-233.62C240.77,-205.14 501.17,-96.54 572.08,-66.97\"/>\n",
       "</g>\n",
       "<!-- 7&#45;&gt;20 -->\n",
       "<g id=\"edge86\" class=\"edge\">\n",
       "<title>7&#45;&gt;20</title>\n",
       "<path fill=\"none\" stroke=\"#707070\" d=\"M171.58,-231.76C225.89,-201.33 406.61,-100.06 462.43,-68.78\"/>\n",
       "</g>\n",
       "<!-- 7&#45;&gt;21 -->\n",
       "<g id=\"edge96\" class=\"edge\">\n",
       "<title>7&#45;&gt;21</title>\n",
       "<path fill=\"none\" stroke=\"#707070\" d=\"M169.26,-229.17C206.97,-196.98 314.6,-105.09 353.64,-71.76\"/>\n",
       "</g>\n",
       "<!-- 7&#45;&gt;22 -->\n",
       "<g id=\"edge106\" class=\"edge\">\n",
       "<title>7&#45;&gt;22</title>\n",
       "<path fill=\"none\" stroke=\"#707070\" d=\"M164.44,-225.37C183.21,-191.73 228.32,-110.9 247.79,-76\"/>\n",
       "</g>\n",
       "<!-- 8&#45;&gt;13 -->\n",
       "<g id=\"edge17\" class=\"edge\">\n",
       "<title>8&#45;&gt;13</title>\n",
       "<path fill=\"none\" stroke=\"#707070\" d=\"M56.19,-225.37C74.4,-191.73 118.17,-110.9 137.06,-76\"/>\n",
       "</g>\n",
       "<!-- 8&#45;&gt;14 -->\n",
       "<g id=\"edge27\" class=\"edge\">\n",
       "<title>8&#45;&gt;14</title>\n",
       "<path fill=\"none\" stroke=\"#707070\" d=\"M46.78,-223.47C44.33,-189.41 38.85,-113.16 36.33,-77.96\"/>\n",
       "</g>\n",
       "<!-- 8&#45;&gt;15 -->\n",
       "<g id=\"edge37\" class=\"edge\">\n",
       "<title>8&#45;&gt;15</title>\n",
       "<path fill=\"none\" stroke=\"#707070\" d=\"M65.53,-237.28C185.93,-215.17 889.43,-86.04 1014.87,-63.01\"/>\n",
       "</g>\n",
       "<!-- 8&#45;&gt;16 -->\n",
       "<g id=\"edge47\" class=\"edge\">\n",
       "<title>8&#45;&gt;16</title>\n",
       "<path fill=\"none\" stroke=\"#707070\" d=\"M65.48,-236.88C177,-213.81 788.06,-87.41 904.01,-63.43\"/>\n",
       "</g>\n",
       "<!-- 8&#45;&gt;17 -->\n",
       "<g id=\"edge57\" class=\"edge\">\n",
       "<title>8&#45;&gt;17</title>\n",
       "<path fill=\"none\" stroke=\"#707070\" d=\"M65.39,-236.37C167.34,-212.22 686.54,-89.22 792.93,-64.02\"/>\n",
       "</g>\n",
       "<!-- 8&#45;&gt;18 -->\n",
       "<g id=\"edge67\" class=\"edge\">\n",
       "<title>8&#45;&gt;18</title>\n",
       "<path fill=\"none\" stroke=\"#707070\" d=\"M65.13,-235.75C156.59,-210.4 586.74,-91.17 682.2,-64.71\"/>\n",
       "</g>\n",
       "<!-- 8&#45;&gt;19 -->\n",
       "<g id=\"edge77\" class=\"edge\">\n",
       "<title>8&#45;&gt;19</title>\n",
       "<path fill=\"none\" stroke=\"#707070\" d=\"M64.82,-234.88C145.04,-208.09 488.45,-93.41 571.75,-65.59\"/>\n",
       "</g>\n",
       "<!-- 8&#45;&gt;20 -->\n",
       "<g id=\"edge87\" class=\"edge\">\n",
       "<title>8&#45;&gt;20</title>\n",
       "<path fill=\"none\" stroke=\"#707070\" d=\"M64.37,-233.62C132.18,-205.14 390.78,-96.54 461.2,-66.97\"/>\n",
       "</g>\n",
       "<!-- 8&#45;&gt;21 -->\n",
       "<g id=\"edge97\" class=\"edge\">\n",
       "<title>8&#45;&gt;21</title>\n",
       "<path fill=\"none\" stroke=\"#707070\" d=\"M63.43,-231.76C117.12,-201.4 295.45,-100.53 351.2,-69\"/>\n",
       "</g>\n",
       "<!-- 8&#45;&gt;22 -->\n",
       "<g id=\"edge107\" class=\"edge\">\n",
       "<title>8&#45;&gt;22</title>\n",
       "<path fill=\"none\" stroke=\"#707070\" d=\"M61.39,-228.9C98.78,-196.52 204.07,-105.34 242.62,-71.95\"/>\n",
       "</g>\n",
       "<!-- 9&#45;&gt;13 -->\n",
       "<g id=\"edge18\" class=\"edge\">\n",
       "<title>9&#45;&gt;13</title>\n",
       "<path fill=\"none\" stroke=\"#707070\" d=\"M1010.38,-236.88C897.97,-213.81 282.01,-87.41 165.15,-63.43\"/>\n",
       "</g>\n",
       "<!-- 9&#45;&gt;14 -->\n",
       "<g id=\"edge28\" class=\"edge\">\n",
       "<title>9&#45;&gt;14</title>\n",
       "<path fill=\"none\" stroke=\"#707070\" d=\"M1010.34,-237.28C889.09,-215.17 180.6,-86.04 54.27,-63.01\"/>\n",
       "</g>\n",
       "<!-- 9&#45;&gt;15 -->\n",
       "<g id=\"edge38\" class=\"edge\">\n",
       "<title>9&#45;&gt;15</title>\n",
       "<path fill=\"none\" stroke=\"#707070\" d=\"M1028.56,-223.47C1029.69,-189.5 1032.21,-113.55 1033.38,-78.23\"/>\n",
       "</g>\n",
       "<!-- 9&#45;&gt;16 -->\n",
       "<g id=\"edge48\" class=\"edge\">\n",
       "<title>9&#45;&gt;16</title>\n",
       "<path fill=\"none\" stroke=\"#707070\" d=\"M1019.23,-225.37C999.66,-191.64 952.58,-110.49 932.42,-75.74\"/>\n",
       "</g>\n",
       "<!-- 9&#45;&gt;17 -->\n",
       "<g id=\"edge58\" class=\"edge\">\n",
       "<title>9&#45;&gt;17</title>\n",
       "<path fill=\"none\" stroke=\"#707070\" d=\"M1014.49,-229.17C976.07,-196.98 866.41,-105.09 826.63,-71.76\"/>\n",
       "</g>\n",
       "<!-- 9&#45;&gt;18 -->\n",
       "<g id=\"edge68\" class=\"edge\">\n",
       "<title>9&#45;&gt;18</title>\n",
       "<path fill=\"none\" stroke=\"#707070\" d=\"M1012.67,-232.01C958.25,-201.89 774.59,-100.23 717.85,-68.82\"/>\n",
       "</g>\n",
       "<!-- 9&#45;&gt;19 -->\n",
       "<g id=\"edge78\" class=\"edge\">\n",
       "<title>9&#45;&gt;19</title>\n",
       "<path fill=\"none\" stroke=\"#707070\" d=\"M1011.63,-233.73C943.14,-205.43 679.83,-96.62 608.12,-66.99\"/>\n",
       "</g>\n",
       "<!-- 9&#45;&gt;20 -->\n",
       "<g id=\"edge88\" class=\"edge\">\n",
       "<title>9&#45;&gt;20</title>\n",
       "<path fill=\"none\" stroke=\"#707070\" d=\"M1010.97,-234.88C929.61,-208.06 581.09,-93.15 497.21,-65.5\"/>\n",
       "</g>\n",
       "<!-- 9&#45;&gt;21 -->\n",
       "<g id=\"edge98\" class=\"edge\">\n",
       "<title>9&#45;&gt;21</title>\n",
       "<path fill=\"none\" stroke=\"#707070\" d=\"M1010.69,-235.75C918.14,-210.37 482.53,-90.91 386.68,-64.62\"/>\n",
       "</g>\n",
       "<!-- 9&#45;&gt;22 -->\n",
       "<g id=\"edge108\" class=\"edge\">\n",
       "<title>9&#45;&gt;22</title>\n",
       "<path fill=\"none\" stroke=\"#707070\" d=\"M1010.45,-236.37C907.45,-212.2 382.47,-88.95 275.89,-63.93\"/>\n",
       "</g>\n",
       "<!-- 10&#45;&gt;13 -->\n",
       "<g id=\"edge19\" class=\"edge\">\n",
       "<title>10&#45;&gt;13</title>\n",
       "<path fill=\"none\" stroke=\"#707070\" d=\"M899.89,-236.02C793.06,-211.01 270.77,-88.71 164.78,-63.9\"/>\n",
       "</g>\n",
       "<!-- 10&#45;&gt;14 -->\n",
       "<g id=\"edge29\" class=\"edge\">\n",
       "<title>10&#45;&gt;14</title>\n",
       "<path fill=\"none\" stroke=\"#707070\" d=\"M899.71,-236.55C782.81,-212.61 170.22,-87.18 54.03,-63.39\"/>\n",
       "</g>\n",
       "<!-- 10&#45;&gt;15 -->\n",
       "<g id=\"edge39\" class=\"edge\">\n",
       "<title>10&#45;&gt;15</title>\n",
       "<path fill=\"none\" stroke=\"#707070\" d=\"M929,-224.75C950.75,-190.52 1002.13,-109.65 1023.94,-75.34\"/>\n",
       "</g>\n",
       "<!-- 10&#45;&gt;16 -->\n",
       "<g id=\"edge49\" class=\"edge\">\n",
       "<title>10&#45;&gt;16</title>\n",
       "<path fill=\"none\" stroke=\"#707070\" d=\"M919.41,-221.81C920.18,-187.03 921.82,-112.78 922.59,-78.08\"/>\n",
       "</g>\n",
       "<!-- 10&#45;&gt;17 -->\n",
       "<g id=\"edge59\" class=\"edge\">\n",
       "<title>10&#45;&gt;17</title>\n",
       "<path fill=\"none\" stroke=\"#707070\" d=\"M909.5,-224.43C889.25,-190.17 842,-110.24 821.63,-75.78\"/>\n",
       "</g>\n",
       "<!-- 10&#45;&gt;18 -->\n",
       "<g id=\"edge69\" class=\"edge\">\n",
       "<title>10&#45;&gt;18</title>\n",
       "<path fill=\"none\" stroke=\"#707070\" d=\"M904.36,-228.34C864.64,-195.37 755.22,-104.51 715.58,-71.6\"/>\n",
       "</g>\n",
       "<!-- 10&#45;&gt;19 -->\n",
       "<g id=\"edge79\" class=\"edge\">\n",
       "<title>10&#45;&gt;19</title>\n",
       "<path fill=\"none\" stroke=\"#707070\" d=\"M902.23,-231.27C845.8,-200.22 663.12,-99.72 606.73,-68.7\"/>\n",
       "</g>\n",
       "<!-- 10&#45;&gt;20 -->\n",
       "<g id=\"edge89\" class=\"edge\">\n",
       "<title>10&#45;&gt;20</title>\n",
       "<path fill=\"none\" stroke=\"#707070\" d=\"M901.21,-233.18C830.3,-204.01 568.31,-96.24 497.01,-66.91\"/>\n",
       "</g>\n",
       "<!-- 10&#45;&gt;21 -->\n",
       "<g id=\"edge99\" class=\"edge\">\n",
       "<title>10&#45;&gt;21</title>\n",
       "<path fill=\"none\" stroke=\"#707070\" d=\"M900.67,-234.47C816.82,-206.93 470.39,-93.13 386.4,-65.54\"/>\n",
       "</g>\n",
       "<!-- 10&#45;&gt;22 -->\n",
       "<g id=\"edge109\" class=\"edge\">\n",
       "<title>10&#45;&gt;22</title>\n",
       "<path fill=\"none\" stroke=\"#707070\" d=\"M900.25,-235.37C804.52,-209.19 370.94,-90.65 275.58,-64.58\"/>\n",
       "</g>\n",
       "<!-- 11&#45;&gt;13 -->\n",
       "<g id=\"edge20\" class=\"edge\">\n",
       "<title>11&#45;&gt;13</title>\n",
       "<path fill=\"none\" stroke=\"#707070\" d=\"M789.25,-235.37C693.52,-209.19 259.94,-90.65 164.58,-64.58\"/>\n",
       "</g>\n",
       "<!-- 11&#45;&gt;14 -->\n",
       "<g id=\"edge30\" class=\"edge\">\n",
       "<title>11&#45;&gt;14</title>\n",
       "<path fill=\"none\" stroke=\"#707070\" d=\"M788.89,-236.02C682.06,-211.01 159.77,-88.71 53.78,-63.9\"/>\n",
       "</g>\n",
       "<!-- 11&#45;&gt;15 -->\n",
       "<g id=\"edge40\" class=\"edge\">\n",
       "<title>11&#45;&gt;15</title>\n",
       "<path fill=\"none\" stroke=\"#707070\" d=\"M822.83,-228.62C863.78,-195.82 978.1,-104.27 1019.12,-71.42\"/>\n",
       "</g>\n",
       "<!-- 11&#45;&gt;16 -->\n",
       "<g id=\"edge50\" class=\"edge\">\n",
       "<title>11&#45;&gt;16</title>\n",
       "<path fill=\"none\" stroke=\"#707070\" d=\"M818,-224.75C839.75,-190.52 891.13,-109.65 912.94,-75.34\"/>\n",
       "</g>\n",
       "<!-- 11&#45;&gt;17 -->\n",
       "<g id=\"edge60\" class=\"edge\">\n",
       "<title>11&#45;&gt;17</title>\n",
       "<path fill=\"none\" stroke=\"#707070\" d=\"M808.41,-221.81C809.18,-187.03 810.82,-112.78 811.59,-78.08\"/>\n",
       "</g>\n",
       "<!-- 11&#45;&gt;18 -->\n",
       "<g id=\"edge70\" class=\"edge\">\n",
       "<title>11&#45;&gt;18</title>\n",
       "<path fill=\"none\" stroke=\"#707070\" d=\"M798.5,-224.43C778.25,-190.17 731,-110.24 710.63,-75.78\"/>\n",
       "</g>\n",
       "<!-- 11&#45;&gt;19 -->\n",
       "<g id=\"edge80\" class=\"edge\">\n",
       "<title>11&#45;&gt;19</title>\n",
       "<path fill=\"none\" stroke=\"#707070\" d=\"M793.36,-228.34C753.64,-195.37 644.22,-104.51 604.58,-71.6\"/>\n",
       "</g>\n",
       "<!-- 11&#45;&gt;20 -->\n",
       "<g id=\"edge90\" class=\"edge\">\n",
       "<title>11&#45;&gt;20</title>\n",
       "<path fill=\"none\" stroke=\"#707070\" d=\"M791.23,-231.27C734.8,-200.22 552.12,-99.72 495.73,-68.7\"/>\n",
       "</g>\n",
       "<!-- 11&#45;&gt;21 -->\n",
       "<g id=\"edge100\" class=\"edge\">\n",
       "<title>11&#45;&gt;21</title>\n",
       "<path fill=\"none\" stroke=\"#707070\" d=\"M790.21,-233.18C719.3,-204.01 457.31,-96.24 386.01,-66.91\"/>\n",
       "</g>\n",
       "<!-- 11&#45;&gt;22 -->\n",
       "<g id=\"edge110\" class=\"edge\">\n",
       "<title>11&#45;&gt;22</title>\n",
       "<path fill=\"none\" stroke=\"#707070\" d=\"M789.67,-234.47C705.82,-206.93 359.39,-93.13 275.4,-65.54\"/>\n",
       "</g>\n",
       "<!-- 12&#45;&gt;13 -->\n",
       "<g id=\"edge21\" class=\"edge\">\n",
       "<title>12&#45;&gt;13</title>\n",
       "<path fill=\"none\" stroke=\"#707070\" d=\"M678.67,-234.47C594.82,-206.93 248.39,-93.13 164.4,-65.54\"/>\n",
       "</g>\n",
       "<!-- 12&#45;&gt;14 -->\n",
       "<g id=\"edge31\" class=\"edge\">\n",
       "<title>12&#45;&gt;14</title>\n",
       "<path fill=\"none\" stroke=\"#707070\" d=\"M678.25,-235.37C582.52,-209.19 148.94,-90.65 53.58,-64.58\"/>\n",
       "</g>\n",
       "<!-- 12&#45;&gt;15 -->\n",
       "<g id=\"edge41\" class=\"edge\">\n",
       "<title>12&#45;&gt;15</title>\n",
       "<path fill=\"none\" stroke=\"#707070\" d=\"M714.18,-231.27C771.98,-200.22 959.1,-99.72 1016.86,-68.7\"/>\n",
       "</g>\n",
       "<!-- 12&#45;&gt;16 -->\n",
       "<g id=\"edge51\" class=\"edge\">\n",
       "<title>12&#45;&gt;16</title>\n",
       "<path fill=\"none\" stroke=\"#707070\" d=\"M711.83,-228.62C752.78,-195.82 867.1,-104.27 908.12,-71.42\"/>\n",
       "</g>\n",
       "<!-- 12&#45;&gt;17 -->\n",
       "<g id=\"edge61\" class=\"edge\">\n",
       "<title>12&#45;&gt;17</title>\n",
       "<path fill=\"none\" stroke=\"#707070\" d=\"M707,-224.75C728.75,-190.52 780.13,-109.65 801.94,-75.34\"/>\n",
       "</g>\n",
       "<!-- 12&#45;&gt;18 -->\n",
       "<g id=\"edge71\" class=\"edge\">\n",
       "<title>12&#45;&gt;18</title>\n",
       "<path fill=\"none\" stroke=\"#707070\" d=\"M697.41,-221.81C698.18,-187.03 699.82,-112.78 700.59,-78.08\"/>\n",
       "</g>\n",
       "<!-- 12&#45;&gt;19 -->\n",
       "<g id=\"edge81\" class=\"edge\">\n",
       "<title>12&#45;&gt;19</title>\n",
       "<path fill=\"none\" stroke=\"#707070\" d=\"M687.5,-224.43C667.25,-190.17 620,-110.24 599.63,-75.78\"/>\n",
       "</g>\n",
       "<!-- 12&#45;&gt;20 -->\n",
       "<g id=\"edge91\" class=\"edge\">\n",
       "<title>12&#45;&gt;20</title>\n",
       "<path fill=\"none\" stroke=\"#707070\" d=\"M682.36,-228.34C642.64,-195.37 533.22,-104.51 493.58,-71.6\"/>\n",
       "</g>\n",
       "<!-- 12&#45;&gt;21 -->\n",
       "<g id=\"edge101\" class=\"edge\">\n",
       "<title>12&#45;&gt;21</title>\n",
       "<path fill=\"none\" stroke=\"#707070\" d=\"M680.23,-231.27C623.8,-200.22 441.12,-99.72 384.73,-68.7\"/>\n",
       "</g>\n",
       "<!-- 12&#45;&gt;22 -->\n",
       "<g id=\"edge111\" class=\"edge\">\n",
       "<title>12&#45;&gt;22</title>\n",
       "<path fill=\"none\" stroke=\"#707070\" d=\"M679.21,-233.18C608.3,-204.01 346.31,-96.24 275.01,-66.91\"/>\n",
       "</g>\n",
       "</g>\n",
       "</svg>\n"
      ],
      "text/plain": [
       "<graphviz.sources.Source at 0x14d0f426898>"
      ]
     },
     "execution_count": 27,
     "metadata": {},
     "output_type": "execute_result"
    }
   ],
   "source": [
    "draw_model(mnist_model)"
   ]
  },
  {
   "cell_type": "markdown",
   "id": "b378be38",
   "metadata": {},
   "source": [
    "## Train the model\n",
    "\n",
    "Training the neural network model requires the following steps:\n",
    "\n",
    "1. Feed the training data to the model—in this example, the `train_data` and `train_labels` arrays.\n",
    "2. The model learns to associate images and labels.\n",
    "3. We ask the model to make predictions about a test set—in this example, the `test_data` array. We verify that the predictions match the labels from the `test_labels` array.\n",
    "\n",
    "To start training,  call the `model.fit` method—the model is \"fit\" to the training data:"
   ]
  },
  {
   "cell_type": "code",
   "execution_count": 57,
   "id": "ac45bdae",
   "metadata": {},
   "outputs": [
    {
     "name": "stdout",
     "output_type": "stream",
     "text": [
      "Epoch 1/10\n",
      "1875/1875 [==============================] - 5s 3ms/step - loss: 0.2613 - accuracy: 0.9034 - val_loss: 0.3612 - val_accuracy: 0.8720\n",
      "Epoch 2/10\n",
      "1875/1875 [==============================] - 5s 3ms/step - loss: 0.2496 - accuracy: 0.9073 - val_loss: 0.3400 - val_accuracy: 0.8827\n",
      "Epoch 3/10\n",
      "1875/1875 [==============================] - 5s 3ms/step - loss: 0.2393 - accuracy: 0.9116 - val_loss: 0.3610 - val_accuracy: 0.8719\n",
      "Epoch 4/10\n",
      "1875/1875 [==============================] - 6s 3ms/step - loss: 0.2309 - accuracy: 0.9148 - val_loss: 0.3375 - val_accuracy: 0.8805\n",
      "Epoch 5/10\n",
      "1875/1875 [==============================] - 7s 3ms/step - loss: 0.2234 - accuracy: 0.9162 - val_loss: 0.3424 - val_accuracy: 0.8803\n",
      "Epoch 6/10\n",
      "1875/1875 [==============================] - 6s 3ms/step - loss: 0.2158 - accuracy: 0.9191 - val_loss: 0.3308 - val_accuracy: 0.8858\n",
      "Epoch 7/10\n",
      "1875/1875 [==============================] - 6s 3ms/step - loss: 0.2084 - accuracy: 0.9215 - val_loss: 0.3610 - val_accuracy: 0.8806\n",
      "Epoch 8/10\n",
      "1875/1875 [==============================] - 6s 3ms/step - loss: 0.2032 - accuracy: 0.9229 - val_loss: 0.3404 - val_accuracy: 0.8875\n",
      "Epoch 9/10\n",
      "1875/1875 [==============================] - 5s 3ms/step - loss: 0.1983 - accuracy: 0.9258 - val_loss: 0.3402 - val_accuracy: 0.8837\n",
      "Epoch 10/10\n",
      "1875/1875 [==============================] - 5s 3ms/step - loss: 0.1945 - accuracy: 0.9257 - val_loss: 0.3556 - val_accuracy: 0.8834\n"
     ]
    }
   ],
   "source": [
    "# Fit the model\n",
    "history = mnist_model.fit(train_data_norm, train_labels, validation_data=(test_data_norm, test_labels), epochs=10)"
   ]
  },
  {
   "cell_type": "markdown",
   "id": "ab96da77",
   "metadata": {},
   "source": [
    "As the model trains, the loss and accuracy metrics are displayed. This model reaches an accuracy of about 0.88(or 88%) on the training data."
   ]
  },
  {
   "cell_type": "markdown",
   "id": "7759d2d4",
   "metadata": {},
   "source": [
    "## Show progress\n",
    "Let's see how the model progressed during training:"
   ]
  },
  {
   "cell_type": "code",
   "execution_count": 39,
   "id": "33e9e5e7",
   "metadata": {},
   "outputs": [],
   "source": [
    "# Create the plot accuracy and loss\n",
    "\n",
    "def plot_accuracy_and_loss(history):\n",
    "  accuracy_label = 'accuracy' if 'accuracy' in history.history else 'acc'\n",
    "  # Plot training & validation accuracy values\n",
    "  plt.plot(history.history[accuracy_label])\n",
    "  plt.plot(history.history['val_'+accuracy_label])\n",
    "  plt.title('Model accuracy')\n",
    "  plt.ylabel('Accuracy')\n",
    "  plt.xlabel('Epoch')\n",
    "  plt.legend(['Train', 'Validation'], loc='upper left')\n",
    "  plt.show()\n",
    "\n",
    "  # Plot training & validation loss values\n",
    "  plt.plot(history.history['loss'])\n",
    "  plt.plot(history.history['val_loss'])\n",
    "  plt.title('Model loss')\n",
    "  plt.ylabel('Loss')\n",
    "  plt.xlabel('Epoch')\n",
    "  plt.legend(['Train', 'Validation'], loc='upper left')\n",
    "  plt.show()\n"
   ]
  },
  {
   "cell_type": "code",
   "execution_count": 58,
   "id": "43562106",
   "metadata": {},
   "outputs": [
    {
     "data": {
      "image/png": "[encoded data removed]",
      "text/plain": [
       "<Figure size 432x288 with 1 Axes>"
      ]
     },
     "metadata": {
      "needs_background": "light"
     },
     "output_type": "display_data"
    },
    {
     "data": {
      "image/png": "[encoded data removed]",
      "text/plain": [
       "<Figure size 432x288 with 1 Axes>"
      ]
     },
     "metadata": {
      "needs_background": "light"
     },
     "output_type": "display_data"
    }
   ],
   "source": [
    "plot_accuracy_and_loss(history)"
   ]
  },
  {
   "cell_type": "markdown",
   "id": "db35a2f8",
   "metadata": {},
   "source": [
    "## Evaluate accuracy\n",
    "\n",
    "Next, compare how the model performs on the test dataset:"
   ]
  },
  {
   "cell_type": "code",
   "execution_count": 59,
   "id": "3289fb36",
   "metadata": {},
   "outputs": [
    {
     "name": "stdout",
     "output_type": "stream",
     "text": [
      "313/313 [==============================] - 1s 3ms/step - loss: 0.3556 - accuracy: 0.8834\n",
      "Test accuracy: 0.883400022983551\n"
     ]
    }
   ],
   "source": [
    "test_loss, test_acc = mnist_model.evaluate(test_images, test_labels)\n",
    "\n",
    "print('Test accuracy:', test_acc)"
   ]
  },
  {
   "cell_type": "markdown",
   "id": "5502408d",
   "metadata": {},
   "source": [
    "It turns out, the accuracy on the test dataset is a little less than the accuracy on the training dataset. This gap between training accuracy and test accuracy is an example of *overfitting*. Overfitting is when a machine learning model performs worse on new data than on their training data."
   ]
  },
  {
   "cell_type": "markdown",
   "id": "c6ff3d19",
   "metadata": {},
   "source": [
    "## Make predictions\n",
    "\n",
    "With the model trained, we can use it to make predictions about some images."
   ]
  },
  {
   "cell_type": "code",
   "execution_count": 68,
   "id": "f858f533",
   "metadata": {},
   "outputs": [],
   "source": [
    "predictions = mnist_model.predict(test_data_norm)"
   ]
  },
  {
   "cell_type": "markdown",
   "id": "61bb5e12",
   "metadata": {},
   "source": [
    "Here, the model has predicted the label for each image in the testing set. Let's take a look at the first prediction:"
   ]
  },
  {
   "cell_type": "code",
   "execution_count": 69,
   "id": "6148a032",
   "metadata": {},
   "outputs": [
    {
     "data": {
      "text/plain": [
       "array([4.7790846e-13, 9.5860421e-15, 3.9598887e-11, 7.9007963e-12,\n",
       "       1.7000329e-12, 4.8106258e-06, 2.9401936e-10, 1.4848396e-03,\n",
       "       1.3547003e-11, 9.9851030e-01], dtype=float32)"
      ]
     },
     "execution_count": 69,
     "metadata": {},
     "output_type": "execute_result"
    }
   ],
   "source": [
    "predictions[0]"
   ]
  },
  {
   "cell_type": "markdown",
   "id": "75af6eba",
   "metadata": {},
   "source": [
    "A prediction is an array of 10 numbers. These describe the \"confidence\" of the model that the image corresponds to each of the 10 different articles of clothing. We can see which label has the highest confidence value:\n",
    "\n"
   ]
  },
  {
   "cell_type": "code",
   "execution_count": 70,
   "id": "f1a39637",
   "metadata": {},
   "outputs": [
    {
     "data": {
      "text/plain": [
       "9"
      ]
     },
     "execution_count": 70,
     "metadata": {},
     "output_type": "execute_result"
    }
   ],
   "source": [
    "predictions[0].argmax()"
   ]
  },
  {
   "cell_type": "markdown",
   "id": "591b6d80",
   "metadata": {},
   "source": [
    "So the model is most confident that this image is an ankle boot, or `class_names[9]`. And we can check the test label to see this is correct:"
   ]
  },
  {
   "cell_type": "code",
   "execution_count": 89,
   "id": "388eb3fb",
   "metadata": {},
   "outputs": [
    {
     "data": {
      "text/plain": [
       "9"
      ]
     },
     "execution_count": 89,
     "metadata": {},
     "output_type": "execute_result"
    }
   ],
   "source": [
    "test_labels[0]"
   ]
  },
  {
   "cell_type": "code",
   "execution_count": 90,
   "id": "46cf5142",
   "metadata": {},
   "outputs": [
    {
     "data": {
      "text/plain": [
       "array([9, 2, 1, 1, 6, 1, 4, 6, 5, 7], dtype=int64)"
      ]
     },
     "execution_count": 90,
     "metadata": {},
     "output_type": "execute_result"
    }
   ],
   "source": [
    "# Convert all of the prediction probabilities into integers\n",
    "y_preds = predictions.argmax(axis=1)\n",
    "\n",
    "# View the first 10 prediction labels\n",
    "y_preds[:10]"
   ]
  },
  {
   "cell_type": "code",
   "execution_count": 91,
   "id": "8efb2e14",
   "metadata": {},
   "outputs": [
    {
     "data": {
      "text/plain": [
       "array([9, 2, 1, ..., 8, 1, 5], dtype=uint8)"
      ]
     },
     "execution_count": 91,
     "metadata": {},
     "output_type": "execute_result"
    }
   ],
   "source": [
    "test_labels"
   ]
  },
  {
   "cell_type": "code",
   "execution_count": 92,
   "id": "58d5679a",
   "metadata": {},
   "outputs": [
    {
     "data": {
      "text/plain": [
       "array([[832,   5,  15,  34,   3,   1, 106,   0,   4,   0],\n",
       "       [  0, 982,   1,  11,   4,   0,   2,   0,   0,   0],\n",
       "       [ 13,   7, 797,  14, 103,   0,  65,   0,   0,   1],\n",
       "       [ 17,   5,   8, 919,  29,   0,  20,   0,   1,   1],\n",
       "       [  0,   0,  92,  36, 817,   0,  53,   0,   2,   0],\n",
       "       [  0,   0,   0,   1,   0, 954,   0,  24,   1,  20],\n",
       "       [112,   3,  93,  39,  80,   1, 669,   0,   3,   0],\n",
       "       [  0,   0,   0,   0,   0,   9,   0, 956,   0,  35],\n",
       "       [  7,   3,   0,   5,   6,   4,  14,   8, 953,   0],\n",
       "       [  0,   0,   0,   0,   0,   9,   1,  35,   0, 955]], dtype=int64)"
      ]
     },
     "execution_count": 92,
     "metadata": {},
     "output_type": "execute_result"
    }
   ],
   "source": [
    "from sklearn.metrics import confusion_matrix\n",
    "confusion_matrix(y_true=test_labels,\n",
    "                y_pred=y_preds)"
   ]
  },
  {
   "cell_type": "code",
   "execution_count": 93,
   "id": "6323db52",
   "metadata": {},
   "outputs": [],
   "source": [
    "# Create a confusion matrix\n",
    "\n",
    "import itertools\n",
    "from sklearn.metrics import confusion_matrix\n",
    "\n",
    "def make_confusion_matrix(y_true, y_pred, classes=None, figsize=(10, 10), text_size=15):\n",
    "\n",
    "    # Create the confusion matrix\n",
    "    cm = confusion_matrix(y_true, y_pred)\n",
    "    cm_norm = cm.astype(\"float\") / cm.sum(axis=1)[:, np.newaxis] # normalize our confusion matrix\n",
    "    n_classes = cm.shape[0]\n",
    "\n",
    "    # Let's prettify it \n",
    "    fig, ax = plt.subplots(figsize=figsize)\n",
    "    # Create a matrix plot\n",
    "    cax = ax.matshow(cm, cmap=plt.cm.Blues)\n",
    "    fig.colorbar(cax)\n",
    "\n",
    "    # Set labels to be classes\n",
    "    if classes:\n",
    "        labels = classes\n",
    "    else:\n",
    "        labels = np.arange(cm.shape[0])\n",
    "\n",
    "    # Label the axes\n",
    "    ax.set(title=\"Confusion Matrix\",\n",
    "          xlabel=\"Predicted Label\",\n",
    "          ylabel=\"True Label\",\n",
    "          xticks=np.arange(n_classes),\n",
    "          yticks=np.arange(n_classes),\n",
    "          xticklabels=labels,\n",
    "          yticklabels=labels)\n",
    "\n",
    "    # Set x-axis labels to bottom\n",
    "    ax.xaxis.set_label_position(\"bottom\")\n",
    "    ax.xaxis.tick_bottom()\n",
    "\n",
    "    # Adjust label size\n",
    "    ax.yaxis.label.set_size(text_size)\n",
    "    ax.xaxis.label.set_size(text_size)\n",
    "    ax.title.set_size(text_size)\n",
    "\n",
    "\n",
    "    # Set threshold for different colors\n",
    "    threshold = (cm.max() + cm.min()) / 2.\n",
    "\n",
    "    # Plot the text on each cell \n",
    "    for i, j in itertools.product(range(cm.shape[0]), range(cm.shape[1])):\n",
    "        plt.text(j, i, f\"{cm[i, j]} ({cm_norm[i, j]*100:.1f}%)\",\n",
    "                horizontalalignment=\"center\",\n",
    "                color=\"white\" if cm[i, j] > threshold else \"black\",\n",
    "                size=text_size)"
   ]
  },
  {
   "cell_type": "code",
   "execution_count": 94,
   "id": "5b531997",
   "metadata": {},
   "outputs": [
    {
     "data": {
      "image/png": "[encoded data removed]",
      "text/plain": [
       "<Figure size 1080x1080 with 2 Axes>"
      ]
     },
     "metadata": {
      "needs_background": "light"
     },
     "output_type": "display_data"
    }
   ],
   "source": [
    "# Make a prettier confusion_matrix\n",
    "make_confusion_matrix(y_true=test_labels,\n",
    "                     y_pred=y_preds,\n",
    "                     classes=class_names,\n",
    "                     figsize=(15,15),\n",
    "                     text_size=10)"
   ]
  },
  {
   "cell_type": "markdown",
   "id": "0d35b03e",
   "metadata": {},
   "source": [
    "* Plot a random image\n",
    "* Make a prediction on said image\n",
    "* Label the plot with the truth label & the predicted label"
   ]
  },
  {
   "cell_type": "code",
   "execution_count": 95,
   "id": "856b9188",
   "metadata": {},
   "outputs": [],
   "source": [
    "import random\n",
    "\n",
    "def plot_random_image(model, images, true_labels, classes):\n",
    "    \"\"\"\n",
    "    Picks a random image, plots it and labels it with a prediction and truth label.\n",
    "    \"\"\"\n",
    "    # Set up random integer\n",
    "    i = random.randint(0, len(images))\n",
    "    \n",
    "    # Create predictions and targets\n",
    "    target_image = images[i]\n",
    "    pred_probs = model.predict(target_image.reshape(1, 28, 28))\n",
    "    pred_label = classes[pred_probs.argmax()]\n",
    "    true_label = classes[true_labels[i]]\n",
    "    \n",
    "    # Plot the image\n",
    "    plt.imshow(target_image, cmap=plt.cm.binary)\n",
    "    \n",
    "    # Change the color of the titles depending on if the prediction is right or worng\n",
    "    if pred_label == true_label:\n",
    "        color = \"green\"\n",
    "    else:\n",
    "        color = \"red\"\n",
    "        \n",
    "    # Add xlabel information (prediction/true label)\n",
    "    plt.xlabel(\"Pred: {} {:2.0f}% (True: {})\".format(pred_label,\n",
    "                                                    100*tf.reduce_max(pred_probs),\n",
    "                                                    true_label),\n",
    "              color=color) # set the color to green or red based on i prediction is right or wrong"
   ]
  },
  {
   "cell_type": "code",
   "execution_count": 114,
   "id": "899b98d7",
   "metadata": {},
   "outputs": [
    {
     "data": {
      "image/png": "[encoded data removed]",
      "text/plain": [
       "<Figure size 432x288 with 1 Axes>"
      ]
     },
     "metadata": {
      "needs_background": "light"
     },
     "output_type": "display_data"
    }
   ],
   "source": [
    "# Check out a random image as well as its prediction\n",
    "plot_random_image(model=mnist_model,\n",
    "                 images=test_data_norm, # always make predictions on the same kind of data your model was trained on\n",
    "                 true_labels=test_labels,\n",
    "                 classes=class_names)"
   ]
  },
  {
   "cell_type": "markdown",
   "id": "23e9ad95",
   "metadata": {},
   "source": [
    "### 3. Recreate [TensorFlow](https://www.tensorflow.org/api_docs/python/tf/keras/activations/softmax)'s [softmax activation](https://en.wikipedia.org/wiki/Softmax_function) function in your own code. Make sure it can accept a tensor and return that tensor after having the softmax function applied to it.\n",
    "\n",
    "![Screenshot 2021-06-28 at 5.37.01 AM.png](data:image/png;base64,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)"
   ]
  },
  {
   "cell_type": "code",
   "execution_count": 115,
   "id": "f2266738",
   "metadata": {},
   "outputs": [],
   "source": [
    "# Implementing a softmax function \n",
    "def softmax(x):\n",
    "  '''\n",
    "  Argument:\n",
    "  x --> Accepts a tensor of any shape\n",
    "\n",
    "  Returns: \n",
    "  --> softmax activations of the input tensor\n",
    "  '''\n",
    "  x = tf.cast(x , dtype = tf.float32) # to tackle the data type error of int32 / int64\n",
    "\n",
    "  # Below is the forumale\n",
    "  e_x = tf.math.exp(x - tf.math.reduce_max(x))\n",
    "  return e_x / tf.math.reduce_sum(e_x , axis = 0)"
   ]
  },
  {
   "cell_type": "code",
   "execution_count": 116,
   "id": "8bfd9802",
   "metadata": {},
   "outputs": [
    {
     "data": {
      "text/plain": [
       "<tf.Tensor: shape=(3, 4), dtype=int32, numpy=\n",
       "array([[1, 2, 3, 6],\n",
       "       [2, 4, 5, 6],\n",
       "       [3, 8, 7, 6]])>"
      ]
     },
     "execution_count": 116,
     "metadata": {},
     "output_type": "execute_result"
    }
   ],
   "source": [
    "# Creating sample tensor \n",
    "tensor = tf.constant([[1, 2, 3, 6],\n",
    "                     [2, 4, 5, 6],\n",
    "                     [3, 8, 7, 6]] )\n",
    "tensor"
   ]
  },
  {
   "cell_type": "code",
   "execution_count": 117,
   "id": "2083bde1",
   "metadata": {},
   "outputs": [
    {
     "data": {
      "text/plain": [
       "<tf.Tensor: shape=(3, 4), dtype=float32, numpy=\n",
       "array([[0.09003057, 0.00242826, 0.01587624, 0.3333333 ],\n",
       "       [0.24472849, 0.01794253, 0.11731041, 0.3333333 ],\n",
       "       [0.66524094, 0.9796292 , 0.8668133 , 0.3333333 ]], dtype=float32)>"
      ]
     },
     "execution_count": 117,
     "metadata": {},
     "output_type": "execute_result"
    }
   ],
   "source": [
    "# Applying our softmax function \n",
    "softmax(tensor)"
   ]
  },
  {
   "cell_type": "markdown",
   "id": "7e232b83",
   "metadata": {},
   "source": [
    "### 4. Create a function (or write code) to visualize multiple image predictions for the fashion MNIST at the same time. Plot at least three different images and their prediciton labels at the same time. Hint: see the [classifcation tutorial in the TensorFlow documentation](https://www.tensorflow.org/tutorials/keras/classification) for ideas."
   ]
  },
  {
   "cell_type": "code",
   "execution_count": null,
   "id": "d8d5bc97",
   "metadata": {},
   "outputs": [],
   "source": []
  },
  {
   "cell_type": "markdown",
   "id": "3d490f2b",
   "metadata": {},
   "source": [
    "### 5. Make a function to show an image of a certain class of the fashion MNIST dataset and make a prediction on it. For example, plot 3 images of the `T-shirt` class with their predictions."
   ]
  },
  {
   "cell_type": "code",
   "execution_count": 121,
   "id": "687da075",
   "metadata": {},
   "outputs": [],
   "source": [
    "# Making predictions \n",
    "preds = mnist_model.predict(test_images)"
   ]
  },
  {
   "cell_type": "code",
   "execution_count": 122,
   "id": "87be55a1",
   "metadata": {},
   "outputs": [],
   "source": [
    "# Below function is from TensorFlow Tutorials (https://www.tensorflow.org/tutorials/keras/classification#verify_predictions)\n",
    "\n",
    "def plot_image(i, predictions_array, true_label, img):\n",
    "  true_label, img = true_label[i], img[i]\n",
    "  plt.grid(False)\n",
    "  plt.xticks([])\n",
    "  plt.yticks([])\n",
    "\n",
    "  plt.imshow(img, cmap=plt.cm.binary)\n",
    "\n",
    "  predicted_label = np.argmax(predictions_array)\n",
    "  if predicted_label == true_label:\n",
    "    color = 'blue'\n",
    "  else:\n",
    "    color = 'red'\n",
    "\n",
    "  plt.xlabel(\"{} {:2.0f}% ({})\".format(class_names[predicted_label],\n",
    "                                100*np.max(predictions_array),\n",
    "                                class_names[true_label]),\n",
    "                                color=color)\n",
    "\n",
    "def plot_value_array(i, predictions_array, true_label):\n",
    "  true_label = true_label[i]\n",
    "  plt.grid(False)\n",
    "  plt.xticks(range(10))\n",
    "  plt.yticks([])\n",
    "  thisplot = plt.bar(range(10), predictions_array, color=\"#777777\")\n",
    "  plt.ylim([0, 1])\n",
    "  predicted_label = np.argmax(predictions_array)\n",
    "\n",
    "  thisplot[predicted_label].set_color('red')\n",
    "  thisplot[true_label].set_color('blue')\n",
    "\n",
    "\n",
    "\n",
    "def plot_prediction_images():\n",
    "  num_rows = 5 \n",
    "  num_cols = 3\n",
    "  num_images = num_rows * num_cols \n",
    "  plt.figure(figsize = (2*2*num_cols , 2*num_rows))\n",
    "  for i in range(num_images):\n",
    "    plt.subplot(num_rows , 2*num_cols , 2*i+1)\n",
    "    plot_image(i , preds[i], test_labels , test_images)\n",
    "    plt.subplot(num_rows , 2*num_cols , 2*i+2)\n",
    "    plot_value_array(i , preds[i] ,  test_labels)\n",
    "  plt.tight_layout()\n",
    "  plt.show\n",
    "\n"
   ]
  },
  {
   "cell_type": "code",
   "execution_count": 125,
   "id": "453db48d",
   "metadata": {},
   "outputs": [
    {
     "data": {
      "image/png": "[encoded data removed]",
      "text/plain": [
       "<Figure size 864x720 with 30 Axes>"
      ]
     },
     "metadata": {
      "needs_background": "light"
     },
     "output_type": "display_data"
    }
   ],
   "source": [
    "# Using our function\n",
    "plot_prediction_images()"
   ]
  },
  {
   "cell_type": "code",
   "execution_count": null,
   "id": "5877c885",
   "metadata": {},
   "outputs": [],
   "source": []
  }
 ],
 "metadata": {
  "kernelspec": {
   "display_name": "Python 3",
   "language": "python",
   "name": "python3"
  },
  "language_info": {
   "codemirror_mode": {
    "name": "ipython",
    "version": 3
   },
   "file_extension": ".py",
   "mimetype": "text/x-python",
   "name": "python",
   "nbconvert_exporter": "python",
   "pygments_lexer": "ipython3",
   "version": "3.6.13"
  }
 },
 "nbformat": 4,
 "nbformat_minor": 5
}
