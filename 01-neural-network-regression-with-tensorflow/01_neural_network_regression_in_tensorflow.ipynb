{
  "nbformat": 4,
  "nbformat_minor": 0,
  "metadata": {
    "colab": {
      "name": "01-neural-network-regression-in-tensorflow.ipynb",
      "provenance": [],
      "collapsed_sections": []
    },
    "kernelspec": {
      "name": "python3",
      "display_name": "Python 3"
    },
    "language_info": {
      "name": "python"
    },
    "accelerator": "GPU"
  },
  "cells": [
    {
      "cell_type": "markdown",
      "source": [
        "# What we're going to cover (Broadly)\n",
        "\n",
        "* Architecture of a neural network regression model\n",
        "* Input shapes and output shapes of a regression model(feature and labels)\n",
        "* Creating custom data to view and fit\n",
        "* Step in modelling\n",
        "  * Creating a model, compiling a model, fitting a model , evaluating a model\n",
        "* Defferent evaluation methods\n",
        "* Saving and loading models"
      ],
      "metadata": {
        "id": "4u_dhtcWKhAN"
      }
    },
    {
      "cell_type": "markdown",
      "source": [
        "# Introduction to Regression with Neural Networks in TensorFlow\n",
        "\n",
        "There are many definitions for a regression problem but in our\n",
        "case, we're going to simplify it: predicting a numerical variable based on some other combination of vaiables, even shorter...predicting a number."
      ],
      "metadata": {
        "id": "THJlf-W9mSq8"
      }
    },
    {
      "cell_type": "code",
      "source": [
        "# Import TensorFlow\n",
        "import tensorflow as tf\n",
        "print(tf.__version__)"
      ],
      "metadata": {
        "colab": {
          "base_uri": "https://localhost:8080/"
        },
        "id": "_fYetIsymn0J",
        "outputId": "5926c86f-a273-45a7-d1ae-d2d0dd22bb32"
      },
      "execution_count": 1,
      "outputs": [
        {
          "output_type": "stream",
          "name": "stdout",
          "text": [
            "2.8.0\n"
          ]
        }
      ]
    },
    {
      "cell_type": "markdown",
      "source": [
        "## Creating data to view and fit"
      ],
      "metadata": {
        "id": "VQj3s208msAz"
      }
    },
    {
      "cell_type": "code",
      "source": [
        "import numpy as np\n",
        "import matplotlib.pyplot as plt\n",
        "\n",
        "# Create features\n",
        "X = np.array([-7.0, -4.0, -1.0, 2.0, 5.0, 8.0, 11.0, 14.0])\n",
        "\n",
        "# Create labels\n",
        "y = np.array([3.0, 6.0, 9.0, 12.0, 15.0, 18.0, 21.0, 24.0])\n",
        "\n",
        "# Visualize it\n",
        "plt.scatter(X, y);"
      ],
      "metadata": {
        "colab": {
          "base_uri": "https://localhost:8080/",
          "height": 269
        },
        "id": "bVTQlHZPm0Uy",
        "outputId": "54a9ab84-578a-44b3-c25b-bd6b3282c067"
      },
      "execution_count": 2,
      "outputs": [
        {
          "output_type": "display_data",
          "data": {
            "text/plain": [
              "<Figure size 432x288 with 1 Axes>"
            ],
            "image/png": "[encoded data removed]"
          },
          "metadata": {
            "needs_background": "light"
          }
        }
      ]
    },
    {
      "cell_type": "code",
      "source": [
        "y == X + 10"
      ],
      "metadata": {
        "colab": {
          "base_uri": "https://localhost:8080/"
        },
        "id": "LLtI9zM4nV5Q",
        "outputId": "aafbb51f-0e62-4560-e8aa-cc7ac386ba20"
      },
      "execution_count": 3,
      "outputs": [
        {
          "output_type": "execute_result",
          "data": {
            "text/plain": [
              "array([ True,  True,  True,  True,  True,  True,  True,  True])"
            ]
          },
          "metadata": {},
          "execution_count": 3
        }
      ]
    },
    {
      "cell_type": "markdown",
      "source": [
        "##  Input and output shapes"
      ],
      "metadata": {
        "id": "ABiffZ5snmO5"
      }
    },
    {
      "cell_type": "code",
      "source": [
        "# Create a demo tensor for our housing price prediction problem\n",
        "house_info = tf.constant([\"bed\", \"bathroom\", \"garage\"])\n",
        "house_price = tf.constant([939700])\n",
        "house_info, house_price"
      ],
      "metadata": {
        "colab": {
          "base_uri": "https://localhost:8080/"
        },
        "id": "eqNV2BqqnzlG",
        "outputId": "5356e479-a19d-479a-c046-82032a9dcde6"
      },
      "execution_count": 4,
      "outputs": [
        {
          "output_type": "execute_result",
          "data": {
            "text/plain": [
              "(<tf.Tensor: shape=(3,), dtype=string, numpy=array([b'bed', b'bathroom', b'garage'], dtype=object)>,\n",
              " <tf.Tensor: shape=(1,), dtype=int32, numpy=array([939700], dtype=int32)>)"
            ]
          },
          "metadata": {},
          "execution_count": 4
        }
      ]
    },
    {
      "cell_type": "code",
      "source": [
        "# let's check this shape\n",
        "input_shape = X.shape\n",
        "output_shape = y.shape\n",
        "input_shape, output_shape"
      ],
      "metadata": {
        "colab": {
          "base_uri": "https://localhost:8080/"
        },
        "id": "2bCTABZOoS3y",
        "outputId": "b82b757a-22cf-4852-920d-7b43b8ac4332"
      },
      "execution_count": 5,
      "outputs": [
        {
          "output_type": "execute_result",
          "data": {
            "text/plain": [
              "((8,), (8,))"
            ]
          },
          "metadata": {},
          "execution_count": 5
        }
      ]
    },
    {
      "cell_type": "code",
      "source": [
        "# exmaple input feature x[0] to predict label y[0]\n",
        "X[0], y[0]"
      ],
      "metadata": {
        "colab": {
          "base_uri": "https://localhost:8080/"
        },
        "id": "pneYuu9xoa1N",
        "outputId": "cb69f808-3166-4cf9-8502-d94f70ed6d32"
      },
      "execution_count": 6,
      "outputs": [
        {
          "output_type": "execute_result",
          "data": {
            "text/plain": [
              "(-7.0, 3.0)"
            ]
          },
          "metadata": {},
          "execution_count": 6
        }
      ]
    },
    {
      "cell_type": "code",
      "source": [
        "# exmaple input feature x[1] to predict label y[1]\n",
        "X[1], y[1]"
      ],
      "metadata": {
        "colab": {
          "base_uri": "https://localhost:8080/"
        },
        "id": "41Xz15wtohUa",
        "outputId": "a46105b4-91d1-40a6-a895-16c4ff6dd9e3"
      },
      "execution_count": 7,
      "outputs": [
        {
          "output_type": "execute_result",
          "data": {
            "text/plain": [
              "(-4.0, 6.0)"
            ]
          },
          "metadata": {},
          "execution_count": 7
        }
      ]
    },
    {
      "cell_type": "code",
      "source": [
        "# let's check this shape x[0], y[0]\n",
        "input_shape = X[0].shape\n",
        "output_shape = y[0].shape\n",
        "input_shape, output_shape"
      ],
      "metadata": {
        "colab": {
          "base_uri": "https://localhost:8080/"
        },
        "id": "WAwoLz32okHw",
        "outputId": "e7c41d7a-f086-47cc-b6e3-5d833460ae47"
      },
      "execution_count": 8,
      "outputs": [
        {
          "output_type": "execute_result",
          "data": {
            "text/plain": [
              "((), ())"
            ]
          },
          "metadata": {},
          "execution_count": 8
        }
      ]
    },
    {
      "cell_type": "code",
      "source": [
        "# let's check why not show\n",
        "X[0].ndim"
      ],
      "metadata": {
        "colab": {
          "base_uri": "https://localhost:8080/"
        },
        "id": "IfDzuwWOpDFN",
        "outputId": "dcc81a88-2352-413c-a8bc-4b1ba6da9933"
      },
      "execution_count": 9,
      "outputs": [
        {
          "output_type": "execute_result",
          "data": {
            "text/plain": [
              "0"
            ]
          },
          "metadata": {},
          "execution_count": 9
        }
      ]
    },
    {
      "cell_type": "code",
      "source": [
        "# Turn our numpy arrays into tensors with dtype float32\n",
        "X = tf.cast(tf.constant(X), dtype=tf.float32)\n",
        "y = tf.cast(tf.constant(y), dtype=tf.float32)\n",
        "X, y"
      ],
      "metadata": {
        "colab": {
          "base_uri": "https://localhost:8080/"
        },
        "id": "yHVBEVEWpJBG",
        "outputId": "7440448c-dc99-497d-e65f-a3f035691743"
      },
      "execution_count": 10,
      "outputs": [
        {
          "output_type": "execute_result",
          "data": {
            "text/plain": [
              "(<tf.Tensor: shape=(8,), dtype=float32, numpy=array([-7., -4., -1.,  2.,  5.,  8., 11., 14.], dtype=float32)>,\n",
              " <tf.Tensor: shape=(8,), dtype=float32, numpy=array([ 3.,  6.,  9., 12., 15., 18., 21., 24.], dtype=float32)>)"
            ]
          },
          "metadata": {},
          "execution_count": 10
        }
      ]
    },
    {
      "cell_type": "code",
      "source": [
        "input_shape = X[0].shape\n",
        "output_shape = y[0].shape\n",
        "input_shape, output_shape"
      ],
      "metadata": {
        "colab": {
          "base_uri": "https://localhost:8080/"
        },
        "id": "inMFJ_Igpou6",
        "outputId": "a072e97d-e60b-4d5d-ac23-67f21369aa38"
      },
      "execution_count": 11,
      "outputs": [
        {
          "output_type": "execute_result",
          "data": {
            "text/plain": [
              "(TensorShape([]), TensorShape([]))"
            ]
          },
          "metadata": {},
          "execution_count": 11
        }
      ]
    },
    {
      "cell_type": "code",
      "source": [
        "plt.scatter(X, y)"
      ],
      "metadata": {
        "colab": {
          "base_uri": "https://localhost:8080/",
          "height": 287
        },
        "id": "qH4iE4bJpyde",
        "outputId": "f447c760-0cf8-4f8e-eaaf-f30669038458"
      },
      "execution_count": 12,
      "outputs": [
        {
          "output_type": "execute_result",
          "data": {
            "text/plain": [
              "<matplotlib.collections.PathCollection at 0x7f6a2fae3390>"
            ]
          },
          "metadata": {},
          "execution_count": 12
        },
        {
          "output_type": "display_data",
          "data": {
            "text/plain": [
              "<Figure size 432x288 with 1 Axes>"
            ],
            "image/png": "[encoded data removed]"
          },
          "metadata": {
            "needs_background": "light"
          }
        }
      ]
    },
    {
      "cell_type": "markdown",
      "source": [
        "## Step in modelling with TensorFlow\n",
        "\n",
        "1. **Creating a model** - define the input and out put layers, as well as the hidden layers of a deep learning model.\n",
        "2. **Compiling a model** - define the losss function (in other words, the function which tells our model how wrong it is) and the optimizer (tells our model how to improve the patterns its learning) and evaluation metrics (what we can use to interpret the performance of our model).\n",
        "3. Fitting a model - letting the model try to find patterns between X & y (features and labels)."
      ],
      "metadata": {
        "id": "3WtlkmPkqCa9"
      }
    },
    {
      "cell_type": "code",
      "source": [
        "# Set random seed\n",
        "tf.random.set_seed(42)\n",
        "\n",
        "# 1. Create a model using the Sequential API\n",
        "model = tf.keras.Sequential([\n",
        "                             tf.keras.layers.Dense(1)\n",
        "])\n",
        "\n",
        "# 2. Compile the model\n",
        "model.compile(loss=tf.keras.losses.mae, # mae is short for mean absolute error\n",
        "              optimizer=tf.keras.optimizers.SGD(), # sgd is short for stochastic gradient descent\n",
        "              metrics=[\"mae\"])\n",
        "\n",
        "# 3. Fit the model\n",
        "model.fit(X, y, epochs=5)"
      ],
      "metadata": {
        "colab": {
          "base_uri": "https://localhost:8080/",
          "height": 745
        },
        "id": "MOnxVyIFqGwM",
        "outputId": "a6833190-f358-48f5-8822-c96db2861ebc"
      },
      "execution_count": 14,
      "outputs": [
        {
          "output_type": "stream",
          "name": "stdout",
          "text": [
            "Epoch 1/5\n"
          ]
        },
        {
          "output_type": "error",
          "ename": "ValueError",
          "evalue": "ignored",
          "traceback": [
            "\u001b[0;31m---------------------------------------------------------------------------\u001b[0m",
            "\u001b[0;31mValueError\u001b[0m                                Traceback (most recent call last)",
            "\u001b[0;32m<ipython-input-14-fa700b923535>\u001b[0m in \u001b[0;36m<module>\u001b[0;34m()\u001b[0m\n\u001b[1;32m     13\u001b[0m \u001b[0;34m\u001b[0m\u001b[0m\n\u001b[1;32m     14\u001b[0m \u001b[0;31m# 3. Fit the model\u001b[0m\u001b[0;34m\u001b[0m\u001b[0;34m\u001b[0m\u001b[0;34m\u001b[0m\u001b[0m\n\u001b[0;32m---> 15\u001b[0;31m \u001b[0mmodel\u001b[0m\u001b[0;34m.\u001b[0m\u001b[0mfit\u001b[0m\u001b[0;34m(\u001b[0m\u001b[0mX\u001b[0m\u001b[0;34m,\u001b[0m \u001b[0my\u001b[0m\u001b[0;34m,\u001b[0m \u001b[0mepochs\u001b[0m\u001b[0;34m=\u001b[0m\u001b[0;36m5\u001b[0m\u001b[0;34m)\u001b[0m\u001b[0;34m\u001b[0m\u001b[0;34m\u001b[0m\u001b[0m\n\u001b[0m",
            "\u001b[0;32m/usr/local/lib/python3.7/dist-packages/keras/utils/traceback_utils.py\u001b[0m in \u001b[0;36merror_handler\u001b[0;34m(*args, **kwargs)\u001b[0m\n\u001b[1;32m     65\u001b[0m     \u001b[0;32mexcept\u001b[0m \u001b[0mException\u001b[0m \u001b[0;32mas\u001b[0m \u001b[0me\u001b[0m\u001b[0;34m:\u001b[0m  \u001b[0;31m# pylint: disable=broad-except\u001b[0m\u001b[0;34m\u001b[0m\u001b[0;34m\u001b[0m\u001b[0m\n\u001b[1;32m     66\u001b[0m       \u001b[0mfiltered_tb\u001b[0m \u001b[0;34m=\u001b[0m \u001b[0m_process_traceback_frames\u001b[0m\u001b[0;34m(\u001b[0m\u001b[0me\u001b[0m\u001b[0;34m.\u001b[0m\u001b[0m__traceback__\u001b[0m\u001b[0;34m)\u001b[0m\u001b[0;34m\u001b[0m\u001b[0;34m\u001b[0m\u001b[0m\n\u001b[0;32m---> 67\u001b[0;31m       \u001b[0;32mraise\u001b[0m \u001b[0me\u001b[0m\u001b[0;34m.\u001b[0m\u001b[0mwith_traceback\u001b[0m\u001b[0;34m(\u001b[0m\u001b[0mfiltered_tb\u001b[0m\u001b[0;34m)\u001b[0m \u001b[0;32mfrom\u001b[0m \u001b[0;32mNone\u001b[0m\u001b[0;34m\u001b[0m\u001b[0;34m\u001b[0m\u001b[0m\n\u001b[0m\u001b[1;32m     68\u001b[0m     \u001b[0;32mfinally\u001b[0m\u001b[0;34m:\u001b[0m\u001b[0;34m\u001b[0m\u001b[0;34m\u001b[0m\u001b[0m\n\u001b[1;32m     69\u001b[0m       \u001b[0;32mdel\u001b[0m \u001b[0mfiltered_tb\u001b[0m\u001b[0;34m\u001b[0m\u001b[0;34m\u001b[0m\u001b[0m\n",
            "\u001b[0;32m/usr/local/lib/python3.7/dist-packages/tensorflow/python/framework/func_graph.py\u001b[0m in \u001b[0;36mautograph_handler\u001b[0;34m(*args, **kwargs)\u001b[0m\n\u001b[1;32m   1145\u001b[0m           \u001b[0;32mexcept\u001b[0m \u001b[0mException\u001b[0m \u001b[0;32mas\u001b[0m \u001b[0me\u001b[0m\u001b[0;34m:\u001b[0m  \u001b[0;31m# pylint:disable=broad-except\u001b[0m\u001b[0;34m\u001b[0m\u001b[0;34m\u001b[0m\u001b[0m\n\u001b[1;32m   1146\u001b[0m             \u001b[0;32mif\u001b[0m \u001b[0mhasattr\u001b[0m\u001b[0;34m(\u001b[0m\u001b[0me\u001b[0m\u001b[0;34m,\u001b[0m \u001b[0;34m\"ag_error_metadata\"\u001b[0m\u001b[0;34m)\u001b[0m\u001b[0;34m:\u001b[0m\u001b[0;34m\u001b[0m\u001b[0;34m\u001b[0m\u001b[0m\n\u001b[0;32m-> 1147\u001b[0;31m               \u001b[0;32mraise\u001b[0m \u001b[0me\u001b[0m\u001b[0;34m.\u001b[0m\u001b[0mag_error_metadata\u001b[0m\u001b[0;34m.\u001b[0m\u001b[0mto_exception\u001b[0m\u001b[0;34m(\u001b[0m\u001b[0me\u001b[0m\u001b[0;34m)\u001b[0m\u001b[0;34m\u001b[0m\u001b[0;34m\u001b[0m\u001b[0m\n\u001b[0m\u001b[1;32m   1148\u001b[0m             \u001b[0;32melse\u001b[0m\u001b[0;34m:\u001b[0m\u001b[0;34m\u001b[0m\u001b[0;34m\u001b[0m\u001b[0m\n\u001b[1;32m   1149\u001b[0m               \u001b[0;32mraise\u001b[0m\u001b[0;34m\u001b[0m\u001b[0;34m\u001b[0m\u001b[0m\n",
            "\u001b[0;31mValueError\u001b[0m: in user code:\n\n    File \"/usr/local/lib/python3.7/dist-packages/keras/engine/training.py\", line 1021, in train_function  *\n        return step_function(self, iterator)\n    File \"/usr/local/lib/python3.7/dist-packages/keras/engine/training.py\", line 1010, in step_function  **\n        outputs = model.distribute_strategy.run(run_step, args=(data,))\n    File \"/usr/local/lib/python3.7/dist-packages/keras/engine/training.py\", line 1000, in run_step  **\n        outputs = model.train_step(data)\n    File \"/usr/local/lib/python3.7/dist-packages/keras/engine/training.py\", line 859, in train_step\n        y_pred = self(x, training=True)\n    File \"/usr/local/lib/python3.7/dist-packages/keras/utils/traceback_utils.py\", line 67, in error_handler\n        raise e.with_traceback(filtered_tb) from None\n    File \"/usr/local/lib/python3.7/dist-packages/keras/engine/input_spec.py\", line 228, in assert_input_compatibility\n        raise ValueError(f'Input {input_index} of layer \"{layer_name}\" '\n\n    ValueError: Exception encountered when calling layer \"sequential_1\" (type Sequential).\n    \n    Input 0 of layer \"dense_1\" is incompatible with the layer: expected min_ndim=2, found ndim=1. Full shape received: (None,)\n    \n    Call arguments received:\n      • inputs=tf.Tensor(shape=(None,), dtype=float32)\n      • training=True\n      • mask=None\n"
          ]
        }
      ]
    },
    {
      "cell_type": "markdown",
      "source": [
        "Why is error ?\n",
        "\n",
        "ValueError: Exception encountered when calling layer \"sequential_9\" (type Sequential).\n",
        "    \n",
        "    Input 0 of layer \"dense_9\" is incompatible with the layer: expected min_ndim=2, found ndim=1. Full shape received: (None,)\n",
        "    \n",
        "    Call arguments received:\n",
        "      • inputs=tf.Tensor(shape=(None,), dtype=float32)\n",
        "      • training=True\n",
        "      • mask=None"
      ],
      "metadata": {
        "id": "XWh8ZkOwviYc"
      }
    },
    {
      "cell_type": "markdown",
      "source": [
        "You just have to add a second dimension to your data. It has to be (batch_size, features). You could use np.expand_dims to change your inputs from (batch_size,) to (batch_size, features):\n",
        "\n",
        "example : \n",
        "* Create some regression data:\n",
        "\n",
        "  * X_regression = np.arange(0, 1000, 5)\n",
        "  * y_regression = np.arange(100, 1100, 5)\n",
        "\n",
        "- adding second dimension using `np.expand_dims(data, axis=1)`\n",
        "\n",
        "* Create some regression data:\n",
        "  * X_regression = np.expand_dims(np.arange(0, 1000, 5), axis=1)\n",
        "  * y_regression = np.expand_dims(np.arange(100, 1100, 5), axis=1)"
      ],
      "metadata": {
        "id": "YcmU6JzrynKb"
      }
    },
    {
      "cell_type": "code",
      "source": [
        "# Turn our numpy arrays into tensors with dtype float32 and adding second dimension using `np.expand_dims(data, axis=1)`\n",
        "X = np.expand_dims(tf.cast(tf.constant(X), dtype=tf.float32),axis=1)\n",
        "y = np.expand_dims(tf.cast(tf.constant(y), dtype=tf.float32),axis=1)\n",
        "X, y"
      ],
      "metadata": {
        "colab": {
          "base_uri": "https://localhost:8080/"
        },
        "id": "Q6XD8s7TytGF",
        "outputId": "9760ecd4-4426-4804-d1d3-e586567c16dd"
      },
      "execution_count": 15,
      "outputs": [
        {
          "output_type": "execute_result",
          "data": {
            "text/plain": [
              "(array([[-7.],\n",
              "        [-4.],\n",
              "        [-1.],\n",
              "        [ 2.],\n",
              "        [ 5.],\n",
              "        [ 8.],\n",
              "        [11.],\n",
              "        [14.]], dtype=float32), array([[ 3.],\n",
              "        [ 6.],\n",
              "        [ 9.],\n",
              "        [12.],\n",
              "        [15.],\n",
              "        [18.],\n",
              "        [21.],\n",
              "        [24.]], dtype=float32))"
            ]
          },
          "metadata": {},
          "execution_count": 15
        }
      ]
    },
    {
      "cell_type": "code",
      "source": [
        "# Try to fiiting model more\n",
        "# Set random seed\n",
        "tf.random.set_seed(42)\n",
        "\n",
        "# 1. Create a model using the Sequential API\n",
        "model = tf.keras.Sequential([\n",
        "                             tf.keras.layers.Dense(1)\n",
        "])\n",
        "\n",
        "# 2. Compile the model\n",
        "model.compile(loss=tf.keras.losses.mae, # mae is short for mean absolute error\n",
        "              optimizer=tf.keras.optimizers.SGD(), # sgd is short for stochastic gradient descent\n",
        "              metrics=[\"mae\"])\n",
        "\n",
        "# 3. Fit the model\n",
        "model.fit(X, y, epochs=5)"
      ],
      "metadata": {
        "colab": {
          "base_uri": "https://localhost:8080/"
        },
        "id": "ShL5ALLxzpcL",
        "outputId": "63163254-a219-4019-ee11-b5a60e46acbf"
      },
      "execution_count": 16,
      "outputs": [
        {
          "output_type": "stream",
          "name": "stdout",
          "text": [
            "Epoch 1/5\n",
            "1/1 [==============================] - 4s 4s/step - loss: 11.5048 - mae: 11.5048\n",
            "Epoch 2/5\n",
            "1/1 [==============================] - 0s 12ms/step - loss: 11.3723 - mae: 11.3723\n",
            "Epoch 3/5\n",
            "1/1 [==============================] - 0s 10ms/step - loss: 11.2398 - mae: 11.2398\n",
            "Epoch 4/5\n",
            "1/1 [==============================] - 0s 9ms/step - loss: 11.1073 - mae: 11.1073\n",
            "Epoch 5/5\n",
            "1/1 [==============================] - 0s 9ms/step - loss: 10.9748 - mae: 10.9748\n"
          ]
        },
        {
          "output_type": "execute_result",
          "data": {
            "text/plain": [
              "<keras.callbacks.History at 0x7f6a2c245710>"
            ]
          },
          "metadata": {},
          "execution_count": 16
        }
      ]
    },
    {
      "cell_type": "code",
      "source": [
        "# Check out X and y\n",
        "X, y"
      ],
      "metadata": {
        "colab": {
          "base_uri": "https://localhost:8080/"
        },
        "id": "FIoubF40zw2F",
        "outputId": "e20b4b3b-37da-4963-9876-b4ad221adede"
      },
      "execution_count": 17,
      "outputs": [
        {
          "output_type": "execute_result",
          "data": {
            "text/plain": [
              "(array([[-7.],\n",
              "        [-4.],\n",
              "        [-1.],\n",
              "        [ 2.],\n",
              "        [ 5.],\n",
              "        [ 8.],\n",
              "        [11.],\n",
              "        [14.]], dtype=float32), array([[ 3.],\n",
              "        [ 6.],\n",
              "        [ 9.],\n",
              "        [12.],\n",
              "        [15.],\n",
              "        [18.],\n",
              "        [21.],\n",
              "        [24.]], dtype=float32))"
            ]
          },
          "metadata": {},
          "execution_count": 17
        }
      ]
    },
    {
      "cell_type": "code",
      "source": [
        "# Try and make a prediction using our model\n",
        "y_pred = model.predict([17.0])\n",
        "y_pred"
      ],
      "metadata": {
        "colab": {
          "base_uri": "https://localhost:8080/"
        },
        "id": "rsHEJfyMz9Mg",
        "outputId": "acee5169-134d-4f93-8c12-274a54d16800"
      },
      "execution_count": 18,
      "outputs": [
        {
          "output_type": "execute_result",
          "data": {
            "text/plain": [
              "array([[12.716021]], dtype=float32)"
            ]
          },
          "metadata": {},
          "execution_count": 18
        }
      ]
    },
    {
      "cell_type": "code",
      "source": [
        "y_pred + 11"
      ],
      "metadata": {
        "colab": {
          "base_uri": "https://localhost:8080/"
        },
        "id": "m_LAXkTU0IYi",
        "outputId": "1a9ed18e-ed52-457d-ce81-37a8167afb81"
      },
      "execution_count": 19,
      "outputs": [
        {
          "output_type": "execute_result",
          "data": {
            "text/plain": [
              "array([[23.71602]], dtype=float32)"
            ]
          },
          "metadata": {},
          "execution_count": 19
        }
      ]
    },
    {
      "cell_type": "markdown",
      "source": [
        "## Improve our model\n",
        "\n",
        "We can imporve our model, by altering the steps we took to create a model.\n",
        "\n",
        "1. **Creating a model** - here we might add more layears, increase the number of hidden units (all called neurons) within each of the hidden layears, change the activation function of each layer.\n",
        "2. **Compiling a model** - here we might change the optimization function or perhaps the **learning rate** of the optimization function.\n",
        "3. **Fitting a model** - here we might fit a model for more **epochs** (leave it training for longer) or on  more data (give the model more examples to learn from).\n"
      ],
      "metadata": {
        "id": "Kk54IiPE0Wp2"
      }
    },
    {
      "cell_type": "code",
      "source": [
        "# Let's rebuild our model\n",
        "\n",
        "# 1. Create the model\n",
        "model = tf.keras.Sequential([\n",
        "  tf.keras.layers.Dense(1)\n",
        "])\n",
        "\n",
        "# 2. Compile the model\n",
        "model.compile(loss=tf.keras.losses.mae,\n",
        "              optimizer=tf.keras.optimizers.SGD(),\n",
        "              metrics=[\"mae\"])\n",
        "\n",
        "# 3. Fit the model ( this time we'll train for longer)\n",
        "model.fit(X, y, epochs=100)"
      ],
      "metadata": {
        "colab": {
          "base_uri": "https://localhost:8080/"
        },
        "id": "Si6UJY-J0ej7",
        "outputId": "ec33b4e3-d1c7-47d7-b8d1-d48ddf140621"
      },
      "execution_count": 20,
      "outputs": [
        {
          "output_type": "stream",
          "name": "stdout",
          "text": [
            "Epoch 1/100\n",
            "1/1 [==============================] - 1s 630ms/step - loss: 11.2219 - mae: 11.2219\n",
            "Epoch 2/100\n",
            "1/1 [==============================] - 0s 14ms/step - loss: 11.0894 - mae: 11.0894\n",
            "Epoch 3/100\n",
            "1/1 [==============================] - 0s 11ms/step - loss: 10.9569 - mae: 10.9569\n",
            "Epoch 4/100\n",
            "1/1 [==============================] - 0s 11ms/step - loss: 10.8244 - mae: 10.8244\n",
            "Epoch 5/100\n",
            "1/1 [==============================] - 0s 16ms/step - loss: 10.6919 - mae: 10.6919\n",
            "Epoch 6/100\n",
            "1/1 [==============================] - 0s 12ms/step - loss: 10.5594 - mae: 10.5594\n",
            "Epoch 7/100\n",
            "1/1 [==============================] - 0s 24ms/step - loss: 10.4269 - mae: 10.4269\n",
            "Epoch 8/100\n",
            "1/1 [==============================] - 0s 14ms/step - loss: 10.2944 - mae: 10.2944\n",
            "Epoch 9/100\n",
            "1/1 [==============================] - 0s 16ms/step - loss: 10.1619 - mae: 10.1619\n",
            "Epoch 10/100\n",
            "1/1 [==============================] - 0s 13ms/step - loss: 10.0294 - mae: 10.0294\n",
            "Epoch 11/100\n",
            "1/1 [==============================] - 0s 14ms/step - loss: 9.8969 - mae: 9.8969\n",
            "Epoch 12/100\n",
            "1/1 [==============================] - 0s 21ms/step - loss: 9.7644 - mae: 9.7644\n",
            "Epoch 13/100\n",
            "1/1 [==============================] - 0s 17ms/step - loss: 9.6319 - mae: 9.6319\n",
            "Epoch 14/100\n",
            "1/1 [==============================] - 0s 14ms/step - loss: 9.4994 - mae: 9.4994\n",
            "Epoch 15/100\n",
            "1/1 [==============================] - 0s 14ms/step - loss: 9.3669 - mae: 9.3669\n",
            "Epoch 16/100\n",
            "1/1 [==============================] - 0s 13ms/step - loss: 9.2344 - mae: 9.2344\n",
            "Epoch 17/100\n",
            "1/1 [==============================] - 0s 13ms/step - loss: 9.1019 - mae: 9.1019\n",
            "Epoch 18/100\n",
            "1/1 [==============================] - 0s 15ms/step - loss: 8.9694 - mae: 8.9694\n",
            "Epoch 19/100\n",
            "1/1 [==============================] - 0s 16ms/step - loss: 8.8369 - mae: 8.8369\n",
            "Epoch 20/100\n",
            "1/1 [==============================] - 0s 13ms/step - loss: 8.7044 - mae: 8.7044\n",
            "Epoch 21/100\n",
            "1/1 [==============================] - 0s 12ms/step - loss: 8.5719 - mae: 8.5719\n",
            "Epoch 22/100\n",
            "1/1 [==============================] - 0s 12ms/step - loss: 8.4394 - mae: 8.4394\n",
            "Epoch 23/100\n",
            "1/1 [==============================] - 0s 12ms/step - loss: 8.3069 - mae: 8.3069\n",
            "Epoch 24/100\n",
            "1/1 [==============================] - 0s 41ms/step - loss: 8.1744 - mae: 8.1744\n",
            "Epoch 25/100\n",
            "1/1 [==============================] - 0s 19ms/step - loss: 8.0419 - mae: 8.0419\n",
            "Epoch 26/100\n",
            "1/1 [==============================] - 0s 13ms/step - loss: 7.9094 - mae: 7.9094\n",
            "Epoch 27/100\n",
            "1/1 [==============================] - 0s 11ms/step - loss: 7.7769 - mae: 7.7769\n",
            "Epoch 28/100\n",
            "1/1 [==============================] - 0s 14ms/step - loss: 7.6444 - mae: 7.6444\n",
            "Epoch 29/100\n",
            "1/1 [==============================] - 0s 13ms/step - loss: 7.5119 - mae: 7.5119\n",
            "Epoch 30/100\n",
            "1/1 [==============================] - 0s 13ms/step - loss: 7.3794 - mae: 7.3794\n",
            "Epoch 31/100\n",
            "1/1 [==============================] - 0s 18ms/step - loss: 7.2750 - mae: 7.2750\n",
            "Epoch 32/100\n",
            "1/1 [==============================] - 0s 15ms/step - loss: 7.2694 - mae: 7.2694\n",
            "Epoch 33/100\n",
            "1/1 [==============================] - 0s 14ms/step - loss: 7.2638 - mae: 7.2638\n",
            "Epoch 34/100\n",
            "1/1 [==============================] - 0s 12ms/step - loss: 7.2581 - mae: 7.2581\n",
            "Epoch 35/100\n",
            "1/1 [==============================] - 0s 19ms/step - loss: 7.2525 - mae: 7.2525\n",
            "Epoch 36/100\n",
            "1/1 [==============================] - 0s 15ms/step - loss: 7.2469 - mae: 7.2469\n",
            "Epoch 37/100\n",
            "1/1 [==============================] - 0s 17ms/step - loss: 7.2413 - mae: 7.2413\n",
            "Epoch 38/100\n",
            "1/1 [==============================] - 0s 17ms/step - loss: 7.2356 - mae: 7.2356\n",
            "Epoch 39/100\n",
            "1/1 [==============================] - 0s 15ms/step - loss: 7.2300 - mae: 7.2300\n",
            "Epoch 40/100\n",
            "1/1 [==============================] - 0s 18ms/step - loss: 7.2244 - mae: 7.2244\n",
            "Epoch 41/100\n",
            "1/1 [==============================] - 0s 15ms/step - loss: 7.2188 - mae: 7.2188\n",
            "Epoch 42/100\n",
            "1/1 [==============================] - 0s 14ms/step - loss: 7.2131 - mae: 7.2131\n",
            "Epoch 43/100\n",
            "1/1 [==============================] - 0s 13ms/step - loss: 7.2075 - mae: 7.2075\n",
            "Epoch 44/100\n",
            "1/1 [==============================] - 0s 20ms/step - loss: 7.2019 - mae: 7.2019\n",
            "Epoch 45/100\n",
            "1/1 [==============================] - 0s 14ms/step - loss: 7.1962 - mae: 7.1962\n",
            "Epoch 46/100\n",
            "1/1 [==============================] - 0s 23ms/step - loss: 7.1906 - mae: 7.1906\n",
            "Epoch 47/100\n",
            "1/1 [==============================] - 0s 17ms/step - loss: 7.1850 - mae: 7.1850\n",
            "Epoch 48/100\n",
            "1/1 [==============================] - 0s 10ms/step - loss: 7.1794 - mae: 7.1794\n",
            "Epoch 49/100\n",
            "1/1 [==============================] - 0s 13ms/step - loss: 7.1737 - mae: 7.1737\n",
            "Epoch 50/100\n",
            "1/1 [==============================] - 0s 19ms/step - loss: 7.1681 - mae: 7.1681\n",
            "Epoch 51/100\n",
            "1/1 [==============================] - 0s 18ms/step - loss: 7.1625 - mae: 7.1625\n",
            "Epoch 52/100\n",
            "1/1 [==============================] - 0s 25ms/step - loss: 7.1569 - mae: 7.1569\n",
            "Epoch 53/100\n",
            "1/1 [==============================] - 0s 25ms/step - loss: 7.1512 - mae: 7.1512\n",
            "Epoch 54/100\n",
            "1/1 [==============================] - 0s 11ms/step - loss: 7.1456 - mae: 7.1456\n",
            "Epoch 55/100\n",
            "1/1 [==============================] - 0s 12ms/step - loss: 7.1400 - mae: 7.1400\n",
            "Epoch 56/100\n",
            "1/1 [==============================] - 0s 16ms/step - loss: 7.1344 - mae: 7.1344\n",
            "Epoch 57/100\n",
            "1/1 [==============================] - 0s 20ms/step - loss: 7.1287 - mae: 7.1287\n",
            "Epoch 58/100\n",
            "1/1 [==============================] - 0s 17ms/step - loss: 7.1231 - mae: 7.1231\n",
            "Epoch 59/100\n",
            "1/1 [==============================] - 0s 9ms/step - loss: 7.1175 - mae: 7.1175\n",
            "Epoch 60/100\n",
            "1/1 [==============================] - 0s 16ms/step - loss: 7.1119 - mae: 7.1119\n",
            "Epoch 61/100\n",
            "1/1 [==============================] - 0s 8ms/step - loss: 7.1062 - mae: 7.1062\n",
            "Epoch 62/100\n",
            "1/1 [==============================] - 0s 23ms/step - loss: 7.1006 - mae: 7.1006\n",
            "Epoch 63/100\n",
            "1/1 [==============================] - 0s 14ms/step - loss: 7.0950 - mae: 7.0950\n",
            "Epoch 64/100\n",
            "1/1 [==============================] - 0s 12ms/step - loss: 7.0894 - mae: 7.0894\n",
            "Epoch 65/100\n",
            "1/1 [==============================] - 0s 18ms/step - loss: 7.0838 - mae: 7.0838\n",
            "Epoch 66/100\n",
            "1/1 [==============================] - 0s 20ms/step - loss: 7.0781 - mae: 7.0781\n",
            "Epoch 67/100\n",
            "1/1 [==============================] - 0s 19ms/step - loss: 7.0725 - mae: 7.0725\n",
            "Epoch 68/100\n",
            "1/1 [==============================] - 0s 24ms/step - loss: 7.0669 - mae: 7.0669\n",
            "Epoch 69/100\n",
            "1/1 [==============================] - 0s 13ms/step - loss: 7.0613 - mae: 7.0613\n",
            "Epoch 70/100\n",
            "1/1 [==============================] - 0s 15ms/step - loss: 7.0556 - mae: 7.0556\n",
            "Epoch 71/100\n",
            "1/1 [==============================] - 0s 16ms/step - loss: 7.0500 - mae: 7.0500\n",
            "Epoch 72/100\n",
            "1/1 [==============================] - 0s 17ms/step - loss: 7.0444 - mae: 7.0444\n",
            "Epoch 73/100\n",
            "1/1 [==============================] - 0s 20ms/step - loss: 7.0388 - mae: 7.0388\n",
            "Epoch 74/100\n",
            "1/1 [==============================] - 0s 22ms/step - loss: 7.0331 - mae: 7.0331\n",
            "Epoch 75/100\n",
            "1/1 [==============================] - 0s 28ms/step - loss: 7.0275 - mae: 7.0275\n",
            "Epoch 76/100\n",
            "1/1 [==============================] - 0s 11ms/step - loss: 7.0219 - mae: 7.0219\n",
            "Epoch 77/100\n",
            "1/1 [==============================] - 0s 12ms/step - loss: 7.0163 - mae: 7.0163\n",
            "Epoch 78/100\n",
            "1/1 [==============================] - 0s 16ms/step - loss: 7.0106 - mae: 7.0106\n",
            "Epoch 79/100\n",
            "1/1 [==============================] - 0s 9ms/step - loss: 7.0050 - mae: 7.0050\n",
            "Epoch 80/100\n",
            "1/1 [==============================] - 0s 16ms/step - loss: 6.9994 - mae: 6.9994\n",
            "Epoch 81/100\n",
            "1/1 [==============================] - 0s 13ms/step - loss: 6.9938 - mae: 6.9938\n",
            "Epoch 82/100\n",
            "1/1 [==============================] - 0s 18ms/step - loss: 6.9881 - mae: 6.9881\n",
            "Epoch 83/100\n",
            "1/1 [==============================] - 0s 20ms/step - loss: 6.9825 - mae: 6.9825\n",
            "Epoch 84/100\n",
            "1/1 [==============================] - 0s 13ms/step - loss: 6.9769 - mae: 6.9769\n",
            "Epoch 85/100\n",
            "1/1 [==============================] - 0s 14ms/step - loss: 6.9713 - mae: 6.9713\n",
            "Epoch 86/100\n",
            "1/1 [==============================] - 0s 23ms/step - loss: 6.9656 - mae: 6.9656\n",
            "Epoch 87/100\n",
            "1/1 [==============================] - 0s 17ms/step - loss: 6.9600 - mae: 6.9600\n",
            "Epoch 88/100\n",
            "1/1 [==============================] - 0s 13ms/step - loss: 6.9544 - mae: 6.9544\n",
            "Epoch 89/100\n",
            "1/1 [==============================] - 0s 17ms/step - loss: 6.9488 - mae: 6.9488\n",
            "Epoch 90/100\n",
            "1/1 [==============================] - 0s 16ms/step - loss: 6.9431 - mae: 6.9431\n",
            "Epoch 91/100\n",
            "1/1 [==============================] - 0s 18ms/step - loss: 6.9375 - mae: 6.9375\n",
            "Epoch 92/100\n",
            "1/1 [==============================] - 0s 13ms/step - loss: 6.9319 - mae: 6.9319\n",
            "Epoch 93/100\n",
            "1/1 [==============================] - 0s 25ms/step - loss: 6.9262 - mae: 6.9262\n",
            "Epoch 94/100\n",
            "1/1 [==============================] - 0s 17ms/step - loss: 6.9206 - mae: 6.9206\n",
            "Epoch 95/100\n",
            "1/1 [==============================] - 0s 17ms/step - loss: 6.9150 - mae: 6.9150\n",
            "Epoch 96/100\n",
            "1/1 [==============================] - 0s 22ms/step - loss: 6.9094 - mae: 6.9094\n",
            "Epoch 97/100\n",
            "1/1 [==============================] - 0s 26ms/step - loss: 6.9038 - mae: 6.9038\n",
            "Epoch 98/100\n",
            "1/1 [==============================] - 0s 22ms/step - loss: 6.8981 - mae: 6.8981\n",
            "Epoch 99/100\n",
            "1/1 [==============================] - 0s 27ms/step - loss: 6.8925 - mae: 6.8925\n",
            "Epoch 100/100\n",
            "1/1 [==============================] - 0s 24ms/step - loss: 6.8869 - mae: 6.8869\n"
          ]
        },
        {
          "output_type": "execute_result",
          "data": {
            "text/plain": [
              "<keras.callbacks.History at 0x7f6a2c1a2550>"
            ]
          },
          "metadata": {},
          "execution_count": 20
        }
      ]
    },
    {
      "cell_type": "code",
      "source": [
        "# Remind ourselves of the data\n",
        "X, y"
      ],
      "metadata": {
        "colab": {
          "base_uri": "https://localhost:8080/"
        },
        "id": "LKkZ0-qc3okZ",
        "outputId": "20e00970-e54f-4139-a33c-c112d8b05218"
      },
      "execution_count": 21,
      "outputs": [
        {
          "output_type": "execute_result",
          "data": {
            "text/plain": [
              "(array([[-7.],\n",
              "        [-4.],\n",
              "        [-1.],\n",
              "        [ 2.],\n",
              "        [ 5.],\n",
              "        [ 8.],\n",
              "        [11.],\n",
              "        [14.]], dtype=float32), array([[ 3.],\n",
              "        [ 6.],\n",
              "        [ 9.],\n",
              "        [12.],\n",
              "        [15.],\n",
              "        [18.],\n",
              "        [21.],\n",
              "        [24.]], dtype=float32))"
            ]
          },
          "metadata": {},
          "execution_count": 21
        }
      ]
    },
    {
      "cell_type": "code",
      "source": [
        "# Let's see if our model's predictions has improved...\n",
        "model.predict([17.0])"
      ],
      "metadata": {
        "colab": {
          "base_uri": "https://localhost:8080/"
        },
        "id": "UeaH393z362y",
        "outputId": "1f764dce-ccdb-4a5c-a14a-7992303f479d"
      },
      "execution_count": 22,
      "outputs": [
        {
          "output_type": "execute_result",
          "data": {
            "text/plain": [
              "array([[29.739855]], dtype=float32)"
            ]
          },
          "metadata": {},
          "execution_count": 22
        }
      ]
    },
    {
      "cell_type": "code",
      "source": [
        "# Let's see if we can make another to improve our model\n",
        "\n",
        "# 1. Create the model (This time with an extra hidden layer with 100 hidden units)\n",
        "model = tf.keras.Sequential([\n",
        "  tf.keras.layers.Dense(50, activation=None),\n",
        "  tf.keras.layers.Dense(1)\n",
        "])\n",
        "\n",
        "# 2. Compile the model\n",
        "model.compile(loss=\"mae\",\n",
        "              optimizer=tf.keras.optimizers.Adam(learning_rate=0.01),\n",
        "              metrics=[\"mae\"])\n",
        "\n",
        "# 3. Fitting the model\n",
        "model.fit(X, y, epochs=100)"
      ],
      "metadata": {
        "colab": {
          "base_uri": "https://localhost:8080/"
        },
        "id": "TKgQksRd4EtN",
        "outputId": "29b602b2-b9db-46dc-9104-3c61b6ca2a2c"
      },
      "execution_count": 23,
      "outputs": [
        {
          "output_type": "stream",
          "name": "stdout",
          "text": [
            "Epoch 1/100\n",
            "1/1 [==============================] - 2s 2s/step - loss: 11.7682 - mae: 11.7682\n",
            "Epoch 2/100\n",
            "1/1 [==============================] - 0s 14ms/step - loss: 11.0963 - mae: 11.0963\n",
            "Epoch 3/100\n",
            "1/1 [==============================] - 0s 15ms/step - loss: 10.4149 - mae: 10.4149\n",
            "Epoch 4/100\n",
            "1/1 [==============================] - 0s 12ms/step - loss: 9.7212 - mae: 9.7212\n",
            "Epoch 5/100\n",
            "1/1 [==============================] - 0s 10ms/step - loss: 9.0103 - mae: 9.0103\n",
            "Epoch 6/100\n",
            "1/1 [==============================] - 0s 23ms/step - loss: 8.2778 - mae: 8.2778\n",
            "Epoch 7/100\n",
            "1/1 [==============================] - 0s 16ms/step - loss: 7.5198 - mae: 7.5198\n",
            "Epoch 8/100\n",
            "1/1 [==============================] - 0s 11ms/step - loss: 6.9648 - mae: 6.9648\n",
            "Epoch 9/100\n",
            "1/1 [==============================] - 0s 11ms/step - loss: 7.0672 - mae: 7.0672\n",
            "Epoch 10/100\n",
            "1/1 [==============================] - 0s 10ms/step - loss: 7.3316 - mae: 7.3316\n",
            "Epoch 11/100\n",
            "1/1 [==============================] - 0s 11ms/step - loss: 7.4673 - mae: 7.4673\n",
            "Epoch 12/100\n",
            "1/1 [==============================] - 0s 11ms/step - loss: 7.5285 - mae: 7.5285\n",
            "Epoch 13/100\n",
            "1/1 [==============================] - 0s 12ms/step - loss: 7.4012 - mae: 7.4012\n",
            "Epoch 14/100\n",
            "1/1 [==============================] - 0s 10ms/step - loss: 7.1923 - mae: 7.1923\n",
            "Epoch 15/100\n",
            "1/1 [==============================] - 0s 20ms/step - loss: 6.9575 - mae: 6.9575\n",
            "Epoch 16/100\n",
            "1/1 [==============================] - 0s 11ms/step - loss: 6.6953 - mae: 6.6953\n",
            "Epoch 17/100\n",
            "1/1 [==============================] - 0s 15ms/step - loss: 6.4127 - mae: 6.4127\n",
            "Epoch 18/100\n",
            "1/1 [==============================] - 0s 12ms/step - loss: 6.3048 - mae: 6.3048\n",
            "Epoch 19/100\n",
            "1/1 [==============================] - 0s 20ms/step - loss: 6.2575 - mae: 6.2575\n",
            "Epoch 20/100\n",
            "1/1 [==============================] - 0s 25ms/step - loss: 6.3981 - mae: 6.3981\n",
            "Epoch 21/100\n",
            "1/1 [==============================] - 0s 15ms/step - loss: 6.4550 - mae: 6.4550\n",
            "Epoch 22/100\n",
            "1/1 [==============================] - 0s 10ms/step - loss: 6.3999 - mae: 6.3999\n",
            "Epoch 23/100\n",
            "1/1 [==============================] - 0s 9ms/step - loss: 6.2482 - mae: 6.2482\n",
            "Epoch 24/100\n",
            "1/1 [==============================] - 0s 20ms/step - loss: 6.0104 - mae: 6.0104\n",
            "Epoch 25/100\n",
            "1/1 [==============================] - 0s 20ms/step - loss: 5.7876 - mae: 5.7876\n",
            "Epoch 26/100\n",
            "1/1 [==============================] - 0s 18ms/step - loss: 5.6809 - mae: 5.6809\n",
            "Epoch 27/100\n",
            "1/1 [==============================] - 0s 20ms/step - loss: 5.5715 - mae: 5.5715\n",
            "Epoch 28/100\n",
            "1/1 [==============================] - 0s 17ms/step - loss: 5.6123 - mae: 5.6123\n",
            "Epoch 29/100\n",
            "1/1 [==============================] - 0s 22ms/step - loss: 5.6074 - mae: 5.6074\n",
            "Epoch 30/100\n",
            "1/1 [==============================] - 0s 22ms/step - loss: 5.5541 - mae: 5.5541\n",
            "Epoch 31/100\n",
            "1/1 [==============================] - 0s 21ms/step - loss: 5.4568 - mae: 5.4568\n",
            "Epoch 32/100\n",
            "1/1 [==============================] - 0s 14ms/step - loss: 5.3199 - mae: 5.3199\n",
            "Epoch 33/100\n",
            "1/1 [==============================] - 0s 17ms/step - loss: 5.1477 - mae: 5.1477\n",
            "Epoch 34/100\n",
            "1/1 [==============================] - 0s 15ms/step - loss: 4.9442 - mae: 4.9442\n",
            "Epoch 35/100\n",
            "1/1 [==============================] - 0s 15ms/step - loss: 4.8239 - mae: 4.8239\n",
            "Epoch 36/100\n",
            "1/1 [==============================] - 0s 26ms/step - loss: 4.7389 - mae: 4.7389\n",
            "Epoch 37/100\n",
            "1/1 [==============================] - 0s 17ms/step - loss: 4.6657 - mae: 4.6657\n",
            "Epoch 38/100\n",
            "1/1 [==============================] - 0s 16ms/step - loss: 4.5846 - mae: 4.5846\n",
            "Epoch 39/100\n",
            "1/1 [==============================] - 0s 15ms/step - loss: 4.4026 - mae: 4.4026\n",
            "Epoch 40/100\n",
            "1/1 [==============================] - 0s 12ms/step - loss: 4.2652 - mae: 4.2652\n",
            "Epoch 41/100\n",
            "1/1 [==============================] - 0s 18ms/step - loss: 4.1212 - mae: 4.1212\n",
            "Epoch 42/100\n",
            "1/1 [==============================] - 0s 13ms/step - loss: 3.9701 - mae: 3.9701\n",
            "Epoch 43/100\n",
            "1/1 [==============================] - 0s 21ms/step - loss: 3.8272 - mae: 3.8272\n",
            "Epoch 44/100\n",
            "1/1 [==============================] - 0s 14ms/step - loss: 3.7042 - mae: 3.7042\n",
            "Epoch 45/100\n",
            "1/1 [==============================] - 0s 14ms/step - loss: 3.5321 - mae: 3.5321\n",
            "Epoch 46/100\n",
            "1/1 [==============================] - 0s 13ms/step - loss: 3.3664 - mae: 3.3664\n",
            "Epoch 47/100\n",
            "1/1 [==============================] - 0s 12ms/step - loss: 3.2116 - mae: 3.2116\n",
            "Epoch 48/100\n",
            "1/1 [==============================] - 0s 9ms/step - loss: 3.0463 - mae: 3.0463\n",
            "Epoch 49/100\n",
            "1/1 [==============================] - 0s 9ms/step - loss: 2.8705 - mae: 2.8705\n",
            "Epoch 50/100\n",
            "1/1 [==============================] - 0s 15ms/step - loss: 2.6840 - mae: 2.6840\n",
            "Epoch 51/100\n",
            "1/1 [==============================] - 0s 18ms/step - loss: 2.4868 - mae: 2.4868\n",
            "Epoch 52/100\n",
            "1/1 [==============================] - 0s 16ms/step - loss: 2.2787 - mae: 2.2787\n",
            "Epoch 53/100\n",
            "1/1 [==============================] - 0s 19ms/step - loss: 2.0596 - mae: 2.0596\n",
            "Epoch 54/100\n",
            "1/1 [==============================] - 0s 16ms/step - loss: 1.8293 - mae: 1.8293\n",
            "Epoch 55/100\n",
            "1/1 [==============================] - 0s 21ms/step - loss: 1.5876 - mae: 1.5876\n",
            "Epoch 56/100\n",
            "1/1 [==============================] - 0s 12ms/step - loss: 1.3531 - mae: 1.3531\n",
            "Epoch 57/100\n",
            "1/1 [==============================] - 0s 23ms/step - loss: 1.0849 - mae: 1.0849\n",
            "Epoch 58/100\n",
            "1/1 [==============================] - 0s 15ms/step - loss: 0.8224 - mae: 0.8224\n",
            "Epoch 59/100\n",
            "1/1 [==============================] - 0s 10ms/step - loss: 0.5466 - mae: 0.5466\n",
            "Epoch 60/100\n",
            "1/1 [==============================] - 0s 9ms/step - loss: 0.2759 - mae: 0.2759\n",
            "Epoch 61/100\n",
            "1/1 [==============================] - 0s 16ms/step - loss: 0.1353 - mae: 0.1353\n",
            "Epoch 62/100\n",
            "1/1 [==============================] - 0s 13ms/step - loss: 0.4494 - mae: 0.4494\n",
            "Epoch 63/100\n",
            "1/1 [==============================] - 0s 27ms/step - loss: 0.6499 - mae: 0.6499\n",
            "Epoch 64/100\n",
            "1/1 [==============================] - 0s 14ms/step - loss: 0.6216 - mae: 0.6216\n",
            "Epoch 65/100\n",
            "1/1 [==============================] - 0s 14ms/step - loss: 0.8035 - mae: 0.8035\n",
            "Epoch 66/100\n",
            "1/1 [==============================] - 0s 24ms/step - loss: 0.7995 - mae: 0.7995\n",
            "Epoch 67/100\n",
            "1/1 [==============================] - 0s 17ms/step - loss: 0.7409 - mae: 0.7409\n",
            "Epoch 68/100\n",
            "1/1 [==============================] - 0s 28ms/step - loss: 0.7807 - mae: 0.7807\n",
            "Epoch 69/100\n",
            "1/1 [==============================] - 0s 19ms/step - loss: 0.6305 - mae: 0.6305\n",
            "Epoch 70/100\n",
            "1/1 [==============================] - 0s 14ms/step - loss: 0.5556 - mae: 0.5556\n",
            "Epoch 71/100\n",
            "1/1 [==============================] - 0s 12ms/step - loss: 0.4306 - mae: 0.4306\n",
            "Epoch 72/100\n",
            "1/1 [==============================] - 0s 11ms/step - loss: 0.2787 - mae: 0.2787\n",
            "Epoch 73/100\n",
            "1/1 [==============================] - 0s 13ms/step - loss: 0.1378 - mae: 0.1378\n",
            "Epoch 74/100\n",
            "1/1 [==============================] - 0s 14ms/step - loss: 0.1193 - mae: 0.1193\n",
            "Epoch 75/100\n",
            "1/1 [==============================] - 0s 13ms/step - loss: 0.2777 - mae: 0.2777\n",
            "Epoch 76/100\n",
            "1/1 [==============================] - 0s 12ms/step - loss: 0.3244 - mae: 0.3244\n",
            "Epoch 77/100\n",
            "1/1 [==============================] - 0s 9ms/step - loss: 0.4157 - mae: 0.4157\n",
            "Epoch 78/100\n",
            "1/1 [==============================] - 0s 13ms/step - loss: 0.4320 - mae: 0.4320\n",
            "Epoch 79/100\n",
            "1/1 [==============================] - 0s 16ms/step - loss: 0.3390 - mae: 0.3390\n",
            "Epoch 80/100\n",
            "1/1 [==============================] - 0s 13ms/step - loss: 0.2968 - mae: 0.2968\n",
            "Epoch 81/100\n",
            "1/1 [==============================] - 0s 12ms/step - loss: 0.2356 - mae: 0.2356\n",
            "Epoch 82/100\n",
            "1/1 [==============================] - 0s 19ms/step - loss: 0.1632 - mae: 0.1632\n",
            "Epoch 83/100\n",
            "1/1 [==============================] - 0s 19ms/step - loss: 0.1340 - mae: 0.1340\n",
            "Epoch 84/100\n",
            "1/1 [==============================] - 0s 12ms/step - loss: 0.1261 - mae: 0.1261\n",
            "Epoch 85/100\n",
            "1/1 [==============================] - 0s 13ms/step - loss: 0.1703 - mae: 0.1703\n",
            "Epoch 86/100\n",
            "1/1 [==============================] - 0s 17ms/step - loss: 0.2123 - mae: 0.2123\n",
            "Epoch 87/100\n",
            "1/1 [==============================] - 0s 13ms/step - loss: 0.2288 - mae: 0.2288\n",
            "Epoch 88/100\n",
            "1/1 [==============================] - 0s 23ms/step - loss: 0.1900 - mae: 0.1900\n",
            "Epoch 89/100\n",
            "1/1 [==============================] - 0s 13ms/step - loss: 0.1354 - mae: 0.1354\n",
            "Epoch 90/100\n",
            "1/1 [==============================] - 0s 14ms/step - loss: 0.1219 - mae: 0.1219\n",
            "Epoch 91/100\n",
            "1/1 [==============================] - 0s 20ms/step - loss: 0.0382 - mae: 0.0382\n",
            "Epoch 92/100\n",
            "1/1 [==============================] - 0s 22ms/step - loss: 0.2196 - mae: 0.2196\n",
            "Epoch 93/100\n",
            "1/1 [==============================] - 0s 14ms/step - loss: 0.2188 - mae: 0.2188\n",
            "Epoch 94/100\n",
            "1/1 [==============================] - 0s 17ms/step - loss: 0.1427 - mae: 0.1427\n",
            "Epoch 95/100\n",
            "1/1 [==============================] - 0s 22ms/step - loss: 0.1169 - mae: 0.1169\n",
            "Epoch 96/100\n",
            "1/1 [==============================] - 0s 14ms/step - loss: 0.2068 - mae: 0.2068\n",
            "Epoch 97/100\n",
            "1/1 [==============================] - 0s 12ms/step - loss: 0.1523 - mae: 0.1523\n",
            "Epoch 98/100\n",
            "1/1 [==============================] - 0s 13ms/step - loss: 0.2134 - mae: 0.2134\n",
            "Epoch 99/100\n",
            "1/1 [==============================] - 0s 20ms/step - loss: 0.2330 - mae: 0.2330\n",
            "Epoch 100/100\n",
            "1/1 [==============================] - 0s 12ms/step - loss: 0.0780 - mae: 0.0780\n"
          ]
        },
        {
          "output_type": "execute_result",
          "data": {
            "text/plain": [
              "<keras.callbacks.History at 0x7f6a2c114110>"
            ]
          },
          "metadata": {},
          "execution_count": 23
        }
      ]
    },
    {
      "cell_type": "code",
      "source": [
        "# let's remind ourselves of the data\n",
        "X, y"
      ],
      "metadata": {
        "colab": {
          "base_uri": "https://localhost:8080/"
        },
        "id": "W0WycRLVqyVf",
        "outputId": "c0e5fd17-0b05-4f80-eb98-50fee9fd3f26"
      },
      "execution_count": 24,
      "outputs": [
        {
          "output_type": "execute_result",
          "data": {
            "text/plain": [
              "(array([[-7.],\n",
              "        [-4.],\n",
              "        [-1.],\n",
              "        [ 2.],\n",
              "        [ 5.],\n",
              "        [ 8.],\n",
              "        [11.],\n",
              "        [14.]], dtype=float32), array([[ 3.],\n",
              "        [ 6.],\n",
              "        [ 9.],\n",
              "        [12.],\n",
              "        [15.],\n",
              "        [18.],\n",
              "        [21.],\n",
              "        [24.]], dtype=float32))"
            ]
          },
          "metadata": {},
          "execution_count": 24
        }
      ]
    },
    {
      "cell_type": "code",
      "source": [
        "# let's try to make a prediction\n",
        "model.predict([17.0])"
      ],
      "metadata": {
        "colab": {
          "base_uri": "https://localhost:8080/"
        },
        "id": "skc8FWv1q6OF",
        "outputId": "25e6b9e8-9adb-4a9d-b1d6-597e2cf4bd12"
      },
      "execution_count": 25,
      "outputs": [
        {
          "output_type": "execute_result",
          "data": {
            "text/plain": [
              "array([[26.583803]], dtype=float32)"
            ]
          },
          "metadata": {},
          "execution_count": 25
        }
      ]
    },
    {
      "cell_type": "markdown",
      "source": [
        "## Evaluating model\n",
        "\n",
        "In practice, a typical workflow you'll go through when building  neural networks is :\n",
        "\n",
        "```\n",
        "Build a model -> fit it -> evaluate it -> tweak a model -> fit it -> evaluate it -> tweak a model -> fit it -> evaluate it ...\n",
        "```"
      ],
      "metadata": {
        "id": "EQbpLARarBTD"
      }
    },
    {
      "cell_type": "markdown",
      "source": [
        "When it comes to valuation... there are 3 words you shold memorize:\n",
        "\n",
        "> \"Visualize,  visualize, visualize\"\n",
        "\n",
        "It's a good idea to visualize:\n",
        "* The data - what data are we working with? what  does it look like?\n",
        "* The model itself - what does our model look like?\n",
        "* The training of a model - how does a model perform while it learning?\n",
        "* The predcitions of the model - how to the predictions of a model line up against the ground truth (the original labels)?"
      ],
      "metadata": {
        "id": "Wn-zCgwQtpAN"
      }
    },
    {
      "cell_type": "code",
      "source": [
        "# Make a bigger  data set\n",
        "X = tf.range(-100, 100, 4)\n",
        "X"
      ],
      "metadata": {
        "colab": {
          "base_uri": "https://localhost:8080/"
        },
        "id": "-K6qPtGvvRJN",
        "outputId": "87d05e3f-36e2-45e9-9450-a4d0e642b99e"
      },
      "execution_count": 26,
      "outputs": [
        {
          "output_type": "execute_result",
          "data": {
            "text/plain": [
              "<tf.Tensor: shape=(50,), dtype=int32, numpy=\n",
              "array([-100,  -96,  -92,  -88,  -84,  -80,  -76,  -72,  -68,  -64,  -60,\n",
              "        -56,  -52,  -48,  -44,  -40,  -36,  -32,  -28,  -24,  -20,  -16,\n",
              "        -12,   -8,   -4,    0,    4,    8,   12,   16,   20,   24,   28,\n",
              "         32,   36,   40,   44,   48,   52,   56,   60,   64,   68,   72,\n",
              "         76,   80,   84,   88,   92,   96], dtype=int32)>"
            ]
          },
          "metadata": {},
          "execution_count": 26
        }
      ]
    },
    {
      "cell_type": "code",
      "source": [
        "# Make labels for the data set\n",
        "y = X + 10\n",
        "y"
      ],
      "metadata": {
        "colab": {
          "base_uri": "https://localhost:8080/"
        },
        "id": "5xPgxlowvVu1",
        "outputId": "706529d6-9988-4ae1-a644-c86d9b21935d"
      },
      "execution_count": 27,
      "outputs": [
        {
          "output_type": "execute_result",
          "data": {
            "text/plain": [
              "<tf.Tensor: shape=(50,), dtype=int32, numpy=\n",
              "array([-90, -86, -82, -78, -74, -70, -66, -62, -58, -54, -50, -46, -42,\n",
              "       -38, -34, -30, -26, -22, -18, -14, -10,  -6,  -2,   2,   6,  10,\n",
              "        14,  18,  22,  26,  30,  34,  38,  42,  46,  50,  54,  58,  62,\n",
              "        66,  70,  74,  78,  82,  86,  90,  94,  98, 102, 106], dtype=int32)>"
            ]
          },
          "metadata": {},
          "execution_count": 27
        }
      ]
    },
    {
      "cell_type": "code",
      "source": [
        "# Visualize the data\n",
        "import matplotlib.pyplot as plt\n",
        "\n",
        "plt.scatter(X, y)"
      ],
      "metadata": {
        "colab": {
          "base_uri": "https://localhost:8080/",
          "height": 283
        },
        "id": "OwCeq8_YvfYo",
        "outputId": "ba08582c-f0be-45a4-9d88-591dd50e1ceb"
      },
      "execution_count": 28,
      "outputs": [
        {
          "output_type": "execute_result",
          "data": {
            "text/plain": [
              "<matplotlib.collections.PathCollection at 0x7f6a2cc76d10>"
            ]
          },
          "metadata": {},
          "execution_count": 28
        },
        {
          "output_type": "display_data",
          "data": {
            "text/plain": [
              "<Figure size 432x288 with 1 Axes>"
            ],
            "image/png": "[encoded data removed]"
          },
          "metadata": {
            "needs_background": "light"
          }
        }
      ]
    },
    {
      "cell_type": "markdown",
      "source": [
        "### The 3 sets...\n",
        "\n",
        "* **Training set** - the model learns from this data, which is typicall 70-80% of the total data you have available.\n",
        "* **Validation set** - the model gets tuned on this data, which is typically 10-15% of the data available.\n",
        "* **Test set** - the model gets evaluated on this data to test what is has learned, this set is typically 10-15% of the total data available."
      ],
      "metadata": {
        "id": "GDX_DqRjvqZt"
      }
    },
    {
      "cell_type": "code",
      "source": [
        "# Check the length of how many samples we have\n",
        "len(X)"
      ],
      "metadata": {
        "colab": {
          "base_uri": "https://localhost:8080/"
        },
        "id": "wzY_HU-ewtyF",
        "outputId": "7029f205-edbc-436f-d3ab-9597d7279cb8"
      },
      "execution_count": 29,
      "outputs": [
        {
          "output_type": "execute_result",
          "data": {
            "text/plain": [
              "50"
            ]
          },
          "metadata": {},
          "execution_count": 29
        }
      ]
    },
    {
      "cell_type": "code",
      "source": [
        "# Split the data into train and test sets\n",
        "X_train = X[:40] # frist 40 are training samples (80% of the data)\n",
        "y_train = y[:40]\n",
        "\n",
        "X_test = X[40:] # last 10  are testing samples (20% of the data)\n",
        "y_test = y[40:]\n",
        "\n",
        "len(X_train), len(X_test), len(y_train), len(y_test)"
      ],
      "metadata": {
        "colab": {
          "base_uri": "https://localhost:8080/"
        },
        "id": "_amX0gem2fVW",
        "outputId": "1b18409f-08fe-447a-e2f4-95c73a993263"
      },
      "execution_count": 30,
      "outputs": [
        {
          "output_type": "execute_result",
          "data": {
            "text/plain": [
              "(40, 10, 40, 10)"
            ]
          },
          "metadata": {},
          "execution_count": 30
        }
      ]
    },
    {
      "cell_type": "markdown",
      "source": [
        "### Visualizing the data\n",
        "\n",
        "Now we've got our data in training and test sets... let's visualize it again!"
      ],
      "metadata": {
        "id": "fWWBcisi3DnZ"
      }
    },
    {
      "cell_type": "code",
      "source": [
        "plt.figure(figsize=(10, 7))\n",
        "# plot training data in blue\n",
        "plt.scatter(X_train, y_train, c=\"b\", label=\"Training data\") # our model will learn on this\n",
        "# Plot test data in green\n",
        "plt.scatter(X_test, y_test, c=\"g\", label=\"Testing data\") # want our model to be able to predict this (given X, what's y?)\n",
        "# Show a legend\n",
        "plt.legend()\n",
        "plt.show();"
      ],
      "metadata": {
        "colab": {
          "base_uri": "https://localhost:8080/",
          "height": 428
        },
        "id": "uYezB3qz3USI",
        "outputId": "b8a66b74-185a-43ec-8e91-7c35a5bd66ce"
      },
      "execution_count": 31,
      "outputs": [
        {
          "output_type": "display_data",
          "data": {
            "text/plain": [
              "<Figure size 720x504 with 1 Axes>"
            ],
            "image/png": "[encoded data removed]"
          },
          "metadata": {
            "needs_background": "light"
          }
        }
      ]
    },
    {
      "cell_type": "code",
      "source": [
        "# Let's have a look at how to build a neural network for our data\n",
        "\n",
        "# 1. Create a model\n",
        "model = tf.keras.Sequential([\n",
        "  tf.keras.layers.Dense(1)\n",
        "])\n",
        "\n",
        "# 2. Complie the model\n",
        "model.compile(loss=tf.keras.losses.mae,\n",
        "              optimizer=tf.keras.optimizers.SGD(),\n",
        "              metrics=[\"mae\"])\n",
        "\n",
        "# 3. Fit the model\n",
        "# model.fit(X_train, y_train, epochs=100)"
      ],
      "metadata": {
        "id": "JzjuKnS13oVt"
      },
      "execution_count": 32,
      "outputs": []
    },
    {
      "cell_type": "markdown",
      "source": [
        "### Visualizing the model"
      ],
      "metadata": {
        "id": "Y3dwJsEb5K3z"
      }
    },
    {
      "cell_type": "code",
      "source": [
        "model.summary()"
      ],
      "metadata": {
        "colab": {
          "base_uri": "https://localhost:8080/",
          "height": 287
        },
        "id": "nG0h5ghs5P8e",
        "outputId": "14ffda21-f925-4437-bfae-35ef0670f818"
      },
      "execution_count": 33,
      "outputs": [
        {
          "output_type": "error",
          "ename": "ValueError",
          "evalue": "ignored",
          "traceback": [
            "\u001b[0;31m---------------------------------------------------------------------------\u001b[0m",
            "\u001b[0;31mValueError\u001b[0m                                Traceback (most recent call last)",
            "\u001b[0;32m<ipython-input-33-5f15418b3570>\u001b[0m in \u001b[0;36m<module>\u001b[0;34m()\u001b[0m\n\u001b[0;32m----> 1\u001b[0;31m \u001b[0mmodel\u001b[0m\u001b[0;34m.\u001b[0m\u001b[0msummary\u001b[0m\u001b[0;34m(\u001b[0m\u001b[0;34m)\u001b[0m\u001b[0;34m\u001b[0m\u001b[0;34m\u001b[0m\u001b[0m\n\u001b[0m",
            "\u001b[0;32m/usr/local/lib/python3.7/dist-packages/keras/engine/training.py\u001b[0m in \u001b[0;36msummary\u001b[0;34m(self, line_length, positions, print_fn, expand_nested, show_trainable)\u001b[0m\n\u001b[1;32m   2774\u001b[0m     \u001b[0;32mif\u001b[0m \u001b[0;32mnot\u001b[0m \u001b[0mself\u001b[0m\u001b[0;34m.\u001b[0m\u001b[0mbuilt\u001b[0m\u001b[0;34m:\u001b[0m\u001b[0;34m\u001b[0m\u001b[0;34m\u001b[0m\u001b[0m\n\u001b[1;32m   2775\u001b[0m       raise ValueError(\n\u001b[0;32m-> 2776\u001b[0;31m           \u001b[0;34m'This model has not yet been built. '\u001b[0m\u001b[0;34m\u001b[0m\u001b[0;34m\u001b[0m\u001b[0m\n\u001b[0m\u001b[1;32m   2777\u001b[0m           \u001b[0;34m'Build the model first by calling `build()` or by calling '\u001b[0m\u001b[0;34m\u001b[0m\u001b[0;34m\u001b[0m\u001b[0m\n\u001b[1;32m   2778\u001b[0m           'the model on a batch of data.')\n",
            "\u001b[0;31mValueError\u001b[0m: This model has not yet been built. Build the model first by calling `build()` or by calling the model on a batch of data."
          ]
        }
      ]
    },
    {
      "cell_type": "code",
      "source": [
        "X[0], y[0]"
      ],
      "metadata": {
        "id": "51etxeT46CG4"
      },
      "execution_count": null,
      "outputs": []
    },
    {
      "cell_type": "code",
      "source": [
        "# let's create a model which builds automatically by defining the input_shape argument in the first layer\n",
        "tf.random.set_seed(42)\n",
        "\n",
        "# 1. Create a model (same as above)\n",
        "model = tf.keras.Sequential([\n",
        "  tf.keras.layers.Dense(10, input_shape=[1], name=\"input_layer\"),\n",
        "  tf.keras.layers.Dense(1, name=\"output_layer\")\n",
        "], name=\"model_1\")\n",
        "\n",
        "# 2. compile the model (same as above)\n",
        "model.compile(loss=tf.keras.losses.mae,\n",
        "              optimizer=tf.keras.optimizers.SGD(),\n",
        "              metrics=[\"mae\"])"
      ],
      "metadata": {
        "id": "6QscjiwZ5R4Q"
      },
      "execution_count": null,
      "outputs": []
    },
    {
      "cell_type": "code",
      "source": [
        "model.summary()"
      ],
      "metadata": {
        "id": "CVkJWrZn6Vlr"
      },
      "execution_count": null,
      "outputs": []
    },
    {
      "cell_type": "markdown",
      "source": [
        "* `Total params` - total number of parameters in the model.\n",
        "* `Trainable params` - these are the parameter (patterns) the model can update as it trains.\n",
        "* `Non-trainable params` - these parameters aren't updated during training (this is typical when you bring in already learn  patterns or  parameters from other models during `transfer learning`).\n",
        "\n",
        "📖 **Resource:** for a more in-depth overview of the trainable parameters within a layer, check out MIT's introduction to deep learning video. : http://introtodeeplearning.com/\n",
        "\n",
        "🔨 **Exercises:** Try playing around with the number of hidden units in the dense layer, see how that effects the number of parameters(total and trainable) by calling `model.summary()`."
      ],
      "metadata": {
        "id": "aovXiXZ26g9N"
      }
    },
    {
      "cell_type": "code",
      "source": [
        "# Let's fit our the model to the training data\n",
        "model.fit(X_train, y_train, epochs=100, verbose=0)"
      ],
      "metadata": {
        "id": "Ym7COXPN6W_p"
      },
      "execution_count": null,
      "outputs": []
    },
    {
      "cell_type": "code",
      "source": [
        "# Get a summary of our model\n",
        "model.summary()"
      ],
      "metadata": {
        "id": "XGF8lvwZ9FTg"
      },
      "execution_count": null,
      "outputs": []
    },
    {
      "cell_type": "code",
      "source": [
        "from tensorflow.keras.utils import plot_model\n",
        "\n",
        "plot_model(model=model,show_shapes=True)"
      ],
      "metadata": {
        "id": "9YZPCshK9agc"
      },
      "execution_count": null,
      "outputs": []
    },
    {
      "cell_type": "markdown",
      "source": [
        "### Visualizing our model's predictions\n",
        "\n",
        "To visualize predictions, it's a good idea to plot thme agianst the ground truth labels.\n",
        "\n",
        "Often you'll see this in the form of `y_test` or `y_true`  versus `y_pred` (ground truth versus you model predictions)."
      ],
      "metadata": {
        "id": "qaF0FvOw94zY"
      }
    },
    {
      "cell_type": "code",
      "source": [
        "# Make some predictions\n",
        "y_pred = model.predict(X_test)\n",
        "y_pred"
      ],
      "metadata": {
        "id": "O1-7crWjKIaK"
      },
      "execution_count": null,
      "outputs": []
    },
    {
      "cell_type": "code",
      "source": [
        "y_test"
      ],
      "metadata": {
        "id": "4hBcWvl0KjHq"
      },
      "execution_count": null,
      "outputs": []
    },
    {
      "cell_type": "markdown",
      "source": [
        "🔑 **Note:** If you feel like you're going to reuse some kind of functionality in the future, it's a good idea to turn it into a function."
      ],
      "metadata": {
        "id": "TfuRnK2rKyXA"
      }
    },
    {
      "cell_type": "code",
      "source": [
        "# Let's create a plotting function\n",
        "def plot_predictions(train_data=X_train,\n",
        "                     train_labels=y_train,\n",
        "                     test_data=X_test,\n",
        "                     test_labels=y_test,\n",
        "                     predictions=y_pred):\n",
        "  \"\"\"\n",
        "  Plots training data, test data and compares predictions to ground truth labels.\n",
        "  \"\"\"\n",
        "  plt.figure(figsize=(10, 7))\n",
        "  # Plot training data in blue\n",
        "  plt.scatter(train_data, train_labels, c=\"b\", label=\"Training data\")\n",
        "  # Plot testing data in green\n",
        "  plt.scatter(test_data, test_labels, c=\"g\", label=\"Testing data\")\n",
        "  # Plot model's predictions in red\n",
        "  plt.scatter(test_data, predictions, c=\"r\", label=\"Predictions\")\n",
        "  # Show the legend\n",
        "  plt.legend();"
      ],
      "metadata": {
        "id": "-0brJZFqKkt0"
      },
      "execution_count": 34,
      "outputs": []
    },
    {
      "cell_type": "code",
      "source": [
        "plot_predictions(train_data=X_train,\n",
        "                 train_labels=y_train,\n",
        "                 test_data=X_test,\n",
        "                 test_labels=y_test,\n",
        "                 predictions=y_pred);"
      ],
      "metadata": {
        "colab": {
          "base_uri": "https://localhost:8080/",
          "height": 775
        },
        "id": "3x4I9_ciMNO2",
        "outputId": "8db323c7-b5f4-4409-f57a-27eab747d3c4"
      },
      "execution_count": 35,
      "outputs": [
        {
          "output_type": "error",
          "ename": "ValueError",
          "evalue": "ignored",
          "traceback": [
            "\u001b[0;31m---------------------------------------------------------------------------\u001b[0m",
            "\u001b[0;31mValueError\u001b[0m                                Traceback (most recent call last)",
            "\u001b[0;32m<ipython-input-35-3c867d60f32d>\u001b[0m in \u001b[0;36m<module>\u001b[0;34m()\u001b[0m\n\u001b[1;32m      3\u001b[0m                  \u001b[0mtest_data\u001b[0m\u001b[0;34m=\u001b[0m\u001b[0mX_test\u001b[0m\u001b[0;34m,\u001b[0m\u001b[0;34m\u001b[0m\u001b[0;34m\u001b[0m\u001b[0m\n\u001b[1;32m      4\u001b[0m                  \u001b[0mtest_labels\u001b[0m\u001b[0;34m=\u001b[0m\u001b[0my_test\u001b[0m\u001b[0;34m,\u001b[0m\u001b[0;34m\u001b[0m\u001b[0;34m\u001b[0m\u001b[0m\n\u001b[0;32m----> 5\u001b[0;31m                  predictions=y_pred);\n\u001b[0m",
            "\u001b[0;32m<ipython-input-34-73c7637aa6cf>\u001b[0m in \u001b[0;36mplot_predictions\u001b[0;34m(train_data, train_labels, test_data, test_labels, predictions)\u001b[0m\n\u001b[1;32m     14\u001b[0m   \u001b[0mplt\u001b[0m\u001b[0;34m.\u001b[0m\u001b[0mscatter\u001b[0m\u001b[0;34m(\u001b[0m\u001b[0mtest_data\u001b[0m\u001b[0;34m,\u001b[0m \u001b[0mtest_labels\u001b[0m\u001b[0;34m,\u001b[0m \u001b[0mc\u001b[0m\u001b[0;34m=\u001b[0m\u001b[0;34m\"g\"\u001b[0m\u001b[0;34m,\u001b[0m \u001b[0mlabel\u001b[0m\u001b[0;34m=\u001b[0m\u001b[0;34m\"Testing data\"\u001b[0m\u001b[0;34m)\u001b[0m\u001b[0;34m\u001b[0m\u001b[0;34m\u001b[0m\u001b[0m\n\u001b[1;32m     15\u001b[0m   \u001b[0;31m# Plot model's predictions in red\u001b[0m\u001b[0;34m\u001b[0m\u001b[0;34m\u001b[0m\u001b[0;34m\u001b[0m\u001b[0m\n\u001b[0;32m---> 16\u001b[0;31m   \u001b[0mplt\u001b[0m\u001b[0;34m.\u001b[0m\u001b[0mscatter\u001b[0m\u001b[0;34m(\u001b[0m\u001b[0mtest_data\u001b[0m\u001b[0;34m,\u001b[0m \u001b[0mpredictions\u001b[0m\u001b[0;34m,\u001b[0m \u001b[0mc\u001b[0m\u001b[0;34m=\u001b[0m\u001b[0;34m\"r\"\u001b[0m\u001b[0;34m,\u001b[0m \u001b[0mlabel\u001b[0m\u001b[0;34m=\u001b[0m\u001b[0;34m\"Predictions\"\u001b[0m\u001b[0;34m)\u001b[0m\u001b[0;34m\u001b[0m\u001b[0;34m\u001b[0m\u001b[0m\n\u001b[0m\u001b[1;32m     17\u001b[0m   \u001b[0;31m# Show the legend\u001b[0m\u001b[0;34m\u001b[0m\u001b[0;34m\u001b[0m\u001b[0;34m\u001b[0m\u001b[0m\n\u001b[1;32m     18\u001b[0m   \u001b[0mplt\u001b[0m\u001b[0;34m.\u001b[0m\u001b[0mlegend\u001b[0m\u001b[0;34m(\u001b[0m\u001b[0;34m)\u001b[0m\u001b[0;34m;\u001b[0m\u001b[0;34m\u001b[0m\u001b[0;34m\u001b[0m\u001b[0m\n",
            "\u001b[0;32m/usr/local/lib/python3.7/dist-packages/matplotlib/pyplot.py\u001b[0m in \u001b[0;36mscatter\u001b[0;34m(x, y, s, c, marker, cmap, norm, vmin, vmax, alpha, linewidths, verts, edgecolors, plotnonfinite, data, **kwargs)\u001b[0m\n\u001b[1;32m   2814\u001b[0m         \u001b[0mverts\u001b[0m\u001b[0;34m=\u001b[0m\u001b[0mverts\u001b[0m\u001b[0;34m,\u001b[0m \u001b[0medgecolors\u001b[0m\u001b[0;34m=\u001b[0m\u001b[0medgecolors\u001b[0m\u001b[0;34m,\u001b[0m\u001b[0;34m\u001b[0m\u001b[0;34m\u001b[0m\u001b[0m\n\u001b[1;32m   2815\u001b[0m         plotnonfinite=plotnonfinite, **({\"data\": data} if data is not\n\u001b[0;32m-> 2816\u001b[0;31m         None else {}), **kwargs)\n\u001b[0m\u001b[1;32m   2817\u001b[0m     \u001b[0msci\u001b[0m\u001b[0;34m(\u001b[0m\u001b[0m__ret\u001b[0m\u001b[0;34m)\u001b[0m\u001b[0;34m\u001b[0m\u001b[0;34m\u001b[0m\u001b[0m\n\u001b[1;32m   2818\u001b[0m     \u001b[0;32mreturn\u001b[0m \u001b[0m__ret\u001b[0m\u001b[0;34m\u001b[0m\u001b[0;34m\u001b[0m\u001b[0m\n",
            "\u001b[0;32m/usr/local/lib/python3.7/dist-packages/matplotlib/__init__.py\u001b[0m in \u001b[0;36minner\u001b[0;34m(ax, data, *args, **kwargs)\u001b[0m\n\u001b[1;32m   1563\u001b[0m     \u001b[0;32mdef\u001b[0m \u001b[0minner\u001b[0m\u001b[0;34m(\u001b[0m\u001b[0max\u001b[0m\u001b[0;34m,\u001b[0m \u001b[0;34m*\u001b[0m\u001b[0margs\u001b[0m\u001b[0;34m,\u001b[0m \u001b[0mdata\u001b[0m\u001b[0;34m=\u001b[0m\u001b[0;32mNone\u001b[0m\u001b[0;34m,\u001b[0m \u001b[0;34m**\u001b[0m\u001b[0mkwargs\u001b[0m\u001b[0;34m)\u001b[0m\u001b[0;34m:\u001b[0m\u001b[0;34m\u001b[0m\u001b[0;34m\u001b[0m\u001b[0m\n\u001b[1;32m   1564\u001b[0m         \u001b[0;32mif\u001b[0m \u001b[0mdata\u001b[0m \u001b[0;32mis\u001b[0m \u001b[0;32mNone\u001b[0m\u001b[0;34m:\u001b[0m\u001b[0;34m\u001b[0m\u001b[0;34m\u001b[0m\u001b[0m\n\u001b[0;32m-> 1565\u001b[0;31m             \u001b[0;32mreturn\u001b[0m \u001b[0mfunc\u001b[0m\u001b[0;34m(\u001b[0m\u001b[0max\u001b[0m\u001b[0;34m,\u001b[0m \u001b[0;34m*\u001b[0m\u001b[0mmap\u001b[0m\u001b[0;34m(\u001b[0m\u001b[0msanitize_sequence\u001b[0m\u001b[0;34m,\u001b[0m \u001b[0margs\u001b[0m\u001b[0;34m)\u001b[0m\u001b[0;34m,\u001b[0m \u001b[0;34m**\u001b[0m\u001b[0mkwargs\u001b[0m\u001b[0;34m)\u001b[0m\u001b[0;34m\u001b[0m\u001b[0;34m\u001b[0m\u001b[0m\n\u001b[0m\u001b[1;32m   1566\u001b[0m \u001b[0;34m\u001b[0m\u001b[0m\n\u001b[1;32m   1567\u001b[0m         \u001b[0mbound\u001b[0m \u001b[0;34m=\u001b[0m \u001b[0mnew_sig\u001b[0m\u001b[0;34m.\u001b[0m\u001b[0mbind\u001b[0m\u001b[0;34m(\u001b[0m\u001b[0max\u001b[0m\u001b[0;34m,\u001b[0m \u001b[0;34m*\u001b[0m\u001b[0margs\u001b[0m\u001b[0;34m,\u001b[0m \u001b[0;34m**\u001b[0m\u001b[0mkwargs\u001b[0m\u001b[0;34m)\u001b[0m\u001b[0;34m\u001b[0m\u001b[0;34m\u001b[0m\u001b[0m\n",
            "\u001b[0;32m/usr/local/lib/python3.7/dist-packages/matplotlib/cbook/deprecation.py\u001b[0m in \u001b[0;36mwrapper\u001b[0;34m(*args, **kwargs)\u001b[0m\n\u001b[1;32m    356\u001b[0m                 \u001b[0;34mf\"%(removal)s.  If any parameter follows {name!r}, they \"\u001b[0m\u001b[0;34m\u001b[0m\u001b[0;34m\u001b[0m\u001b[0m\n\u001b[1;32m    357\u001b[0m                 f\"should be pass as keyword, not positionally.\")\n\u001b[0;32m--> 358\u001b[0;31m         \u001b[0;32mreturn\u001b[0m \u001b[0mfunc\u001b[0m\u001b[0;34m(\u001b[0m\u001b[0;34m*\u001b[0m\u001b[0margs\u001b[0m\u001b[0;34m,\u001b[0m \u001b[0;34m**\u001b[0m\u001b[0mkwargs\u001b[0m\u001b[0;34m)\u001b[0m\u001b[0;34m\u001b[0m\u001b[0;34m\u001b[0m\u001b[0m\n\u001b[0m\u001b[1;32m    359\u001b[0m \u001b[0;34m\u001b[0m\u001b[0m\n\u001b[1;32m    360\u001b[0m     \u001b[0;32mreturn\u001b[0m \u001b[0mwrapper\u001b[0m\u001b[0;34m\u001b[0m\u001b[0;34m\u001b[0m\u001b[0m\n",
            "\u001b[0;32m/usr/local/lib/python3.7/dist-packages/matplotlib/axes/_axes.py\u001b[0m in \u001b[0;36mscatter\u001b[0;34m(self, x, y, s, c, marker, cmap, norm, vmin, vmax, alpha, linewidths, verts, edgecolors, plotnonfinite, **kwargs)\u001b[0m\n\u001b[1;32m   4389\u001b[0m         \u001b[0my\u001b[0m \u001b[0;34m=\u001b[0m \u001b[0mnp\u001b[0m\u001b[0;34m.\u001b[0m\u001b[0mma\u001b[0m\u001b[0;34m.\u001b[0m\u001b[0mravel\u001b[0m\u001b[0;34m(\u001b[0m\u001b[0my\u001b[0m\u001b[0;34m)\u001b[0m\u001b[0;34m\u001b[0m\u001b[0;34m\u001b[0m\u001b[0m\n\u001b[1;32m   4390\u001b[0m         \u001b[0;32mif\u001b[0m \u001b[0mx\u001b[0m\u001b[0;34m.\u001b[0m\u001b[0msize\u001b[0m \u001b[0;34m!=\u001b[0m \u001b[0my\u001b[0m\u001b[0;34m.\u001b[0m\u001b[0msize\u001b[0m\u001b[0;34m:\u001b[0m\u001b[0;34m\u001b[0m\u001b[0;34m\u001b[0m\u001b[0m\n\u001b[0;32m-> 4391\u001b[0;31m             \u001b[0;32mraise\u001b[0m \u001b[0mValueError\u001b[0m\u001b[0;34m(\u001b[0m\u001b[0;34m\"x and y must be the same size\"\u001b[0m\u001b[0;34m)\u001b[0m\u001b[0;34m\u001b[0m\u001b[0;34m\u001b[0m\u001b[0m\n\u001b[0m\u001b[1;32m   4392\u001b[0m \u001b[0;34m\u001b[0m\u001b[0m\n\u001b[1;32m   4393\u001b[0m         \u001b[0;32mif\u001b[0m \u001b[0ms\u001b[0m \u001b[0;32mis\u001b[0m \u001b[0;32mNone\u001b[0m\u001b[0;34m:\u001b[0m\u001b[0;34m\u001b[0m\u001b[0;34m\u001b[0m\u001b[0m\n",
            "\u001b[0;31mValueError\u001b[0m: x and y must be the same size"
          ]
        },
        {
          "output_type": "display_data",
          "data": {
            "text/plain": [
              "<Figure size 720x504 with 1 Axes>"
            ],
            "image/png": "[encoded data removed]"
          },
          "metadata": {
            "needs_background": "light"
          }
        }
      ]
    },
    {
      "cell_type": "markdown",
      "source": [
        "### Evaluating our model's predictions with regression evaluation metrics\n",
        "\n",
        "Depending on the problem you're working on, there will be different evaluation metrics to evaluate your model's preformance.\n",
        "\n",
        "Since we're working on a regression, two of the main metrics:\n",
        "* MAE - mean absolute error, \"on average, how wrong is each of my model's predictions\"\n",
        "* MSE - mean square error, \"square the average errors\"\n"
      ],
      "metadata": {
        "id": "tiK9T4eRMPeI"
      }
    },
    {
      "cell_type": "code",
      "source": [
        "# Evaluate the model on the test\n",
        "model.evaluate(X_test, y_test)"
      ],
      "metadata": {
        "colab": {
          "base_uri": "https://localhost:8080/",
          "height": 711
        },
        "id": "csFetV-2NbKY",
        "outputId": "0e40f877-7b54-476c-8101-49a5512437f8"
      },
      "execution_count": 36,
      "outputs": [
        {
          "output_type": "error",
          "ename": "ValueError",
          "evalue": "ignored",
          "traceback": [
            "\u001b[0;31m---------------------------------------------------------------------------\u001b[0m",
            "\u001b[0;31mValueError\u001b[0m                                Traceback (most recent call last)",
            "\u001b[0;32m<ipython-input-36-c92fbd601bf9>\u001b[0m in \u001b[0;36m<module>\u001b[0;34m()\u001b[0m\n\u001b[1;32m      1\u001b[0m \u001b[0;31m# Evaluate the model on the test\u001b[0m\u001b[0;34m\u001b[0m\u001b[0;34m\u001b[0m\u001b[0;34m\u001b[0m\u001b[0m\n\u001b[0;32m----> 2\u001b[0;31m \u001b[0mmodel\u001b[0m\u001b[0;34m.\u001b[0m\u001b[0mevaluate\u001b[0m\u001b[0;34m(\u001b[0m\u001b[0mX_test\u001b[0m\u001b[0;34m,\u001b[0m \u001b[0my_test\u001b[0m\u001b[0;34m)\u001b[0m\u001b[0;34m\u001b[0m\u001b[0;34m\u001b[0m\u001b[0m\n\u001b[0m",
            "\u001b[0;32m/usr/local/lib/python3.7/dist-packages/keras/utils/traceback_utils.py\u001b[0m in \u001b[0;36merror_handler\u001b[0;34m(*args, **kwargs)\u001b[0m\n\u001b[1;32m     65\u001b[0m     \u001b[0;32mexcept\u001b[0m \u001b[0mException\u001b[0m \u001b[0;32mas\u001b[0m \u001b[0me\u001b[0m\u001b[0;34m:\u001b[0m  \u001b[0;31m# pylint: disable=broad-except\u001b[0m\u001b[0;34m\u001b[0m\u001b[0;34m\u001b[0m\u001b[0m\n\u001b[1;32m     66\u001b[0m       \u001b[0mfiltered_tb\u001b[0m \u001b[0;34m=\u001b[0m \u001b[0m_process_traceback_frames\u001b[0m\u001b[0;34m(\u001b[0m\u001b[0me\u001b[0m\u001b[0;34m.\u001b[0m\u001b[0m__traceback__\u001b[0m\u001b[0;34m)\u001b[0m\u001b[0;34m\u001b[0m\u001b[0;34m\u001b[0m\u001b[0m\n\u001b[0;32m---> 67\u001b[0;31m       \u001b[0;32mraise\u001b[0m \u001b[0me\u001b[0m\u001b[0;34m.\u001b[0m\u001b[0mwith_traceback\u001b[0m\u001b[0;34m(\u001b[0m\u001b[0mfiltered_tb\u001b[0m\u001b[0;34m)\u001b[0m \u001b[0;32mfrom\u001b[0m \u001b[0;32mNone\u001b[0m\u001b[0;34m\u001b[0m\u001b[0;34m\u001b[0m\u001b[0m\n\u001b[0m\u001b[1;32m     68\u001b[0m     \u001b[0;32mfinally\u001b[0m\u001b[0;34m:\u001b[0m\u001b[0;34m\u001b[0m\u001b[0;34m\u001b[0m\u001b[0m\n\u001b[1;32m     69\u001b[0m       \u001b[0;32mdel\u001b[0m \u001b[0mfiltered_tb\u001b[0m\u001b[0;34m\u001b[0m\u001b[0;34m\u001b[0m\u001b[0m\n",
            "\u001b[0;32m/usr/local/lib/python3.7/dist-packages/tensorflow/python/framework/func_graph.py\u001b[0m in \u001b[0;36mautograph_handler\u001b[0;34m(*args, **kwargs)\u001b[0m\n\u001b[1;32m   1145\u001b[0m           \u001b[0;32mexcept\u001b[0m \u001b[0mException\u001b[0m \u001b[0;32mas\u001b[0m \u001b[0me\u001b[0m\u001b[0;34m:\u001b[0m  \u001b[0;31m# pylint:disable=broad-except\u001b[0m\u001b[0;34m\u001b[0m\u001b[0;34m\u001b[0m\u001b[0m\n\u001b[1;32m   1146\u001b[0m             \u001b[0;32mif\u001b[0m \u001b[0mhasattr\u001b[0m\u001b[0;34m(\u001b[0m\u001b[0me\u001b[0m\u001b[0;34m,\u001b[0m \u001b[0;34m\"ag_error_metadata\"\u001b[0m\u001b[0;34m)\u001b[0m\u001b[0;34m:\u001b[0m\u001b[0;34m\u001b[0m\u001b[0;34m\u001b[0m\u001b[0m\n\u001b[0;32m-> 1147\u001b[0;31m               \u001b[0;32mraise\u001b[0m \u001b[0me\u001b[0m\u001b[0;34m.\u001b[0m\u001b[0mag_error_metadata\u001b[0m\u001b[0;34m.\u001b[0m\u001b[0mto_exception\u001b[0m\u001b[0;34m(\u001b[0m\u001b[0me\u001b[0m\u001b[0;34m)\u001b[0m\u001b[0;34m\u001b[0m\u001b[0;34m\u001b[0m\u001b[0m\n\u001b[0m\u001b[1;32m   1148\u001b[0m             \u001b[0;32melse\u001b[0m\u001b[0;34m:\u001b[0m\u001b[0;34m\u001b[0m\u001b[0;34m\u001b[0m\u001b[0m\n\u001b[1;32m   1149\u001b[0m               \u001b[0;32mraise\u001b[0m\u001b[0;34m\u001b[0m\u001b[0;34m\u001b[0m\u001b[0m\n",
            "\u001b[0;31mValueError\u001b[0m: in user code:\n\n    File \"/usr/local/lib/python3.7/dist-packages/keras/engine/training.py\", line 1525, in test_function  *\n        return step_function(self, iterator)\n    File \"/usr/local/lib/python3.7/dist-packages/keras/engine/training.py\", line 1514, in step_function  **\n        outputs = model.distribute_strategy.run(run_step, args=(data,))\n    File \"/usr/local/lib/python3.7/dist-packages/keras/engine/training.py\", line 1507, in run_step  **\n        outputs = model.test_step(data)\n    File \"/usr/local/lib/python3.7/dist-packages/keras/engine/training.py\", line 1471, in test_step\n        y_pred = self(x, training=False)\n    File \"/usr/local/lib/python3.7/dist-packages/keras/utils/traceback_utils.py\", line 67, in error_handler\n        raise e.with_traceback(filtered_tb) from None\n    File \"/usr/local/lib/python3.7/dist-packages/keras/engine/input_spec.py\", line 228, in assert_input_compatibility\n        raise ValueError(f'Input {input_index} of layer \"{layer_name}\" '\n\n    ValueError: Exception encountered when calling layer \"sequential_5\" (type Sequential).\n    \n    Input 0 of layer \"dense_6\" is incompatible with the layer: expected min_ndim=2, found ndim=1. Full shape received: (None,)\n    \n    Call arguments received:\n      • inputs=tf.Tensor(shape=(None,), dtype=int32)\n      • training=False\n      • mask=None\n"
          ]
        }
      ]
    },
    {
      "cell_type": "code",
      "source": [
        "# Calculate the mean absolute error\n",
        "mae = tf.metrics.mean_absolute_error(y_true=y_test,\n",
        "                                     y_pred=tf.constant(y_pred))\n",
        "mae"
      ],
      "metadata": {
        "colab": {
          "base_uri": "https://localhost:8080/"
        },
        "id": "zyrOF0CrRr0p",
        "outputId": "e14dd579-f4b7-442e-e743-b244a9de24cf"
      },
      "execution_count": 37,
      "outputs": [
        {
          "output_type": "execute_result",
          "data": {
            "text/plain": [
              "<tf.Tensor: shape=(1,), dtype=float32, numpy=array([75.28398], dtype=float32)>"
            ]
          },
          "metadata": {},
          "execution_count": 37
        }
      ]
    },
    {
      "cell_type": "code",
      "source": [
        "tf.constant(y_pred)"
      ],
      "metadata": {
        "colab": {
          "base_uri": "https://localhost:8080/"
        },
        "id": "70FxCjK6SHvA",
        "outputId": "771bd969-f310-4439-85d6-68a76c8e6dc2"
      },
      "execution_count": 38,
      "outputs": [
        {
          "output_type": "execute_result",
          "data": {
            "text/plain": [
              "<tf.Tensor: shape=(1, 1), dtype=float32, numpy=array([[12.716021]], dtype=float32)>"
            ]
          },
          "metadata": {},
          "execution_count": 38
        }
      ]
    },
    {
      "cell_type": "code",
      "source": [
        "y_test"
      ],
      "metadata": {
        "colab": {
          "base_uri": "https://localhost:8080/"
        },
        "id": "Sn3N-TgESK6f",
        "outputId": "b46d56fa-ea51-4234-e90e-3cc796d12717"
      },
      "execution_count": 39,
      "outputs": [
        {
          "output_type": "execute_result",
          "data": {
            "text/plain": [
              "<tf.Tensor: shape=(10,), dtype=int32, numpy=array([ 70,  74,  78,  82,  86,  90,  94,  98, 102, 106], dtype=int32)>"
            ]
          },
          "metadata": {},
          "execution_count": 39
        }
      ]
    },
    {
      "cell_type": "code",
      "source": [
        "tf.squeeze(y_pred)"
      ],
      "metadata": {
        "colab": {
          "base_uri": "https://localhost:8080/"
        },
        "id": "mBf9JItuSLso",
        "outputId": "2cca1072-c1de-4dfb-f884-b16c031122b5"
      },
      "execution_count": 40,
      "outputs": [
        {
          "output_type": "execute_result",
          "data": {
            "text/plain": [
              "<tf.Tensor: shape=(), dtype=float32, numpy=12.716021>"
            ]
          },
          "metadata": {},
          "execution_count": 40
        }
      ]
    },
    {
      "cell_type": "code",
      "source": [
        "# Calculate the mean absolute error\n",
        "mae = tf.metrics.mean_absolute_error(y_true=y_test,\n",
        "                                     y_pred=tf.squeeze(y_pred))\n",
        "mae"
      ],
      "metadata": {
        "colab": {
          "base_uri": "https://localhost:8080/"
        },
        "id": "0H65u1OfU0Sh",
        "outputId": "f6c21b4a-476d-4aba-f739-d06c2d7eead8"
      },
      "execution_count": 41,
      "outputs": [
        {
          "output_type": "execute_result",
          "data": {
            "text/plain": [
              "<tf.Tensor: shape=(), dtype=float32, numpy=75.28398>"
            ]
          },
          "metadata": {},
          "execution_count": 41
        }
      ]
    },
    {
      "cell_type": "code",
      "source": [
        "# Calculate the mean square error\n",
        "mse = tf.metrics.mean_squared_error(y_true=y_test,\n",
        "                                    y_pred=tf.squeeze(y_pred))\n",
        "mse"
      ],
      "metadata": {
        "colab": {
          "base_uri": "https://localhost:8080/"
        },
        "id": "phE7aXGoVE7B",
        "outputId": "f48a35b2-68dd-4510-c842-44974fcd7e20"
      },
      "execution_count": 42,
      "outputs": [
        {
          "output_type": "execute_result",
          "data": {
            "text/plain": [
              "<tf.Tensor: shape=(), dtype=float32, numpy=5799.6777>"
            ]
          },
          "metadata": {},
          "execution_count": 42
        }
      ]
    },
    {
      "cell_type": "code",
      "source": [
        "# Make some functions to reuse MAE and MSE\n",
        "def mae(y_true, y_pred):\n",
        "  return tf.metrics.mean_absolute_error(y_true=y_test,\n",
        "                                        y_pred=tf.squeeze(y_pred))\n",
        "  \n",
        "def mse(y_true, y_pred):\n",
        "  return tf.metrics.mean_squared_error(y_true=y_test,\n",
        "                                       y_pred=tf.squeeze(y_pred))"
      ],
      "metadata": {
        "id": "cW-t0Ld6Vcyt"
      },
      "execution_count": 43,
      "outputs": []
    },
    {
      "cell_type": "markdown",
      "source": [
        "### Running experiments to improve our model\n",
        "\n",
        "```\n",
        "Build a model -> fit it -> evaluate it -> tweak it -> fit it -> evaluate it -> tweak it -> fit it -> evaluate it ...\n",
        "```\n",
        "\n",
        "1. Get more data - get more examples for your model to train on (more opportunities to learn patterns or relationships between features and labels).\n",
        "2. Make your model larger (using a more complex model) - this might come in the form of more layers or more hidden units in each layer.\n",
        "3. Train for longer - give your model more of a chance to find patterns in the data.\n",
        "\n",
        "Let's do 3 modelling experiments:\n",
        "\n",
        "1. `model_1` - same as the original model, 1 layer, trained for 100 epochs.\n",
        "2. `model_2` - 2 layers, trained for 100 epochs\n",
        "3. `model_3` - 2 layers, trained for 500 epochs\n",
        "\n",
        "**Build** `model_`"
      ],
      "metadata": {
        "id": "lQ_QJiRNWXUV"
      }
    },
    {
      "cell_type": "code",
      "source": [
        "X_train, y_train"
      ],
      "metadata": {
        "colab": {
          "base_uri": "https://localhost:8080/"
        },
        "id": "ArlJSB5qaEbi",
        "outputId": "67c0654b-3ead-4c7f-fe6d-ce35f08a8289"
      },
      "execution_count": 44,
      "outputs": [
        {
          "output_type": "execute_result",
          "data": {
            "text/plain": [
              "(<tf.Tensor: shape=(40,), dtype=int32, numpy=\n",
              " array([-100,  -96,  -92,  -88,  -84,  -80,  -76,  -72,  -68,  -64,  -60,\n",
              "         -56,  -52,  -48,  -44,  -40,  -36,  -32,  -28,  -24,  -20,  -16,\n",
              "         -12,   -8,   -4,    0,    4,    8,   12,   16,   20,   24,   28,\n",
              "          32,   36,   40,   44,   48,   52,   56], dtype=int32)>,\n",
              " <tf.Tensor: shape=(40,), dtype=int32, numpy=\n",
              " array([-90, -86, -82, -78, -74, -70, -66, -62, -58, -54, -50, -46, -42,\n",
              "        -38, -34, -30, -26, -22, -18, -14, -10,  -6,  -2,   2,   6,  10,\n",
              "         14,  18,  22,  26,  30,  34,  38,  42,  46,  50,  54,  58,  62,\n",
              "         66], dtype=int32)>)"
            ]
          },
          "metadata": {},
          "execution_count": 44
        }
      ]
    },
    {
      "cell_type": "code",
      "source": [
        "X_train = tf.expand_dims(X_train, axis=1)\n",
        "y_train = tf.expand_dims(y_train, axis=1)\n",
        "\n",
        "X_train, y_train"
      ],
      "metadata": {
        "colab": {
          "base_uri": "https://localhost:8080/"
        },
        "id": "QFa5m4IfaFgl",
        "outputId": "ce7bcab0-31c3-4c03-ce4b-5f7277d208fa"
      },
      "execution_count": 45,
      "outputs": [
        {
          "output_type": "execute_result",
          "data": {
            "text/plain": [
              "(<tf.Tensor: shape=(40, 1), dtype=int32, numpy=\n",
              " array([[-100],\n",
              "        [ -96],\n",
              "        [ -92],\n",
              "        [ -88],\n",
              "        [ -84],\n",
              "        [ -80],\n",
              "        [ -76],\n",
              "        [ -72],\n",
              "        [ -68],\n",
              "        [ -64],\n",
              "        [ -60],\n",
              "        [ -56],\n",
              "        [ -52],\n",
              "        [ -48],\n",
              "        [ -44],\n",
              "        [ -40],\n",
              "        [ -36],\n",
              "        [ -32],\n",
              "        [ -28],\n",
              "        [ -24],\n",
              "        [ -20],\n",
              "        [ -16],\n",
              "        [ -12],\n",
              "        [  -8],\n",
              "        [  -4],\n",
              "        [   0],\n",
              "        [   4],\n",
              "        [   8],\n",
              "        [  12],\n",
              "        [  16],\n",
              "        [  20],\n",
              "        [  24],\n",
              "        [  28],\n",
              "        [  32],\n",
              "        [  36],\n",
              "        [  40],\n",
              "        [  44],\n",
              "        [  48],\n",
              "        [  52],\n",
              "        [  56]], dtype=int32)>, <tf.Tensor: shape=(40, 1), dtype=int32, numpy=\n",
              " array([[-90],\n",
              "        [-86],\n",
              "        [-82],\n",
              "        [-78],\n",
              "        [-74],\n",
              "        [-70],\n",
              "        [-66],\n",
              "        [-62],\n",
              "        [-58],\n",
              "        [-54],\n",
              "        [-50],\n",
              "        [-46],\n",
              "        [-42],\n",
              "        [-38],\n",
              "        [-34],\n",
              "        [-30],\n",
              "        [-26],\n",
              "        [-22],\n",
              "        [-18],\n",
              "        [-14],\n",
              "        [-10],\n",
              "        [ -6],\n",
              "        [ -2],\n",
              "        [  2],\n",
              "        [  6],\n",
              "        [ 10],\n",
              "        [ 14],\n",
              "        [ 18],\n",
              "        [ 22],\n",
              "        [ 26],\n",
              "        [ 30],\n",
              "        [ 34],\n",
              "        [ 38],\n",
              "        [ 42],\n",
              "        [ 46],\n",
              "        [ 50],\n",
              "        [ 54],\n",
              "        [ 58],\n",
              "        [ 62],\n",
              "        [ 66]], dtype=int32)>)"
            ]
          },
          "metadata": {},
          "execution_count": 45
        }
      ]
    },
    {
      "cell_type": "code",
      "source": [
        "# Set random seed\n",
        "tf.random.set_seed(42)\n",
        "\n",
        "# 1. Create the model\n",
        "model_1 = tf.keras.Sequential([\n",
        "  tf.keras.layers.Dense(1)\n",
        "])\n",
        "\n",
        "# 2. Compile the model\n",
        "model_1.compile(loss=tf.keras.losses.mae,\n",
        "                optimizer=tf.keras.optimizers.SGD(),\n",
        "                metrics=[\"mae\"])\n",
        "\n",
        "# 3. Fit the model\n",
        "model_1.fit(X_train, y_train, epochs=100)"
      ],
      "metadata": {
        "colab": {
          "base_uri": "https://localhost:8080/"
        },
        "id": "GgP2AhaYYb2G",
        "outputId": "8415b2d1-1576-4e7e-f48b-094ec7d91f59"
      },
      "execution_count": 46,
      "outputs": [
        {
          "output_type": "stream",
          "name": "stdout",
          "text": [
            "Epoch 1/100\n",
            "2/2 [==============================] - 0s 8ms/step - loss: 15.9024 - mae: 15.9024\n",
            "Epoch 2/100\n",
            "2/2 [==============================] - 0s 7ms/step - loss: 11.2837 - mae: 11.2837\n",
            "Epoch 3/100\n",
            "2/2 [==============================] - 0s 8ms/step - loss: 11.1074 - mae: 11.1074\n",
            "Epoch 4/100\n",
            "2/2 [==============================] - 0s 7ms/step - loss: 9.2990 - mae: 9.2990\n",
            "Epoch 5/100\n",
            "2/2 [==============================] - 0s 8ms/step - loss: 10.1677 - mae: 10.1677\n",
            "Epoch 6/100\n",
            "2/2 [==============================] - 0s 8ms/step - loss: 9.4303 - mae: 9.4303\n",
            "Epoch 7/100\n",
            "2/2 [==============================] - 0s 8ms/step - loss: 8.5704 - mae: 8.5704\n",
            "Epoch 8/100\n",
            "2/2 [==============================] - 0s 7ms/step - loss: 9.0442 - mae: 9.0442\n",
            "Epoch 9/100\n",
            "2/2 [==============================] - 0s 7ms/step - loss: 18.7517 - mae: 18.7517\n",
            "Epoch 10/100\n",
            "2/2 [==============================] - 0s 7ms/step - loss: 10.1142 - mae: 10.1142\n",
            "Epoch 11/100\n",
            "2/2 [==============================] - 0s 7ms/step - loss: 8.3980 - mae: 8.3980\n",
            "Epoch 12/100\n",
            "2/2 [==============================] - 0s 7ms/step - loss: 10.6639 - mae: 10.6639\n",
            "Epoch 13/100\n",
            "2/2 [==============================] - 0s 7ms/step - loss: 9.7977 - mae: 9.7977\n",
            "Epoch 14/100\n",
            "2/2 [==============================] - 0s 7ms/step - loss: 16.0103 - mae: 16.0103\n",
            "Epoch 15/100\n",
            "2/2 [==============================] - 0s 7ms/step - loss: 11.4068 - mae: 11.4068\n",
            "Epoch 16/100\n",
            "2/2 [==============================] - 0s 7ms/step - loss: 8.5393 - mae: 8.5393\n",
            "Epoch 17/100\n",
            "2/2 [==============================] - 0s 7ms/step - loss: 13.6348 - mae: 13.6348\n",
            "Epoch 18/100\n",
            "2/2 [==============================] - 0s 7ms/step - loss: 11.4629 - mae: 11.4629\n",
            "Epoch 19/100\n",
            "2/2 [==============================] - 0s 8ms/step - loss: 17.9148 - mae: 17.9148\n",
            "Epoch 20/100\n",
            "2/2 [==============================] - 0s 7ms/step - loss: 15.0494 - mae: 15.0494\n",
            "Epoch 21/100\n",
            "2/2 [==============================] - 0s 12ms/step - loss: 11.0216 - mae: 11.0216\n",
            "Epoch 22/100\n",
            "2/2 [==============================] - 0s 7ms/step - loss: 8.1558 - mae: 8.1558\n",
            "Epoch 23/100\n",
            "2/2 [==============================] - 0s 8ms/step - loss: 9.5138 - mae: 9.5138\n",
            "Epoch 24/100\n",
            "2/2 [==============================] - 0s 7ms/step - loss: 7.6617 - mae: 7.6617\n",
            "Epoch 25/100\n",
            "2/2 [==============================] - 0s 7ms/step - loss: 13.1859 - mae: 13.1859\n",
            "Epoch 26/100\n",
            "2/2 [==============================] - 0s 8ms/step - loss: 16.4211 - mae: 16.4211\n",
            "Epoch 27/100\n",
            "2/2 [==============================] - 0s 7ms/step - loss: 13.1659 - mae: 13.1659\n",
            "Epoch 28/100\n",
            "2/2 [==============================] - 0s 7ms/step - loss: 14.2559 - mae: 14.2559\n",
            "Epoch 29/100\n",
            "2/2 [==============================] - 0s 7ms/step - loss: 10.0670 - mae: 10.0670\n",
            "Epoch 30/100\n",
            "2/2 [==============================] - 0s 7ms/step - loss: 16.3409 - mae: 16.3409\n",
            "Epoch 31/100\n",
            "2/2 [==============================] - 0s 7ms/step - loss: 23.6444 - mae: 23.6444\n",
            "Epoch 32/100\n",
            "2/2 [==============================] - 0s 10ms/step - loss: 7.6215 - mae: 7.6215\n",
            "Epoch 33/100\n",
            "2/2 [==============================] - 0s 7ms/step - loss: 9.3221 - mae: 9.3221\n",
            "Epoch 34/100\n",
            "2/2 [==============================] - 0s 13ms/step - loss: 13.7313 - mae: 13.7313\n",
            "Epoch 35/100\n",
            "2/2 [==============================] - 0s 5ms/step - loss: 11.1276 - mae: 11.1276\n",
            "Epoch 36/100\n",
            "2/2 [==============================] - 0s 8ms/step - loss: 13.3222 - mae: 13.3222\n",
            "Epoch 37/100\n",
            "2/2 [==============================] - 0s 11ms/step - loss: 9.4763 - mae: 9.4763\n",
            "Epoch 38/100\n",
            "2/2 [==============================] - 0s 12ms/step - loss: 10.1381 - mae: 10.1381\n",
            "Epoch 39/100\n",
            "2/2 [==============================] - 0s 8ms/step - loss: 10.1793 - mae: 10.1793\n",
            "Epoch 40/100\n",
            "2/2 [==============================] - 0s 7ms/step - loss: 10.9137 - mae: 10.9137\n",
            "Epoch 41/100\n",
            "2/2 [==============================] - 0s 7ms/step - loss: 7.9063 - mae: 7.9063\n",
            "Epoch 42/100\n",
            "2/2 [==============================] - 0s 9ms/step - loss: 10.0914 - mae: 10.0914\n",
            "Epoch 43/100\n",
            "2/2 [==============================] - 0s 7ms/step - loss: 8.7006 - mae: 8.7006\n",
            "Epoch 44/100\n",
            "2/2 [==============================] - 0s 8ms/step - loss: 12.2047 - mae: 12.2047\n",
            "Epoch 45/100\n",
            "2/2 [==============================] - 0s 8ms/step - loss: 13.7970 - mae: 13.7970\n",
            "Epoch 46/100\n",
            "2/2 [==============================] - 0s 8ms/step - loss: 8.4687 - mae: 8.4687\n",
            "Epoch 47/100\n",
            "2/2 [==============================] - 0s 7ms/step - loss: 9.1330 - mae: 9.1330\n",
            "Epoch 48/100\n",
            "2/2 [==============================] - 0s 12ms/step - loss: 10.6190 - mae: 10.6190\n",
            "Epoch 49/100\n",
            "2/2 [==============================] - 0s 7ms/step - loss: 7.7503 - mae: 7.7503\n",
            "Epoch 50/100\n",
            "2/2 [==============================] - 0s 7ms/step - loss: 9.5407 - mae: 9.5407\n",
            "Epoch 51/100\n",
            "2/2 [==============================] - 0s 7ms/step - loss: 9.1584 - mae: 9.1584\n",
            "Epoch 52/100\n",
            "2/2 [==============================] - 0s 12ms/step - loss: 16.3630 - mae: 16.3630\n",
            "Epoch 53/100\n",
            "2/2 [==============================] - 0s 6ms/step - loss: 14.1299 - mae: 14.1299\n",
            "Epoch 54/100\n",
            "2/2 [==============================] - 0s 6ms/step - loss: 21.1247 - mae: 21.1247\n",
            "Epoch 55/100\n",
            "2/2 [==============================] - 0s 7ms/step - loss: 16.3961 - mae: 16.3961\n",
            "Epoch 56/100\n",
            "2/2 [==============================] - 0s 6ms/step - loss: 9.9806 - mae: 9.9806\n",
            "Epoch 57/100\n",
            "2/2 [==============================] - 0s 6ms/step - loss: 9.9606 - mae: 9.9606\n",
            "Epoch 58/100\n",
            "2/2 [==============================] - 0s 6ms/step - loss: 9.2209 - mae: 9.2209\n",
            "Epoch 59/100\n",
            "2/2 [==============================] - 0s 7ms/step - loss: 8.4239 - mae: 8.4239\n",
            "Epoch 60/100\n",
            "2/2 [==============================] - 0s 7ms/step - loss: 9.4869 - mae: 9.4869\n",
            "Epoch 61/100\n",
            "2/2 [==============================] - 0s 7ms/step - loss: 11.4355 - mae: 11.4355\n",
            "Epoch 62/100\n",
            "2/2 [==============================] - 0s 10ms/step - loss: 11.6887 - mae: 11.6887\n",
            "Epoch 63/100\n",
            "2/2 [==============================] - 0s 6ms/step - loss: 7.0838 - mae: 7.0838\n",
            "Epoch 64/100\n",
            "2/2 [==============================] - 0s 7ms/step - loss: 16.9675 - mae: 16.9675\n",
            "Epoch 65/100\n",
            "2/2 [==============================] - 0s 6ms/step - loss: 12.4599 - mae: 12.4599\n",
            "Epoch 66/100\n",
            "2/2 [==============================] - 0s 7ms/step - loss: 13.0184 - mae: 13.0184\n",
            "Epoch 67/100\n",
            "2/2 [==============================] - 0s 6ms/step - loss: 8.0600 - mae: 8.0600\n",
            "Epoch 68/100\n",
            "2/2 [==============================] - 0s 8ms/step - loss: 10.1888 - mae: 10.1888\n",
            "Epoch 69/100\n",
            "2/2 [==============================] - 0s 6ms/step - loss: 12.3633 - mae: 12.3633\n",
            "Epoch 70/100\n",
            "2/2 [==============================] - 0s 7ms/step - loss: 9.0516 - mae: 9.0516\n",
            "Epoch 71/100\n",
            "2/2 [==============================] - 0s 6ms/step - loss: 10.0378 - mae: 10.0378\n",
            "Epoch 72/100\n",
            "2/2 [==============================] - 0s 10ms/step - loss: 10.0516 - mae: 10.0516\n",
            "Epoch 73/100\n",
            "2/2 [==============================] - 0s 7ms/step - loss: 12.6151 - mae: 12.6151\n",
            "Epoch 74/100\n",
            "2/2 [==============================] - 0s 7ms/step - loss: 10.3819 - mae: 10.3819\n",
            "Epoch 75/100\n",
            "2/2 [==============================] - 0s 7ms/step - loss: 9.7229 - mae: 9.7229\n",
            "Epoch 76/100\n",
            "2/2 [==============================] - 0s 6ms/step - loss: 11.2252 - mae: 11.2252\n",
            "Epoch 77/100\n",
            "2/2 [==============================] - 0s 9ms/step - loss: 8.3642 - mae: 8.3642\n",
            "Epoch 78/100\n",
            "2/2 [==============================] - 0s 6ms/step - loss: 9.1274 - mae: 9.1274\n",
            "Epoch 79/100\n",
            "2/2 [==============================] - 0s 9ms/step - loss: 19.5039 - mae: 19.5039\n",
            "Epoch 80/100\n",
            "2/2 [==============================] - 0s 6ms/step - loss: 14.8945 - mae: 14.8945\n",
            "Epoch 81/100\n",
            "2/2 [==============================] - 0s 6ms/step - loss: 9.0034 - mae: 9.0034\n",
            "Epoch 82/100\n",
            "2/2 [==============================] - 0s 7ms/step - loss: 13.0206 - mae: 13.0206\n",
            "Epoch 83/100\n",
            "2/2 [==============================] - 0s 7ms/step - loss: 7.9299 - mae: 7.9299\n",
            "Epoch 84/100\n",
            "2/2 [==============================] - 0s 6ms/step - loss: 7.6872 - mae: 7.6872\n",
            "Epoch 85/100\n",
            "2/2 [==============================] - 0s 6ms/step - loss: 10.0328 - mae: 10.0328\n",
            "Epoch 86/100\n",
            "2/2 [==============================] - 0s 9ms/step - loss: 9.2433 - mae: 9.2433\n",
            "Epoch 87/100\n",
            "2/2 [==============================] - 0s 7ms/step - loss: 12.0209 - mae: 12.0209\n",
            "Epoch 88/100\n",
            "2/2 [==============================] - 0s 6ms/step - loss: 10.6389 - mae: 10.6389\n",
            "Epoch 89/100\n",
            "2/2 [==============================] - 0s 6ms/step - loss: 7.2667 - mae: 7.2667\n",
            "Epoch 90/100\n",
            "2/2 [==============================] - 0s 7ms/step - loss: 12.7786 - mae: 12.7786\n",
            "Epoch 91/100\n",
            "2/2 [==============================] - 0s 10ms/step - loss: 7.3481 - mae: 7.3481\n",
            "Epoch 92/100\n",
            "2/2 [==============================] - 0s 6ms/step - loss: 7.7175 - mae: 7.7175\n",
            "Epoch 93/100\n",
            "2/2 [==============================] - 0s 6ms/step - loss: 7.1263 - mae: 7.1263\n",
            "Epoch 94/100\n",
            "2/2 [==============================] - 0s 7ms/step - loss: 12.6190 - mae: 12.6190\n",
            "Epoch 95/100\n",
            "2/2 [==============================] - 0s 7ms/step - loss: 10.0912 - mae: 10.0912\n",
            "Epoch 96/100\n",
            "2/2 [==============================] - 0s 7ms/step - loss: 9.3558 - mae: 9.3558\n",
            "Epoch 97/100\n",
            "2/2 [==============================] - 0s 7ms/step - loss: 12.6834 - mae: 12.6834\n",
            "Epoch 98/100\n",
            "2/2 [==============================] - 0s 6ms/step - loss: 8.6762 - mae: 8.6762\n",
            "Epoch 99/100\n",
            "2/2 [==============================] - 0s 6ms/step - loss: 9.4693 - mae: 9.4693\n",
            "Epoch 100/100\n",
            "2/2 [==============================] - 0s 7ms/step - loss: 8.7067 - mae: 8.7067\n"
          ]
        },
        {
          "output_type": "execute_result",
          "data": {
            "text/plain": [
              "<keras.callbacks.History at 0x7f6a2b4f6ad0>"
            ]
          },
          "metadata": {},
          "execution_count": 46
        }
      ]
    },
    {
      "cell_type": "code",
      "source": [
        "# Make and plot predictions for model_1\n",
        "y_preds_1 = model_1.predict(X_test)\n",
        "plot_predictions(predictions=y_preds_1)"
      ],
      "metadata": {
        "colab": {
          "base_uri": "https://localhost:8080/",
          "height": 428
        },
        "id": "8jxz2eRjWpJX",
        "outputId": "706508fa-5ae3-40f2-abe6-e38fa88e4f3f"
      },
      "execution_count": 47,
      "outputs": [
        {
          "output_type": "display_data",
          "data": {
            "text/plain": [
              "<Figure size 720x504 with 1 Axes>"
            ],
            "image/png": "[encoded data removed]"
          },
          "metadata": {
            "needs_background": "light"
          }
        }
      ]
    },
    {
      "cell_type": "code",
      "source": [
        "tf.constant(y_preds_1), tf.squeeze(y_preds_1)"
      ],
      "metadata": {
        "colab": {
          "base_uri": "https://localhost:8080/"
        },
        "id": "ALLT1Xz8gEcH",
        "outputId": "bbbe669d-bb32-492c-8df3-ef547be3876e"
      },
      "execution_count": 48,
      "outputs": [
        {
          "output_type": "execute_result",
          "data": {
            "text/plain": [
              "(<tf.Tensor: shape=(10, 1), dtype=float32, numpy=\n",
              " array([[53.57109 ],\n",
              "        [57.05633 ],\n",
              "        [60.541573],\n",
              "        [64.02681 ],\n",
              "        [67.512054],\n",
              "        [70.99729 ],\n",
              "        [74.48254 ],\n",
              "        [77.96777 ],\n",
              "        [81.45301 ],\n",
              "        [84.938255]], dtype=float32)>,\n",
              " <tf.Tensor: shape=(10,), dtype=float32, numpy=\n",
              " array([53.57109 , 57.05633 , 60.541573, 64.02681 , 67.512054, 70.99729 ,\n",
              "        74.48254 , 77.96777 , 81.45301 , 84.938255], dtype=float32)>)"
            ]
          },
          "metadata": {},
          "execution_count": 48
        }
      ]
    },
    {
      "cell_type": "code",
      "source": [
        "# Calculate model_1 evaluation metrics\n",
        "mae_1 = mae(y_test, y_preds_1)\n",
        "mse_1 = mse(y_test, y_preds_1)\n",
        "mae_1, mse_1"
      ],
      "metadata": {
        "colab": {
          "base_uri": "https://localhost:8080/"
        },
        "id": "acQdqJkvX13M",
        "outputId": "d5db0d62-2324-47e4-bd67-276c54c4d025"
      },
      "execution_count": 49,
      "outputs": [
        {
          "output_type": "execute_result",
          "data": {
            "text/plain": [
              "(<tf.Tensor: shape=(), dtype=float32, numpy=18.745327>,\n",
              " <tf.Tensor: shape=(), dtype=float32, numpy=353.5734>)"
            ]
          },
          "metadata": {},
          "execution_count": 49
        }
      ]
    },
    {
      "cell_type": "markdown",
      "source": [
        "**Build `model_2`**\n",
        "\n",
        "* 2 dense layers, trained  for 100 epochs"
      ],
      "metadata": {
        "id": "7KUFQVQtf0sY"
      }
    },
    {
      "cell_type": "code",
      "source": [
        "# set the random seed\n",
        "tf.random.set_seed(42)\n",
        "\n",
        "# 1. Create the model\n",
        "model_2 = tf.keras.Sequential([\n",
        "  tf.keras.layers.Dense(10),\n",
        "  tf.keras.layers.Dense(1)\n",
        "])\n",
        "\n",
        "# 2. Complie the model\n",
        "model_2.compile(loss=tf.keras.losses.mae,\n",
        "                optimizer=tf.keras.optimizers.SGD(),\n",
        "                metrics=[\"mse\"])\n",
        "\n",
        "# 3. Fit the model\n",
        "model_2.fit(X_train, y_train, epochs=100)"
      ],
      "metadata": {
        "id": "zntDub_Ag3NK",
        "colab": {
          "base_uri": "https://localhost:8080/"
        },
        "outputId": "a674a18d-3eb5-43de-dfcb-4ee152aa1406"
      },
      "execution_count": 50,
      "outputs": [
        {
          "output_type": "stream",
          "name": "stdout",
          "text": [
            "Epoch 1/100\n",
            "2/2 [==============================] - 0s 9ms/step - loss: 27.4058 - mse: 1084.1482\n",
            "Epoch 2/100\n",
            "2/2 [==============================] - 0s 7ms/step - loss: 24.6339 - mse: 777.9203\n",
            "Epoch 3/100\n",
            "2/2 [==============================] - 0s 7ms/step - loss: 29.8935 - mse: 1334.8951\n",
            "Epoch 4/100\n",
            "2/2 [==============================] - 0s 7ms/step - loss: 27.4055 - mse: 1106.8038\n",
            "Epoch 5/100\n",
            "2/2 [==============================] - 0s 7ms/step - loss: 14.9463 - mse: 281.1077\n",
            "Epoch 6/100\n",
            "2/2 [==============================] - 0s 7ms/step - loss: 11.8819 - mse: 168.6622\n",
            "Epoch 7/100\n",
            "2/2 [==============================] - 0s 10ms/step - loss: 11.1988 - mse: 151.3509\n",
            "Epoch 8/100\n",
            "2/2 [==============================] - 0s 8ms/step - loss: 11.0910 - mse: 160.3746\n",
            "Epoch 9/100\n",
            "2/2 [==============================] - 0s 8ms/step - loss: 40.4763 - mse: 2586.0093\n",
            "Epoch 10/100\n",
            "2/2 [==============================] - 0s 7ms/step - loss: 27.8688 - mse: 1094.4385\n",
            "Epoch 11/100\n",
            "2/2 [==============================] - 0s 10ms/step - loss: 10.2473 - mse: 147.9359\n",
            "Epoch 12/100\n",
            "2/2 [==============================] - 0s 8ms/step - loss: 25.2803 - mse: 890.3866\n",
            "Epoch 13/100\n",
            "2/2 [==============================] - 0s 8ms/step - loss: 16.9897 - mse: 399.9678\n",
            "Epoch 14/100\n",
            "2/2 [==============================] - 0s 7ms/step - loss: 25.9217 - mse: 1049.5519\n",
            "Epoch 15/100\n",
            "2/2 [==============================] - 0s 7ms/step - loss: 17.9948 - mse: 450.2584\n",
            "Epoch 16/100\n",
            "2/2 [==============================] - 0s 8ms/step - loss: 7.3510 - mse: 80.6206\n",
            "Epoch 17/100\n",
            "2/2 [==============================] - 0s 8ms/step - loss: 10.8636 - mse: 174.7868\n",
            "Epoch 18/100\n",
            "2/2 [==============================] - 0s 7ms/step - loss: 19.5304 - mse: 565.8051\n",
            "Epoch 19/100\n",
            "2/2 [==============================] - 0s 8ms/step - loss: 10.3469 - mse: 167.7749\n",
            "Epoch 20/100\n",
            "2/2 [==============================] - 0s 7ms/step - loss: 17.6985 - mse: 455.7094\n",
            "Epoch 21/100\n",
            "2/2 [==============================] - 0s 12ms/step - loss: 15.8984 - mse: 347.1928\n",
            "Epoch 22/100\n",
            "2/2 [==============================] - 0s 8ms/step - loss: 14.1991 - mse: 285.1766\n",
            "Epoch 23/100\n",
            "2/2 [==============================] - 0s 7ms/step - loss: 8.7720 - mse: 91.7852\n",
            "Epoch 24/100\n",
            "2/2 [==============================] - 0s 8ms/step - loss: 11.0570 - mse: 153.7430\n",
            "Epoch 25/100\n",
            "2/2 [==============================] - 0s 7ms/step - loss: 12.6838 - mse: 233.2951\n",
            "Epoch 26/100\n",
            "2/2 [==============================] - 0s 7ms/step - loss: 26.1877 - mse: 1024.6094\n",
            "Epoch 27/100\n",
            "2/2 [==============================] - 0s 7ms/step - loss: 11.7432 - mse: 194.8453\n",
            "Epoch 28/100\n",
            "2/2 [==============================] - 0s 7ms/step - loss: 22.8730 - mse: 835.6071\n",
            "Epoch 29/100\n",
            "2/2 [==============================] - 0s 7ms/step - loss: 9.2459 - mse: 96.7787\n",
            "Epoch 30/100\n",
            "2/2 [==============================] - 0s 7ms/step - loss: 29.2641 - mse: 1535.1339\n",
            "Epoch 31/100\n",
            "2/2 [==============================] - 0s 8ms/step - loss: 53.0224 - mse: 5030.2949\n",
            "Epoch 32/100\n",
            "2/2 [==============================] - 0s 10ms/step - loss: 11.9951 - mse: 211.7024\n",
            "Epoch 33/100\n",
            "2/2 [==============================] - 0s 7ms/step - loss: 15.6357 - mse: 337.3665\n",
            "Epoch 34/100\n",
            "2/2 [==============================] - 0s 8ms/step - loss: 12.6925 - mse: 214.4822\n",
            "Epoch 35/100\n",
            "2/2 [==============================] - 0s 7ms/step - loss: 9.2398 - mse: 92.9126\n",
            "Epoch 36/100\n",
            "2/2 [==============================] - 0s 8ms/step - loss: 16.6497 - mse: 403.6570\n",
            "Epoch 37/100\n",
            "2/2 [==============================] - 0s 8ms/step - loss: 11.0382 - mse: 192.3919\n",
            "Epoch 38/100\n",
            "2/2 [==============================] - 0s 7ms/step - loss: 18.1634 - mse: 433.6719\n",
            "Epoch 39/100\n",
            "2/2 [==============================] - 0s 8ms/step - loss: 19.1013 - mse: 529.6442\n",
            "Epoch 40/100\n",
            "2/2 [==============================] - 0s 8ms/step - loss: 20.4324 - mse: 610.1326\n",
            "Epoch 41/100\n",
            "2/2 [==============================] - 0s 8ms/step - loss: 14.9102 - mse: 279.6181\n",
            "Epoch 42/100\n",
            "2/2 [==============================] - 0s 8ms/step - loss: 12.2809 - mse: 186.6178\n",
            "Epoch 43/100\n",
            "2/2 [==============================] - 0s 9ms/step - loss: 10.7333 - mse: 167.0951\n",
            "Epoch 44/100\n",
            "2/2 [==============================] - 0s 8ms/step - loss: 23.0260 - mse: 830.4240\n",
            "Epoch 45/100\n",
            "2/2 [==============================] - 0s 7ms/step - loss: 10.3897 - mse: 128.9549\n",
            "Epoch 46/100\n",
            "2/2 [==============================] - 0s 7ms/step - loss: 11.7904 - mse: 181.9211\n",
            "Epoch 47/100\n",
            "2/2 [==============================] - 0s 8ms/step - loss: 9.6438 - mse: 153.8708\n",
            "Epoch 48/100\n",
            "2/2 [==============================] - 0s 8ms/step - loss: 17.2335 - mse: 402.8495\n",
            "Epoch 49/100\n",
            "2/2 [==============================] - 0s 8ms/step - loss: 9.5729 - mse: 99.8336\n",
            "Epoch 50/100\n",
            "2/2 [==============================] - 0s 7ms/step - loss: 13.8185 - mse: 260.3670\n",
            "Epoch 51/100\n",
            "2/2 [==============================] - 0s 8ms/step - loss: 11.5958 - mse: 154.7956\n",
            "Epoch 52/100\n",
            "2/2 [==============================] - 0s 8ms/step - loss: 30.5538 - mse: 1613.0880\n",
            "Epoch 53/100\n",
            "2/2 [==============================] - 0s 9ms/step - loss: 14.3541 - mse: 302.5292\n",
            "Epoch 54/100\n",
            "2/2 [==============================] - 0s 10ms/step - loss: 23.9713 - mse: 859.3983\n",
            "Epoch 55/100\n",
            "2/2 [==============================] - 0s 8ms/step - loss: 23.1938 - mse: 805.5450\n",
            "Epoch 56/100\n",
            "2/2 [==============================] - 0s 7ms/step - loss: 10.8837 - mse: 170.9834\n",
            "Epoch 57/100\n",
            "2/2 [==============================] - 0s 8ms/step - loss: 12.7445 - mse: 198.7016\n",
            "Epoch 58/100\n",
            "2/2 [==============================] - 0s 8ms/step - loss: 9.5995 - mse: 102.5890\n",
            "Epoch 59/100\n",
            "2/2 [==============================] - 0s 8ms/step - loss: 12.5172 - mse: 216.3369\n",
            "Epoch 60/100\n",
            "2/2 [==============================] - 0s 8ms/step - loss: 12.3200 - mse: 208.6371\n",
            "Epoch 61/100\n",
            "2/2 [==============================] - 0s 8ms/step - loss: 17.4604 - mse: 428.6395\n",
            "Epoch 62/100\n",
            "2/2 [==============================] - 0s 7ms/step - loss: 10.6052 - mse: 136.9777\n",
            "Epoch 63/100\n",
            "2/2 [==============================] - 0s 7ms/step - loss: 10.4893 - mse: 152.4555\n",
            "Epoch 64/100\n",
            "2/2 [==============================] - 0s 7ms/step - loss: 24.8450 - mse: 911.7513\n",
            "Epoch 65/100\n",
            "2/2 [==============================] - 0s 6ms/step - loss: 10.6761 - mse: 142.7375\n",
            "Epoch 66/100\n",
            "2/2 [==============================] - 0s 6ms/step - loss: 21.7810 - mse: 704.4494\n",
            "Epoch 67/100\n",
            "2/2 [==============================] - 0s 7ms/step - loss: 10.7136 - mse: 136.0195\n",
            "Epoch 68/100\n",
            "2/2 [==============================] - 0s 7ms/step - loss: 10.6397 - mse: 149.2301\n",
            "Epoch 69/100\n",
            "2/2 [==============================] - 0s 6ms/step - loss: 22.6914 - mse: 742.1767\n",
            "Epoch 70/100\n",
            "2/2 [==============================] - 0s 8ms/step - loss: 9.3316 - mse: 166.1628\n",
            "Epoch 71/100\n",
            "2/2 [==============================] - 0s 6ms/step - loss: 15.4355 - mse: 323.0842\n",
            "Epoch 72/100\n",
            "2/2 [==============================] - 0s 7ms/step - loss: 6.7437 - mse: 67.0209\n",
            "Epoch 73/100\n",
            "2/2 [==============================] - 0s 6ms/step - loss: 11.6891 - mse: 183.7296\n",
            "Epoch 74/100\n",
            "2/2 [==============================] - 0s 6ms/step - loss: 24.0400 - mse: 908.8998\n",
            "Epoch 75/100\n",
            "2/2 [==============================] - 0s 6ms/step - loss: 9.5897 - mse: 149.3948\n",
            "Epoch 76/100\n",
            "2/2 [==============================] - 0s 7ms/step - loss: 12.4371 - mse: 188.3310\n",
            "Epoch 77/100\n",
            "2/2 [==============================] - 0s 7ms/step - loss: 16.6489 - mse: 429.2708\n",
            "Epoch 78/100\n",
            "2/2 [==============================] - 0s 6ms/step - loss: 9.0614 - mse: 95.4870\n",
            "Epoch 79/100\n",
            "2/2 [==============================] - 0s 6ms/step - loss: 23.9675 - mse: 864.0865\n",
            "Epoch 80/100\n",
            "2/2 [==============================] - 0s 6ms/step - loss: 26.7463 - mse: 1104.4033\n",
            "Epoch 81/100\n",
            "2/2 [==============================] - 0s 7ms/step - loss: 11.6714 - mse: 170.7056\n",
            "Epoch 82/100\n",
            "2/2 [==============================] - 0s 6ms/step - loss: 12.0228 - mse: 211.9191\n",
            "Epoch 83/100\n",
            "2/2 [==============================] - 0s 7ms/step - loss: 17.4218 - mse: 395.5588\n",
            "Epoch 84/100\n",
            "2/2 [==============================] - 0s 7ms/step - loss: 7.2629 - mse: 73.0935\n",
            "Epoch 85/100\n",
            "2/2 [==============================] - 0s 12ms/step - loss: 14.9650 - mse: 312.8360\n",
            "Epoch 86/100\n",
            "2/2 [==============================] - 0s 7ms/step - loss: 15.2862 - mse: 315.3605\n",
            "Epoch 87/100\n",
            "2/2 [==============================] - 0s 6ms/step - loss: 19.1086 - mse: 521.2532\n",
            "Epoch 88/100\n",
            "2/2 [==============================] - 0s 7ms/step - loss: 29.8229 - mse: 1287.1917\n",
            "Epoch 89/100\n",
            "2/2 [==============================] - 0s 7ms/step - loss: 10.1742 - mse: 124.1342\n",
            "Epoch 90/100\n",
            "2/2 [==============================] - 0s 7ms/step - loss: 21.5240 - mse: 663.8616\n",
            "Epoch 91/100\n",
            "2/2 [==============================] - 0s 7ms/step - loss: 10.5716 - mse: 161.7467\n",
            "Epoch 92/100\n",
            "2/2 [==============================] - 0s 7ms/step - loss: 18.3977 - mse: 464.1330\n",
            "Epoch 93/100\n",
            "2/2 [==============================] - 0s 7ms/step - loss: 7.4138 - mse: 81.9820\n",
            "Epoch 94/100\n",
            "2/2 [==============================] - 0s 7ms/step - loss: 17.7380 - mse: 445.7383\n",
            "Epoch 95/100\n",
            "2/2 [==============================] - 0s 6ms/step - loss: 11.1144 - mse: 164.0822\n",
            "Epoch 96/100\n",
            "2/2 [==============================] - 0s 7ms/step - loss: 19.4346 - mse: 510.5847\n",
            "Epoch 97/100\n",
            "2/2 [==============================] - 0s 7ms/step - loss: 12.1593 - mse: 209.9758\n",
            "Epoch 98/100\n",
            "2/2 [==============================] - 0s 7ms/step - loss: 11.5653 - mse: 169.4053\n",
            "Epoch 99/100\n",
            "2/2 [==============================] - 0s 7ms/step - loss: 13.8827 - mse: 265.4632\n",
            "Epoch 100/100\n",
            "2/2 [==============================] - 0s 8ms/step - loss: 20.2277 - mse: 608.8224\n"
          ]
        },
        {
          "output_type": "execute_result",
          "data": {
            "text/plain": [
              "<keras.callbacks.History at 0x7f6a2bf1fc90>"
            ]
          },
          "metadata": {},
          "execution_count": 50
        }
      ]
    },
    {
      "cell_type": "code",
      "source": [
        "# Make and plot predictions of model_2\n",
        "y_preds_2 = model_2.predict(X_test)\n",
        "plot_predictions(predictions=y_preds_2)"
      ],
      "metadata": {
        "colab": {
          "base_uri": "https://localhost:8080/",
          "height": 465
        },
        "id": "KPz0wQ31v6xy",
        "outputId": "24f67b43-c768-4cc9-c0ed-1d3c209ba148"
      },
      "execution_count": 51,
      "outputs": [
        {
          "output_type": "stream",
          "name": "stdout",
          "text": [
            "WARNING:tensorflow:5 out of the last 5 calls to <function Model.make_predict_function.<locals>.predict_function at 0x7f6a2beee170> triggered tf.function retracing. Tracing is expensive and the excessive number of tracings could be due to (1) creating @tf.function repeatedly in a loop, (2) passing tensors with different shapes, (3) passing Python objects instead of tensors. For (1), please define your @tf.function outside of the loop. For (2), @tf.function has experimental_relax_shapes=True option that relaxes argument shapes that can avoid unnecessary retracing. For (3), please refer to https://www.tensorflow.org/guide/function#controlling_retracing and https://www.tensorflow.org/api_docs/python/tf/function for  more details.\n"
          ]
        },
        {
          "output_type": "display_data",
          "data": {
            "text/plain": [
              "<Figure size 720x504 with 1 Axes>"
            ],
            "image/png": "[encoded data removed]"
          },
          "metadata": {
            "needs_background": "light"
          }
        }
      ]
    },
    {
      "cell_type": "code",
      "source": [
        "# Calculate model_2 evaluation metrics\n",
        "mae_2 = mae(y_test, y_preds_2)\n",
        "mse_2 = mse(y_test, y_preds_2)\n",
        "mae_2, mse_2"
      ],
      "metadata": {
        "colab": {
          "base_uri": "https://localhost:8080/"
        },
        "id": "Deq4isNtwclM",
        "outputId": "a0a25280-4a4d-4f79-8767-6fa1eacd9e84"
      },
      "execution_count": 52,
      "outputs": [
        {
          "output_type": "execute_result",
          "data": {
            "text/plain": [
              "(<tf.Tensor: shape=(), dtype=float32, numpy=3.1969643>,\n",
              " <tf.Tensor: shape=(), dtype=float32, numpy=13.0703>)"
            ]
          },
          "metadata": {},
          "execution_count": 52
        }
      ]
    },
    {
      "cell_type": "markdown",
      "source": [
        "**Build** `model_3`\n",
        "\n",
        "* 2 layers, trained for 500 epochs"
      ],
      "metadata": {
        "id": "ZYgjr1YPwqho"
      }
    },
    {
      "cell_type": "code",
      "source": [
        "# set random seed\n",
        "tf.random.set_seed(42)\n",
        "\n",
        "# Create the model\n",
        "model_3 = tf.keras.Sequential([\n",
        "  tf.keras.layers.Dense(10),\n",
        "  tf.keras.layers.Dense(1)\n",
        "])\n",
        "\n",
        "# Compile the model\n",
        "model_3.compile(loss=tf.keras.losses.mae,\n",
        "                optimizer=tf.keras.optimizers.SGD(),\n",
        "                metrics=[\"mse\"])\n",
        "\n",
        "# Fit the model\n",
        "model_3.fit(X_train, y_train, epochs=500)"
      ],
      "metadata": {
        "colab": {
          "base_uri": "https://localhost:8080/"
        },
        "id": "DTkf7tLxw37B",
        "outputId": "7f6c998e-dbce-4bf5-f935-449f7dd9af4f"
      },
      "execution_count": 53,
      "outputs": [
        {
          "output_type": "stream",
          "name": "stdout",
          "text": [
            "Epoch 1/500\n",
            "2/2 [==============================] - 0s 8ms/step - loss: 27.4058 - mse: 1084.1482\n",
            "Epoch 2/500\n",
            "2/2 [==============================] - 0s 8ms/step - loss: 24.6339 - mse: 777.9203\n",
            "Epoch 3/500\n",
            "2/2 [==============================] - 0s 7ms/step - loss: 29.8935 - mse: 1334.8951\n",
            "Epoch 4/500\n",
            "2/2 [==============================] - 0s 7ms/step - loss: 27.4055 - mse: 1106.8038\n",
            "Epoch 5/500\n",
            "2/2 [==============================] - 0s 8ms/step - loss: 14.9463 - mse: 281.1077\n",
            "Epoch 6/500\n",
            "2/2 [==============================] - 0s 8ms/step - loss: 11.8819 - mse: 168.6622\n",
            "Epoch 7/500\n",
            "2/2 [==============================] - 0s 7ms/step - loss: 11.1988 - mse: 151.3509\n",
            "Epoch 8/500\n",
            "2/2 [==============================] - 0s 12ms/step - loss: 11.0910 - mse: 160.3746\n",
            "Epoch 9/500\n",
            "2/2 [==============================] - 0s 7ms/step - loss: 40.4763 - mse: 2586.0093\n",
            "Epoch 10/500\n",
            "2/2 [==============================] - 0s 7ms/step - loss: 27.8688 - mse: 1094.4385\n",
            "Epoch 11/500\n",
            "2/2 [==============================] - 0s 7ms/step - loss: 10.2473 - mse: 147.9359\n",
            "Epoch 12/500\n",
            "2/2 [==============================] - 0s 7ms/step - loss: 25.2803 - mse: 890.3866\n",
            "Epoch 13/500\n",
            "2/2 [==============================] - 0s 8ms/step - loss: 16.9897 - mse: 399.9678\n",
            "Epoch 14/500\n",
            "2/2 [==============================] - 0s 9ms/step - loss: 25.9217 - mse: 1049.5519\n",
            "Epoch 15/500\n",
            "2/2 [==============================] - 0s 7ms/step - loss: 17.9948 - mse: 450.2584\n",
            "Epoch 16/500\n",
            "2/2 [==============================] - 0s 7ms/step - loss: 7.3510 - mse: 80.6206\n",
            "Epoch 17/500\n",
            "2/2 [==============================] - 0s 11ms/step - loss: 10.8636 - mse: 174.7868\n",
            "Epoch 18/500\n",
            "2/2 [==============================] - 0s 7ms/step - loss: 19.5304 - mse: 565.8051\n",
            "Epoch 19/500\n",
            "2/2 [==============================] - 0s 7ms/step - loss: 10.3469 - mse: 167.7749\n",
            "Epoch 20/500\n",
            "2/2 [==============================] - 0s 7ms/step - loss: 17.6985 - mse: 455.7094\n",
            "Epoch 21/500\n",
            "2/2 [==============================] - 0s 7ms/step - loss: 15.8984 - mse: 347.1928\n",
            "Epoch 22/500\n",
            "2/2 [==============================] - 0s 7ms/step - loss: 14.1991 - mse: 285.1766\n",
            "Epoch 23/500\n",
            "2/2 [==============================] - 0s 7ms/step - loss: 8.7720 - mse: 91.7852\n",
            "Epoch 24/500\n",
            "2/2 [==============================] - 0s 7ms/step - loss: 11.0570 - mse: 153.7430\n",
            "Epoch 25/500\n",
            "2/2 [==============================] - 0s 8ms/step - loss: 12.6838 - mse: 233.2951\n",
            "Epoch 26/500\n",
            "2/2 [==============================] - 0s 7ms/step - loss: 26.1877 - mse: 1024.6094\n",
            "Epoch 27/500\n",
            "2/2 [==============================] - 0s 8ms/step - loss: 11.7432 - mse: 194.8453\n",
            "Epoch 28/500\n",
            "2/2 [==============================] - 0s 8ms/step - loss: 22.8730 - mse: 835.6071\n",
            "Epoch 29/500\n",
            "2/2 [==============================] - 0s 8ms/step - loss: 9.2459 - mse: 96.7787\n",
            "Epoch 30/500\n",
            "2/2 [==============================] - 0s 7ms/step - loss: 29.2641 - mse: 1535.1339\n",
            "Epoch 31/500\n",
            "2/2 [==============================] - 0s 7ms/step - loss: 53.0224 - mse: 5030.2949\n",
            "Epoch 32/500\n",
            "2/2 [==============================] - 0s 7ms/step - loss: 11.9951 - mse: 211.7024\n",
            "Epoch 33/500\n",
            "2/2 [==============================] - 0s 7ms/step - loss: 15.6357 - mse: 337.3665\n",
            "Epoch 34/500\n",
            "2/2 [==============================] - 0s 8ms/step - loss: 12.6925 - mse: 214.4822\n",
            "Epoch 35/500\n",
            "2/2 [==============================] - 0s 8ms/step - loss: 9.2398 - mse: 92.9126\n",
            "Epoch 36/500\n",
            "2/2 [==============================] - 0s 7ms/step - loss: 16.6497 - mse: 403.6570\n",
            "Epoch 37/500\n",
            "2/2 [==============================] - 0s 10ms/step - loss: 11.0382 - mse: 192.3919\n",
            "Epoch 38/500\n",
            "2/2 [==============================] - 0s 10ms/step - loss: 18.1634 - mse: 433.6719\n",
            "Epoch 39/500\n",
            "2/2 [==============================] - 0s 7ms/step - loss: 19.1013 - mse: 529.6442\n",
            "Epoch 40/500\n",
            "2/2 [==============================] - 0s 8ms/step - loss: 20.4324 - mse: 610.1326\n",
            "Epoch 41/500\n",
            "2/2 [==============================] - 0s 8ms/step - loss: 14.9102 - mse: 279.6181\n",
            "Epoch 42/500\n",
            "2/2 [==============================] - 0s 9ms/step - loss: 12.2809 - mse: 186.6178\n",
            "Epoch 43/500\n",
            "2/2 [==============================] - 0s 7ms/step - loss: 10.7333 - mse: 167.0951\n",
            "Epoch 44/500\n",
            "2/2 [==============================] - 0s 8ms/step - loss: 23.0260 - mse: 830.4240\n",
            "Epoch 45/500\n",
            "2/2 [==============================] - 0s 8ms/step - loss: 10.3897 - mse: 128.9549\n",
            "Epoch 46/500\n",
            "2/2 [==============================] - 0s 8ms/step - loss: 11.7904 - mse: 181.9211\n",
            "Epoch 47/500\n",
            "2/2 [==============================] - 0s 8ms/step - loss: 9.6438 - mse: 153.8708\n",
            "Epoch 48/500\n",
            "2/2 [==============================] - 0s 8ms/step - loss: 17.2335 - mse: 402.8495\n",
            "Epoch 49/500\n",
            "2/2 [==============================] - 0s 16ms/step - loss: 9.5729 - mse: 99.8336\n",
            "Epoch 50/500\n",
            "2/2 [==============================] - 0s 10ms/step - loss: 13.8185 - mse: 260.3670\n",
            "Epoch 51/500\n",
            "2/2 [==============================] - 0s 8ms/step - loss: 11.5958 - mse: 154.7956\n",
            "Epoch 52/500\n",
            "2/2 [==============================] - 0s 9ms/step - loss: 30.5538 - mse: 1613.0880\n",
            "Epoch 53/500\n",
            "2/2 [==============================] - 0s 9ms/step - loss: 14.3541 - mse: 302.5292\n",
            "Epoch 54/500\n",
            "2/2 [==============================] - 0s 11ms/step - loss: 23.9713 - mse: 859.3983\n",
            "Epoch 55/500\n",
            "2/2 [==============================] - 0s 9ms/step - loss: 23.1938 - mse: 805.5450\n",
            "Epoch 56/500\n",
            "2/2 [==============================] - 0s 7ms/step - loss: 10.8837 - mse: 170.9834\n",
            "Epoch 57/500\n",
            "2/2 [==============================] - 0s 7ms/step - loss: 12.7445 - mse: 198.7016\n",
            "Epoch 58/500\n",
            "2/2 [==============================] - 0s 10ms/step - loss: 9.5995 - mse: 102.5890\n",
            "Epoch 59/500\n",
            "2/2 [==============================] - 0s 8ms/step - loss: 12.5172 - mse: 216.3369\n",
            "Epoch 60/500\n",
            "2/2 [==============================] - 0s 7ms/step - loss: 12.3200 - mse: 208.6371\n",
            "Epoch 61/500\n",
            "2/2 [==============================] - 0s 8ms/step - loss: 17.4604 - mse: 428.6395\n",
            "Epoch 62/500\n",
            "2/2 [==============================] - 0s 8ms/step - loss: 10.6052 - mse: 136.9777\n",
            "Epoch 63/500\n",
            "2/2 [==============================] - 0s 9ms/step - loss: 10.4893 - mse: 152.4555\n",
            "Epoch 64/500\n",
            "2/2 [==============================] - 0s 8ms/step - loss: 24.8450 - mse: 911.7513\n",
            "Epoch 65/500\n",
            "2/2 [==============================] - 0s 8ms/step - loss: 10.6761 - mse: 142.7375\n",
            "Epoch 66/500\n",
            "2/2 [==============================] - 0s 8ms/step - loss: 21.7810 - mse: 704.4494\n",
            "Epoch 67/500\n",
            "2/2 [==============================] - 0s 7ms/step - loss: 10.7136 - mse: 136.0195\n",
            "Epoch 68/500\n",
            "2/2 [==============================] - 0s 8ms/step - loss: 10.6397 - mse: 149.2301\n",
            "Epoch 69/500\n",
            "2/2 [==============================] - 0s 7ms/step - loss: 22.6914 - mse: 742.1767\n",
            "Epoch 70/500\n",
            "2/2 [==============================] - 0s 7ms/step - loss: 9.3316 - mse: 166.1628\n",
            "Epoch 71/500\n",
            "2/2 [==============================] - 0s 7ms/step - loss: 15.4355 - mse: 323.0842\n",
            "Epoch 72/500\n",
            "2/2 [==============================] - 0s 7ms/step - loss: 6.7437 - mse: 67.0209\n",
            "Epoch 73/500\n",
            "2/2 [==============================] - 0s 7ms/step - loss: 11.6891 - mse: 183.7296\n",
            "Epoch 74/500\n",
            "2/2 [==============================] - 0s 8ms/step - loss: 24.0400 - mse: 908.8998\n",
            "Epoch 75/500\n",
            "2/2 [==============================] - 0s 6ms/step - loss: 9.5897 - mse: 149.3948\n",
            "Epoch 76/500\n",
            "2/2 [==============================] - 0s 7ms/step - loss: 12.4371 - mse: 188.3310\n",
            "Epoch 77/500\n",
            "2/2 [==============================] - 0s 8ms/step - loss: 16.6489 - mse: 429.2708\n",
            "Epoch 78/500\n",
            "2/2 [==============================] - 0s 6ms/step - loss: 9.0614 - mse: 95.4870\n",
            "Epoch 79/500\n",
            "2/2 [==============================] - 0s 6ms/step - loss: 23.9675 - mse: 864.0865\n",
            "Epoch 80/500\n",
            "2/2 [==============================] - 0s 7ms/step - loss: 26.7463 - mse: 1104.4033\n",
            "Epoch 81/500\n",
            "2/2 [==============================] - 0s 6ms/step - loss: 11.6714 - mse: 170.7056\n",
            "Epoch 82/500\n",
            "2/2 [==============================] - 0s 7ms/step - loss: 12.0228 - mse: 211.9191\n",
            "Epoch 83/500\n",
            "2/2 [==============================] - 0s 8ms/step - loss: 17.4218 - mse: 395.5588\n",
            "Epoch 84/500\n",
            "2/2 [==============================] - 0s 7ms/step - loss: 7.2629 - mse: 73.0935\n",
            "Epoch 85/500\n",
            "2/2 [==============================] - 0s 6ms/step - loss: 14.9650 - mse: 312.8360\n",
            "Epoch 86/500\n",
            "2/2 [==============================] - 0s 7ms/step - loss: 15.2862 - mse: 315.3605\n",
            "Epoch 87/500\n",
            "2/2 [==============================] - 0s 7ms/step - loss: 19.1086 - mse: 521.2532\n",
            "Epoch 88/500\n",
            "2/2 [==============================] - 0s 6ms/step - loss: 29.8229 - mse: 1287.1917\n",
            "Epoch 89/500\n",
            "2/2 [==============================] - 0s 7ms/step - loss: 10.1742 - mse: 124.1342\n",
            "Epoch 90/500\n",
            "2/2 [==============================] - 0s 6ms/step - loss: 21.5240 - mse: 663.8616\n",
            "Epoch 91/500\n",
            "2/2 [==============================] - 0s 8ms/step - loss: 10.5716 - mse: 161.7467\n",
            "Epoch 92/500\n",
            "2/2 [==============================] - 0s 7ms/step - loss: 18.3977 - mse: 464.1330\n",
            "Epoch 93/500\n",
            "2/2 [==============================] - 0s 6ms/step - loss: 7.4138 - mse: 81.9820\n",
            "Epoch 94/500\n",
            "2/2 [==============================] - 0s 7ms/step - loss: 17.7380 - mse: 445.7383\n",
            "Epoch 95/500\n",
            "2/2 [==============================] - 0s 6ms/step - loss: 11.1144 - mse: 164.0822\n",
            "Epoch 96/500\n",
            "2/2 [==============================] - 0s 7ms/step - loss: 19.4346 - mse: 510.5847\n",
            "Epoch 97/500\n",
            "2/2 [==============================] - 0s 6ms/step - loss: 12.1593 - mse: 209.9758\n",
            "Epoch 98/500\n",
            "2/2 [==============================] - 0s 7ms/step - loss: 11.5653 - mse: 169.4053\n",
            "Epoch 99/500\n",
            "2/2 [==============================] - 0s 7ms/step - loss: 13.8827 - mse: 265.4632\n",
            "Epoch 100/500\n",
            "2/2 [==============================] - 0s 7ms/step - loss: 20.2277 - mse: 608.8224\n",
            "Epoch 101/500\n",
            "2/2 [==============================] - 0s 6ms/step - loss: 11.4479 - mse: 177.1448\n",
            "Epoch 102/500\n",
            "2/2 [==============================] - 0s 6ms/step - loss: 17.4842 - mse: 426.5332\n",
            "Epoch 103/500\n",
            "2/2 [==============================] - 0s 6ms/step - loss: 7.0217 - mse: 65.2649\n",
            "Epoch 104/500\n",
            "2/2 [==============================] - 0s 7ms/step - loss: 23.5789 - mse: 757.4907\n",
            "Epoch 105/500\n",
            "2/2 [==============================] - 0s 7ms/step - loss: 16.8932 - mse: 443.0957\n",
            "Epoch 106/500\n",
            "2/2 [==============================] - 0s 7ms/step - loss: 9.2954 - mse: 144.6571\n",
            "Epoch 107/500\n",
            "2/2 [==============================] - 0s 6ms/step - loss: 25.3749 - mse: 934.2096\n",
            "Epoch 108/500\n",
            "2/2 [==============================] - 0s 11ms/step - loss: 13.4621 - mse: 269.8600\n",
            "Epoch 109/500\n",
            "2/2 [==============================] - 0s 6ms/step - loss: 9.5238 - mse: 108.7909\n",
            "Epoch 110/500\n",
            "2/2 [==============================] - 0s 7ms/step - loss: 9.6722 - mse: 128.8767\n",
            "Epoch 111/500\n",
            "2/2 [==============================] - 0s 7ms/step - loss: 14.5987 - mse: 295.9865\n",
            "Epoch 112/500\n",
            "2/2 [==============================] - 0s 7ms/step - loss: 9.5670 - mse: 123.4115\n",
            "Epoch 113/500\n",
            "2/2 [==============================] - 0s 6ms/step - loss: 17.8093 - mse: 460.3873\n",
            "Epoch 114/500\n",
            "2/2 [==============================] - 0s 7ms/step - loss: 17.1782 - mse: 441.2214\n",
            "Epoch 115/500\n",
            "2/2 [==============================] - 0s 7ms/step - loss: 11.1182 - mse: 155.0963\n",
            "Epoch 116/500\n",
            "2/2 [==============================] - 0s 7ms/step - loss: 23.3071 - mse: 791.7672\n",
            "Epoch 117/500\n",
            "2/2 [==============================] - 0s 7ms/step - loss: 9.6144 - mse: 126.1895\n",
            "Epoch 118/500\n",
            "2/2 [==============================] - 0s 7ms/step - loss: 10.6899 - mse: 140.2947\n",
            "Epoch 119/500\n",
            "2/2 [==============================] - 0s 6ms/step - loss: 8.0355 - mse: 78.3508\n",
            "Epoch 120/500\n",
            "2/2 [==============================] - 0s 10ms/step - loss: 29.6859 - mse: 1315.8663\n",
            "Epoch 121/500\n",
            "2/2 [==============================] - 0s 7ms/step - loss: 8.0714 - mse: 70.6648\n",
            "Epoch 122/500\n",
            "2/2 [==============================] - 0s 9ms/step - loss: 28.3087 - mse: 1233.3859\n",
            "Epoch 123/500\n",
            "2/2 [==============================] - 0s 6ms/step - loss: 32.9014 - mse: 1591.9519\n",
            "Epoch 124/500\n",
            "2/2 [==============================] - 0s 7ms/step - loss: 19.6291 - mse: 571.6967\n",
            "Epoch 125/500\n",
            "2/2 [==============================] - 0s 7ms/step - loss: 7.0095 - mse: 72.1091\n",
            "Epoch 126/500\n",
            "2/2 [==============================] - 0s 6ms/step - loss: 21.8056 - mse: 666.4346\n",
            "Epoch 127/500\n",
            "2/2 [==============================] - 0s 7ms/step - loss: 7.9812 - mse: 69.5628\n",
            "Epoch 128/500\n",
            "2/2 [==============================] - 0s 6ms/step - loss: 21.0585 - mse: 653.6493\n",
            "Epoch 129/500\n",
            "2/2 [==============================] - 0s 7ms/step - loss: 9.0107 - mse: 120.8764\n",
            "Epoch 130/500\n",
            "2/2 [==============================] - 0s 7ms/step - loss: 24.0502 - mse: 815.7748\n",
            "Epoch 131/500\n",
            "2/2 [==============================] - 0s 7ms/step - loss: 9.7537 - mse: 133.0196\n",
            "Epoch 132/500\n",
            "2/2 [==============================] - 0s 7ms/step - loss: 18.3052 - mse: 500.9218\n",
            "Epoch 133/500\n",
            "2/2 [==============================] - 0s 7ms/step - loss: 7.5833 - mse: 80.1913\n",
            "Epoch 134/500\n",
            "2/2 [==============================] - 0s 7ms/step - loss: 18.5755 - mse: 506.3347\n",
            "Epoch 135/500\n",
            "2/2 [==============================] - 0s 7ms/step - loss: 10.5360 - mse: 148.5977\n",
            "Epoch 136/500\n",
            "2/2 [==============================] - 0s 11ms/step - loss: 18.2694 - mse: 472.4464\n",
            "Epoch 137/500\n",
            "2/2 [==============================] - 0s 7ms/step - loss: 23.1658 - mse: 724.0385\n",
            "Epoch 138/500\n",
            "2/2 [==============================] - 0s 7ms/step - loss: 9.1362 - mse: 139.5299\n",
            "Epoch 139/500\n",
            "2/2 [==============================] - 0s 7ms/step - loss: 8.9181 - mse: 144.6079\n",
            "Epoch 140/500\n",
            "2/2 [==============================] - 0s 6ms/step - loss: 16.4732 - mse: 389.2472\n",
            "Epoch 141/500\n",
            "2/2 [==============================] - 0s 6ms/step - loss: 8.4208 - mse: 91.7413\n",
            "Epoch 142/500\n",
            "2/2 [==============================] - 0s 7ms/step - loss: 36.9540 - mse: 2404.8657\n",
            "Epoch 143/500\n",
            "2/2 [==============================] - 0s 7ms/step - loss: 25.5820 - mse: 927.2345\n",
            "Epoch 144/500\n",
            "2/2 [==============================] - 0s 6ms/step - loss: 9.5392 - mse: 144.3266\n",
            "Epoch 145/500\n",
            "2/2 [==============================] - 0s 6ms/step - loss: 26.6058 - mse: 957.1338\n",
            "Epoch 146/500\n",
            "2/2 [==============================] - 0s 7ms/step - loss: 8.7248 - mse: 109.2954\n",
            "Epoch 147/500\n",
            "2/2 [==============================] - 0s 7ms/step - loss: 15.6172 - mse: 311.2310\n",
            "Epoch 148/500\n",
            "2/2 [==============================] - 0s 7ms/step - loss: 18.3065 - mse: 464.7856\n",
            "Epoch 149/500\n",
            "2/2 [==============================] - 0s 7ms/step - loss: 8.1994 - mse: 106.4584\n",
            "Epoch 150/500\n",
            "2/2 [==============================] - 0s 7ms/step - loss: 7.4964 - mse: 66.4456\n",
            "Epoch 151/500\n",
            "2/2 [==============================] - 0s 7ms/step - loss: 18.3374 - mse: 485.9980\n",
            "Epoch 152/500\n",
            "2/2 [==============================] - 0s 10ms/step - loss: 10.2895 - mse: 130.5615\n",
            "Epoch 153/500\n",
            "2/2 [==============================] - 0s 10ms/step - loss: 29.6425 - mse: 1268.4629\n",
            "Epoch 154/500\n",
            "2/2 [==============================] - 0s 7ms/step - loss: 10.5556 - mse: 201.2335\n",
            "Epoch 155/500\n",
            "2/2 [==============================] - 0s 6ms/step - loss: 15.4537 - mse: 347.2170\n",
            "Epoch 156/500\n",
            "2/2 [==============================] - 0s 6ms/step - loss: 17.0174 - mse: 438.8495\n",
            "Epoch 157/500\n",
            "2/2 [==============================] - 0s 9ms/step - loss: 32.8217 - mse: 1744.8131\n",
            "Epoch 158/500\n",
            "2/2 [==============================] - 0s 7ms/step - loss: 10.7038 - mse: 151.0813\n",
            "Epoch 159/500\n",
            "2/2 [==============================] - 0s 7ms/step - loss: 8.9054 - mse: 97.7704\n",
            "Epoch 160/500\n",
            "2/2 [==============================] - 0s 7ms/step - loss: 22.1321 - mse: 709.4391\n",
            "Epoch 161/500\n",
            "2/2 [==============================] - 0s 8ms/step - loss: 11.7113 - mse: 202.9611\n",
            "Epoch 162/500\n",
            "2/2 [==============================] - 0s 7ms/step - loss: 21.5734 - mse: 670.2860\n",
            "Epoch 163/500\n",
            "2/2 [==============================] - 0s 7ms/step - loss: 19.2485 - mse: 533.4073\n",
            "Epoch 164/500\n",
            "2/2 [==============================] - 0s 6ms/step - loss: 11.0156 - mse: 177.6826\n",
            "Epoch 165/500\n",
            "2/2 [==============================] - 0s 6ms/step - loss: 9.6187 - mse: 179.8633\n",
            "Epoch 166/500\n",
            "2/2 [==============================] - 0s 7ms/step - loss: 21.5908 - mse: 681.9668\n",
            "Epoch 167/500\n",
            "2/2 [==============================] - 0s 6ms/step - loss: 26.2850 - mse: 1048.8440\n",
            "Epoch 168/500\n",
            "2/2 [==============================] - 0s 6ms/step - loss: 9.8525 - mse: 118.2892\n",
            "Epoch 169/500\n",
            "2/2 [==============================] - 0s 7ms/step - loss: 22.5630 - mse: 787.0586\n",
            "Epoch 170/500\n",
            "2/2 [==============================] - 0s 7ms/step - loss: 10.1499 - mse: 195.9050\n",
            "Epoch 171/500\n",
            "2/2 [==============================] - 0s 6ms/step - loss: 18.0464 - mse: 503.4533\n",
            "Epoch 172/500\n",
            "2/2 [==============================] - 0s 6ms/step - loss: 28.8377 - mse: 1305.7986\n",
            "Epoch 173/500\n",
            "2/2 [==============================] - 0s 7ms/step - loss: 16.5279 - mse: 432.1443\n",
            "Epoch 174/500\n",
            "2/2 [==============================] - 0s 6ms/step - loss: 11.2115 - mse: 199.9691\n",
            "Epoch 175/500\n",
            "2/2 [==============================] - 0s 6ms/step - loss: 27.5839 - mse: 1097.8187\n",
            "Epoch 176/500\n",
            "2/2 [==============================] - 0s 6ms/step - loss: 8.2680 - mse: 77.5372\n",
            "Epoch 177/500\n",
            "2/2 [==============================] - 0s 12ms/step - loss: 9.2580 - mse: 108.9075\n",
            "Epoch 178/500\n",
            "2/2 [==============================] - 0s 7ms/step - loss: 18.1440 - mse: 466.0513\n",
            "Epoch 179/500\n",
            "2/2 [==============================] - 0s 7ms/step - loss: 10.5995 - mse: 147.8543\n",
            "Epoch 180/500\n",
            "2/2 [==============================] - 0s 7ms/step - loss: 7.8992 - mse: 100.6932\n",
            "Epoch 181/500\n",
            "2/2 [==============================] - 0s 7ms/step - loss: 17.4015 - mse: 438.6036\n",
            "Epoch 182/500\n",
            "2/2 [==============================] - 0s 6ms/step - loss: 11.0089 - mse: 157.1596\n",
            "Epoch 183/500\n",
            "2/2 [==============================] - 0s 7ms/step - loss: 11.7027 - mse: 203.9956\n",
            "Epoch 184/500\n",
            "2/2 [==============================] - 0s 7ms/step - loss: 30.4062 - mse: 1387.3855\n",
            "Epoch 185/500\n",
            "2/2 [==============================] - 0s 7ms/step - loss: 7.5557 - mse: 98.6848\n",
            "Epoch 186/500\n",
            "2/2 [==============================] - 0s 7ms/step - loss: 15.9905 - mse: 369.3698\n",
            "Epoch 187/500\n",
            "2/2 [==============================] - 0s 7ms/step - loss: 8.5579 - mse: 85.4846\n",
            "Epoch 188/500\n",
            "2/2 [==============================] - 0s 7ms/step - loss: 28.7339 - mse: 1175.7069\n",
            "Epoch 189/500\n",
            "2/2 [==============================] - 0s 7ms/step - loss: 13.1689 - mse: 271.3447\n",
            "Epoch 190/500\n",
            "2/2 [==============================] - 0s 7ms/step - loss: 18.3101 - mse: 512.5543\n",
            "Epoch 191/500\n",
            "2/2 [==============================] - 0s 6ms/step - loss: 13.7376 - mse: 264.9673\n",
            "Epoch 192/500\n",
            "2/2 [==============================] - 0s 7ms/step - loss: 13.7104 - mse: 261.0631\n",
            "Epoch 193/500\n",
            "2/2 [==============================] - 0s 7ms/step - loss: 28.5842 - mse: 1135.1301\n",
            "Epoch 194/500\n",
            "2/2 [==============================] - 0s 6ms/step - loss: 7.0707 - mse: 78.6824\n",
            "Epoch 195/500\n",
            "2/2 [==============================] - 0s 9ms/step - loss: 7.0550 - mse: 74.9455\n",
            "Epoch 196/500\n",
            "2/2 [==============================] - 0s 9ms/step - loss: 22.0067 - mse: 709.4535\n",
            "Epoch 197/500\n",
            "2/2 [==============================] - 0s 11ms/step - loss: 20.8443 - mse: 643.6131\n",
            "Epoch 198/500\n",
            "2/2 [==============================] - 0s 7ms/step - loss: 12.4713 - mse: 236.5513\n",
            "Epoch 199/500\n",
            "2/2 [==============================] - 0s 6ms/step - loss: 17.9099 - mse: 460.3536\n",
            "Epoch 200/500\n",
            "2/2 [==============================] - 0s 7ms/step - loss: 13.7494 - mse: 282.2672\n",
            "Epoch 201/500\n",
            "2/2 [==============================] - 0s 6ms/step - loss: 5.4687 - mse: 41.0882\n",
            "Epoch 202/500\n",
            "2/2 [==============================] - 0s 7ms/step - loss: 13.7006 - mse: 293.8449\n",
            "Epoch 203/500\n",
            "2/2 [==============================] - 0s 9ms/step - loss: 9.4142 - mse: 139.9065\n",
            "Epoch 204/500\n",
            "2/2 [==============================] - 0s 9ms/step - loss: 20.9796 - mse: 656.2638\n",
            "Epoch 205/500\n",
            "2/2 [==============================] - 0s 10ms/step - loss: 9.5470 - mse: 127.9146\n",
            "Epoch 206/500\n",
            "2/2 [==============================] - 0s 6ms/step - loss: 11.7256 - mse: 195.6243\n",
            "Epoch 207/500\n",
            "2/2 [==============================] - 0s 8ms/step - loss: 14.3772 - mse: 317.1683\n",
            "Epoch 208/500\n",
            "2/2 [==============================] - 0s 7ms/step - loss: 14.8579 - mse: 323.1458\n",
            "Epoch 209/500\n",
            "2/2 [==============================] - 0s 12ms/step - loss: 14.9706 - mse: 345.7383\n",
            "Epoch 210/500\n",
            "2/2 [==============================] - 0s 7ms/step - loss: 17.8998 - mse: 467.4654\n",
            "Epoch 211/500\n",
            "2/2 [==============================] - 0s 8ms/step - loss: 9.8327 - mse: 145.8636\n",
            "Epoch 212/500\n",
            "2/2 [==============================] - 0s 9ms/step - loss: 18.3352 - mse: 507.7777\n",
            "Epoch 213/500\n",
            "2/2 [==============================] - 0s 9ms/step - loss: 15.0383 - mse: 307.6406\n",
            "Epoch 214/500\n",
            "2/2 [==============================] - 0s 8ms/step - loss: 14.5874 - mse: 293.5641\n",
            "Epoch 215/500\n",
            "2/2 [==============================] - 0s 8ms/step - loss: 23.3015 - mse: 799.4146\n",
            "Epoch 216/500\n",
            "2/2 [==============================] - 0s 8ms/step - loss: 13.3613 - mse: 278.0952\n",
            "Epoch 217/500\n",
            "2/2 [==============================] - 0s 8ms/step - loss: 9.8517 - mse: 136.3094\n",
            "Epoch 218/500\n",
            "2/2 [==============================] - 0s 8ms/step - loss: 12.5451 - mse: 206.5808\n",
            "Epoch 219/500\n",
            "2/2 [==============================] - 0s 8ms/step - loss: 4.9472 - mse: 37.4063\n",
            "Epoch 220/500\n",
            "2/2 [==============================] - 0s 10ms/step - loss: 7.1129 - mse: 57.5578\n",
            "Epoch 221/500\n",
            "2/2 [==============================] - 0s 10ms/step - loss: 35.4567 - mse: 2108.1045\n",
            "Epoch 222/500\n",
            "2/2 [==============================] - 0s 10ms/step - loss: 34.8634 - mse: 1966.9636\n",
            "Epoch 223/500\n",
            "2/2 [==============================] - 0s 9ms/step - loss: 7.9846 - mse: 119.7549\n",
            "Epoch 224/500\n",
            "2/2 [==============================] - 0s 9ms/step - loss: 14.7003 - mse: 318.5023\n",
            "Epoch 225/500\n",
            "2/2 [==============================] - 0s 8ms/step - loss: 16.7196 - mse: 360.6415\n",
            "Epoch 226/500\n",
            "2/2 [==============================] - 0s 10ms/step - loss: 15.9329 - mse: 369.8889\n",
            "Epoch 227/500\n",
            "2/2 [==============================] - 0s 9ms/step - loss: 16.1644 - mse: 369.5815\n",
            "Epoch 228/500\n",
            "2/2 [==============================] - 0s 9ms/step - loss: 13.9324 - mse: 282.1419\n",
            "Epoch 229/500\n",
            "2/2 [==============================] - 0s 10ms/step - loss: 18.0504 - mse: 457.4225\n",
            "Epoch 230/500\n",
            "2/2 [==============================] - 0s 10ms/step - loss: 15.6120 - mse: 314.6217\n",
            "Epoch 231/500\n",
            "2/2 [==============================] - 0s 9ms/step - loss: 21.2041 - mse: 670.7584\n",
            "Epoch 232/500\n",
            "2/2 [==============================] - 0s 9ms/step - loss: 25.2732 - mse: 913.5817\n",
            "Epoch 233/500\n",
            "2/2 [==============================] - 0s 13ms/step - loss: 16.3176 - mse: 387.7163\n",
            "Epoch 234/500\n",
            "2/2 [==============================] - 0s 9ms/step - loss: 7.2729 - mse: 66.5098\n",
            "Epoch 235/500\n",
            "2/2 [==============================] - 0s 10ms/step - loss: 16.9688 - mse: 403.1302\n",
            "Epoch 236/500\n",
            "2/2 [==============================] - 0s 9ms/step - loss: 7.1225 - mse: 69.7516\n",
            "Epoch 237/500\n",
            "2/2 [==============================] - 0s 9ms/step - loss: 9.2058 - mse: 118.9101\n",
            "Epoch 238/500\n",
            "2/2 [==============================] - 0s 9ms/step - loss: 8.0961 - mse: 86.7115\n",
            "Epoch 239/500\n",
            "2/2 [==============================] - 0s 10ms/step - loss: 17.0538 - mse: 438.0274\n",
            "Epoch 240/500\n",
            "2/2 [==============================] - 0s 8ms/step - loss: 8.8627 - mse: 107.8192\n",
            "Epoch 241/500\n",
            "2/2 [==============================] - 0s 7ms/step - loss: 13.1711 - mse: 273.2424\n",
            "Epoch 242/500\n",
            "2/2 [==============================] - 0s 10ms/step - loss: 8.7886 - mse: 104.8367\n",
            "Epoch 243/500\n",
            "2/2 [==============================] - 0s 7ms/step - loss: 18.8161 - mse: 541.4724\n",
            "Epoch 244/500\n",
            "2/2 [==============================] - 0s 6ms/step - loss: 14.0531 - mse: 275.3815\n",
            "Epoch 245/500\n",
            "2/2 [==============================] - 0s 11ms/step - loss: 14.6831 - mse: 290.1825\n",
            "Epoch 246/500\n",
            "2/2 [==============================] - 0s 10ms/step - loss: 15.8045 - mse: 370.7152\n",
            "Epoch 247/500\n",
            "2/2 [==============================] - 0s 9ms/step - loss: 17.6810 - mse: 421.4942\n",
            "Epoch 248/500\n",
            "2/2 [==============================] - 0s 8ms/step - loss: 13.2367 - mse: 251.7196\n",
            "Epoch 249/500\n",
            "2/2 [==============================] - 0s 9ms/step - loss: 14.5070 - mse: 288.7691\n",
            "Epoch 250/500\n",
            "2/2 [==============================] - 0s 9ms/step - loss: 23.2322 - mse: 793.2498\n",
            "Epoch 251/500\n",
            "2/2 [==============================] - 0s 11ms/step - loss: 9.3009 - mse: 119.0357\n",
            "Epoch 252/500\n",
            "2/2 [==============================] - 0s 10ms/step - loss: 36.6569 - mse: 2195.6213\n",
            "Epoch 253/500\n",
            "2/2 [==============================] - 0s 9ms/step - loss: 21.8206 - mse: 667.9639\n",
            "Epoch 254/500\n",
            "2/2 [==============================] - 0s 9ms/step - loss: 7.2792 - mse: 77.8093\n",
            "Epoch 255/500\n",
            "2/2 [==============================] - 0s 12ms/step - loss: 24.7127 - mse: 882.9673\n",
            "Epoch 256/500\n",
            "2/2 [==============================] - 0s 9ms/step - loss: 12.4220 - mse: 220.3518\n",
            "Epoch 257/500\n",
            "2/2 [==============================] - 0s 9ms/step - loss: 10.5823 - mse: 164.0441\n",
            "Epoch 258/500\n",
            "2/2 [==============================] - 0s 10ms/step - loss: 14.4883 - mse: 322.3513\n",
            "Epoch 259/500\n",
            "2/2 [==============================] - 0s 8ms/step - loss: 8.6132 - mse: 98.6934\n",
            "Epoch 260/500\n",
            "2/2 [==============================] - 0s 10ms/step - loss: 43.0580 - mse: 2975.2341\n",
            "Epoch 261/500\n",
            "2/2 [==============================] - 0s 10ms/step - loss: 18.4611 - mse: 493.6667\n",
            "Epoch 262/500\n",
            "2/2 [==============================] - 0s 12ms/step - loss: 6.8820 - mse: 94.3408\n",
            "Epoch 263/500\n",
            "2/2 [==============================] - 0s 11ms/step - loss: 13.7211 - mse: 268.5678\n",
            "Epoch 264/500\n",
            "2/2 [==============================] - 0s 10ms/step - loss: 21.0154 - mse: 653.9614\n",
            "Epoch 265/500\n",
            "2/2 [==============================] - 0s 10ms/step - loss: 19.3731 - mse: 545.6253\n",
            "Epoch 266/500\n",
            "2/2 [==============================] - 0s 10ms/step - loss: 11.4735 - mse: 234.7203\n",
            "Epoch 267/500\n",
            "2/2 [==============================] - 0s 10ms/step - loss: 7.5302 - mse: 112.0908\n",
            "Epoch 268/500\n",
            "2/2 [==============================] - 0s 9ms/step - loss: 21.6453 - mse: 670.2250\n",
            "Epoch 269/500\n",
            "2/2 [==============================] - 0s 11ms/step - loss: 33.1785 - mse: 1653.7383\n",
            "Epoch 270/500\n",
            "2/2 [==============================] - 0s 10ms/step - loss: 10.0833 - mse: 148.7354\n",
            "Epoch 271/500\n",
            "2/2 [==============================] - 0s 9ms/step - loss: 12.1012 - mse: 303.1726\n",
            "Epoch 272/500\n",
            "2/2 [==============================] - 0s 11ms/step - loss: 26.1372 - mse: 944.6777\n",
            "Epoch 273/500\n",
            "2/2 [==============================] - 0s 10ms/step - loss: 12.1751 - mse: 228.8034\n",
            "Epoch 274/500\n",
            "2/2 [==============================] - 0s 9ms/step - loss: 13.3272 - mse: 282.3034\n",
            "Epoch 275/500\n",
            "2/2 [==============================] - 0s 11ms/step - loss: 29.3775 - mse: 1229.1165\n",
            "Epoch 276/500\n",
            "2/2 [==============================] - 0s 10ms/step - loss: 7.3329 - mse: 104.3416\n",
            "Epoch 277/500\n",
            "2/2 [==============================] - 0s 8ms/step - loss: 31.1362 - mse: 1360.7682\n",
            "Epoch 278/500\n",
            "2/2 [==============================] - 0s 7ms/step - loss: 12.3015 - mse: 234.6619\n",
            "Epoch 279/500\n",
            "2/2 [==============================] - 0s 14ms/step - loss: 16.4103 - mse: 416.9115\n",
            "Epoch 280/500\n",
            "2/2 [==============================] - 0s 10ms/step - loss: 21.9118 - mse: 716.7844\n",
            "Epoch 281/500\n",
            "2/2 [==============================] - 0s 9ms/step - loss: 22.1500 - mse: 745.2062\n",
            "Epoch 282/500\n",
            "2/2 [==============================] - 0s 8ms/step - loss: 7.7429 - mse: 90.5224\n",
            "Epoch 283/500\n",
            "2/2 [==============================] - 0s 8ms/step - loss: 8.1429 - mse: 87.9050\n",
            "Epoch 284/500\n",
            "2/2 [==============================] - 0s 7ms/step - loss: 24.9435 - mse: 936.1603\n",
            "Epoch 285/500\n",
            "2/2 [==============================] - 0s 6ms/step - loss: 13.6958 - mse: 299.3613\n",
            "Epoch 286/500\n",
            "2/2 [==============================] - 0s 8ms/step - loss: 6.8926 - mse: 81.2999\n",
            "Epoch 287/500\n",
            "2/2 [==============================] - 0s 10ms/step - loss: 24.5352 - mse: 862.2880\n",
            "Epoch 288/500\n",
            "2/2 [==============================] - 0s 8ms/step - loss: 20.1721 - mse: 605.2872\n",
            "Epoch 289/500\n",
            "2/2 [==============================] - 0s 8ms/step - loss: 11.9658 - mse: 244.8306\n",
            "Epoch 290/500\n",
            "2/2 [==============================] - 0s 9ms/step - loss: 16.5391 - mse: 366.5719\n",
            "Epoch 291/500\n",
            "2/2 [==============================] - 0s 5ms/step - loss: 16.8017 - mse: 414.8176\n",
            "Epoch 292/500\n",
            "2/2 [==============================] - 0s 5ms/step - loss: 9.4642 - mse: 213.4545\n",
            "Epoch 293/500\n",
            "2/2 [==============================] - 0s 5ms/step - loss: 15.2710 - mse: 318.1684\n",
            "Epoch 294/500\n",
            "2/2 [==============================] - 0s 12ms/step - loss: 22.7179 - mse: 780.8710\n",
            "Epoch 295/500\n",
            "2/2 [==============================] - 0s 8ms/step - loss: 17.9234 - mse: 458.5735\n",
            "Epoch 296/500\n",
            "2/2 [==============================] - 0s 9ms/step - loss: 6.1743 - mse: 59.0634\n",
            "Epoch 297/500\n",
            "2/2 [==============================] - 0s 8ms/step - loss: 10.9440 - mse: 254.2862\n",
            "Epoch 298/500\n",
            "2/2 [==============================] - 0s 8ms/step - loss: 23.1530 - mse: 785.9866\n",
            "Epoch 299/500\n",
            "2/2 [==============================] - 0s 6ms/step - loss: 17.7331 - mse: 469.9271\n",
            "Epoch 300/500\n",
            "2/2 [==============================] - 0s 9ms/step - loss: 6.9824 - mse: 65.0503\n",
            "Epoch 301/500\n",
            "2/2 [==============================] - 0s 6ms/step - loss: 25.1857 - mse: 898.2797\n",
            "Epoch 302/500\n",
            "2/2 [==============================] - 0s 10ms/step - loss: 8.9025 - mse: 116.0078\n",
            "Epoch 303/500\n",
            "2/2 [==============================] - 0s 7ms/step - loss: 17.7668 - mse: 461.9376\n",
            "Epoch 304/500\n",
            "2/2 [==============================] - 0s 9ms/step - loss: 11.0002 - mse: 173.9250\n",
            "Epoch 305/500\n",
            "2/2 [==============================] - 0s 7ms/step - loss: 12.9191 - mse: 271.8384\n",
            "Epoch 306/500\n",
            "2/2 [==============================] - 0s 6ms/step - loss: 8.4033 - mse: 94.4445\n",
            "Epoch 307/500\n",
            "2/2 [==============================] - 0s 8ms/step - loss: 13.6094 - mse: 279.1175\n",
            "Epoch 308/500\n",
            "2/2 [==============================] - 0s 8ms/step - loss: 7.4404 - mse: 78.3839\n",
            "Epoch 309/500\n",
            "2/2 [==============================] - 0s 7ms/step - loss: 9.4642 - mse: 138.8860\n",
            "Epoch 310/500\n",
            "2/2 [==============================] - 0s 11ms/step - loss: 10.7099 - mse: 198.2189\n",
            "Epoch 311/500\n",
            "2/2 [==============================] - 0s 7ms/step - loss: 13.2814 - mse: 254.2447\n",
            "Epoch 312/500\n",
            "2/2 [==============================] - 0s 9ms/step - loss: 29.9763 - mse: 1241.6270\n",
            "Epoch 313/500\n",
            "2/2 [==============================] - 0s 10ms/step - loss: 7.6304 - mse: 104.4100\n",
            "Epoch 314/500\n",
            "2/2 [==============================] - 0s 8ms/step - loss: 9.9106 - mse: 239.5559\n",
            "Epoch 315/500\n",
            "2/2 [==============================] - 0s 6ms/step - loss: 23.7669 - mse: 820.7433\n",
            "Epoch 316/500\n",
            "2/2 [==============================] - 0s 10ms/step - loss: 16.3937 - mse: 404.4800\n",
            "Epoch 317/500\n",
            "2/2 [==============================] - 0s 9ms/step - loss: 21.0758 - mse: 606.4612\n",
            "Epoch 318/500\n",
            "2/2 [==============================] - 0s 8ms/step - loss: 7.9367 - mse: 81.3767\n",
            "Epoch 319/500\n",
            "2/2 [==============================] - 0s 9ms/step - loss: 17.9731 - mse: 479.6098\n",
            "Epoch 320/500\n",
            "2/2 [==============================] - 0s 9ms/step - loss: 10.2376 - mse: 174.0456\n",
            "Epoch 321/500\n",
            "2/2 [==============================] - 0s 7ms/step - loss: 8.3338 - mse: 110.8494\n",
            "Epoch 322/500\n",
            "2/2 [==============================] - 0s 7ms/step - loss: 5.0621 - mse: 39.6194\n",
            "Epoch 323/500\n",
            "2/2 [==============================] - 0s 9ms/step - loss: 23.5109 - mse: 802.4902\n",
            "Epoch 324/500\n",
            "2/2 [==============================] - 0s 10ms/step - loss: 6.8309 - mse: 57.6746\n",
            "Epoch 325/500\n",
            "2/2 [==============================] - 0s 8ms/step - loss: 16.3863 - mse: 384.4408\n",
            "Epoch 326/500\n",
            "2/2 [==============================] - 0s 12ms/step - loss: 7.5019 - mse: 78.7651\n",
            "Epoch 327/500\n",
            "2/2 [==============================] - 0s 9ms/step - loss: 20.0573 - mse: 568.8246\n",
            "Epoch 328/500\n",
            "2/2 [==============================] - 0s 8ms/step - loss: 13.7661 - mse: 265.8644\n",
            "Epoch 329/500\n",
            "2/2 [==============================] - 0s 11ms/step - loss: 16.8282 - mse: 430.9918\n",
            "Epoch 330/500\n",
            "2/2 [==============================] - 0s 7ms/step - loss: 7.0514 - mse: 81.9921\n",
            "Epoch 331/500\n",
            "2/2 [==============================] - 0s 7ms/step - loss: 21.4846 - mse: 704.3925\n",
            "Epoch 332/500\n",
            "2/2 [==============================] - 0s 7ms/step - loss: 12.2880 - mse: 236.5702\n",
            "Epoch 333/500\n",
            "2/2 [==============================] - 0s 11ms/step - loss: 11.8117 - mse: 222.0922\n",
            "Epoch 334/500\n",
            "2/2 [==============================] - 0s 8ms/step - loss: 8.3600 - mse: 169.8894\n",
            "Epoch 335/500\n",
            "2/2 [==============================] - 0s 10ms/step - loss: 12.4833 - mse: 276.8590\n",
            "Epoch 336/500\n",
            "2/2 [==============================] - 0s 10ms/step - loss: 32.2171 - mse: 1416.1725\n",
            "Epoch 337/500\n",
            "2/2 [==============================] - 0s 9ms/step - loss: 10.4477 - mse: 180.3260\n",
            "Epoch 338/500\n",
            "2/2 [==============================] - 0s 10ms/step - loss: 19.6832 - mse: 573.4706\n",
            "Epoch 339/500\n",
            "2/2 [==============================] - 0s 8ms/step - loss: 35.0762 - mse: 1849.1565\n",
            "Epoch 340/500\n",
            "2/2 [==============================] - 0s 10ms/step - loss: 10.4193 - mse: 181.4146\n",
            "Epoch 341/500\n",
            "2/2 [==============================] - 0s 6ms/step - loss: 9.7625 - mse: 156.3231\n",
            "Epoch 342/500\n",
            "2/2 [==============================] - 0s 10ms/step - loss: 11.9500 - mse: 188.5577\n",
            "Epoch 343/500\n",
            "2/2 [==============================] - 0s 8ms/step - loss: 9.3943 - mse: 145.3949\n",
            "Epoch 344/500\n",
            "2/2 [==============================] - 0s 6ms/step - loss: 5.6071 - mse: 44.6760\n",
            "Epoch 345/500\n",
            "2/2 [==============================] - 0s 8ms/step - loss: 37.4876 - mse: 2291.7817\n",
            "Epoch 346/500\n",
            "2/2 [==============================] - 0s 8ms/step - loss: 16.8830 - mse: 411.1357\n",
            "Epoch 347/500\n",
            "2/2 [==============================] - 0s 7ms/step - loss: 12.8748 - mse: 281.5986\n",
            "Epoch 348/500\n",
            "2/2 [==============================] - 0s 9ms/step - loss: 8.1960 - mse: 162.6965\n",
            "Epoch 349/500\n",
            "2/2 [==============================] - 0s 9ms/step - loss: 13.5568 - mse: 261.1367\n",
            "Epoch 350/500\n",
            "2/2 [==============================] - 0s 8ms/step - loss: 15.4354 - mse: 333.2079\n",
            "Epoch 351/500\n",
            "2/2 [==============================] - 0s 8ms/step - loss: 32.9626 - mse: 1524.7930\n",
            "Epoch 352/500\n",
            "2/2 [==============================] - 0s 8ms/step - loss: 14.2040 - mse: 282.7504\n",
            "Epoch 353/500\n",
            "2/2 [==============================] - 0s 9ms/step - loss: 15.9196 - mse: 374.1912\n",
            "Epoch 354/500\n",
            "2/2 [==============================] - 0s 8ms/step - loss: 19.0878 - mse: 534.9766\n",
            "Epoch 355/500\n",
            "2/2 [==============================] - 0s 12ms/step - loss: 34.1178 - mse: 1782.7058\n",
            "Epoch 356/500\n",
            "2/2 [==============================] - 0s 7ms/step - loss: 7.6798 - mse: 90.9119\n",
            "Epoch 357/500\n",
            "2/2 [==============================] - 0s 7ms/step - loss: 25.2287 - mse: 974.0969\n",
            "Epoch 358/500\n",
            "2/2 [==============================] - 0s 7ms/step - loss: 22.6759 - mse: 742.0958\n",
            "Epoch 359/500\n",
            "2/2 [==============================] - 0s 7ms/step - loss: 8.8765 - mse: 198.2596\n",
            "Epoch 360/500\n",
            "2/2 [==============================] - 0s 14ms/step - loss: 21.4709 - mse: 687.3271\n",
            "Epoch 361/500\n",
            "2/2 [==============================] - 0s 6ms/step - loss: 20.6073 - mse: 616.7958\n",
            "Epoch 362/500\n",
            "2/2 [==============================] - 0s 6ms/step - loss: 7.0611 - mse: 69.3816\n",
            "Epoch 363/500\n",
            "2/2 [==============================] - 0s 7ms/step - loss: 25.8117 - mse: 994.8212\n",
            "Epoch 364/500\n",
            "2/2 [==============================] - 0s 7ms/step - loss: 32.2248 - mse: 1527.6101\n",
            "Epoch 365/500\n",
            "2/2 [==============================] - 0s 8ms/step - loss: 10.0205 - mse: 161.6853\n",
            "Epoch 366/500\n",
            "2/2 [==============================] - 0s 7ms/step - loss: 9.6722 - mse: 227.5730\n",
            "Epoch 367/500\n",
            "2/2 [==============================] - 0s 7ms/step - loss: 30.4171 - mse: 1294.6039\n",
            "Epoch 368/500\n",
            "2/2 [==============================] - 0s 7ms/step - loss: 10.5020 - mse: 236.3138\n",
            "Epoch 369/500\n",
            "2/2 [==============================] - 0s 8ms/step - loss: 14.9909 - mse: 330.8538\n",
            "Epoch 370/500\n",
            "2/2 [==============================] - 0s 8ms/step - loss: 14.6580 - mse: 308.0732\n",
            "Epoch 371/500\n",
            "2/2 [==============================] - 0s 8ms/step - loss: 23.3672 - mse: 789.0349\n",
            "Epoch 372/500\n",
            "2/2 [==============================] - 0s 10ms/step - loss: 13.1025 - mse: 290.2274\n",
            "Epoch 373/500\n",
            "2/2 [==============================] - 0s 8ms/step - loss: 9.2587 - mse: 140.7057\n",
            "Epoch 374/500\n",
            "2/2 [==============================] - 0s 9ms/step - loss: 9.6648 - mse: 194.1149\n",
            "Epoch 375/500\n",
            "2/2 [==============================] - 0s 6ms/step - loss: 13.0041 - mse: 237.9865\n",
            "Epoch 376/500\n",
            "2/2 [==============================] - 0s 7ms/step - loss: 14.8863 - mse: 324.7531\n",
            "Epoch 377/500\n",
            "2/2 [==============================] - 0s 7ms/step - loss: 14.7932 - mse: 297.2056\n",
            "Epoch 378/500\n",
            "2/2 [==============================] - 0s 8ms/step - loss: 16.2751 - mse: 418.5628\n",
            "Epoch 379/500\n",
            "2/2 [==============================] - 0s 8ms/step - loss: 20.8307 - mse: 596.8126\n",
            "Epoch 380/500\n",
            "2/2 [==============================] - 0s 7ms/step - loss: 33.5318 - mse: 1684.8988\n",
            "Epoch 381/500\n",
            "2/2 [==============================] - 0s 7ms/step - loss: 8.2166 - mse: 100.6388\n",
            "Epoch 382/500\n",
            "2/2 [==============================] - 0s 7ms/step - loss: 13.0960 - mse: 282.0392\n",
            "Epoch 383/500\n",
            "2/2 [==============================] - 0s 6ms/step - loss: 8.3999 - mse: 126.0927\n",
            "Epoch 384/500\n",
            "2/2 [==============================] - 0s 7ms/step - loss: 7.1283 - mse: 72.4401\n",
            "Epoch 385/500\n",
            "2/2 [==============================] - 0s 12ms/step - loss: 10.9390 - mse: 249.4380\n",
            "Epoch 386/500\n",
            "2/2 [==============================] - 0s 8ms/step - loss: 19.7654 - mse: 601.5787\n",
            "Epoch 387/500\n",
            "2/2 [==============================] - 0s 10ms/step - loss: 24.8625 - mse: 896.3723\n",
            "Epoch 388/500\n",
            "2/2 [==============================] - 0s 8ms/step - loss: 8.7422 - mse: 128.0920\n",
            "Epoch 389/500\n",
            "2/2 [==============================] - 0s 8ms/step - loss: 5.9488 - mse: 48.1571\n",
            "Epoch 390/500\n",
            "2/2 [==============================] - 0s 9ms/step - loss: 24.4401 - mse: 881.1066\n",
            "Epoch 391/500\n",
            "2/2 [==============================] - 0s 7ms/step - loss: 5.9771 - mse: 73.2798\n",
            "Epoch 392/500\n",
            "2/2 [==============================] - 0s 7ms/step - loss: 16.3250 - mse: 379.2602\n",
            "Epoch 393/500\n",
            "2/2 [==============================] - 0s 8ms/step - loss: 6.0917 - mse: 76.7832\n",
            "Epoch 394/500\n",
            "2/2 [==============================] - 0s 7ms/step - loss: 11.0963 - mse: 204.7653\n",
            "Epoch 395/500\n",
            "2/2 [==============================] - 0s 9ms/step - loss: 14.9601 - mse: 336.1572\n",
            "Epoch 396/500\n",
            "2/2 [==============================] - 0s 12ms/step - loss: 7.6462 - mse: 103.3248\n",
            "Epoch 397/500\n",
            "2/2 [==============================] - 0s 7ms/step - loss: 8.7654 - mse: 136.5435\n",
            "Epoch 398/500\n",
            "2/2 [==============================] - 0s 9ms/step - loss: 14.5992 - mse: 320.4544\n",
            "Epoch 399/500\n",
            "2/2 [==============================] - 0s 10ms/step - loss: 11.3166 - mse: 280.6893\n",
            "Epoch 400/500\n",
            "2/2 [==============================] - 0s 9ms/step - loss: 21.9080 - mse: 741.3453\n",
            "Epoch 401/500\n",
            "2/2 [==============================] - 0s 7ms/step - loss: 14.8654 - mse: 348.6731\n",
            "Epoch 402/500\n",
            "2/2 [==============================] - 0s 10ms/step - loss: 8.4970 - mse: 115.5855\n",
            "Epoch 403/500\n",
            "2/2 [==============================] - 0s 7ms/step - loss: 10.3957 - mse: 191.0405\n",
            "Epoch 404/500\n",
            "2/2 [==============================] - 0s 8ms/step - loss: 10.2556 - mse: 207.5721\n",
            "Epoch 405/500\n",
            "2/2 [==============================] - 0s 5ms/step - loss: 6.3392 - mse: 68.2857\n",
            "Epoch 406/500\n",
            "2/2 [==============================] - 0s 8ms/step - loss: 17.4602 - mse: 460.2061\n",
            "Epoch 407/500\n",
            "2/2 [==============================] - 0s 8ms/step - loss: 11.4627 - mse: 284.7281\n",
            "Epoch 408/500\n",
            "2/2 [==============================] - 0s 6ms/step - loss: 20.7294 - mse: 662.1495\n",
            "Epoch 409/500\n",
            "2/2 [==============================] - 0s 8ms/step - loss: 31.3339 - mse: 1522.7714\n",
            "Epoch 410/500\n",
            "2/2 [==============================] - 0s 9ms/step - loss: 9.2542 - mse: 221.9491\n",
            "Epoch 411/500\n",
            "2/2 [==============================] - 0s 13ms/step - loss: 14.8621 - mse: 285.8413\n",
            "Epoch 412/500\n",
            "2/2 [==============================] - 0s 13ms/step - loss: 21.7182 - mse: 721.0385\n",
            "Epoch 413/500\n",
            "2/2 [==============================] - 0s 8ms/step - loss: 12.6615 - mse: 248.9697\n",
            "Epoch 414/500\n",
            "2/2 [==============================] - 0s 9ms/step - loss: 6.0687 - mse: 88.3709\n",
            "Epoch 415/500\n",
            "2/2 [==============================] - 0s 8ms/step - loss: 13.2201 - mse: 239.8953\n",
            "Epoch 416/500\n",
            "2/2 [==============================] - 0s 8ms/step - loss: 27.4244 - mse: 1037.9575\n",
            "Epoch 417/500\n",
            "2/2 [==============================] - 0s 7ms/step - loss: 10.6407 - mse: 207.4825\n",
            "Epoch 418/500\n",
            "2/2 [==============================] - 0s 7ms/step - loss: 12.8230 - mse: 236.7906\n",
            "Epoch 419/500\n",
            "2/2 [==============================] - 0s 9ms/step - loss: 15.8836 - mse: 374.5479\n",
            "Epoch 420/500\n",
            "2/2 [==============================] - 0s 10ms/step - loss: 24.7510 - mse: 849.5324\n",
            "Epoch 421/500\n",
            "2/2 [==============================] - 0s 9ms/step - loss: 17.3753 - mse: 444.1838\n",
            "Epoch 422/500\n",
            "2/2 [==============================] - 0s 9ms/step - loss: 7.8241 - mse: 157.5331\n",
            "Epoch 423/500\n",
            "2/2 [==============================] - 0s 9ms/step - loss: 25.3789 - mse: 907.6136\n",
            "Epoch 424/500\n",
            "2/2 [==============================] - 0s 8ms/step - loss: 15.1031 - mse: 369.3293\n",
            "Epoch 425/500\n",
            "2/2 [==============================] - 0s 8ms/step - loss: 7.1643 - mse: 75.3718\n",
            "Epoch 426/500\n",
            "2/2 [==============================] - 0s 9ms/step - loss: 20.3318 - mse: 572.0361\n",
            "Epoch 427/500\n",
            "2/2 [==============================] - 0s 9ms/step - loss: 6.3283 - mse: 84.9744\n",
            "Epoch 428/500\n",
            "2/2 [==============================] - 0s 9ms/step - loss: 12.9962 - mse: 288.4221\n",
            "Epoch 429/500\n",
            "2/2 [==============================] - 0s 6ms/step - loss: 10.7869 - mse: 192.7744\n",
            "Epoch 430/500\n",
            "2/2 [==============================] - 0s 5ms/step - loss: 11.4007 - mse: 248.2725\n",
            "Epoch 431/500\n",
            "2/2 [==============================] - 0s 8ms/step - loss: 10.6152 - mse: 218.3399\n",
            "Epoch 432/500\n",
            "2/2 [==============================] - 0s 5ms/step - loss: 11.4582 - mse: 239.2200\n",
            "Epoch 433/500\n",
            "2/2 [==============================] - 0s 6ms/step - loss: 11.3851 - mse: 296.6786\n",
            "Epoch 434/500\n",
            "2/2 [==============================] - 0s 6ms/step - loss: 30.3986 - mse: 1296.5630\n",
            "Epoch 435/500\n",
            "2/2 [==============================] - 0s 6ms/step - loss: 10.5052 - mse: 283.6817\n",
            "Epoch 436/500\n",
            "2/2 [==============================] - 0s 6ms/step - loss: 28.8810 - mse: 1216.2335\n",
            "Epoch 437/500\n",
            "2/2 [==============================] - 0s 6ms/step - loss: 8.5916 - mse: 209.5435\n",
            "Epoch 438/500\n",
            "2/2 [==============================] - 0s 6ms/step - loss: 12.7378 - mse: 264.4512\n",
            "Epoch 439/500\n",
            "2/2 [==============================] - 0s 7ms/step - loss: 33.6754 - mse: 1570.2357\n",
            "Epoch 440/500\n",
            "2/2 [==============================] - 0s 13ms/step - loss: 15.0962 - mse: 294.7131\n",
            "Epoch 441/500\n",
            "2/2 [==============================] - 0s 10ms/step - loss: 17.4813 - mse: 487.0569\n",
            "Epoch 442/500\n",
            "2/2 [==============================] - 0s 9ms/step - loss: 22.3049 - mse: 750.9301\n",
            "Epoch 443/500\n",
            "2/2 [==============================] - 0s 5ms/step - loss: 23.5841 - mse: 784.1390\n",
            "Epoch 444/500\n",
            "2/2 [==============================] - 0s 11ms/step - loss: 11.0008 - mse: 203.7586\n",
            "Epoch 445/500\n",
            "2/2 [==============================] - 0s 5ms/step - loss: 14.9175 - mse: 316.4788\n",
            "Epoch 446/500\n",
            "2/2 [==============================] - 0s 6ms/step - loss: 17.9979 - mse: 515.1708\n",
            "Epoch 447/500\n",
            "2/2 [==============================] - 0s 7ms/step - loss: 5.4482 - mse: 51.4485\n",
            "Epoch 448/500\n",
            "2/2 [==============================] - 0s 5ms/step - loss: 10.0527 - mse: 253.4831\n",
            "Epoch 449/500\n",
            "2/2 [==============================] - 0s 9ms/step - loss: 14.0052 - mse: 277.3352\n",
            "Epoch 450/500\n",
            "2/2 [==============================] - 0s 5ms/step - loss: 16.7782 - mse: 424.4227\n",
            "Epoch 451/500\n",
            "2/2 [==============================] - 0s 5ms/step - loss: 14.2937 - mse: 303.4477\n",
            "Epoch 452/500\n",
            "2/2 [==============================] - 0s 14ms/step - loss: 30.6193 - mse: 1329.8265\n",
            "Epoch 453/500\n",
            "2/2 [==============================] - 0s 6ms/step - loss: 7.6541 - mse: 159.0377\n",
            "Epoch 454/500\n",
            "2/2 [==============================] - 0s 14ms/step - loss: 28.1428 - mse: 1104.4141\n",
            "Epoch 455/500\n",
            "2/2 [==============================] - 0s 5ms/step - loss: 8.0017 - mse: 119.3274\n",
            "Epoch 456/500\n",
            "2/2 [==============================] - 0s 12ms/step - loss: 10.3933 - mse: 289.6392\n",
            "Epoch 457/500\n",
            "2/2 [==============================] - 0s 6ms/step - loss: 15.0242 - mse: 318.3534\n",
            "Epoch 458/500\n",
            "2/2 [==============================] - 0s 7ms/step - loss: 16.5653 - mse: 439.8007\n",
            "Epoch 459/500\n",
            "2/2 [==============================] - 0s 5ms/step - loss: 26.8566 - mse: 1033.5485\n",
            "Epoch 460/500\n",
            "2/2 [==============================] - 0s 5ms/step - loss: 12.4852 - mse: 251.1162\n",
            "Epoch 461/500\n",
            "2/2 [==============================] - 0s 7ms/step - loss: 12.4784 - mse: 272.9071\n",
            "Epoch 462/500\n",
            "2/2 [==============================] - 0s 6ms/step - loss: 13.3186 - mse: 245.2335\n",
            "Epoch 463/500\n",
            "2/2 [==============================] - 0s 12ms/step - loss: 29.5524 - mse: 1219.8660\n",
            "Epoch 464/500\n",
            "2/2 [==============================] - 0s 9ms/step - loss: 3.4664 - mse: 22.0145\n",
            "Epoch 465/500\n",
            "2/2 [==============================] - 0s 8ms/step - loss: 15.2136 - mse: 352.9369\n",
            "Epoch 466/500\n",
            "2/2 [==============================] - 0s 8ms/step - loss: 20.8327 - mse: 651.1593\n",
            "Epoch 467/500\n",
            "2/2 [==============================] - 0s 6ms/step - loss: 30.5108 - mse: 1421.0011\n",
            "Epoch 468/500\n",
            "2/2 [==============================] - 0s 15ms/step - loss: 11.0597 - mse: 236.2266\n",
            "Epoch 469/500\n",
            "2/2 [==============================] - 0s 6ms/step - loss: 12.8372 - mse: 278.2046\n",
            "Epoch 470/500\n",
            "2/2 [==============================] - 0s 8ms/step - loss: 3.2398 - mse: 14.0655\n",
            "Epoch 471/500\n",
            "2/2 [==============================] - 0s 6ms/step - loss: 16.6964 - mse: 372.9565\n",
            "Epoch 472/500\n",
            "2/2 [==============================] - 0s 6ms/step - loss: 13.3883 - mse: 253.4232\n",
            "Epoch 473/500\n",
            "2/2 [==============================] - 0s 7ms/step - loss: 15.2771 - mse: 396.6107\n",
            "Epoch 474/500\n",
            "2/2 [==============================] - 0s 5ms/step - loss: 11.7448 - mse: 305.3251\n",
            "Epoch 475/500\n",
            "2/2 [==============================] - 0s 6ms/step - loss: 16.4113 - mse: 397.1612\n",
            "Epoch 476/500\n",
            "2/2 [==============================] - 0s 6ms/step - loss: 13.8785 - mse: 273.7976\n",
            "Epoch 477/500\n",
            "2/2 [==============================] - 0s 10ms/step - loss: 30.6702 - mse: 1309.4624\n",
            "Epoch 478/500\n",
            "2/2 [==============================] - 0s 7ms/step - loss: 8.5880 - mse: 188.9072\n",
            "Epoch 479/500\n",
            "2/2 [==============================] - 0s 8ms/step - loss: 10.7384 - mse: 261.5204\n",
            "Epoch 480/500\n",
            "2/2 [==============================] - 0s 7ms/step - loss: 17.9051 - mse: 484.4154\n",
            "Epoch 481/500\n",
            "2/2 [==============================] - 0s 9ms/step - loss: 15.8095 - mse: 368.1044\n",
            "Epoch 482/500\n",
            "2/2 [==============================] - 0s 8ms/step - loss: 21.3054 - mse: 698.1635\n",
            "Epoch 483/500\n",
            "2/2 [==============================] - 0s 7ms/step - loss: 25.3845 - mse: 955.1248\n",
            "Epoch 484/500\n",
            "2/2 [==============================] - 0s 10ms/step - loss: 23.9815 - mse: 811.2780\n",
            "Epoch 485/500\n",
            "2/2 [==============================] - 0s 9ms/step - loss: 5.7734 - mse: 53.7612\n",
            "Epoch 486/500\n",
            "2/2 [==============================] - 0s 10ms/step - loss: 20.0010 - mse: 565.2875\n",
            "Epoch 487/500\n",
            "2/2 [==============================] - 0s 9ms/step - loss: 14.0419 - mse: 286.2685\n",
            "Epoch 488/500\n",
            "2/2 [==============================] - 0s 11ms/step - loss: 30.6088 - mse: 1334.5730\n",
            "Epoch 489/500\n",
            "2/2 [==============================] - 0s 6ms/step - loss: 11.9409 - mse: 237.4729\n",
            "Epoch 490/500\n",
            "2/2 [==============================] - 0s 6ms/step - loss: 12.7352 - mse: 252.5674\n",
            "Epoch 491/500\n",
            "2/2 [==============================] - 0s 8ms/step - loss: 23.6139 - mse: 837.7736\n",
            "Epoch 492/500\n",
            "2/2 [==============================] - 0s 6ms/step - loss: 20.5365 - mse: 592.2181\n",
            "Epoch 493/500\n",
            "2/2 [==============================] - 0s 9ms/step - loss: 4.9942 - mse: 48.0282\n",
            "Epoch 494/500\n",
            "2/2 [==============================] - 0s 7ms/step - loss: 12.7986 - mse: 247.7644\n",
            "Epoch 495/500\n",
            "2/2 [==============================] - 0s 8ms/step - loss: 13.3772 - mse: 239.0902\n",
            "Epoch 496/500\n",
            "2/2 [==============================] - 0s 9ms/step - loss: 12.6727 - mse: 241.5637\n",
            "Epoch 497/500\n",
            "2/2 [==============================] - 0s 8ms/step - loss: 17.6192 - mse: 515.3861\n",
            "Epoch 498/500\n",
            "2/2 [==============================] - 0s 8ms/step - loss: 23.5629 - mse: 816.5494\n",
            "Epoch 499/500\n",
            "2/2 [==============================] - 0s 9ms/step - loss: 9.3755 - mse: 136.1006\n",
            "Epoch 500/500\n",
            "2/2 [==============================] - 0s 9ms/step - loss: 14.6316 - mse: 295.2645\n"
          ]
        },
        {
          "output_type": "execute_result",
          "data": {
            "text/plain": [
              "<keras.callbacks.History at 0x7f6a2bd90f90>"
            ]
          },
          "metadata": {},
          "execution_count": 53
        }
      ]
    },
    {
      "cell_type": "code",
      "source": [
        "#  Make and plot some predictions\n",
        "y_preds_3 = model_3.predict(X_test)\n",
        "plot_predictions(predictions=y_preds_3)"
      ],
      "metadata": {
        "colab": {
          "base_uri": "https://localhost:8080/",
          "height": 465
        },
        "id": "KU6lvKnaxaZj",
        "outputId": "6c54f8c8-601b-4d27-8649-fcd1952812b6"
      },
      "execution_count": 54,
      "outputs": [
        {
          "output_type": "stream",
          "name": "stdout",
          "text": [
            "WARNING:tensorflow:6 out of the last 6 calls to <function Model.make_predict_function.<locals>.predict_function at 0x7f6a2bd2ab90> triggered tf.function retracing. Tracing is expensive and the excessive number of tracings could be due to (1) creating @tf.function repeatedly in a loop, (2) passing tensors with different shapes, (3) passing Python objects instead of tensors. For (1), please define your @tf.function outside of the loop. For (2), @tf.function has experimental_relax_shapes=True option that relaxes argument shapes that can avoid unnecessary retracing. For (3), please refer to https://www.tensorflow.org/guide/function#controlling_retracing and https://www.tensorflow.org/api_docs/python/tf/function for  more details.\n"
          ]
        },
        {
          "output_type": "display_data",
          "data": {
            "text/plain": [
              "<Figure size 720x504 with 1 Axes>"
            ],
            "image/png": "[encoded data removed]"
          },
          "metadata": {
            "needs_background": "light"
          }
        }
      ]
    },
    {
      "cell_type": "code",
      "source": [
        "# Calculate model_3 evaluation metrics\n",
        "mae_3 = mae(y_test, y_preds_3)\n",
        "mse_3 = mse(y_test, y_preds_3)\n",
        "mae_3, mse_3"
      ],
      "metadata": {
        "colab": {
          "base_uri": "https://localhost:8080/"
        },
        "id": "uxfsm__Uxmor",
        "outputId": "a57a5aca-ef97-4fe3-a903-c4a9fa4fecb0"
      },
      "execution_count": 55,
      "outputs": [
        {
          "output_type": "execute_result",
          "data": {
            "text/plain": [
              "(<tf.Tensor: shape=(), dtype=float32, numpy=68.71362>,\n",
              " <tf.Tensor: shape=(), dtype=float32, numpy=4808.0283>)"
            ]
          },
          "metadata": {},
          "execution_count": 55
        }
      ]
    },
    {
      "cell_type": "markdown",
      "source": [
        "🔑 **Note:** You want to start with small experiments (small models) and make sure they work and then increase thier scale when necessary."
      ],
      "metadata": {
        "id": "COomrYdByrom"
      }
    },
    {
      "cell_type": "markdown",
      "source": [
        "### Comparing the result of our experiments\n",
        "\n",
        "We've run a few experiments, let's compare the results."
      ],
      "metadata": {
        "id": "qLi4ivFKyY0W"
      }
    },
    {
      "cell_type": "code",
      "source": [
        "# Let's compare our model's results using  a pandas DataFrame\n",
        "import pandas as pd\n",
        "\n",
        "model_results = [[\"model_1\", mae_1, mse_1],\n",
        "                 [\"model_2\", mae_2, mse_2],\n",
        "                 [\"model_3\", mae_3, mse_3]]\n",
        "\n",
        "all_results = pd.DataFrame(model_results, columns=[\"model\", \"mae\", \"mse\"])\n",
        "all_results"
      ],
      "metadata": {
        "colab": {
          "base_uri": "https://localhost:8080/",
          "height": 143
        },
        "id": "FENLTrs0yqqG",
        "outputId": "8c986e39-943e-4136-b426-387752e72730"
      },
      "execution_count": 56,
      "outputs": [
        {
          "output_type": "execute_result",
          "data": {
            "text/plain": [
              "     model                                            mae  \\\n",
              "0  model_1  tf.Tensor(18.745327, shape=(), dtype=float32)   \n",
              "1  model_2  tf.Tensor(3.1969643, shape=(), dtype=float32)   \n",
              "2  model_3   tf.Tensor(68.71362, shape=(), dtype=float32)   \n",
              "\n",
              "                                             mse  \n",
              "0   tf.Tensor(353.5734, shape=(), dtype=float32)  \n",
              "1    tf.Tensor(13.0703, shape=(), dtype=float32)  \n",
              "2  tf.Tensor(4808.0283, shape=(), dtype=float32)  "
            ],
            "text/html": [
              "\n",
              "  <div id=\"df-222d01a3-6154-47b0-95ba-4b6eb906df9f\">\n",
              "    <div class=\"colab-df-container\">\n",
              "      <div>\n",
              "<style scoped>\n",
              "    .dataframe tbody tr th:only-of-type {\n",
              "        vertical-align: middle;\n",
              "    }\n",
              "\n",
              "    .dataframe tbody tr th {\n",
              "        vertical-align: top;\n",
              "    }\n",
              "\n",
              "    .dataframe thead th {\n",
              "        text-align: right;\n",
              "    }\n",
              "</style>\n",
              "<table border=\"1\" class=\"dataframe\">\n",
              "  <thead>\n",
              "    <tr style=\"text-align: right;\">\n",
              "      <th></th>\n",
              "      <th>model</th>\n",
              "      <th>mae</th>\n",
              "      <th>mse</th>\n",
              "    </tr>\n",
              "  </thead>\n",
              "  <tbody>\n",
              "    <tr>\n",
              "      <th>0</th>\n",
              "      <td>model_1</td>\n",
              "      <td>tf.Tensor(18.745327, shape=(), dtype=float32)</td>\n",
              "      <td>tf.Tensor(353.5734, shape=(), dtype=float32)</td>\n",
              "    </tr>\n",
              "    <tr>\n",
              "      <th>1</th>\n",
              "      <td>model_2</td>\n",
              "      <td>tf.Tensor(3.1969643, shape=(), dtype=float32)</td>\n",
              "      <td>tf.Tensor(13.0703, shape=(), dtype=float32)</td>\n",
              "    </tr>\n",
              "    <tr>\n",
              "      <th>2</th>\n",
              "      <td>model_3</td>\n",
              "      <td>tf.Tensor(68.71362, shape=(), dtype=float32)</td>\n",
              "      <td>tf.Tensor(4808.0283, shape=(), dtype=float32)</td>\n",
              "    </tr>\n",
              "  </tbody>\n",
              "</table>\n",
              "</div>\n",
              "      <button class=\"colab-df-convert\" onclick=\"convertToInteractive('df-222d01a3-6154-47b0-95ba-4b6eb906df9f')\"\n",
              "              title=\"Convert this dataframe to an interactive table.\"\n",
              "              style=\"display:none;\">\n",
              "        \n",
              "  <svg xmlns=\"http://www.w3.org/2000/svg\" height=\"24px\"viewBox=\"0 0 24 24\"\n",
              "       width=\"24px\">\n",
              "    <path d=\"M0 0h24v24H0V0z\" fill=\"none\"/>\n",
              "    <path d=\"M18.56 5.44l.94 2.06.94-2.06 2.06-.94-2.06-.94-.94-2.06-.94 2.06-2.06.94zm-11 1L8.5 8.5l.94-2.06 2.06-.94-2.06-.94L8.5 2.5l-.94 2.06-2.06.94zm10 10l.94 2.06.94-2.06 2.06-.94-2.06-.94-.94-2.06-.94 2.06-2.06.94z\"/><path d=\"M17.41 7.96l-1.37-1.37c-.4-.4-.92-.59-1.43-.59-.52 0-1.04.2-1.43.59L10.3 9.45l-7.72 7.72c-.78.78-.78 2.05 0 2.83L4 21.41c.39.39.9.59 1.41.59.51 0 1.02-.2 1.41-.59l7.78-7.78 2.81-2.81c.8-.78.8-2.07 0-2.86zM5.41 20L4 18.59l7.72-7.72 1.47 1.35L5.41 20z\"/>\n",
              "  </svg>\n",
              "      </button>\n",
              "      \n",
              "  <style>\n",
              "    .colab-df-container {\n",
              "      display:flex;\n",
              "      flex-wrap:wrap;\n",
              "      gap: 12px;\n",
              "    }\n",
              "\n",
              "    .colab-df-convert {\n",
              "      background-color: #E8F0FE;\n",
              "      border: none;\n",
              "      border-radius: 50%;\n",
              "      cursor: pointer;\n",
              "      display: none;\n",
              "      fill: #1967D2;\n",
              "      height: 32px;\n",
              "      padding: 0 0 0 0;\n",
              "      width: 32px;\n",
              "    }\n",
              "\n",
              "    .colab-df-convert:hover {\n",
              "      background-color: #E2EBFA;\n",
              "      box-shadow: 0px 1px 2px rgba(60, 64, 67, 0.3), 0px 1px 3px 1px rgba(60, 64, 67, 0.15);\n",
              "      fill: #174EA6;\n",
              "    }\n",
              "\n",
              "    [theme=dark] .colab-df-convert {\n",
              "      background-color: #3B4455;\n",
              "      fill: #D2E3FC;\n",
              "    }\n",
              "\n",
              "    [theme=dark] .colab-df-convert:hover {\n",
              "      background-color: #434B5C;\n",
              "      box-shadow: 0px 1px 3px 1px rgba(0, 0, 0, 0.15);\n",
              "      filter: drop-shadow(0px 1px 2px rgba(0, 0, 0, 0.3));\n",
              "      fill: #FFFFFF;\n",
              "    }\n",
              "  </style>\n",
              "\n",
              "      <script>\n",
              "        const buttonEl =\n",
              "          document.querySelector('#df-222d01a3-6154-47b0-95ba-4b6eb906df9f button.colab-df-convert');\n",
              "        buttonEl.style.display =\n",
              "          google.colab.kernel.accessAllowed ? 'block' : 'none';\n",
              "\n",
              "        async function convertToInteractive(key) {\n",
              "          const element = document.querySelector('#df-222d01a3-6154-47b0-95ba-4b6eb906df9f');\n",
              "          const dataTable =\n",
              "            await google.colab.kernel.invokeFunction('convertToInteractive',\n",
              "                                                     [key], {});\n",
              "          if (!dataTable) return;\n",
              "\n",
              "          const docLinkHtml = 'Like what you see? Visit the ' +\n",
              "            '<a target=\"_blank\" href=https://colab.research.google.com/notebooks/data_table.ipynb>data table notebook</a>'\n",
              "            + ' to learn more about interactive tables.';\n",
              "          element.innerHTML = '';\n",
              "          dataTable['output_type'] = 'display_data';\n",
              "          await google.colab.output.renderOutput(dataTable, element);\n",
              "          const docLink = document.createElement('div');\n",
              "          docLink.innerHTML = docLinkHtml;\n",
              "          element.appendChild(docLink);\n",
              "        }\n",
              "      </script>\n",
              "    </div>\n",
              "  </div>\n",
              "  "
            ]
          },
          "metadata": {},
          "execution_count": 56
        }
      ]
    },
    {
      "cell_type": "code",
      "source": [
        "# Let's compare our model's results using  a pandas DataFrame and change mse & mae to numpy for easy readable.\n",
        "import pandas as pd\n",
        "\n",
        "model_results = [[\"model_1\", mae_1.numpy(), mse_1.numpy()],\n",
        "                 [\"model_2\", mae_2.numpy(), mse_2.numpy()],\n",
        "                 [\"model_3\", mae_3.numpy(), mse_3.numpy()]]\n",
        "\n",
        "all_results = pd.DataFrame(model_results, columns=[\"model\", \"mae\", \"mse\"])\n",
        "all_results"
      ],
      "metadata": {
        "colab": {
          "base_uri": "https://localhost:8080/",
          "height": 143
        },
        "id": "v2LdiOM6zfws",
        "outputId": "45638a75-bf99-47c2-c560-992fff686f86"
      },
      "execution_count": 57,
      "outputs": [
        {
          "output_type": "execute_result",
          "data": {
            "text/plain": [
              "     model        mae          mse\n",
              "0  model_1  18.745327   353.573395\n",
              "1  model_2   3.196964    13.070300\n",
              "2  model_3  68.713623  4808.028320"
            ],
            "text/html": [
              "\n",
              "  <div id=\"df-fae5ac5f-f6c1-490a-9f1e-2fae2c3f764b\">\n",
              "    <div class=\"colab-df-container\">\n",
              "      <div>\n",
              "<style scoped>\n",
              "    .dataframe tbody tr th:only-of-type {\n",
              "        vertical-align: middle;\n",
              "    }\n",
              "\n",
              "    .dataframe tbody tr th {\n",
              "        vertical-align: top;\n",
              "    }\n",
              "\n",
              "    .dataframe thead th {\n",
              "        text-align: right;\n",
              "    }\n",
              "</style>\n",
              "<table border=\"1\" class=\"dataframe\">\n",
              "  <thead>\n",
              "    <tr style=\"text-align: right;\">\n",
              "      <th></th>\n",
              "      <th>model</th>\n",
              "      <th>mae</th>\n",
              "      <th>mse</th>\n",
              "    </tr>\n",
              "  </thead>\n",
              "  <tbody>\n",
              "    <tr>\n",
              "      <th>0</th>\n",
              "      <td>model_1</td>\n",
              "      <td>18.745327</td>\n",
              "      <td>353.573395</td>\n",
              "    </tr>\n",
              "    <tr>\n",
              "      <th>1</th>\n",
              "      <td>model_2</td>\n",
              "      <td>3.196964</td>\n",
              "      <td>13.070300</td>\n",
              "    </tr>\n",
              "    <tr>\n",
              "      <th>2</th>\n",
              "      <td>model_3</td>\n",
              "      <td>68.713623</td>\n",
              "      <td>4808.028320</td>\n",
              "    </tr>\n",
              "  </tbody>\n",
              "</table>\n",
              "</div>\n",
              "      <button class=\"colab-df-convert\" onclick=\"convertToInteractive('df-fae5ac5f-f6c1-490a-9f1e-2fae2c3f764b')\"\n",
              "              title=\"Convert this dataframe to an interactive table.\"\n",
              "              style=\"display:none;\">\n",
              "        \n",
              "  <svg xmlns=\"http://www.w3.org/2000/svg\" height=\"24px\"viewBox=\"0 0 24 24\"\n",
              "       width=\"24px\">\n",
              "    <path d=\"M0 0h24v24H0V0z\" fill=\"none\"/>\n",
              "    <path d=\"M18.56 5.44l.94 2.06.94-2.06 2.06-.94-2.06-.94-.94-2.06-.94 2.06-2.06.94zm-11 1L8.5 8.5l.94-2.06 2.06-.94-2.06-.94L8.5 2.5l-.94 2.06-2.06.94zm10 10l.94 2.06.94-2.06 2.06-.94-2.06-.94-.94-2.06-.94 2.06-2.06.94z\"/><path d=\"M17.41 7.96l-1.37-1.37c-.4-.4-.92-.59-1.43-.59-.52 0-1.04.2-1.43.59L10.3 9.45l-7.72 7.72c-.78.78-.78 2.05 0 2.83L4 21.41c.39.39.9.59 1.41.59.51 0 1.02-.2 1.41-.59l7.78-7.78 2.81-2.81c.8-.78.8-2.07 0-2.86zM5.41 20L4 18.59l7.72-7.72 1.47 1.35L5.41 20z\"/>\n",
              "  </svg>\n",
              "      </button>\n",
              "      \n",
              "  <style>\n",
              "    .colab-df-container {\n",
              "      display:flex;\n",
              "      flex-wrap:wrap;\n",
              "      gap: 12px;\n",
              "    }\n",
              "\n",
              "    .colab-df-convert {\n",
              "      background-color: #E8F0FE;\n",
              "      border: none;\n",
              "      border-radius: 50%;\n",
              "      cursor: pointer;\n",
              "      display: none;\n",
              "      fill: #1967D2;\n",
              "      height: 32px;\n",
              "      padding: 0 0 0 0;\n",
              "      width: 32px;\n",
              "    }\n",
              "\n",
              "    .colab-df-convert:hover {\n",
              "      background-color: #E2EBFA;\n",
              "      box-shadow: 0px 1px 2px rgba(60, 64, 67, 0.3), 0px 1px 3px 1px rgba(60, 64, 67, 0.15);\n",
              "      fill: #174EA6;\n",
              "    }\n",
              "\n",
              "    [theme=dark] .colab-df-convert {\n",
              "      background-color: #3B4455;\n",
              "      fill: #D2E3FC;\n",
              "    }\n",
              "\n",
              "    [theme=dark] .colab-df-convert:hover {\n",
              "      background-color: #434B5C;\n",
              "      box-shadow: 0px 1px 3px 1px rgba(0, 0, 0, 0.15);\n",
              "      filter: drop-shadow(0px 1px 2px rgba(0, 0, 0, 0.3));\n",
              "      fill: #FFFFFF;\n",
              "    }\n",
              "  </style>\n",
              "\n",
              "      <script>\n",
              "        const buttonEl =\n",
              "          document.querySelector('#df-fae5ac5f-f6c1-490a-9f1e-2fae2c3f764b button.colab-df-convert');\n",
              "        buttonEl.style.display =\n",
              "          google.colab.kernel.accessAllowed ? 'block' : 'none';\n",
              "\n",
              "        async function convertToInteractive(key) {\n",
              "          const element = document.querySelector('#df-fae5ac5f-f6c1-490a-9f1e-2fae2c3f764b');\n",
              "          const dataTable =\n",
              "            await google.colab.kernel.invokeFunction('convertToInteractive',\n",
              "                                                     [key], {});\n",
              "          if (!dataTable) return;\n",
              "\n",
              "          const docLinkHtml = 'Like what you see? Visit the ' +\n",
              "            '<a target=\"_blank\" href=https://colab.research.google.com/notebooks/data_table.ipynb>data table notebook</a>'\n",
              "            + ' to learn more about interactive tables.';\n",
              "          element.innerHTML = '';\n",
              "          dataTable['output_type'] = 'display_data';\n",
              "          await google.colab.output.renderOutput(dataTable, element);\n",
              "          const docLink = document.createElement('div');\n",
              "          docLink.innerHTML = docLinkHtml;\n",
              "          element.appendChild(docLink);\n",
              "        }\n",
              "      </script>\n",
              "    </div>\n",
              "  </div>\n",
              "  "
            ]
          },
          "metadata": {},
          "execution_count": 57
        }
      ]
    },
    {
      "cell_type": "markdown",
      "source": [
        "Look like model_2  performed the best"
      ],
      "metadata": {
        "id": "BjSV4CNm0Ak5"
      }
    },
    {
      "cell_type": "code",
      "source": [
        "# Check summary model_2 \n",
        "model_2.summary()"
      ],
      "metadata": {
        "colab": {
          "base_uri": "https://localhost:8080/"
        },
        "id": "r_hlkP_bzw1N",
        "outputId": "ad7521b7-65cf-4b4a-fa83-7cb9b0ff8ece"
      },
      "execution_count": 58,
      "outputs": [
        {
          "output_type": "stream",
          "name": "stdout",
          "text": [
            "Model: \"sequential_7\"\n",
            "_________________________________________________________________\n",
            " Layer (type)                Output Shape              Param #   \n",
            "=================================================================\n",
            " dense_8 (Dense)             (None, 10)                20        \n",
            "                                                                 \n",
            " dense_9 (Dense)             (None, 1)                 11        \n",
            "                                                                 \n",
            "=================================================================\n",
            "Total params: 31\n",
            "Trainable params: 31\n",
            "Non-trainable params: 0\n",
            "_________________________________________________________________\n"
          ]
        }
      ]
    },
    {
      "cell_type": "markdown",
      "source": [
        "> 🔑 **Note:** One of your main goals should be to minimize the time between your experiments. The more experiments you do, the more things you'll figure out which don't work and in turn, get closer to figuring out what does work. Remember the machine learning prationer's motto: \" experiment, experiment, experiment\"."
      ],
      "metadata": {
        "id": "jN2vPlGQz1Jq"
      }
    },
    {
      "cell_type": "markdown",
      "source": [
        "## Tracking your experiments\n",
        "\n",
        "One really good habit in machine learning modelling is to track the result of your experiments.\n",
        "\n",
        "And when doing so, it can be tedious if you're running lots of experiments.\n",
        "\n",
        "Luckily, there are tools to help us!\n",
        "\n",
        "📖 **Resource** As you build more models, you'll want to look into using:\n",
        "\n",
        "* TensorBoard - a component of the TensorFlow library to help track modelling experiments (we'll see this one later).\n",
        "* Weights & Biases - a tool for tracking all of kinds of machine learning experiments (plugs straight into TensorBoard)."
      ],
      "metadata": {
        "id": "p5lhHMvk00Lx"
      }
    },
    {
      "cell_type": "markdown",
      "source": [
        "## Saving our model\n",
        "\n",
        "Saving our models allows us to use them outside of Google Colab (or wherever they were trained) such as in a web application or a mobile app.\n",
        "\n",
        "There are two main formats we can save our model's too:\n",
        "\n",
        "1. The SavedModel format\n",
        "2. The HDF5 format"
      ],
      "metadata": {
        "id": "GnazAyfV2hbR"
      }
    },
    {
      "cell_type": "code",
      "source": [
        "# save model using the SavedModel format\n",
        "model_2.save(\"best_model_SavedModel_format\")"
      ],
      "metadata": {
        "colab": {
          "base_uri": "https://localhost:8080/"
        },
        "id": "UYFQm0Ls21y2",
        "outputId": "e76aedba-204a-4e1d-e9af-9bcac2b3cc6c"
      },
      "execution_count": 59,
      "outputs": [
        {
          "output_type": "stream",
          "name": "stdout",
          "text": [
            "INFO:tensorflow:Assets written to: best_model_SavedModel_format/assets\n"
          ]
        }
      ]
    },
    {
      "cell_type": "code",
      "source": [
        "# save model using the HDF5 format\n",
        "model_2.save(\"best_model_HDF5_format.h5\")"
      ],
      "metadata": {
        "id": "CvvOIeLw38EW"
      },
      "execution_count": 60,
      "outputs": []
    },
    {
      "cell_type": "markdown",
      "source": [
        "## Loading in a saved model\n"
      ],
      "metadata": {
        "id": "CVVePfC24qda"
      }
    },
    {
      "cell_type": "code",
      "source": [
        "# Load in the SavedModel format model\n",
        "loaded_SavedModel_format = tf.keras.models.load_model(\"best_model_SavedModel_format\")\n",
        "loaded_SavedModel_format.summary()"
      ],
      "metadata": {
        "colab": {
          "base_uri": "https://localhost:8080/"
        },
        "id": "IIm8gH_t8WSM",
        "outputId": "c123d4d8-4ab0-4b70-b496-cf06cf18f2cf"
      },
      "execution_count": 61,
      "outputs": [
        {
          "output_type": "stream",
          "name": "stdout",
          "text": [
            "Model: \"sequential_7\"\n",
            "_________________________________________________________________\n",
            " Layer (type)                Output Shape              Param #   \n",
            "=================================================================\n",
            " dense_8 (Dense)             (None, 10)                20        \n",
            "                                                                 \n",
            " dense_9 (Dense)             (None, 1)                 11        \n",
            "                                                                 \n",
            "=================================================================\n",
            "Total params: 31\n",
            "Trainable params: 31\n",
            "Non-trainable params: 0\n",
            "_________________________________________________________________\n"
          ]
        }
      ]
    },
    {
      "cell_type": "code",
      "source": [
        "# Compare model_2 predictions with SavedModel format model predictions\n",
        "model_2_preds = model_2.predict(X_test)\n",
        "loaded_SavedModel_format_preds = loaded_SavedModel_format.predict(X_test)\n",
        "model_2_preds == loaded_SavedModel_format"
      ],
      "metadata": {
        "colab": {
          "base_uri": "https://localhost:8080/"
        },
        "id": "g3ygBgp-8n9V",
        "outputId": "9c9810d4-a218-4828-c7dc-cf23a2c82729"
      },
      "execution_count": 62,
      "outputs": [
        {
          "output_type": "execute_result",
          "data": {
            "text/plain": [
              "array([[False],\n",
              "       [False],\n",
              "       [False],\n",
              "       [False],\n",
              "       [False],\n",
              "       [False],\n",
              "       [False],\n",
              "       [False],\n",
              "       [False],\n",
              "       [False]])"
            ]
          },
          "metadata": {},
          "execution_count": 62
        }
      ]
    },
    {
      "cell_type": "code",
      "source": [
        "model_2_preds, loaded_SavedModel_format_preds"
      ],
      "metadata": {
        "colab": {
          "base_uri": "https://localhost:8080/"
        },
        "id": "ynWzyAQc8sVY",
        "outputId": "d60d4162-d975-417b-a3b0-daed2d25ad8e"
      },
      "execution_count": 63,
      "outputs": [
        {
          "output_type": "execute_result",
          "data": {
            "text/plain": [
              "(array([[ 70.55221 ],\n",
              "        [ 75.13992 ],\n",
              "        [ 79.72765 ],\n",
              "        [ 84.31538 ],\n",
              "        [ 88.9031  ],\n",
              "        [ 93.49082 ],\n",
              "        [ 98.07855 ],\n",
              "        [102.666275],\n",
              "        [107.254005],\n",
              "        [111.84173 ]], dtype=float32), array([[ 70.55221 ],\n",
              "        [ 75.13992 ],\n",
              "        [ 79.72765 ],\n",
              "        [ 84.31538 ],\n",
              "        [ 88.9031  ],\n",
              "        [ 93.49082 ],\n",
              "        [ 98.07855 ],\n",
              "        [102.666275],\n",
              "        [107.254005],\n",
              "        [111.84173 ]], dtype=float32))"
            ]
          },
          "metadata": {},
          "execution_count": 63
        }
      ]
    },
    {
      "cell_type": "code",
      "source": [
        "mae(y_true=y_test, y_pred=model_2_preds) == mae(y_true=y_test, y_pred=loaded_SavedModel_format_preds)"
      ],
      "metadata": {
        "colab": {
          "base_uri": "https://localhost:8080/"
        },
        "id": "K4uY2hSU9Pyj",
        "outputId": "02d82bad-4246-4bbd-f4c5-c7f31a9ebe7b"
      },
      "execution_count": 64,
      "outputs": [
        {
          "output_type": "execute_result",
          "data": {
            "text/plain": [
              "<tf.Tensor: shape=(), dtype=bool, numpy=True>"
            ]
          },
          "metadata": {},
          "execution_count": 64
        }
      ]
    },
    {
      "cell_type": "code",
      "source": [
        "model_2_preds.squeeze()"
      ],
      "metadata": {
        "colab": {
          "base_uri": "https://localhost:8080/"
        },
        "id": "iL5so6nJ9m1V",
        "outputId": "377dbcc0-258b-4fb8-9c32-c553a345daa5"
      },
      "execution_count": 65,
      "outputs": [
        {
          "output_type": "execute_result",
          "data": {
            "text/plain": [
              "array([ 70.55221 ,  75.13992 ,  79.72765 ,  84.31538 ,  88.9031  ,\n",
              "        93.49082 ,  98.07855 , 102.666275, 107.254005, 111.84173 ],\n",
              "      dtype=float32)"
            ]
          },
          "metadata": {},
          "execution_count": 65
        }
      ]
    },
    {
      "cell_type": "code",
      "source": [
        "loaded_SavedModel_format_preds.squeeze()"
      ],
      "metadata": {
        "colab": {
          "base_uri": "https://localhost:8080/"
        },
        "id": "fcRRyB5N9z4F",
        "outputId": "a8832dca-b753-40ca-f635-8706dcad017d"
      },
      "execution_count": 66,
      "outputs": [
        {
          "output_type": "execute_result",
          "data": {
            "text/plain": [
              "array([ 70.55221 ,  75.13992 ,  79.72765 ,  84.31538 ,  88.9031  ,\n",
              "        93.49082 ,  98.07855 , 102.666275, 107.254005, 111.84173 ],\n",
              "      dtype=float32)"
            ]
          },
          "metadata": {},
          "execution_count": 66
        }
      ]
    },
    {
      "cell_type": "code",
      "source": [
        "model_2_preds.squeeze() == loaded_SavedModel_format_preds.squeeze()"
      ],
      "metadata": {
        "colab": {
          "base_uri": "https://localhost:8080/"
        },
        "id": "pI4nfl2N94zK",
        "outputId": "e40156ff-e600-449d-ccba-0efcd251b40f"
      },
      "execution_count": 67,
      "outputs": [
        {
          "output_type": "execute_result",
          "data": {
            "text/plain": [
              "array([ True,  True,  True,  True,  True,  True,  True,  True,  True,\n",
              "        True])"
            ]
          },
          "metadata": {},
          "execution_count": 67
        }
      ]
    },
    {
      "cell_type": "code",
      "source": [
        "# Compare model_2 predictions with SavedModel format model predictions\n",
        "model_2_preds = model_2.predict(X_test)\n",
        "loaded_SavedModel_format_preds = loaded_SavedModel_format.predict(X_test)\n",
        "model_2_preds == loaded_SavedModel_format_preds"
      ],
      "metadata": {
        "colab": {
          "base_uri": "https://localhost:8080/"
        },
        "id": "6kJAEke998Mm",
        "outputId": "7e13a54b-7218-48da-c1e9-f56e4a2bb4d4"
      },
      "execution_count": 68,
      "outputs": [
        {
          "output_type": "execute_result",
          "data": {
            "text/plain": [
              "array([[ True],\n",
              "       [ True],\n",
              "       [ True],\n",
              "       [ True],\n",
              "       [ True],\n",
              "       [ True],\n",
              "       [ True],\n",
              "       [ True],\n",
              "       [ True],\n",
              "       [ True]])"
            ]
          },
          "metadata": {},
          "execution_count": 68
        }
      ]
    },
    {
      "cell_type": "code",
      "source": [
        "# Load in a model using the .h5 format\n",
        "loaded_h5_model = tf.keras.models.load_model(\"best_model_HDF5_format.h5\")\n",
        "loaded_h5_model.summary()"
      ],
      "metadata": {
        "colab": {
          "base_uri": "https://localhost:8080/"
        },
        "id": "3NgoCehA-Fqf",
        "outputId": "94a4cfcd-5f3e-4f4e-d748-88b7ae08a55e"
      },
      "execution_count": 69,
      "outputs": [
        {
          "output_type": "stream",
          "name": "stdout",
          "text": [
            "Model: \"sequential_7\"\n",
            "_________________________________________________________________\n",
            " Layer (type)                Output Shape              Param #   \n",
            "=================================================================\n",
            " dense_8 (Dense)             (None, 10)                20        \n",
            "                                                                 \n",
            " dense_9 (Dense)             (None, 1)                 11        \n",
            "                                                                 \n",
            "=================================================================\n",
            "Total params: 31\n",
            "Trainable params: 31\n",
            "Non-trainable params: 0\n",
            "_________________________________________________________________\n"
          ]
        }
      ]
    },
    {
      "cell_type": "code",
      "source": [
        "model_2.summary()"
      ],
      "metadata": {
        "colab": {
          "base_uri": "https://localhost:8080/"
        },
        "id": "kgu5mgLG-btr",
        "outputId": "aa35ae7a-1be5-4dd8-8b38-08fa27210467"
      },
      "execution_count": 70,
      "outputs": [
        {
          "output_type": "stream",
          "name": "stdout",
          "text": [
            "Model: \"sequential_7\"\n",
            "_________________________________________________________________\n",
            " Layer (type)                Output Shape              Param #   \n",
            "=================================================================\n",
            " dense_8 (Dense)             (None, 10)                20        \n",
            "                                                                 \n",
            " dense_9 (Dense)             (None, 1)                 11        \n",
            "                                                                 \n",
            "=================================================================\n",
            "Total params: 31\n",
            "Trainable params: 31\n",
            "Non-trainable params: 0\n",
            "_________________________________________________________________\n"
          ]
        }
      ]
    },
    {
      "cell_type": "code",
      "source": [
        "# Check to see if loaded .h5 model predictions match model_2\n",
        "model_2_preds = model_2.predict(X_test)\n",
        "loaded_h5_model_preds = loaded_h5_model.predict(X_test)\n",
        "model_2_preds == loaded_h5_model_preds"
      ],
      "metadata": {
        "colab": {
          "base_uri": "https://localhost:8080/"
        },
        "id": "2LVpXUlM-deK",
        "outputId": "aac32816-faa6-4a3b-9046-8ecb85eeeb2f"
      },
      "execution_count": 71,
      "outputs": [
        {
          "output_type": "execute_result",
          "data": {
            "text/plain": [
              "array([[ True],\n",
              "       [ True],\n",
              "       [ True],\n",
              "       [ True],\n",
              "       [ True],\n",
              "       [ True],\n",
              "       [ True],\n",
              "       [ True],\n",
              "       [ True],\n",
              "       [ True]])"
            ]
          },
          "metadata": {},
          "execution_count": 71
        }
      ]
    },
    {
      "cell_type": "markdown",
      "source": [
        "## Download a model (or any other file) from Google Colab\n",
        "\n",
        "If you want to download your files from Google Colab:\n",
        "\n",
        "1. You can go to the \"files\" tab and right click on the file you're after and click \"download\".\n",
        "2. Use code(see the cell below).\n",
        "3. Save it to Google Drive by connecting Google Drive and copying it there (see 2nd code cell below)."
      ],
      "metadata": {
        "id": "1E-XacdZ-w7Z"
      }
    },
    {
      "cell_type": "code",
      "source": [
        "# Download a file from google colab\n",
        "from google.colab import files\n",
        "files.download(\"/content/best_model_HDF5_format.h5\")"
      ],
      "metadata": {
        "colab": {
          "base_uri": "https://localhost:8080/",
          "height": 17
        },
        "id": "33rgw-8C_GU1",
        "outputId": "20187b99-e7fd-4f09-d53c-c53d3f29c34a"
      },
      "execution_count": 72,
      "outputs": [
        {
          "output_type": "display_data",
          "data": {
            "text/plain": [
              "<IPython.core.display.Javascript object>"
            ],
            "application/javascript": [
              "\n",
              "    async function download(id, filename, size) {\n",
              "      if (!google.colab.kernel.accessAllowed) {\n",
              "        return;\n",
              "      }\n",
              "      const div = document.createElement('div');\n",
              "      const label = document.createElement('label');\n",
              "      label.textContent = `Downloading \"${filename}\": `;\n",
              "      div.appendChild(label);\n",
              "      const progress = document.createElement('progress');\n",
              "      progress.max = size;\n",
              "      div.appendChild(progress);\n",
              "      document.body.appendChild(div);\n",
              "\n",
              "      const buffers = [];\n",
              "      let downloaded = 0;\n",
              "\n",
              "      const channel = await google.colab.kernel.comms.open(id);\n",
              "      // Send a message to notify the kernel that we're ready.\n",
              "      channel.send({})\n",
              "\n",
              "      for await (const message of channel.messages) {\n",
              "        // Send a message to notify the kernel that we're ready.\n",
              "        channel.send({})\n",
              "        if (message.buffers) {\n",
              "          for (const buffer of message.buffers) {\n",
              "            buffers.push(buffer);\n",
              "            downloaded += buffer.byteLength;\n",
              "            progress.value = downloaded;\n",
              "          }\n",
              "        }\n",
              "      }\n",
              "      const blob = new Blob(buffers, {type: 'application/binary'});\n",
              "      const a = document.createElement('a');\n",
              "      a.href = window.URL.createObjectURL(blob);\n",
              "      a.download = filename;\n",
              "      div.appendChild(a);\n",
              "      a.click();\n",
              "      div.remove();\n",
              "    }\n",
              "  "
            ]
          },
          "metadata": {}
        },
        {
          "output_type": "display_data",
          "data": {
            "text/plain": [
              "<IPython.core.display.Javascript object>"
            ],
            "application/javascript": [
              "download(\"download_31a179bb-d630-4c97-9790-138cab6e4eb0\", \"best_model_HDF5_format.h5\", 17872)"
            ]
          },
          "metadata": {}
        }
      ]
    },
    {
      "cell_type": "code",
      "source": [
        "# Save a file from Google Colab to Google Drive (requires mounting Google Drive)\n",
        "!cp /content/best_model_HDF5_format.h5 /content/drive/MyDrive/tensorflow_course"
      ],
      "metadata": {
        "id": "M0xtyp84AhKE"
      },
      "execution_count": 73,
      "outputs": []
    },
    {
      "cell_type": "code",
      "source": [
        "!ls /content/drive/MyDrive/tensorflow_course"
      ],
      "metadata": {
        "colab": {
          "base_uri": "https://localhost:8080/"
        },
        "id": "UjzNbfD5BRiQ",
        "outputId": "0216f4b9-512e-4e34-c44c-3f8f4cfb78ed"
      },
      "execution_count": 74,
      "outputs": [
        {
          "output_type": "stream",
          "name": "stdout",
          "text": [
            "best_model_HDF5_format.h5\n"
          ]
        }
      ]
    },
    {
      "cell_type": "markdown",
      "source": [
        "### A larger example"
      ],
      "metadata": {
        "id": "hhYtpDKhBUlI"
      }
    },
    {
      "cell_type": "code",
      "source": [
        "# Import  required libraries\n",
        "import tensorflow as tf\n",
        "import pandas as pd\n",
        "import matplotlib.pyplot as plt"
      ],
      "metadata": {
        "id": "lT0cT-UzBsfr"
      },
      "execution_count": 75,
      "outputs": []
    },
    {
      "cell_type": "code",
      "source": [
        "# Read in the insurance data set\n",
        "insurance = pd.read_csv(\"https://raw.githubusercontent.com/stedy/Machine-Learning-with-R-datasets/master/insurance.csv\")\n",
        "insurance"
      ],
      "metadata": {
        "colab": {
          "base_uri": "https://localhost:8080/",
          "height": 423
        },
        "id": "j1jrSizBCe49",
        "outputId": "e142bb3c-0660-46c1-9841-c558e4ecb8ac"
      },
      "execution_count": 76,
      "outputs": [
        {
          "output_type": "execute_result",
          "data": {
            "text/plain": [
              "      age     sex     bmi  children smoker     region      charges\n",
              "0      19  female  27.900         0    yes  southwest  16884.92400\n",
              "1      18    male  33.770         1     no  southeast   1725.55230\n",
              "2      28    male  33.000         3     no  southeast   4449.46200\n",
              "3      33    male  22.705         0     no  northwest  21984.47061\n",
              "4      32    male  28.880         0     no  northwest   3866.85520\n",
              "...   ...     ...     ...       ...    ...        ...          ...\n",
              "1333   50    male  30.970         3     no  northwest  10600.54830\n",
              "1334   18  female  31.920         0     no  northeast   2205.98080\n",
              "1335   18  female  36.850         0     no  southeast   1629.83350\n",
              "1336   21  female  25.800         0     no  southwest   2007.94500\n",
              "1337   61  female  29.070         0    yes  northwest  29141.36030\n",
              "\n",
              "[1338 rows x 7 columns]"
            ],
            "text/html": [
              "\n",
              "  <div id=\"df-3d13e1bd-e7c9-43e3-aefb-69fafc34d9a0\">\n",
              "    <div class=\"colab-df-container\">\n",
              "      <div>\n",
              "<style scoped>\n",
              "    .dataframe tbody tr th:only-of-type {\n",
              "        vertical-align: middle;\n",
              "    }\n",
              "\n",
              "    .dataframe tbody tr th {\n",
              "        vertical-align: top;\n",
              "    }\n",
              "\n",
              "    .dataframe thead th {\n",
              "        text-align: right;\n",
              "    }\n",
              "</style>\n",
              "<table border=\"1\" class=\"dataframe\">\n",
              "  <thead>\n",
              "    <tr style=\"text-align: right;\">\n",
              "      <th></th>\n",
              "      <th>age</th>\n",
              "      <th>sex</th>\n",
              "      <th>bmi</th>\n",
              "      <th>children</th>\n",
              "      <th>smoker</th>\n",
              "      <th>region</th>\n",
              "      <th>charges</th>\n",
              "    </tr>\n",
              "  </thead>\n",
              "  <tbody>\n",
              "    <tr>\n",
              "      <th>0</th>\n",
              "      <td>19</td>\n",
              "      <td>female</td>\n",
              "      <td>27.900</td>\n",
              "      <td>0</td>\n",
              "      <td>yes</td>\n",
              "      <td>southwest</td>\n",
              "      <td>16884.92400</td>\n",
              "    </tr>\n",
              "    <tr>\n",
              "      <th>1</th>\n",
              "      <td>18</td>\n",
              "      <td>male</td>\n",
              "      <td>33.770</td>\n",
              "      <td>1</td>\n",
              "      <td>no</td>\n",
              "      <td>southeast</td>\n",
              "      <td>1725.55230</td>\n",
              "    </tr>\n",
              "    <tr>\n",
              "      <th>2</th>\n",
              "      <td>28</td>\n",
              "      <td>male</td>\n",
              "      <td>33.000</td>\n",
              "      <td>3</td>\n",
              "      <td>no</td>\n",
              "      <td>southeast</td>\n",
              "      <td>4449.46200</td>\n",
              "    </tr>\n",
              "    <tr>\n",
              "      <th>3</th>\n",
              "      <td>33</td>\n",
              "      <td>male</td>\n",
              "      <td>22.705</td>\n",
              "      <td>0</td>\n",
              "      <td>no</td>\n",
              "      <td>northwest</td>\n",
              "      <td>21984.47061</td>\n",
              "    </tr>\n",
              "    <tr>\n",
              "      <th>4</th>\n",
              "      <td>32</td>\n",
              "      <td>male</td>\n",
              "      <td>28.880</td>\n",
              "      <td>0</td>\n",
              "      <td>no</td>\n",
              "      <td>northwest</td>\n",
              "      <td>3866.85520</td>\n",
              "    </tr>\n",
              "    <tr>\n",
              "      <th>...</th>\n",
              "      <td>...</td>\n",
              "      <td>...</td>\n",
              "      <td>...</td>\n",
              "      <td>...</td>\n",
              "      <td>...</td>\n",
              "      <td>...</td>\n",
              "      <td>...</td>\n",
              "    </tr>\n",
              "    <tr>\n",
              "      <th>1333</th>\n",
              "      <td>50</td>\n",
              "      <td>male</td>\n",
              "      <td>30.970</td>\n",
              "      <td>3</td>\n",
              "      <td>no</td>\n",
              "      <td>northwest</td>\n",
              "      <td>10600.54830</td>\n",
              "    </tr>\n",
              "    <tr>\n",
              "      <th>1334</th>\n",
              "      <td>18</td>\n",
              "      <td>female</td>\n",
              "      <td>31.920</td>\n",
              "      <td>0</td>\n",
              "      <td>no</td>\n",
              "      <td>northeast</td>\n",
              "      <td>2205.98080</td>\n",
              "    </tr>\n",
              "    <tr>\n",
              "      <th>1335</th>\n",
              "      <td>18</td>\n",
              "      <td>female</td>\n",
              "      <td>36.850</td>\n",
              "      <td>0</td>\n",
              "      <td>no</td>\n",
              "      <td>southeast</td>\n",
              "      <td>1629.83350</td>\n",
              "    </tr>\n",
              "    <tr>\n",
              "      <th>1336</th>\n",
              "      <td>21</td>\n",
              "      <td>female</td>\n",
              "      <td>25.800</td>\n",
              "      <td>0</td>\n",
              "      <td>no</td>\n",
              "      <td>southwest</td>\n",
              "      <td>2007.94500</td>\n",
              "    </tr>\n",
              "    <tr>\n",
              "      <th>1337</th>\n",
              "      <td>61</td>\n",
              "      <td>female</td>\n",
              "      <td>29.070</td>\n",
              "      <td>0</td>\n",
              "      <td>yes</td>\n",
              "      <td>northwest</td>\n",
              "      <td>29141.36030</td>\n",
              "    </tr>\n",
              "  </tbody>\n",
              "</table>\n",
              "<p>1338 rows × 7 columns</p>\n",
              "</div>\n",
              "      <button class=\"colab-df-convert\" onclick=\"convertToInteractive('df-3d13e1bd-e7c9-43e3-aefb-69fafc34d9a0')\"\n",
              "              title=\"Convert this dataframe to an interactive table.\"\n",
              "              style=\"display:none;\">\n",
              "        \n",
              "  <svg xmlns=\"http://www.w3.org/2000/svg\" height=\"24px\"viewBox=\"0 0 24 24\"\n",
              "       width=\"24px\">\n",
              "    <path d=\"M0 0h24v24H0V0z\" fill=\"none\"/>\n",
              "    <path d=\"M18.56 5.44l.94 2.06.94-2.06 2.06-.94-2.06-.94-.94-2.06-.94 2.06-2.06.94zm-11 1L8.5 8.5l.94-2.06 2.06-.94-2.06-.94L8.5 2.5l-.94 2.06-2.06.94zm10 10l.94 2.06.94-2.06 2.06-.94-2.06-.94-.94-2.06-.94 2.06-2.06.94z\"/><path d=\"M17.41 7.96l-1.37-1.37c-.4-.4-.92-.59-1.43-.59-.52 0-1.04.2-1.43.59L10.3 9.45l-7.72 7.72c-.78.78-.78 2.05 0 2.83L4 21.41c.39.39.9.59 1.41.59.51 0 1.02-.2 1.41-.59l7.78-7.78 2.81-2.81c.8-.78.8-2.07 0-2.86zM5.41 20L4 18.59l7.72-7.72 1.47 1.35L5.41 20z\"/>\n",
              "  </svg>\n",
              "      </button>\n",
              "      \n",
              "  <style>\n",
              "    .colab-df-container {\n",
              "      display:flex;\n",
              "      flex-wrap:wrap;\n",
              "      gap: 12px;\n",
              "    }\n",
              "\n",
              "    .colab-df-convert {\n",
              "      background-color: #E8F0FE;\n",
              "      border: none;\n",
              "      border-radius: 50%;\n",
              "      cursor: pointer;\n",
              "      display: none;\n",
              "      fill: #1967D2;\n",
              "      height: 32px;\n",
              "      padding: 0 0 0 0;\n",
              "      width: 32px;\n",
              "    }\n",
              "\n",
              "    .colab-df-convert:hover {\n",
              "      background-color: #E2EBFA;\n",
              "      box-shadow: 0px 1px 2px rgba(60, 64, 67, 0.3), 0px 1px 3px 1px rgba(60, 64, 67, 0.15);\n",
              "      fill: #174EA6;\n",
              "    }\n",
              "\n",
              "    [theme=dark] .colab-df-convert {\n",
              "      background-color: #3B4455;\n",
              "      fill: #D2E3FC;\n",
              "    }\n",
              "\n",
              "    [theme=dark] .colab-df-convert:hover {\n",
              "      background-color: #434B5C;\n",
              "      box-shadow: 0px 1px 3px 1px rgba(0, 0, 0, 0.15);\n",
              "      filter: drop-shadow(0px 1px 2px rgba(0, 0, 0, 0.3));\n",
              "      fill: #FFFFFF;\n",
              "    }\n",
              "  </style>\n",
              "\n",
              "      <script>\n",
              "        const buttonEl =\n",
              "          document.querySelector('#df-3d13e1bd-e7c9-43e3-aefb-69fafc34d9a0 button.colab-df-convert');\n",
              "        buttonEl.style.display =\n",
              "          google.colab.kernel.accessAllowed ? 'block' : 'none';\n",
              "\n",
              "        async function convertToInteractive(key) {\n",
              "          const element = document.querySelector('#df-3d13e1bd-e7c9-43e3-aefb-69fafc34d9a0');\n",
              "          const dataTable =\n",
              "            await google.colab.kernel.invokeFunction('convertToInteractive',\n",
              "                                                     [key], {});\n",
              "          if (!dataTable) return;\n",
              "\n",
              "          const docLinkHtml = 'Like what you see? Visit the ' +\n",
              "            '<a target=\"_blank\" href=https://colab.research.google.com/notebooks/data_table.ipynb>data table notebook</a>'\n",
              "            + ' to learn more about interactive tables.';\n",
              "          element.innerHTML = '';\n",
              "          dataTable['output_type'] = 'display_data';\n",
              "          await google.colab.output.renderOutput(dataTable, element);\n",
              "          const docLink = document.createElement('div');\n",
              "          docLink.innerHTML = docLinkHtml;\n",
              "          element.appendChild(docLink);\n",
              "        }\n",
              "      </script>\n",
              "    </div>\n",
              "  </div>\n",
              "  "
            ]
          },
          "metadata": {},
          "execution_count": 76
        }
      ]
    },
    {
      "cell_type": "code",
      "source": [
        "# Let's try one-hot encode our DataFrame so it's all numbers and save to insurance_one_hot variable\n",
        "insurance_one_hot = pd.get_dummies(insurance)\n",
        "insurance_one_hot.head()"
      ],
      "metadata": {
        "colab": {
          "base_uri": "https://localhost:8080/",
          "height": 270
        },
        "id": "h2ebTLqWDVgu",
        "outputId": "0f53bcb0-a1b4-487f-e637-592b197c4e9a"
      },
      "execution_count": 77,
      "outputs": [
        {
          "output_type": "execute_result",
          "data": {
            "text/plain": [
              "   age     bmi  children      charges  sex_female  sex_male  smoker_no  \\\n",
              "0   19  27.900         0  16884.92400           1         0          0   \n",
              "1   18  33.770         1   1725.55230           0         1          1   \n",
              "2   28  33.000         3   4449.46200           0         1          1   \n",
              "3   33  22.705         0  21984.47061           0         1          1   \n",
              "4   32  28.880         0   3866.85520           0         1          1   \n",
              "\n",
              "   smoker_yes  region_northeast  region_northwest  region_southeast  \\\n",
              "0           1                 0                 0                 0   \n",
              "1           0                 0                 0                 1   \n",
              "2           0                 0                 0                 1   \n",
              "3           0                 0                 1                 0   \n",
              "4           0                 0                 1                 0   \n",
              "\n",
              "   region_southwest  \n",
              "0                 1  \n",
              "1                 0  \n",
              "2                 0  \n",
              "3                 0  \n",
              "4                 0  "
            ],
            "text/html": [
              "\n",
              "  <div id=\"df-47e4deec-3f7d-4390-993f-3eeb66c83b41\">\n",
              "    <div class=\"colab-df-container\">\n",
              "      <div>\n",
              "<style scoped>\n",
              "    .dataframe tbody tr th:only-of-type {\n",
              "        vertical-align: middle;\n",
              "    }\n",
              "\n",
              "    .dataframe tbody tr th {\n",
              "        vertical-align: top;\n",
              "    }\n",
              "\n",
              "    .dataframe thead th {\n",
              "        text-align: right;\n",
              "    }\n",
              "</style>\n",
              "<table border=\"1\" class=\"dataframe\">\n",
              "  <thead>\n",
              "    <tr style=\"text-align: right;\">\n",
              "      <th></th>\n",
              "      <th>age</th>\n",
              "      <th>bmi</th>\n",
              "      <th>children</th>\n",
              "      <th>charges</th>\n",
              "      <th>sex_female</th>\n",
              "      <th>sex_male</th>\n",
              "      <th>smoker_no</th>\n",
              "      <th>smoker_yes</th>\n",
              "      <th>region_northeast</th>\n",
              "      <th>region_northwest</th>\n",
              "      <th>region_southeast</th>\n",
              "      <th>region_southwest</th>\n",
              "    </tr>\n",
              "  </thead>\n",
              "  <tbody>\n",
              "    <tr>\n",
              "      <th>0</th>\n",
              "      <td>19</td>\n",
              "      <td>27.900</td>\n",
              "      <td>0</td>\n",
              "      <td>16884.92400</td>\n",
              "      <td>1</td>\n",
              "      <td>0</td>\n",
              "      <td>0</td>\n",
              "      <td>1</td>\n",
              "      <td>0</td>\n",
              "      <td>0</td>\n",
              "      <td>0</td>\n",
              "      <td>1</td>\n",
              "    </tr>\n",
              "    <tr>\n",
              "      <th>1</th>\n",
              "      <td>18</td>\n",
              "      <td>33.770</td>\n",
              "      <td>1</td>\n",
              "      <td>1725.55230</td>\n",
              "      <td>0</td>\n",
              "      <td>1</td>\n",
              "      <td>1</td>\n",
              "      <td>0</td>\n",
              "      <td>0</td>\n",
              "      <td>0</td>\n",
              "      <td>1</td>\n",
              "      <td>0</td>\n",
              "    </tr>\n",
              "    <tr>\n",
              "      <th>2</th>\n",
              "      <td>28</td>\n",
              "      <td>33.000</td>\n",
              "      <td>3</td>\n",
              "      <td>4449.46200</td>\n",
              "      <td>0</td>\n",
              "      <td>1</td>\n",
              "      <td>1</td>\n",
              "      <td>0</td>\n",
              "      <td>0</td>\n",
              "      <td>0</td>\n",
              "      <td>1</td>\n",
              "      <td>0</td>\n",
              "    </tr>\n",
              "    <tr>\n",
              "      <th>3</th>\n",
              "      <td>33</td>\n",
              "      <td>22.705</td>\n",
              "      <td>0</td>\n",
              "      <td>21984.47061</td>\n",
              "      <td>0</td>\n",
              "      <td>1</td>\n",
              "      <td>1</td>\n",
              "      <td>0</td>\n",
              "      <td>0</td>\n",
              "      <td>1</td>\n",
              "      <td>0</td>\n",
              "      <td>0</td>\n",
              "    </tr>\n",
              "    <tr>\n",
              "      <th>4</th>\n",
              "      <td>32</td>\n",
              "      <td>28.880</td>\n",
              "      <td>0</td>\n",
              "      <td>3866.85520</td>\n",
              "      <td>0</td>\n",
              "      <td>1</td>\n",
              "      <td>1</td>\n",
              "      <td>0</td>\n",
              "      <td>0</td>\n",
              "      <td>1</td>\n",
              "      <td>0</td>\n",
              "      <td>0</td>\n",
              "    </tr>\n",
              "  </tbody>\n",
              "</table>\n",
              "</div>\n",
              "      <button class=\"colab-df-convert\" onclick=\"convertToInteractive('df-47e4deec-3f7d-4390-993f-3eeb66c83b41')\"\n",
              "              title=\"Convert this dataframe to an interactive table.\"\n",
              "              style=\"display:none;\">\n",
              "        \n",
              "  <svg xmlns=\"http://www.w3.org/2000/svg\" height=\"24px\"viewBox=\"0 0 24 24\"\n",
              "       width=\"24px\">\n",
              "    <path d=\"M0 0h24v24H0V0z\" fill=\"none\"/>\n",
              "    <path d=\"M18.56 5.44l.94 2.06.94-2.06 2.06-.94-2.06-.94-.94-2.06-.94 2.06-2.06.94zm-11 1L8.5 8.5l.94-2.06 2.06-.94-2.06-.94L8.5 2.5l-.94 2.06-2.06.94zm10 10l.94 2.06.94-2.06 2.06-.94-2.06-.94-.94-2.06-.94 2.06-2.06.94z\"/><path d=\"M17.41 7.96l-1.37-1.37c-.4-.4-.92-.59-1.43-.59-.52 0-1.04.2-1.43.59L10.3 9.45l-7.72 7.72c-.78.78-.78 2.05 0 2.83L4 21.41c.39.39.9.59 1.41.59.51 0 1.02-.2 1.41-.59l7.78-7.78 2.81-2.81c.8-.78.8-2.07 0-2.86zM5.41 20L4 18.59l7.72-7.72 1.47 1.35L5.41 20z\"/>\n",
              "  </svg>\n",
              "      </button>\n",
              "      \n",
              "  <style>\n",
              "    .colab-df-container {\n",
              "      display:flex;\n",
              "      flex-wrap:wrap;\n",
              "      gap: 12px;\n",
              "    }\n",
              "\n",
              "    .colab-df-convert {\n",
              "      background-color: #E8F0FE;\n",
              "      border: none;\n",
              "      border-radius: 50%;\n",
              "      cursor: pointer;\n",
              "      display: none;\n",
              "      fill: #1967D2;\n",
              "      height: 32px;\n",
              "      padding: 0 0 0 0;\n",
              "      width: 32px;\n",
              "    }\n",
              "\n",
              "    .colab-df-convert:hover {\n",
              "      background-color: #E2EBFA;\n",
              "      box-shadow: 0px 1px 2px rgba(60, 64, 67, 0.3), 0px 1px 3px 1px rgba(60, 64, 67, 0.15);\n",
              "      fill: #174EA6;\n",
              "    }\n",
              "\n",
              "    [theme=dark] .colab-df-convert {\n",
              "      background-color: #3B4455;\n",
              "      fill: #D2E3FC;\n",
              "    }\n",
              "\n",
              "    [theme=dark] .colab-df-convert:hover {\n",
              "      background-color: #434B5C;\n",
              "      box-shadow: 0px 1px 3px 1px rgba(0, 0, 0, 0.15);\n",
              "      filter: drop-shadow(0px 1px 2px rgba(0, 0, 0, 0.3));\n",
              "      fill: #FFFFFF;\n",
              "    }\n",
              "  </style>\n",
              "\n",
              "      <script>\n",
              "        const buttonEl =\n",
              "          document.querySelector('#df-47e4deec-3f7d-4390-993f-3eeb66c83b41 button.colab-df-convert');\n",
              "        buttonEl.style.display =\n",
              "          google.colab.kernel.accessAllowed ? 'block' : 'none';\n",
              "\n",
              "        async function convertToInteractive(key) {\n",
              "          const element = document.querySelector('#df-47e4deec-3f7d-4390-993f-3eeb66c83b41');\n",
              "          const dataTable =\n",
              "            await google.colab.kernel.invokeFunction('convertToInteractive',\n",
              "                                                     [key], {});\n",
              "          if (!dataTable) return;\n",
              "\n",
              "          const docLinkHtml = 'Like what you see? Visit the ' +\n",
              "            '<a target=\"_blank\" href=https://colab.research.google.com/notebooks/data_table.ipynb>data table notebook</a>'\n",
              "            + ' to learn more about interactive tables.';\n",
              "          element.innerHTML = '';\n",
              "          dataTable['output_type'] = 'display_data';\n",
              "          await google.colab.output.renderOutput(dataTable, element);\n",
              "          const docLink = document.createElement('div');\n",
              "          docLink.innerHTML = docLinkHtml;\n",
              "          element.appendChild(docLink);\n",
              "        }\n",
              "      </script>\n",
              "    </div>\n",
              "  </div>\n",
              "  "
            ]
          },
          "metadata": {},
          "execution_count": 77
        }
      ]
    },
    {
      "cell_type": "code",
      "source": [
        "# Create X & y values (features and labels)\n",
        "X = insurance_one_hot.drop(\"charges\", axis=1)\n",
        "y = insurance_one_hot[\"charges\"]"
      ],
      "metadata": {
        "id": "RaGHTJd8FzoS"
      },
      "execution_count": 78,
      "outputs": []
    },
    {
      "cell_type": "code",
      "source": [
        "# View X\n",
        "X.head()"
      ],
      "metadata": {
        "colab": {
          "base_uri": "https://localhost:8080/",
          "height": 206
        },
        "id": "y5ssRnnPGK1d",
        "outputId": "b2417932-b111-4100-ab3e-3fd8edf41d35"
      },
      "execution_count": 79,
      "outputs": [
        {
          "output_type": "execute_result",
          "data": {
            "text/plain": [
              "   age     bmi  children  sex_female  sex_male  smoker_no  smoker_yes  \\\n",
              "0   19  27.900         0           1         0          0           1   \n",
              "1   18  33.770         1           0         1          1           0   \n",
              "2   28  33.000         3           0         1          1           0   \n",
              "3   33  22.705         0           0         1          1           0   \n",
              "4   32  28.880         0           0         1          1           0   \n",
              "\n",
              "   region_northeast  region_northwest  region_southeast  region_southwest  \n",
              "0                 0                 0                 0                 1  \n",
              "1                 0                 0                 1                 0  \n",
              "2                 0                 0                 1                 0  \n",
              "3                 0                 1                 0                 0  \n",
              "4                 0                 1                 0                 0  "
            ],
            "text/html": [
              "\n",
              "  <div id=\"df-a36e1929-e56a-41a7-974c-687c08de2d96\">\n",
              "    <div class=\"colab-df-container\">\n",
              "      <div>\n",
              "<style scoped>\n",
              "    .dataframe tbody tr th:only-of-type {\n",
              "        vertical-align: middle;\n",
              "    }\n",
              "\n",
              "    .dataframe tbody tr th {\n",
              "        vertical-align: top;\n",
              "    }\n",
              "\n",
              "    .dataframe thead th {\n",
              "        text-align: right;\n",
              "    }\n",
              "</style>\n",
              "<table border=\"1\" class=\"dataframe\">\n",
              "  <thead>\n",
              "    <tr style=\"text-align: right;\">\n",
              "      <th></th>\n",
              "      <th>age</th>\n",
              "      <th>bmi</th>\n",
              "      <th>children</th>\n",
              "      <th>sex_female</th>\n",
              "      <th>sex_male</th>\n",
              "      <th>smoker_no</th>\n",
              "      <th>smoker_yes</th>\n",
              "      <th>region_northeast</th>\n",
              "      <th>region_northwest</th>\n",
              "      <th>region_southeast</th>\n",
              "      <th>region_southwest</th>\n",
              "    </tr>\n",
              "  </thead>\n",
              "  <tbody>\n",
              "    <tr>\n",
              "      <th>0</th>\n",
              "      <td>19</td>\n",
              "      <td>27.900</td>\n",
              "      <td>0</td>\n",
              "      <td>1</td>\n",
              "      <td>0</td>\n",
              "      <td>0</td>\n",
              "      <td>1</td>\n",
              "      <td>0</td>\n",
              "      <td>0</td>\n",
              "      <td>0</td>\n",
              "      <td>1</td>\n",
              "    </tr>\n",
              "    <tr>\n",
              "      <th>1</th>\n",
              "      <td>18</td>\n",
              "      <td>33.770</td>\n",
              "      <td>1</td>\n",
              "      <td>0</td>\n",
              "      <td>1</td>\n",
              "      <td>1</td>\n",
              "      <td>0</td>\n",
              "      <td>0</td>\n",
              "      <td>0</td>\n",
              "      <td>1</td>\n",
              "      <td>0</td>\n",
              "    </tr>\n",
              "    <tr>\n",
              "      <th>2</th>\n",
              "      <td>28</td>\n",
              "      <td>33.000</td>\n",
              "      <td>3</td>\n",
              "      <td>0</td>\n",
              "      <td>1</td>\n",
              "      <td>1</td>\n",
              "      <td>0</td>\n",
              "      <td>0</td>\n",
              "      <td>0</td>\n",
              "      <td>1</td>\n",
              "      <td>0</td>\n",
              "    </tr>\n",
              "    <tr>\n",
              "      <th>3</th>\n",
              "      <td>33</td>\n",
              "      <td>22.705</td>\n",
              "      <td>0</td>\n",
              "      <td>0</td>\n",
              "      <td>1</td>\n",
              "      <td>1</td>\n",
              "      <td>0</td>\n",
              "      <td>0</td>\n",
              "      <td>1</td>\n",
              "      <td>0</td>\n",
              "      <td>0</td>\n",
              "    </tr>\n",
              "    <tr>\n",
              "      <th>4</th>\n",
              "      <td>32</td>\n",
              "      <td>28.880</td>\n",
              "      <td>0</td>\n",
              "      <td>0</td>\n",
              "      <td>1</td>\n",
              "      <td>1</td>\n",
              "      <td>0</td>\n",
              "      <td>0</td>\n",
              "      <td>1</td>\n",
              "      <td>0</td>\n",
              "      <td>0</td>\n",
              "    </tr>\n",
              "  </tbody>\n",
              "</table>\n",
              "</div>\n",
              "      <button class=\"colab-df-convert\" onclick=\"convertToInteractive('df-a36e1929-e56a-41a7-974c-687c08de2d96')\"\n",
              "              title=\"Convert this dataframe to an interactive table.\"\n",
              "              style=\"display:none;\">\n",
              "        \n",
              "  <svg xmlns=\"http://www.w3.org/2000/svg\" height=\"24px\"viewBox=\"0 0 24 24\"\n",
              "       width=\"24px\">\n",
              "    <path d=\"M0 0h24v24H0V0z\" fill=\"none\"/>\n",
              "    <path d=\"M18.56 5.44l.94 2.06.94-2.06 2.06-.94-2.06-.94-.94-2.06-.94 2.06-2.06.94zm-11 1L8.5 8.5l.94-2.06 2.06-.94-2.06-.94L8.5 2.5l-.94 2.06-2.06.94zm10 10l.94 2.06.94-2.06 2.06-.94-2.06-.94-.94-2.06-.94 2.06-2.06.94z\"/><path d=\"M17.41 7.96l-1.37-1.37c-.4-.4-.92-.59-1.43-.59-.52 0-1.04.2-1.43.59L10.3 9.45l-7.72 7.72c-.78.78-.78 2.05 0 2.83L4 21.41c.39.39.9.59 1.41.59.51 0 1.02-.2 1.41-.59l7.78-7.78 2.81-2.81c.8-.78.8-2.07 0-2.86zM5.41 20L4 18.59l7.72-7.72 1.47 1.35L5.41 20z\"/>\n",
              "  </svg>\n",
              "      </button>\n",
              "      \n",
              "  <style>\n",
              "    .colab-df-container {\n",
              "      display:flex;\n",
              "      flex-wrap:wrap;\n",
              "      gap: 12px;\n",
              "    }\n",
              "\n",
              "    .colab-df-convert {\n",
              "      background-color: #E8F0FE;\n",
              "      border: none;\n",
              "      border-radius: 50%;\n",
              "      cursor: pointer;\n",
              "      display: none;\n",
              "      fill: #1967D2;\n",
              "      height: 32px;\n",
              "      padding: 0 0 0 0;\n",
              "      width: 32px;\n",
              "    }\n",
              "\n",
              "    .colab-df-convert:hover {\n",
              "      background-color: #E2EBFA;\n",
              "      box-shadow: 0px 1px 2px rgba(60, 64, 67, 0.3), 0px 1px 3px 1px rgba(60, 64, 67, 0.15);\n",
              "      fill: #174EA6;\n",
              "    }\n",
              "\n",
              "    [theme=dark] .colab-df-convert {\n",
              "      background-color: #3B4455;\n",
              "      fill: #D2E3FC;\n",
              "    }\n",
              "\n",
              "    [theme=dark] .colab-df-convert:hover {\n",
              "      background-color: #434B5C;\n",
              "      box-shadow: 0px 1px 3px 1px rgba(0, 0, 0, 0.15);\n",
              "      filter: drop-shadow(0px 1px 2px rgba(0, 0, 0, 0.3));\n",
              "      fill: #FFFFFF;\n",
              "    }\n",
              "  </style>\n",
              "\n",
              "      <script>\n",
              "        const buttonEl =\n",
              "          document.querySelector('#df-a36e1929-e56a-41a7-974c-687c08de2d96 button.colab-df-convert');\n",
              "        buttonEl.style.display =\n",
              "          google.colab.kernel.accessAllowed ? 'block' : 'none';\n",
              "\n",
              "        async function convertToInteractive(key) {\n",
              "          const element = document.querySelector('#df-a36e1929-e56a-41a7-974c-687c08de2d96');\n",
              "          const dataTable =\n",
              "            await google.colab.kernel.invokeFunction('convertToInteractive',\n",
              "                                                     [key], {});\n",
              "          if (!dataTable) return;\n",
              "\n",
              "          const docLinkHtml = 'Like what you see? Visit the ' +\n",
              "            '<a target=\"_blank\" href=https://colab.research.google.com/notebooks/data_table.ipynb>data table notebook</a>'\n",
              "            + ' to learn more about interactive tables.';\n",
              "          element.innerHTML = '';\n",
              "          dataTable['output_type'] = 'display_data';\n",
              "          await google.colab.output.renderOutput(dataTable, element);\n",
              "          const docLink = document.createElement('div');\n",
              "          docLink.innerHTML = docLinkHtml;\n",
              "          element.appendChild(docLink);\n",
              "        }\n",
              "      </script>\n",
              "    </div>\n",
              "  </div>\n",
              "  "
            ]
          },
          "metadata": {},
          "execution_count": 79
        }
      ]
    },
    {
      "cell_type": "code",
      "source": [
        "# View y\n",
        "y.head()"
      ],
      "metadata": {
        "colab": {
          "base_uri": "https://localhost:8080/"
        },
        "id": "a2jmxNuWGN_N",
        "outputId": "fa7c719b-c9d9-4f63-be6a-abf99b574c64"
      },
      "execution_count": 80,
      "outputs": [
        {
          "output_type": "execute_result",
          "data": {
            "text/plain": [
              "0    16884.92400\n",
              "1     1725.55230\n",
              "2     4449.46200\n",
              "3    21984.47061\n",
              "4     3866.85520\n",
              "Name: charges, dtype: float64"
            ]
          },
          "metadata": {},
          "execution_count": 80
        }
      ]
    },
    {
      "cell_type": "code",
      "source": [
        "# Create training and test sets using `Scikit-Learn - train_test_split`\n",
        "from sklearn.model_selection import train_test_split\n",
        "X_train, X_test, y_train, y_test = train_test_split(X, y, test_size=0.2, random_state=42)\n",
        "len(X), len(X_train), len(X_test)"
      ],
      "metadata": {
        "colab": {
          "base_uri": "https://localhost:8080/"
        },
        "id": "HCMPd_mXF9C9",
        "outputId": "bcdad7a4-cbde-45b5-9537-88ceb9f0acf5"
      },
      "execution_count": 81,
      "outputs": [
        {
          "output_type": "execute_result",
          "data": {
            "text/plain": [
              "(1338, 1070, 268)"
            ]
          },
          "metadata": {},
          "execution_count": 81
        }
      ]
    },
    {
      "cell_type": "code",
      "source": [
        "# Build a neural network (sort of like model_2 above)\n",
        "tf.random.set_seed(42)\n",
        "\n",
        "# 1. Create the model\n",
        "insurance_model = tf.keras.Sequential([\n",
        "  tf.keras.layers.Dense(10),\n",
        "  tf.keras.layers.Dense(1)\n",
        "])\n",
        "\n",
        "# 2. Compile the model\n",
        "insurance_model.compile(loss=tf.keras.losses.mae,\n",
        "                       optimizer=tf.keras.optimizers.SGD(),\n",
        "                       metrics=[\"mae\"])\n",
        "\n",
        "# Fit the model\n",
        "insurance_model.fit(X_train, y_train, epochs=100)"
      ],
      "metadata": {
        "colab": {
          "base_uri": "https://localhost:8080/"
        },
        "id": "XiXXfloVF93I",
        "outputId": "3c578865-a224-45be-953e-5e6d76aa56af"
      },
      "execution_count": 82,
      "outputs": [
        {
          "output_type": "stream",
          "name": "stdout",
          "text": [
            "Epoch 1/100\n",
            "34/34 [==============================] - 1s 4ms/step - loss: 8637.1006 - mae: 8637.1006\n",
            "Epoch 2/100\n",
            "34/34 [==============================] - 0s 3ms/step - loss: 7886.7759 - mae: 7886.7759\n",
            "Epoch 3/100\n",
            "34/34 [==============================] - 0s 3ms/step - loss: 7558.1475 - mae: 7558.1475\n",
            "Epoch 4/100\n",
            "34/34 [==============================] - 0s 4ms/step - loss: 7792.0225 - mae: 7792.0225\n",
            "Epoch 5/100\n",
            "34/34 [==============================] - 0s 3ms/step - loss: 7748.3887 - mae: 7748.3887\n",
            "Epoch 6/100\n",
            "34/34 [==============================] - 0s 3ms/step - loss: 7595.3945 - mae: 7595.3945\n",
            "Epoch 7/100\n",
            "34/34 [==============================] - 0s 3ms/step - loss: 7589.9844 - mae: 7589.9844\n",
            "Epoch 8/100\n",
            "34/34 [==============================] - 0s 3ms/step - loss: 7698.5591 - mae: 7698.5591\n",
            "Epoch 9/100\n",
            "34/34 [==============================] - 0s 4ms/step - loss: 7496.7788 - mae: 7496.7788\n",
            "Epoch 10/100\n",
            "34/34 [==============================] - 0s 4ms/step - loss: 7493.1738 - mae: 7493.1738\n",
            "Epoch 11/100\n",
            "34/34 [==============================] - 0s 3ms/step - loss: 7769.7305 - mae: 7769.7305\n",
            "Epoch 12/100\n",
            "34/34 [==============================] - 0s 3ms/step - loss: 7706.9043 - mae: 7706.9043\n",
            "Epoch 13/100\n",
            "34/34 [==============================] - 0s 3ms/step - loss: 7687.7231 - mae: 7687.7231\n",
            "Epoch 14/100\n",
            "34/34 [==============================] - 0s 3ms/step - loss: 7689.9004 - mae: 7689.9004\n",
            "Epoch 15/100\n",
            "34/34 [==============================] - 0s 3ms/step - loss: 7393.5327 - mae: 7393.5327\n",
            "Epoch 16/100\n",
            "34/34 [==============================] - 0s 4ms/step - loss: 7780.6992 - mae: 7780.6992\n",
            "Epoch 17/100\n",
            "34/34 [==============================] - 0s 4ms/step - loss: 7578.5098 - mae: 7578.5098\n",
            "Epoch 18/100\n",
            "34/34 [==============================] - 0s 3ms/step - loss: 7750.8350 - mae: 7750.8350\n",
            "Epoch 19/100\n",
            "34/34 [==============================] - 0s 3ms/step - loss: 7739.2144 - mae: 7739.2144\n",
            "Epoch 20/100\n",
            "34/34 [==============================] - 0s 3ms/step - loss: 7875.0654 - mae: 7875.0654\n",
            "Epoch 21/100\n",
            "34/34 [==============================] - 0s 3ms/step - loss: 7466.6768 - mae: 7466.6768\n",
            "Epoch 22/100\n",
            "34/34 [==============================] - 0s 4ms/step - loss: 7941.2319 - mae: 7941.2319\n",
            "Epoch 23/100\n",
            "34/34 [==============================] - 0s 3ms/step - loss: 7640.2739 - mae: 7640.2739\n",
            "Epoch 24/100\n",
            "34/34 [==============================] - 0s 3ms/step - loss: 7539.2671 - mae: 7539.2671\n",
            "Epoch 25/100\n",
            "34/34 [==============================] - 0s 4ms/step - loss: 7619.9658 - mae: 7619.9658\n",
            "Epoch 26/100\n",
            "34/34 [==============================] - 0s 3ms/step - loss: 7644.1714 - mae: 7644.1714\n",
            "Epoch 27/100\n",
            "34/34 [==============================] - 0s 3ms/step - loss: 7709.0371 - mae: 7709.0371\n",
            "Epoch 28/100\n",
            "34/34 [==============================] - 0s 3ms/step - loss: 7366.8667 - mae: 7366.8667\n",
            "Epoch 29/100\n",
            "34/34 [==============================] - 0s 3ms/step - loss: 7444.3159 - mae: 7444.3159\n",
            "Epoch 30/100\n",
            "34/34 [==============================] - 0s 4ms/step - loss: 7616.4082 - mae: 7616.4082\n",
            "Epoch 31/100\n",
            "34/34 [==============================] - 0s 4ms/step - loss: 7686.3853 - mae: 7686.3853\n",
            "Epoch 32/100\n",
            "34/34 [==============================] - 0s 3ms/step - loss: 7548.0996 - mae: 7548.0996\n",
            "Epoch 33/100\n",
            "34/34 [==============================] - 0s 4ms/step - loss: 7501.5537 - mae: 7501.5537\n",
            "Epoch 34/100\n",
            "34/34 [==============================] - 0s 4ms/step - loss: 7363.4165 - mae: 7363.4165\n",
            "Epoch 35/100\n",
            "34/34 [==============================] - 0s 4ms/step - loss: 7295.4473 - mae: 7295.4473\n",
            "Epoch 36/100\n",
            "34/34 [==============================] - 0s 3ms/step - loss: 7569.8823 - mae: 7569.8823\n",
            "Epoch 37/100\n",
            "34/34 [==============================] - 0s 3ms/step - loss: 7548.2007 - mae: 7548.2007\n",
            "Epoch 38/100\n",
            "34/34 [==============================] - 0s 3ms/step - loss: 7424.3979 - mae: 7424.3979\n",
            "Epoch 39/100\n",
            "34/34 [==============================] - 0s 4ms/step - loss: 7529.7734 - mae: 7529.7734\n",
            "Epoch 40/100\n",
            "34/34 [==============================] - 0s 3ms/step - loss: 7467.3242 - mae: 7467.3242\n",
            "Epoch 41/100\n",
            "34/34 [==============================] - 0s 4ms/step - loss: 7635.9292 - mae: 7635.9292\n",
            "Epoch 42/100\n",
            "34/34 [==============================] - 0s 3ms/step - loss: 7536.8398 - mae: 7536.8398\n",
            "Epoch 43/100\n",
            "34/34 [==============================] - 0s 3ms/step - loss: 7616.5854 - mae: 7616.5854\n",
            "Epoch 44/100\n",
            "34/34 [==============================] - 0s 3ms/step - loss: 7439.4937 - mae: 7439.4937\n",
            "Epoch 45/100\n",
            "34/34 [==============================] - 0s 3ms/step - loss: 7538.0151 - mae: 7538.0151\n",
            "Epoch 46/100\n",
            "34/34 [==============================] - 0s 4ms/step - loss: 7415.1465 - mae: 7415.1465\n",
            "Epoch 47/100\n",
            "34/34 [==============================] - 0s 3ms/step - loss: 7420.6938 - mae: 7420.6938\n",
            "Epoch 48/100\n",
            "34/34 [==============================] - 0s 3ms/step - loss: 7509.9834 - mae: 7509.9834\n",
            "Epoch 49/100\n",
            "34/34 [==============================] - 0s 4ms/step - loss: 7541.1133 - mae: 7541.1133\n",
            "Epoch 50/100\n",
            "34/34 [==============================] - 0s 3ms/step - loss: 7467.8633 - mae: 7467.8633\n",
            "Epoch 51/100\n",
            "34/34 [==============================] - 0s 3ms/step - loss: 7389.3555 - mae: 7389.3555\n",
            "Epoch 52/100\n",
            "34/34 [==============================] - 0s 3ms/step - loss: 7499.7759 - mae: 7499.7759\n",
            "Epoch 53/100\n",
            "34/34 [==============================] - 0s 3ms/step - loss: 7523.9277 - mae: 7523.9277\n",
            "Epoch 54/100\n",
            "34/34 [==============================] - 0s 3ms/step - loss: 7243.3115 - mae: 7243.3115\n",
            "Epoch 55/100\n",
            "34/34 [==============================] - 0s 3ms/step - loss: 7429.5859 - mae: 7429.5859\n",
            "Epoch 56/100\n",
            "34/34 [==============================] - 0s 3ms/step - loss: 7313.4009 - mae: 7313.4009\n",
            "Epoch 57/100\n",
            "34/34 [==============================] - 0s 3ms/step - loss: 7526.3887 - mae: 7526.3887\n",
            "Epoch 58/100\n",
            "34/34 [==============================] - 0s 3ms/step - loss: 7542.2661 - mae: 7542.2661\n",
            "Epoch 59/100\n",
            "34/34 [==============================] - 0s 3ms/step - loss: 7576.9277 - mae: 7576.9277\n",
            "Epoch 60/100\n",
            "34/34 [==============================] - 0s 3ms/step - loss: 7546.4053 - mae: 7546.4053\n",
            "Epoch 61/100\n",
            "34/34 [==============================] - 0s 3ms/step - loss: 7351.2271 - mae: 7351.2271\n",
            "Epoch 62/100\n",
            "34/34 [==============================] - 0s 3ms/step - loss: 7302.1440 - mae: 7302.1440\n",
            "Epoch 63/100\n",
            "34/34 [==============================] - 0s 3ms/step - loss: 7393.0884 - mae: 7393.0884\n",
            "Epoch 64/100\n",
            "34/34 [==============================] - 0s 3ms/step - loss: 7442.2886 - mae: 7442.2886\n",
            "Epoch 65/100\n",
            "34/34 [==============================] - 0s 4ms/step - loss: 7492.6787 - mae: 7492.6787\n",
            "Epoch 66/100\n",
            "34/34 [==============================] - 0s 4ms/step - loss: 7561.9165 - mae: 7561.9165\n",
            "Epoch 67/100\n",
            "34/34 [==============================] - 0s 4ms/step - loss: 7340.5137 - mae: 7340.5137\n",
            "Epoch 68/100\n",
            "34/34 [==============================] - 0s 3ms/step - loss: 7496.0854 - mae: 7496.0854\n",
            "Epoch 69/100\n",
            "34/34 [==============================] - 0s 3ms/step - loss: 7617.0298 - mae: 7617.0298\n",
            "Epoch 70/100\n",
            "34/34 [==============================] - 0s 4ms/step - loss: 7641.1948 - mae: 7641.1948\n",
            "Epoch 71/100\n",
            "34/34 [==============================] - 0s 3ms/step - loss: 7084.2744 - mae: 7084.2744\n",
            "Epoch 72/100\n",
            "34/34 [==============================] - 0s 3ms/step - loss: 7240.4907 - mae: 7240.4907\n",
            "Epoch 73/100\n",
            "34/34 [==============================] - 0s 4ms/step - loss: 7283.4888 - mae: 7283.4888\n",
            "Epoch 74/100\n",
            "34/34 [==============================] - 0s 4ms/step - loss: 7335.5068 - mae: 7335.5068\n",
            "Epoch 75/100\n",
            "34/34 [==============================] - 0s 3ms/step - loss: 7275.6392 - mae: 7275.6392\n",
            "Epoch 76/100\n",
            "34/34 [==============================] - 0s 3ms/step - loss: 7313.1851 - mae: 7313.1851\n",
            "Epoch 77/100\n",
            "34/34 [==============================] - 0s 3ms/step - loss: 7485.7578 - mae: 7485.7578\n",
            "Epoch 78/100\n",
            "34/34 [==============================] - 0s 4ms/step - loss: 7352.2798 - mae: 7352.2798\n",
            "Epoch 79/100\n",
            "34/34 [==============================] - 0s 3ms/step - loss: 7520.5703 - mae: 7520.5703\n",
            "Epoch 80/100\n",
            "34/34 [==============================] - 0s 3ms/step - loss: 7279.3779 - mae: 7279.3779\n",
            "Epoch 81/100\n",
            "34/34 [==============================] - 0s 4ms/step - loss: 7273.8477 - mae: 7273.8477\n",
            "Epoch 82/100\n",
            "34/34 [==============================] - 0s 4ms/step - loss: 7176.5210 - mae: 7176.5210\n",
            "Epoch 83/100\n",
            "34/34 [==============================] - 0s 3ms/step - loss: 7425.6294 - mae: 7425.6294\n",
            "Epoch 84/100\n",
            "34/34 [==============================] - 0s 4ms/step - loss: 7403.1299 - mae: 7403.1299\n",
            "Epoch 85/100\n",
            "34/34 [==============================] - 0s 3ms/step - loss: 7356.0088 - mae: 7356.0088\n",
            "Epoch 86/100\n",
            "34/34 [==============================] - 0s 3ms/step - loss: 7484.7271 - mae: 7484.7271\n",
            "Epoch 87/100\n",
            "34/34 [==============================] - 0s 3ms/step - loss: 7217.6074 - mae: 7217.6074\n",
            "Epoch 88/100\n",
            "34/34 [==============================] - 0s 3ms/step - loss: 7261.0000 - mae: 7261.0000\n",
            "Epoch 89/100\n",
            "34/34 [==============================] - 0s 3ms/step - loss: 7134.1558 - mae: 7134.1558\n",
            "Epoch 90/100\n",
            "34/34 [==============================] - 0s 4ms/step - loss: 7083.4351 - mae: 7083.4351\n",
            "Epoch 91/100\n",
            "34/34 [==============================] - 0s 3ms/step - loss: 7254.1777 - mae: 7254.1777\n",
            "Epoch 92/100\n",
            "34/34 [==============================] - 0s 3ms/step - loss: 7268.7456 - mae: 7268.7456\n",
            "Epoch 93/100\n",
            "34/34 [==============================] - 0s 3ms/step - loss: 7470.5215 - mae: 7470.5215\n",
            "Epoch 94/100\n",
            "34/34 [==============================] - 0s 3ms/step - loss: 7210.9536 - mae: 7210.9536\n",
            "Epoch 95/100\n",
            "34/34 [==============================] - 0s 3ms/step - loss: 7395.6807 - mae: 7395.6807\n",
            "Epoch 96/100\n",
            "34/34 [==============================] - 0s 3ms/step - loss: 7328.0889 - mae: 7328.0889\n",
            "Epoch 97/100\n",
            "34/34 [==============================] - 0s 3ms/step - loss: 7230.4375 - mae: 7230.4375\n",
            "Epoch 98/100\n",
            "34/34 [==============================] - 0s 4ms/step - loss: 7261.3936 - mae: 7261.3936\n",
            "Epoch 99/100\n",
            "34/34 [==============================] - 0s 3ms/step - loss: 7342.5674 - mae: 7342.5674\n",
            "Epoch 100/100\n",
            "34/34 [==============================] - 0s 3ms/step - loss: 7106.1709 - mae: 7106.1709\n"
          ]
        },
        {
          "output_type": "execute_result",
          "data": {
            "text/plain": [
              "<keras.callbacks.History at 0x7f6b27d92a10>"
            ]
          },
          "metadata": {},
          "execution_count": 82
        }
      ]
    },
    {
      "cell_type": "code",
      "source": [
        "# Check the result of the insurance model on the test data\n",
        "insurance_model.evaluate(X_test, y_test)"
      ],
      "metadata": {
        "colab": {
          "base_uri": "https://localhost:8080/"
        },
        "id": "gz2UEa8PHX0Q",
        "outputId": "515e0b45-8560-4745-8e08-2771cbc6aed4"
      },
      "execution_count": 83,
      "outputs": [
        {
          "output_type": "stream",
          "name": "stdout",
          "text": [
            "9/9 [==============================] - 0s 3ms/step - loss: 7023.3281 - mae: 7023.3281\n"
          ]
        },
        {
          "output_type": "execute_result",
          "data": {
            "text/plain": [
              "[7023.328125, 7023.328125]"
            ]
          },
          "metadata": {},
          "execution_count": 83
        }
      ]
    },
    {
      "cell_type": "code",
      "source": [
        "y_train.median(), y_train.mean()"
      ],
      "metadata": {
        "colab": {
          "base_uri": "https://localhost:8080/"
        },
        "id": "wY6N3HPFIXTy",
        "outputId": "5bbd0fbd-695f-4509-9de4-dc8cf4501d1b"
      },
      "execution_count": 84,
      "outputs": [
        {
          "output_type": "execute_result",
          "data": {
            "text/plain": [
              "(9575.4421, 13346.089736364489)"
            ]
          },
          "metadata": {},
          "execution_count": 84
        }
      ]
    },
    {
      "cell_type": "markdown",
      "source": [
        "Right now it looks like our model isn't performing too well... let's try and improve it!\n",
        "\n",
        "To (try) improve our model, we'll run 2 experiments:\n",
        "1. Add an extra layer with more hidden units and use the Adam optimizer\n",
        "2. Train as above but train for longer (200 epochs)\n",
        "3. (insert your own experiment here)"
      ],
      "metadata": {
        "id": "l8g6DORzIdlZ"
      }
    },
    {
      "cell_type": "code",
      "source": [
        "X_train, y_train"
      ],
      "metadata": {
        "colab": {
          "base_uri": "https://localhost:8080/"
        },
        "id": "wYCRMJikKK6i",
        "outputId": "3d9c0295-a210-460b-e34e-6804702871c0"
      },
      "execution_count": 85,
      "outputs": [
        {
          "output_type": "execute_result",
          "data": {
            "text/plain": [
              "(      age     bmi  children  sex_female  sex_male  smoker_no  smoker_yes  \\\n",
              " 560    46  19.950         2           1         0          1           0   \n",
              " 1285   47  24.320         0           1         0          1           0   \n",
              " 1142   52  24.860         0           1         0          1           0   \n",
              " 969    39  34.320         5           1         0          1           0   \n",
              " 486    54  21.470         3           1         0          1           0   \n",
              " ...   ...     ...       ...         ...       ...        ...         ...   \n",
              " 1095   18  31.350         4           1         0          1           0   \n",
              " 1130   39  23.870         5           1         0          1           0   \n",
              " 1294   58  25.175         0           0         1          1           0   \n",
              " 860    37  47.600         2           1         0          0           1   \n",
              " 1126   55  29.900         0           0         1          1           0   \n",
              " \n",
              "       region_northeast  region_northwest  region_southeast  region_southwest  \n",
              " 560                  0                 1                 0                 0  \n",
              " 1285                 1                 0                 0                 0  \n",
              " 1142                 0                 0                 1                 0  \n",
              " 969                  0                 0                 1                 0  \n",
              " 486                  0                 1                 0                 0  \n",
              " ...                ...               ...               ...               ...  \n",
              " 1095                 1                 0                 0                 0  \n",
              " 1130                 0                 0                 1                 0  \n",
              " 1294                 1                 0                 0                 0  \n",
              " 860                  0                 0                 0                 1  \n",
              " 1126                 0                 0                 0                 1  \n",
              " \n",
              " [1070 rows x 11 columns], 560      9193.83850\n",
              " 1285     8534.67180\n",
              " 1142    27117.99378\n",
              " 969      8596.82780\n",
              " 486     12475.35130\n",
              "            ...     \n",
              " 1095     4561.18850\n",
              " 1130     8582.30230\n",
              " 1294    11931.12525\n",
              " 860     46113.51100\n",
              " 1126    10214.63600\n",
              " Name: charges, Length: 1070, dtype: float64)"
            ]
          },
          "metadata": {},
          "execution_count": 85
        }
      ]
    },
    {
      "cell_type": "code",
      "source": [
        "# Set random seed\n",
        "tf.random.set_seed(42)\n",
        "\n",
        "# 1. Create the model\n",
        "insurance_model_2 =  tf.keras.Sequential([\n",
        "  tf.keras.layers.Dense(100),\n",
        "  tf.keras.layers.Dense(10),\n",
        "  tf.keras.layers.Dense(1)\n",
        "])\n",
        "\n",
        "# 2. Compile the model\n",
        "insurance_model_2.compile(loss=tf.keras.losses.mae,\n",
        "                          optimizer=tf.keras.optimizers.Adam(),\n",
        "                          metrics=[\"mae\"])\n",
        "\n",
        "# 3. Fit the model\n",
        "insurance_model_2.fit(X_train, y_train, epochs=100, verbose=1)"
      ],
      "metadata": {
        "colab": {
          "base_uri": "https://localhost:8080/"
        },
        "id": "SNBVS20ZI8pn",
        "outputId": "7a500247-e130-4c0f-980b-616a1b171f37"
      },
      "execution_count": 86,
      "outputs": [
        {
          "output_type": "stream",
          "name": "stdout",
          "text": [
            "Epoch 1/100\n",
            "34/34 [==============================] - 1s 4ms/step - loss: 13273.1602 - mae: 13273.1602\n",
            "Epoch 2/100\n",
            "34/34 [==============================] - 0s 4ms/step - loss: 13104.4287 - mae: 13104.4287\n",
            "Epoch 3/100\n",
            "34/34 [==============================] - 0s 3ms/step - loss: 12749.5400 - mae: 12749.5400\n",
            "Epoch 4/100\n",
            "34/34 [==============================] - 0s 3ms/step - loss: 12055.7500 - mae: 12055.7500\n",
            "Epoch 5/100\n",
            "34/34 [==============================] - 0s 4ms/step - loss: 10905.8135 - mae: 10905.8135\n",
            "Epoch 6/100\n",
            "34/34 [==============================] - 0s 4ms/step - loss: 9457.7188 - mae: 9457.7188\n",
            "Epoch 7/100\n",
            "34/34 [==============================] - 0s 4ms/step - loss: 8147.6533 - mae: 8147.6533\n",
            "Epoch 8/100\n",
            "34/34 [==============================] - 0s 4ms/step - loss: 7528.8398 - mae: 7528.8398\n",
            "Epoch 9/100\n",
            "34/34 [==============================] - 0s 4ms/step - loss: 7429.1528 - mae: 7429.1528\n",
            "Epoch 10/100\n",
            "34/34 [==============================] - 0s 4ms/step - loss: 7409.0811 - mae: 7409.0811\n",
            "Epoch 11/100\n",
            "34/34 [==============================] - 0s 4ms/step - loss: 7390.8042 - mae: 7390.8042\n",
            "Epoch 12/100\n",
            "34/34 [==============================] - 0s 4ms/step - loss: 7368.9170 - mae: 7368.9170\n",
            "Epoch 13/100\n",
            "34/34 [==============================] - 0s 4ms/step - loss: 7348.5195 - mae: 7348.5195\n",
            "Epoch 14/100\n",
            "34/34 [==============================] - 0s 4ms/step - loss: 7326.4893 - mae: 7326.4893\n",
            "Epoch 15/100\n",
            "34/34 [==============================] - 0s 4ms/step - loss: 7307.5811 - mae: 7307.5811\n",
            "Epoch 16/100\n",
            "34/34 [==============================] - 0s 4ms/step - loss: 7285.7739 - mae: 7285.7739\n",
            "Epoch 17/100\n",
            "34/34 [==============================] - 0s 4ms/step - loss: 7265.7100 - mae: 7265.7100\n",
            "Epoch 18/100\n",
            "34/34 [==============================] - 0s 4ms/step - loss: 7242.5498 - mae: 7242.5498\n",
            "Epoch 19/100\n",
            "34/34 [==============================] - 0s 3ms/step - loss: 7220.5068 - mae: 7220.5068\n",
            "Epoch 20/100\n",
            "34/34 [==============================] - 0s 3ms/step - loss: 7197.1978 - mae: 7197.1978\n",
            "Epoch 21/100\n",
            "34/34 [==============================] - 0s 4ms/step - loss: 7179.0195 - mae: 7179.0195\n",
            "Epoch 22/100\n",
            "34/34 [==============================] - 0s 3ms/step - loss: 7151.2100 - mae: 7151.2100\n",
            "Epoch 23/100\n",
            "34/34 [==============================] - 0s 3ms/step - loss: 7126.4639 - mae: 7126.4639\n",
            "Epoch 24/100\n",
            "34/34 [==============================] - 0s 4ms/step - loss: 7101.9194 - mae: 7101.9194\n",
            "Epoch 25/100\n",
            "34/34 [==============================] - 0s 3ms/step - loss: 7084.3379 - mae: 7084.3379\n",
            "Epoch 26/100\n",
            "34/34 [==============================] - 0s 4ms/step - loss: 7052.3291 - mae: 7052.3291\n",
            "Epoch 27/100\n",
            "34/34 [==============================] - 0s 3ms/step - loss: 7024.3511 - mae: 7024.3511\n",
            "Epoch 28/100\n",
            "34/34 [==============================] - 0s 3ms/step - loss: 6996.6963 - mae: 6996.6963\n",
            "Epoch 29/100\n",
            "34/34 [==============================] - 0s 3ms/step - loss: 6969.0117 - mae: 6969.0117\n",
            "Epoch 30/100\n",
            "34/34 [==============================] - 0s 4ms/step - loss: 6942.1899 - mae: 6942.1899\n",
            "Epoch 31/100\n",
            "34/34 [==============================] - 0s 3ms/step - loss: 6911.7280 - mae: 6911.7280\n",
            "Epoch 32/100\n",
            "34/34 [==============================] - 0s 4ms/step - loss: 6884.0205 - mae: 6884.0205\n",
            "Epoch 33/100\n",
            "34/34 [==============================] - 0s 4ms/step - loss: 6853.4644 - mae: 6853.4644\n",
            "Epoch 34/100\n",
            "34/34 [==============================] - 0s 3ms/step - loss: 6823.0684 - mae: 6823.0684\n",
            "Epoch 35/100\n",
            "34/34 [==============================] - 0s 3ms/step - loss: 6789.6865 - mae: 6789.6865\n",
            "Epoch 36/100\n",
            "34/34 [==============================] - 0s 4ms/step - loss: 6755.7646 - mae: 6755.7646\n",
            "Epoch 37/100\n",
            "34/34 [==============================] - 0s 3ms/step - loss: 6720.2026 - mae: 6720.2026\n",
            "Epoch 38/100\n",
            "34/34 [==============================] - 0s 3ms/step - loss: 6689.7163 - mae: 6689.7163\n",
            "Epoch 39/100\n",
            "34/34 [==============================] - 0s 4ms/step - loss: 6652.4619 - mae: 6652.4619\n",
            "Epoch 40/100\n",
            "34/34 [==============================] - 0s 4ms/step - loss: 6618.1011 - mae: 6618.1011\n",
            "Epoch 41/100\n",
            "34/34 [==============================] - 0s 3ms/step - loss: 6585.8643 - mae: 6585.8643\n",
            "Epoch 42/100\n",
            "34/34 [==============================] - 0s 4ms/step - loss: 6559.4956 - mae: 6559.4956\n",
            "Epoch 43/100\n",
            "34/34 [==============================] - 0s 4ms/step - loss: 6530.0444 - mae: 6530.0444\n",
            "Epoch 44/100\n",
            "34/34 [==============================] - 0s 4ms/step - loss: 6506.8071 - mae: 6506.8071\n",
            "Epoch 45/100\n",
            "34/34 [==============================] - 0s 4ms/step - loss: 6493.5718 - mae: 6493.5718\n",
            "Epoch 46/100\n",
            "34/34 [==============================] - 0s 4ms/step - loss: 6475.9258 - mae: 6475.9258\n",
            "Epoch 47/100\n",
            "34/34 [==============================] - 0s 4ms/step - loss: 6458.8979 - mae: 6458.8979\n",
            "Epoch 48/100\n",
            "34/34 [==============================] - 0s 4ms/step - loss: 6445.1494 - mae: 6445.1494\n",
            "Epoch 49/100\n",
            "34/34 [==============================] - 0s 4ms/step - loss: 6430.9639 - mae: 6430.9639\n",
            "Epoch 50/100\n",
            "34/34 [==============================] - 0s 4ms/step - loss: 6417.7510 - mae: 6417.7510\n",
            "Epoch 51/100\n",
            "34/34 [==============================] - 0s 4ms/step - loss: 6403.2764 - mae: 6403.2764\n",
            "Epoch 52/100\n",
            "34/34 [==============================] - 0s 4ms/step - loss: 6392.4141 - mae: 6392.4141\n",
            "Epoch 53/100\n",
            "34/34 [==============================] - 0s 4ms/step - loss: 6378.7456 - mae: 6378.7456\n",
            "Epoch 54/100\n",
            "34/34 [==============================] - 0s 4ms/step - loss: 6364.9131 - mae: 6364.9131\n",
            "Epoch 55/100\n",
            "34/34 [==============================] - 0s 4ms/step - loss: 6351.5273 - mae: 6351.5273\n",
            "Epoch 56/100\n",
            "34/34 [==============================] - 0s 4ms/step - loss: 6337.6606 - mae: 6337.6606\n",
            "Epoch 57/100\n",
            "34/34 [==============================] - 0s 4ms/step - loss: 6324.8369 - mae: 6324.8369\n",
            "Epoch 58/100\n",
            "34/34 [==============================] - 0s 3ms/step - loss: 6310.1948 - mae: 6310.1948\n",
            "Epoch 59/100\n",
            "34/34 [==============================] - 0s 4ms/step - loss: 6295.6035 - mae: 6295.6035\n",
            "Epoch 60/100\n",
            "34/34 [==============================] - 0s 3ms/step - loss: 6284.8696 - mae: 6284.8696\n",
            "Epoch 61/100\n",
            "34/34 [==============================] - 0s 3ms/step - loss: 6265.6416 - mae: 6265.6416\n",
            "Epoch 62/100\n",
            "34/34 [==============================] - 0s 4ms/step - loss: 6253.0103 - mae: 6253.0103\n",
            "Epoch 63/100\n",
            "34/34 [==============================] - 0s 4ms/step - loss: 6234.9292 - mae: 6234.9292\n",
            "Epoch 64/100\n",
            "34/34 [==============================] - 0s 4ms/step - loss: 6218.0435 - mae: 6218.0435\n",
            "Epoch 65/100\n",
            "34/34 [==============================] - 0s 4ms/step - loss: 6201.1899 - mae: 6201.1899\n",
            "Epoch 66/100\n",
            "34/34 [==============================] - 0s 4ms/step - loss: 6183.9595 - mae: 6183.9595\n",
            "Epoch 67/100\n",
            "34/34 [==============================] - 0s 4ms/step - loss: 6171.2998 - mae: 6171.2998\n",
            "Epoch 68/100\n",
            "34/34 [==============================] - 0s 3ms/step - loss: 6148.8403 - mae: 6148.8403\n",
            "Epoch 69/100\n",
            "34/34 [==============================] - 0s 4ms/step - loss: 6132.5991 - mae: 6132.5991\n",
            "Epoch 70/100\n",
            "34/34 [==============================] - 0s 4ms/step - loss: 6112.3853 - mae: 6112.3853\n",
            "Epoch 71/100\n",
            "34/34 [==============================] - 0s 4ms/step - loss: 6092.7207 - mae: 6092.7207\n",
            "Epoch 72/100\n",
            "34/34 [==============================] - 0s 4ms/step - loss: 6073.7422 - mae: 6073.7422\n",
            "Epoch 73/100\n",
            "34/34 [==============================] - 0s 3ms/step - loss: 6059.4883 - mae: 6059.4883\n",
            "Epoch 74/100\n",
            "34/34 [==============================] - 0s 3ms/step - loss: 6031.3857 - mae: 6031.3857\n",
            "Epoch 75/100\n",
            "34/34 [==============================] - 0s 4ms/step - loss: 6010.3354 - mae: 6010.3354\n",
            "Epoch 76/100\n",
            "34/34 [==============================] - 0s 4ms/step - loss: 5995.2188 - mae: 5995.2188\n",
            "Epoch 77/100\n",
            "34/34 [==============================] - 0s 4ms/step - loss: 5963.0718 - mae: 5963.0718\n",
            "Epoch 78/100\n",
            "34/34 [==============================] - 0s 4ms/step - loss: 5940.0610 - mae: 5940.0610\n",
            "Epoch 79/100\n",
            "34/34 [==============================] - 0s 4ms/step - loss: 5915.1064 - mae: 5915.1064\n",
            "Epoch 80/100\n",
            "34/34 [==============================] - 0s 4ms/step - loss: 5887.9995 - mae: 5887.9995\n",
            "Epoch 81/100\n",
            "34/34 [==============================] - 0s 4ms/step - loss: 5861.6992 - mae: 5861.6992\n",
            "Epoch 82/100\n",
            "34/34 [==============================] - 0s 4ms/step - loss: 5834.3081 - mae: 5834.3081\n",
            "Epoch 83/100\n",
            "34/34 [==============================] - 0s 4ms/step - loss: 5805.8242 - mae: 5805.8242\n",
            "Epoch 84/100\n",
            "34/34 [==============================] - 0s 4ms/step - loss: 5772.3237 - mae: 5772.3237\n",
            "Epoch 85/100\n",
            "34/34 [==============================] - 0s 4ms/step - loss: 5745.1519 - mae: 5745.1519\n",
            "Epoch 86/100\n",
            "34/34 [==============================] - 0s 4ms/step - loss: 5711.3491 - mae: 5711.3491\n",
            "Epoch 87/100\n",
            "34/34 [==============================] - 0s 4ms/step - loss: 5674.5220 - mae: 5674.5220\n",
            "Epoch 88/100\n",
            "34/34 [==============================] - 0s 4ms/step - loss: 5639.4932 - mae: 5639.4932\n",
            "Epoch 89/100\n",
            "34/34 [==============================] - 0s 4ms/step - loss: 5600.6665 - mae: 5600.6665\n",
            "Epoch 90/100\n",
            "34/34 [==============================] - 0s 4ms/step - loss: 5559.4326 - mae: 5559.4326\n",
            "Epoch 91/100\n",
            "34/34 [==============================] - 0s 4ms/step - loss: 5523.6196 - mae: 5523.6196\n",
            "Epoch 92/100\n",
            "34/34 [==============================] - 0s 4ms/step - loss: 5474.1260 - mae: 5474.1260\n",
            "Epoch 93/100\n",
            "34/34 [==============================] - 0s 4ms/step - loss: 5432.2661 - mae: 5432.2661\n",
            "Epoch 94/100\n",
            "34/34 [==============================] - 0s 4ms/step - loss: 5386.0532 - mae: 5386.0532\n",
            "Epoch 95/100\n",
            "34/34 [==============================] - 0s 4ms/step - loss: 5333.1812 - mae: 5333.1812\n",
            "Epoch 96/100\n",
            "34/34 [==============================] - 0s 4ms/step - loss: 5288.8169 - mae: 5288.8169\n",
            "Epoch 97/100\n",
            "34/34 [==============================] - 0s 4ms/step - loss: 5234.6797 - mae: 5234.6797\n",
            "Epoch 98/100\n",
            "34/34 [==============================] - 0s 4ms/step - loss: 5170.9375 - mae: 5170.9375\n",
            "Epoch 99/100\n",
            "34/34 [==============================] - 0s 4ms/step - loss: 5112.9453 - mae: 5112.9453\n",
            "Epoch 100/100\n",
            "34/34 [==============================] - 0s 4ms/step - loss: 5060.0874 - mae: 5060.0874\n"
          ]
        },
        {
          "output_type": "execute_result",
          "data": {
            "text/plain": [
              "<keras.callbacks.History at 0x7f6b27c76310>"
            ]
          },
          "metadata": {},
          "execution_count": 86
        }
      ]
    },
    {
      "cell_type": "code",
      "source": [
        "# Evaluate the larger model\n",
        "insurance_model_2.evaluate(X_test, y_test)"
      ],
      "metadata": {
        "colab": {
          "base_uri": "https://localhost:8080/"
        },
        "id": "V7AWUKVXJ0w8",
        "outputId": "f7d09974-e8d2-43cd-aeb7-8920e5a98325"
      },
      "execution_count": 87,
      "outputs": [
        {
          "output_type": "stream",
          "name": "stdout",
          "text": [
            "9/9 [==============================] - 0s 3ms/step - loss: 4924.5107 - mae: 4924.5107\n"
          ]
        },
        {
          "output_type": "execute_result",
          "data": {
            "text/plain": [
              "[4924.5107421875, 4924.5107421875]"
            ]
          },
          "metadata": {},
          "execution_count": 87
        }
      ]
    },
    {
      "cell_type": "code",
      "source": [
        "insurance_model.evaluate(X_test, y_test)"
      ],
      "metadata": {
        "colab": {
          "base_uri": "https://localhost:8080/"
        },
        "id": "wHIzGFs9Kqji",
        "outputId": "8e3faf6b-2c60-4d36-caed-727d01b4d8c5"
      },
      "execution_count": 88,
      "outputs": [
        {
          "output_type": "stream",
          "name": "stdout",
          "text": [
            "9/9 [==============================] - 0s 4ms/step - loss: 7023.3281 - mae: 7023.3281\n"
          ]
        },
        {
          "output_type": "execute_result",
          "data": {
            "text/plain": [
              "[7023.328125, 7023.328125]"
            ]
          },
          "metadata": {},
          "execution_count": 88
        }
      ]
    },
    {
      "cell_type": "code",
      "source": [
        "# Set random seed\n",
        "tf.random.set_seed(42)\n",
        "\n",
        "# 1. Create the model (same as above)\n",
        "insurance_model_3 = tf.keras.Sequential([\n",
        "  tf.keras.layers.Dense(100),\n",
        "  tf.keras.layers.Dense(10),\n",
        "  tf.keras.layers.Dense(1)\n",
        "])\n",
        "\n",
        "# 2. Compile the model\n",
        "insurance_model_3.compile(loss=tf.keras.losses.mae,\n",
        "                          optimizer=tf.keras.optimizers.Adam(),\n",
        "                          metrics=[\"mae\"])\n",
        "\n",
        "# 3. Fit the model\n",
        "history = insurance_model_3.fit(X_train, y_train, epochs=200)"
      ],
      "metadata": {
        "colab": {
          "base_uri": "https://localhost:8080/"
        },
        "id": "YI5gYefPLBz-",
        "outputId": "b0241e1d-4304-48d1-bd56-ee8cf2a443aa"
      },
      "execution_count": 89,
      "outputs": [
        {
          "output_type": "stream",
          "name": "stdout",
          "text": [
            "Epoch 1/200\n",
            "34/34 [==============================] - 1s 4ms/step - loss: 13273.1602 - mae: 13273.1602\n",
            "Epoch 2/200\n",
            "34/34 [==============================] - 0s 3ms/step - loss: 13104.4287 - mae: 13104.4287\n",
            "Epoch 3/200\n",
            "34/34 [==============================] - 0s 4ms/step - loss: 12749.5400 - mae: 12749.5400\n",
            "Epoch 4/200\n",
            "34/34 [==============================] - 0s 4ms/step - loss: 12055.7500 - mae: 12055.7500\n",
            "Epoch 5/200\n",
            "34/34 [==============================] - 0s 4ms/step - loss: 10905.8135 - mae: 10905.8135\n",
            "Epoch 6/200\n",
            "34/34 [==============================] - 0s 4ms/step - loss: 9457.7188 - mae: 9457.7188\n",
            "Epoch 7/200\n",
            "34/34 [==============================] - 0s 4ms/step - loss: 8147.6533 - mae: 8147.6533\n",
            "Epoch 8/200\n",
            "34/34 [==============================] - 0s 3ms/step - loss: 7528.8398 - mae: 7528.8398\n",
            "Epoch 9/200\n",
            "34/34 [==============================] - 0s 4ms/step - loss: 7429.1528 - mae: 7429.1528\n",
            "Epoch 10/200\n",
            "34/34 [==============================] - 0s 4ms/step - loss: 7409.0811 - mae: 7409.0811\n",
            "Epoch 11/200\n",
            "34/34 [==============================] - 0s 4ms/step - loss: 7390.8042 - mae: 7390.8042\n",
            "Epoch 12/200\n",
            "34/34 [==============================] - 0s 4ms/step - loss: 7368.9170 - mae: 7368.9170\n",
            "Epoch 13/200\n",
            "34/34 [==============================] - 0s 4ms/step - loss: 7348.5195 - mae: 7348.5195\n",
            "Epoch 14/200\n",
            "34/34 [==============================] - 0s 4ms/step - loss: 7326.4893 - mae: 7326.4893\n",
            "Epoch 15/200\n",
            "34/34 [==============================] - 0s 3ms/step - loss: 7307.5811 - mae: 7307.5811\n",
            "Epoch 16/200\n",
            "34/34 [==============================] - 0s 4ms/step - loss: 7285.7739 - mae: 7285.7739\n",
            "Epoch 17/200\n",
            "34/34 [==============================] - 0s 4ms/step - loss: 7265.7100 - mae: 7265.7100\n",
            "Epoch 18/200\n",
            "34/34 [==============================] - 0s 3ms/step - loss: 7242.5498 - mae: 7242.5498\n",
            "Epoch 19/200\n",
            "34/34 [==============================] - 0s 4ms/step - loss: 7220.5068 - mae: 7220.5068\n",
            "Epoch 20/200\n",
            "34/34 [==============================] - 0s 3ms/step - loss: 7197.1978 - mae: 7197.1978\n",
            "Epoch 21/200\n",
            "34/34 [==============================] - 0s 3ms/step - loss: 7179.0195 - mae: 7179.0195\n",
            "Epoch 22/200\n",
            "34/34 [==============================] - 0s 4ms/step - loss: 7151.2100 - mae: 7151.2100\n",
            "Epoch 23/200\n",
            "34/34 [==============================] - 0s 3ms/step - loss: 7126.4639 - mae: 7126.4639\n",
            "Epoch 24/200\n",
            "34/34 [==============================] - 0s 4ms/step - loss: 7101.9194 - mae: 7101.9194\n",
            "Epoch 25/200\n",
            "34/34 [==============================] - 0s 3ms/step - loss: 7084.3379 - mae: 7084.3379\n",
            "Epoch 26/200\n",
            "34/34 [==============================] - 0s 4ms/step - loss: 7052.3291 - mae: 7052.3291\n",
            "Epoch 27/200\n",
            "34/34 [==============================] - 0s 3ms/step - loss: 7024.3511 - mae: 7024.3511\n",
            "Epoch 28/200\n",
            "34/34 [==============================] - 0s 4ms/step - loss: 6996.6963 - mae: 6996.6963\n",
            "Epoch 29/200\n",
            "34/34 [==============================] - 0s 4ms/step - loss: 6969.0117 - mae: 6969.0117\n",
            "Epoch 30/200\n",
            "34/34 [==============================] - 0s 3ms/step - loss: 6942.1899 - mae: 6942.1899\n",
            "Epoch 31/200\n",
            "34/34 [==============================] - 0s 4ms/step - loss: 6911.7280 - mae: 6911.7280\n",
            "Epoch 32/200\n",
            "34/34 [==============================] - 0s 4ms/step - loss: 6884.0205 - mae: 6884.0205\n",
            "Epoch 33/200\n",
            "34/34 [==============================] - 0s 3ms/step - loss: 6853.4644 - mae: 6853.4644\n",
            "Epoch 34/200\n",
            "34/34 [==============================] - 0s 4ms/step - loss: 6823.0684 - mae: 6823.0684\n",
            "Epoch 35/200\n",
            "34/34 [==============================] - 0s 4ms/step - loss: 6789.6865 - mae: 6789.6865\n",
            "Epoch 36/200\n",
            "34/34 [==============================] - 0s 4ms/step - loss: 6755.7646 - mae: 6755.7646\n",
            "Epoch 37/200\n",
            "34/34 [==============================] - 0s 4ms/step - loss: 6720.2026 - mae: 6720.2026\n",
            "Epoch 38/200\n",
            "34/34 [==============================] - 0s 4ms/step - loss: 6689.7163 - mae: 6689.7163\n",
            "Epoch 39/200\n",
            "34/34 [==============================] - 0s 4ms/step - loss: 6652.4619 - mae: 6652.4619\n",
            "Epoch 40/200\n",
            "34/34 [==============================] - 0s 4ms/step - loss: 6618.1011 - mae: 6618.1011\n",
            "Epoch 41/200\n",
            "34/34 [==============================] - 0s 4ms/step - loss: 6585.8643 - mae: 6585.8643\n",
            "Epoch 42/200\n",
            "34/34 [==============================] - 0s 4ms/step - loss: 6559.4956 - mae: 6559.4956\n",
            "Epoch 43/200\n",
            "34/34 [==============================] - 0s 4ms/step - loss: 6530.0444 - mae: 6530.0444\n",
            "Epoch 44/200\n",
            "34/34 [==============================] - 0s 4ms/step - loss: 6506.8071 - mae: 6506.8071\n",
            "Epoch 45/200\n",
            "34/34 [==============================] - 0s 4ms/step - loss: 6493.5718 - mae: 6493.5718\n",
            "Epoch 46/200\n",
            "34/34 [==============================] - 0s 4ms/step - loss: 6475.9258 - mae: 6475.9258\n",
            "Epoch 47/200\n",
            "34/34 [==============================] - 0s 5ms/step - loss: 6458.8979 - mae: 6458.8979\n",
            "Epoch 48/200\n",
            "34/34 [==============================] - 0s 4ms/step - loss: 6445.1494 - mae: 6445.1494\n",
            "Epoch 49/200\n",
            "34/34 [==============================] - 0s 4ms/step - loss: 6430.9639 - mae: 6430.9639\n",
            "Epoch 50/200\n",
            "34/34 [==============================] - 0s 3ms/step - loss: 6417.7510 - mae: 6417.7510\n",
            "Epoch 51/200\n",
            "34/34 [==============================] - 0s 4ms/step - loss: 6403.2764 - mae: 6403.2764\n",
            "Epoch 52/200\n",
            "34/34 [==============================] - 0s 4ms/step - loss: 6392.4141 - mae: 6392.4141\n",
            "Epoch 53/200\n",
            "34/34 [==============================] - 0s 3ms/step - loss: 6378.7456 - mae: 6378.7456\n",
            "Epoch 54/200\n",
            "34/34 [==============================] - 0s 4ms/step - loss: 6364.9131 - mae: 6364.9131\n",
            "Epoch 55/200\n",
            "34/34 [==============================] - 0s 4ms/step - loss: 6351.5273 - mae: 6351.5273\n",
            "Epoch 56/200\n",
            "34/34 [==============================] - 0s 4ms/step - loss: 6337.6606 - mae: 6337.6606\n",
            "Epoch 57/200\n",
            "34/34 [==============================] - 0s 3ms/step - loss: 6324.8369 - mae: 6324.8369\n",
            "Epoch 58/200\n",
            "34/34 [==============================] - 0s 3ms/step - loss: 6310.1948 - mae: 6310.1948\n",
            "Epoch 59/200\n",
            "34/34 [==============================] - 0s 4ms/step - loss: 6295.6035 - mae: 6295.6035\n",
            "Epoch 60/200\n",
            "34/34 [==============================] - 0s 3ms/step - loss: 6284.8696 - mae: 6284.8696\n",
            "Epoch 61/200\n",
            "34/34 [==============================] - 0s 3ms/step - loss: 6265.6416 - mae: 6265.6416\n",
            "Epoch 62/200\n",
            "34/34 [==============================] - 0s 4ms/step - loss: 6253.0103 - mae: 6253.0103\n",
            "Epoch 63/200\n",
            "34/34 [==============================] - 0s 3ms/step - loss: 6234.9292 - mae: 6234.9292\n",
            "Epoch 64/200\n",
            "34/34 [==============================] - 0s 4ms/step - loss: 6218.0435 - mae: 6218.0435\n",
            "Epoch 65/200\n",
            "34/34 [==============================] - 0s 3ms/step - loss: 6201.1899 - mae: 6201.1899\n",
            "Epoch 66/200\n",
            "34/34 [==============================] - 0s 3ms/step - loss: 6183.9595 - mae: 6183.9595\n",
            "Epoch 67/200\n",
            "34/34 [==============================] - 0s 4ms/step - loss: 6171.2998 - mae: 6171.2998\n",
            "Epoch 68/200\n",
            "34/34 [==============================] - 0s 3ms/step - loss: 6148.8403 - mae: 6148.8403\n",
            "Epoch 69/200\n",
            "34/34 [==============================] - 0s 3ms/step - loss: 6132.5991 - mae: 6132.5991\n",
            "Epoch 70/200\n",
            "34/34 [==============================] - 0s 4ms/step - loss: 6112.3853 - mae: 6112.3853\n",
            "Epoch 71/200\n",
            "34/34 [==============================] - 0s 4ms/step - loss: 6092.7207 - mae: 6092.7207\n",
            "Epoch 72/200\n",
            "34/34 [==============================] - 0s 4ms/step - loss: 6073.7422 - mae: 6073.7422\n",
            "Epoch 73/200\n",
            "34/34 [==============================] - 0s 4ms/step - loss: 6059.4883 - mae: 6059.4883\n",
            "Epoch 74/200\n",
            "34/34 [==============================] - 0s 3ms/step - loss: 6031.3857 - mae: 6031.3857\n",
            "Epoch 75/200\n",
            "34/34 [==============================] - 0s 3ms/step - loss: 6010.3354 - mae: 6010.3354\n",
            "Epoch 76/200\n",
            "34/34 [==============================] - 0s 4ms/step - loss: 5995.2188 - mae: 5995.2188\n",
            "Epoch 77/200\n",
            "34/34 [==============================] - 0s 3ms/step - loss: 5963.0718 - mae: 5963.0718\n",
            "Epoch 78/200\n",
            "34/34 [==============================] - 0s 4ms/step - loss: 5940.0610 - mae: 5940.0610\n",
            "Epoch 79/200\n",
            "34/34 [==============================] - 0s 3ms/step - loss: 5915.1064 - mae: 5915.1064\n",
            "Epoch 80/200\n",
            "34/34 [==============================] - 0s 3ms/step - loss: 5887.9995 - mae: 5887.9995\n",
            "Epoch 81/200\n",
            "34/34 [==============================] - 0s 3ms/step - loss: 5861.6992 - mae: 5861.6992\n",
            "Epoch 82/200\n",
            "34/34 [==============================] - 0s 3ms/step - loss: 5834.3081 - mae: 5834.3081\n",
            "Epoch 83/200\n",
            "34/34 [==============================] - 0s 4ms/step - loss: 5805.8242 - mae: 5805.8242\n",
            "Epoch 84/200\n",
            "34/34 [==============================] - 0s 3ms/step - loss: 5772.3237 - mae: 5772.3237\n",
            "Epoch 85/200\n",
            "34/34 [==============================] - 0s 3ms/step - loss: 5745.1519 - mae: 5745.1519\n",
            "Epoch 86/200\n",
            "34/34 [==============================] - 0s 4ms/step - loss: 5711.3491 - mae: 5711.3491\n",
            "Epoch 87/200\n",
            "34/34 [==============================] - 0s 3ms/step - loss: 5674.5220 - mae: 5674.5220\n",
            "Epoch 88/200\n",
            "34/34 [==============================] - 0s 3ms/step - loss: 5639.4932 - mae: 5639.4932\n",
            "Epoch 89/200\n",
            "34/34 [==============================] - 0s 4ms/step - loss: 5600.6665 - mae: 5600.6665\n",
            "Epoch 90/200\n",
            "34/34 [==============================] - 0s 4ms/step - loss: 5559.4326 - mae: 5559.4326\n",
            "Epoch 91/200\n",
            "34/34 [==============================] - 0s 4ms/step - loss: 5523.6196 - mae: 5523.6196\n",
            "Epoch 92/200\n",
            "34/34 [==============================] - 0s 4ms/step - loss: 5474.1260 - mae: 5474.1260\n",
            "Epoch 93/200\n",
            "34/34 [==============================] - 0s 4ms/step - loss: 5432.2661 - mae: 5432.2661\n",
            "Epoch 94/200\n",
            "34/34 [==============================] - 0s 4ms/step - loss: 5386.0532 - mae: 5386.0532\n",
            "Epoch 95/200\n",
            "34/34 [==============================] - 0s 4ms/step - loss: 5333.1812 - mae: 5333.1812\n",
            "Epoch 96/200\n",
            "34/34 [==============================] - 0s 3ms/step - loss: 5288.8169 - mae: 5288.8169\n",
            "Epoch 97/200\n",
            "34/34 [==============================] - 0s 4ms/step - loss: 5234.6797 - mae: 5234.6797\n",
            "Epoch 98/200\n",
            "34/34 [==============================] - 0s 3ms/step - loss: 5170.9375 - mae: 5170.9375\n",
            "Epoch 99/200\n",
            "34/34 [==============================] - 0s 3ms/step - loss: 5112.9453 - mae: 5112.9453\n",
            "Epoch 100/200\n",
            "34/34 [==============================] - 0s 4ms/step - loss: 5060.0874 - mae: 5060.0874\n",
            "Epoch 101/200\n",
            "34/34 [==============================] - 0s 8ms/step - loss: 4987.7427 - mae: 4987.7427\n",
            "Epoch 102/200\n",
            "34/34 [==============================] - 0s 8ms/step - loss: 4915.4482 - mae: 4915.4482\n",
            "Epoch 103/200\n",
            "34/34 [==============================] - 0s 7ms/step - loss: 4847.4873 - mae: 4847.4873\n",
            "Epoch 104/200\n",
            "34/34 [==============================] - 0s 7ms/step - loss: 4768.1816 - mae: 4768.1816\n",
            "Epoch 105/200\n",
            "34/34 [==============================] - 0s 4ms/step - loss: 4683.4653 - mae: 4683.4653\n",
            "Epoch 106/200\n",
            "34/34 [==============================] - 0s 4ms/step - loss: 4601.2075 - mae: 4601.2075\n",
            "Epoch 107/200\n",
            "34/34 [==============================] - 0s 3ms/step - loss: 4513.4639 - mae: 4513.4639\n",
            "Epoch 108/200\n",
            "34/34 [==============================] - 0s 4ms/step - loss: 4423.5952 - mae: 4423.5952\n",
            "Epoch 109/200\n",
            "34/34 [==============================] - 0s 4ms/step - loss: 4339.2173 - mae: 4339.2173\n",
            "Epoch 110/200\n",
            "34/34 [==============================] - 0s 4ms/step - loss: 4255.7876 - mae: 4255.7876\n",
            "Epoch 111/200\n",
            "34/34 [==============================] - 0s 4ms/step - loss: 4174.8779 - mae: 4174.8779\n",
            "Epoch 112/200\n",
            "34/34 [==============================] - 0s 4ms/step - loss: 4101.4253 - mae: 4101.4253\n",
            "Epoch 113/200\n",
            "34/34 [==============================] - 0s 4ms/step - loss: 4031.7214 - mae: 4031.7214\n",
            "Epoch 114/200\n",
            "34/34 [==============================] - 0s 4ms/step - loss: 3986.9094 - mae: 3986.9094\n",
            "Epoch 115/200\n",
            "34/34 [==============================] - 0s 4ms/step - loss: 3944.5925 - mae: 3944.5925\n",
            "Epoch 116/200\n",
            "34/34 [==============================] - 0s 3ms/step - loss: 3918.6155 - mae: 3918.6155\n",
            "Epoch 117/200\n",
            "34/34 [==============================] - 0s 4ms/step - loss: 3896.7400 - mae: 3896.7400\n",
            "Epoch 118/200\n",
            "34/34 [==============================] - 0s 3ms/step - loss: 3872.1240 - mae: 3872.1240\n",
            "Epoch 119/200\n",
            "34/34 [==============================] - 0s 4ms/step - loss: 3851.9661 - mae: 3851.9661\n",
            "Epoch 120/200\n",
            "34/34 [==============================] - 0s 3ms/step - loss: 3835.4458 - mae: 3835.4458\n",
            "Epoch 121/200\n",
            "34/34 [==============================] - 0s 4ms/step - loss: 3829.4529 - mae: 3829.4529\n",
            "Epoch 122/200\n",
            "34/34 [==============================] - 0s 4ms/step - loss: 3822.5408 - mae: 3822.5408\n",
            "Epoch 123/200\n",
            "34/34 [==============================] - 0s 4ms/step - loss: 3814.8994 - mae: 3814.8994\n",
            "Epoch 124/200\n",
            "34/34 [==============================] - 0s 4ms/step - loss: 3806.8062 - mae: 3806.8062\n",
            "Epoch 125/200\n",
            "34/34 [==============================] - 0s 4ms/step - loss: 3795.5425 - mae: 3795.5425\n",
            "Epoch 126/200\n",
            "34/34 [==============================] - 0s 4ms/step - loss: 3807.1846 - mae: 3807.1846\n",
            "Epoch 127/200\n",
            "34/34 [==============================] - 0s 4ms/step - loss: 3797.8484 - mae: 3797.8484\n",
            "Epoch 128/200\n",
            "34/34 [==============================] - 0s 4ms/step - loss: 3791.7207 - mae: 3791.7207\n",
            "Epoch 129/200\n",
            "34/34 [==============================] - 0s 4ms/step - loss: 3802.8037 - mae: 3802.8037\n",
            "Epoch 130/200\n",
            "34/34 [==============================] - 0s 4ms/step - loss: 3789.7969 - mae: 3789.7969\n",
            "Epoch 131/200\n",
            "34/34 [==============================] - 0s 4ms/step - loss: 3781.4001 - mae: 3781.4001\n",
            "Epoch 132/200\n",
            "34/34 [==============================] - 0s 4ms/step - loss: 3774.9463 - mae: 3774.9463\n",
            "Epoch 133/200\n",
            "34/34 [==============================] - 0s 4ms/step - loss: 3770.7559 - mae: 3770.7559\n",
            "Epoch 134/200\n",
            "34/34 [==============================] - 0s 4ms/step - loss: 3769.5464 - mae: 3769.5464\n",
            "Epoch 135/200\n",
            "34/34 [==============================] - 0s 4ms/step - loss: 3767.2349 - mae: 3767.2349\n",
            "Epoch 136/200\n",
            "34/34 [==============================] - 0s 4ms/step - loss: 3766.0596 - mae: 3766.0596\n",
            "Epoch 137/200\n",
            "34/34 [==============================] - 0s 4ms/step - loss: 3775.8567 - mae: 3775.8567\n",
            "Epoch 138/200\n",
            "34/34 [==============================] - 0s 4ms/step - loss: 3783.4233 - mae: 3783.4233\n",
            "Epoch 139/200\n",
            "34/34 [==============================] - 0s 4ms/step - loss: 3761.3586 - mae: 3761.3586\n",
            "Epoch 140/200\n",
            "34/34 [==============================] - 0s 4ms/step - loss: 3762.6267 - mae: 3762.6267\n",
            "Epoch 141/200\n",
            "34/34 [==============================] - 0s 4ms/step - loss: 3763.7031 - mae: 3763.7031\n",
            "Epoch 142/200\n",
            "34/34 [==============================] - 0s 4ms/step - loss: 3765.6418 - mae: 3765.6418\n",
            "Epoch 143/200\n",
            "34/34 [==============================] - 0s 4ms/step - loss: 3755.0134 - mae: 3755.0134\n",
            "Epoch 144/200\n",
            "34/34 [==============================] - 0s 4ms/step - loss: 3750.5750 - mae: 3750.5750\n",
            "Epoch 145/200\n",
            "34/34 [==============================] - 0s 3ms/step - loss: 3751.1663 - mae: 3751.1663\n",
            "Epoch 146/200\n",
            "34/34 [==============================] - 0s 3ms/step - loss: 3756.9319 - mae: 3756.9319\n",
            "Epoch 147/200\n",
            "34/34 [==============================] - 0s 3ms/step - loss: 3751.6331 - mae: 3751.6331\n",
            "Epoch 148/200\n",
            "34/34 [==============================] - 0s 4ms/step - loss: 3756.2720 - mae: 3756.2720\n",
            "Epoch 149/200\n",
            "34/34 [==============================] - 0s 4ms/step - loss: 3743.5862 - mae: 3743.5862\n",
            "Epoch 150/200\n",
            "34/34 [==============================] - 0s 4ms/step - loss: 3738.7124 - mae: 3738.7124\n",
            "Epoch 151/200\n",
            "34/34 [==============================] - 0s 4ms/step - loss: 3741.1475 - mae: 3741.1475\n",
            "Epoch 152/200\n",
            "34/34 [==============================] - 0s 4ms/step - loss: 3742.1658 - mae: 3742.1658\n",
            "Epoch 153/200\n",
            "34/34 [==============================] - 0s 3ms/step - loss: 3743.0059 - mae: 3743.0059\n",
            "Epoch 154/200\n",
            "34/34 [==============================] - 0s 4ms/step - loss: 3737.0342 - mae: 3737.0342\n",
            "Epoch 155/200\n",
            "34/34 [==============================] - 0s 4ms/step - loss: 3737.9741 - mae: 3737.9741\n",
            "Epoch 156/200\n",
            "34/34 [==============================] - 0s 4ms/step - loss: 3736.7346 - mae: 3736.7346\n",
            "Epoch 157/200\n",
            "34/34 [==============================] - 0s 4ms/step - loss: 3732.5813 - mae: 3732.5813\n",
            "Epoch 158/200\n",
            "34/34 [==============================] - 0s 3ms/step - loss: 3729.4280 - mae: 3729.4280\n",
            "Epoch 159/200\n",
            "34/34 [==============================] - 0s 4ms/step - loss: 3728.5610 - mae: 3728.5610\n",
            "Epoch 160/200\n",
            "34/34 [==============================] - 0s 3ms/step - loss: 3733.9954 - mae: 3733.9954\n",
            "Epoch 161/200\n",
            "34/34 [==============================] - 0s 4ms/step - loss: 3728.1082 - mae: 3728.1082\n",
            "Epoch 162/200\n",
            "34/34 [==============================] - 0s 3ms/step - loss: 3725.3667 - mae: 3725.3667\n",
            "Epoch 163/200\n",
            "34/34 [==============================] - 0s 4ms/step - loss: 3722.9509 - mae: 3722.9509\n",
            "Epoch 164/200\n",
            "34/34 [==============================] - 0s 4ms/step - loss: 3727.0618 - mae: 3727.0618\n",
            "Epoch 165/200\n",
            "34/34 [==============================] - 0s 4ms/step - loss: 3717.6619 - mae: 3717.6619\n",
            "Epoch 166/200\n",
            "34/34 [==============================] - 0s 4ms/step - loss: 3720.3694 - mae: 3720.3694\n",
            "Epoch 167/200\n",
            "34/34 [==============================] - 0s 3ms/step - loss: 3720.2910 - mae: 3720.2910\n",
            "Epoch 168/200\n",
            "34/34 [==============================] - 0s 3ms/step - loss: 3717.2761 - mae: 3717.2761\n",
            "Epoch 169/200\n",
            "34/34 [==============================] - 0s 4ms/step - loss: 3713.5610 - mae: 3713.5610\n",
            "Epoch 170/200\n",
            "34/34 [==============================] - 0s 3ms/step - loss: 3708.0085 - mae: 3708.0085\n",
            "Epoch 171/200\n",
            "34/34 [==============================] - 0s 4ms/step - loss: 3707.6399 - mae: 3707.6399\n",
            "Epoch 172/200\n",
            "34/34 [==============================] - 0s 4ms/step - loss: 3709.0312 - mae: 3709.0312\n",
            "Epoch 173/200\n",
            "34/34 [==============================] - 0s 4ms/step - loss: 3705.1497 - mae: 3705.1497\n",
            "Epoch 174/200\n",
            "34/34 [==============================] - 0s 4ms/step - loss: 3709.5408 - mae: 3709.5408\n",
            "Epoch 175/200\n",
            "34/34 [==============================] - 0s 3ms/step - loss: 3710.9670 - mae: 3710.9670\n",
            "Epoch 176/200\n",
            "34/34 [==============================] - 0s 4ms/step - loss: 3706.6677 - mae: 3706.6677\n",
            "Epoch 177/200\n",
            "34/34 [==============================] - 0s 4ms/step - loss: 3698.9155 - mae: 3698.9155\n",
            "Epoch 178/200\n",
            "34/34 [==============================] - 0s 3ms/step - loss: 3695.3816 - mae: 3695.3816\n",
            "Epoch 179/200\n",
            "34/34 [==============================] - 0s 4ms/step - loss: 3706.8621 - mae: 3706.8621\n",
            "Epoch 180/200\n",
            "34/34 [==============================] - 0s 4ms/step - loss: 3709.3879 - mae: 3709.3879\n",
            "Epoch 181/200\n",
            "34/34 [==============================] - 0s 4ms/step - loss: 3695.9614 - mae: 3695.9614\n",
            "Epoch 182/200\n",
            "34/34 [==============================] - 0s 4ms/step - loss: 3693.4851 - mae: 3693.4851\n",
            "Epoch 183/200\n",
            "34/34 [==============================] - 0s 4ms/step - loss: 3691.5906 - mae: 3691.5906\n",
            "Epoch 184/200\n",
            "34/34 [==============================] - 0s 4ms/step - loss: 3697.9917 - mae: 3697.9917\n",
            "Epoch 185/200\n",
            "34/34 [==============================] - 0s 4ms/step - loss: 3692.3057 - mae: 3692.3057\n",
            "Epoch 186/200\n",
            "34/34 [==============================] - 0s 4ms/step - loss: 3695.7458 - mae: 3695.7458\n",
            "Epoch 187/200\n",
            "34/34 [==============================] - 0s 4ms/step - loss: 3688.8062 - mae: 3688.8062\n",
            "Epoch 188/200\n",
            "34/34 [==============================] - 0s 4ms/step - loss: 3693.3767 - mae: 3693.3767\n",
            "Epoch 189/200\n",
            "34/34 [==============================] - 0s 4ms/step - loss: 3684.3003 - mae: 3684.3003\n",
            "Epoch 190/200\n",
            "34/34 [==============================] - 0s 3ms/step - loss: 3682.4170 - mae: 3682.4170\n",
            "Epoch 191/200\n",
            "34/34 [==============================] - 0s 4ms/step - loss: 3701.8777 - mae: 3701.8777\n",
            "Epoch 192/200\n",
            "34/34 [==============================] - 0s 4ms/step - loss: 3685.1748 - mae: 3685.1748\n",
            "Epoch 193/200\n",
            "34/34 [==============================] - 0s 4ms/step - loss: 3674.1245 - mae: 3674.1245\n",
            "Epoch 194/200\n",
            "34/34 [==============================] - 0s 4ms/step - loss: 3674.9353 - mae: 3674.9353\n",
            "Epoch 195/200\n",
            "34/34 [==============================] - 0s 4ms/step - loss: 3672.9138 - mae: 3672.9138\n",
            "Epoch 196/200\n",
            "34/34 [==============================] - 0s 4ms/step - loss: 3681.3555 - mae: 3681.3555\n",
            "Epoch 197/200\n",
            "34/34 [==============================] - 0s 4ms/step - loss: 3666.5703 - mae: 3666.5703\n",
            "Epoch 198/200\n",
            "34/34 [==============================] - 0s 4ms/step - loss: 3672.4158 - mae: 3672.4158\n",
            "Epoch 199/200\n",
            "34/34 [==============================] - 0s 4ms/step - loss: 3680.3145 - mae: 3680.3145\n",
            "Epoch 200/200\n",
            "34/34 [==============================] - 0s 4ms/step - loss: 3668.1567 - mae: 3668.1567\n"
          ]
        }
      ]
    },
    {
      "cell_type": "code",
      "source": [
        "# Evaluate our third model\n",
        "insurance_model_3.evaluate(X_test, y_test)"
      ],
      "metadata": {
        "colab": {
          "base_uri": "https://localhost:8080/"
        },
        "id": "fXCHz_w1LxFE",
        "outputId": "aec4c9cc-48aa-4382-eb75-6864268366d0"
      },
      "execution_count": 90,
      "outputs": [
        {
          "output_type": "stream",
          "name": "stdout",
          "text": [
            "9/9 [==============================] - 0s 3ms/step - loss: 3494.5325 - mae: 3494.5325\n"
          ]
        },
        {
          "output_type": "execute_result",
          "data": {
            "text/plain": [
              "[3494.532470703125, 3494.532470703125]"
            ]
          },
          "metadata": {},
          "execution_count": 90
        }
      ]
    },
    {
      "cell_type": "code",
      "source": [
        "insurance_model.evaluate(X_test, y_test)"
      ],
      "metadata": {
        "colab": {
          "base_uri": "https://localhost:8080/"
        },
        "id": "KJnNbLGML968",
        "outputId": "fb40d118-b21e-4ea7-f4af-ca0b38039ac2"
      },
      "execution_count": 91,
      "outputs": [
        {
          "output_type": "stream",
          "name": "stdout",
          "text": [
            "9/9 [==============================] - 0s 3ms/step - loss: 7023.3281 - mae: 7023.3281\n"
          ]
        },
        {
          "output_type": "execute_result",
          "data": {
            "text/plain": [
              "[7023.328125, 7023.328125]"
            ]
          },
          "metadata": {},
          "execution_count": 91
        }
      ]
    },
    {
      "cell_type": "code",
      "source": [
        "# plot history (also known as a loss curve or a training curve)\n",
        "pd.DataFrame(history.history).plot()\n",
        "plt.ylabel(\"loss\")\n",
        "plt.xlabel(\"epochs\")"
      ],
      "metadata": {
        "colab": {
          "base_uri": "https://localhost:8080/",
          "height": 297
        },
        "id": "Zqx9LuzWMNVS",
        "outputId": "cceec0cf-6bab-49e3-f93e-29898bac35f5"
      },
      "execution_count": 92,
      "outputs": [
        {
          "output_type": "execute_result",
          "data": {
            "text/plain": [
              "Text(0.5, 0, 'epochs')"
            ]
          },
          "metadata": {},
          "execution_count": 92
        },
        {
          "output_type": "display_data",
          "data": {
            "text/plain": [
              "<Figure size 432x288 with 1 Axes>"
            ],
            "image/png": "[encoded data removed]"
          },
          "metadata": {
            "needs_background": "light"
          }
        }
      ]
    },
    {
      "cell_type": "markdown",
      "source": [
        "> **Question:** How long should you train for?\n",
        "\n",
        "It depends. Really.. it depends on the problem you're working on. However, many people have asked this question before... so TensorFlow has a solution! It's called the [EarlyStopping  Callbacks](https://www.tensorflow.org/api_docs/python/tf/keras/callbacks/EarlyStopping), which is a TensorFlow component you can add to your model to stop training once it stops improving a certain metric."
      ],
      "metadata": {
        "id": "Y3E-_eAnMfcX"
      }
    },
    {
      "cell_type": "markdown",
      "source": [
        "## Preprocessing data (normalization and standardization)\n",
        "\n",
        "In terms of scaling values, neural networks tend to prefer normalization.\n",
        "\n",
        "If you're not sure on which to use, you could try both and see which performs better."
      ],
      "metadata": {
        "id": "30b2PEClTilI"
      }
    },
    {
      "cell_type": "code",
      "source": [
        "import pandas as pd\n",
        "import matplotlib.pyplot as plt\n",
        "import tensorflow as tf\n",
        "\n",
        "# Read in the insurance Dataframe\n",
        "insurance = pd.read_csv(\"https://raw.githubusercontent.com/stedy/Machine-Learning-with-R-datasets/master/insurance.csv\")\n",
        "insurance"
      ],
      "metadata": {
        "colab": {
          "base_uri": "https://localhost:8080/",
          "height": 423
        },
        "id": "hYOrNVAujpoY",
        "outputId": "118932cd-1069-458d-afbf-e8b18d68c1dc"
      },
      "execution_count": 99,
      "outputs": [
        {
          "output_type": "execute_result",
          "data": {
            "text/plain": [
              "      age     sex     bmi  children smoker     region      charges\n",
              "0      19  female  27.900         0    yes  southwest  16884.92400\n",
              "1      18    male  33.770         1     no  southeast   1725.55230\n",
              "2      28    male  33.000         3     no  southeast   4449.46200\n",
              "3      33    male  22.705         0     no  northwest  21984.47061\n",
              "4      32    male  28.880         0     no  northwest   3866.85520\n",
              "...   ...     ...     ...       ...    ...        ...          ...\n",
              "1333   50    male  30.970         3     no  northwest  10600.54830\n",
              "1334   18  female  31.920         0     no  northeast   2205.98080\n",
              "1335   18  female  36.850         0     no  southeast   1629.83350\n",
              "1336   21  female  25.800         0     no  southwest   2007.94500\n",
              "1337   61  female  29.070         0    yes  northwest  29141.36030\n",
              "\n",
              "[1338 rows x 7 columns]"
            ],
            "text/html": [
              "\n",
              "  <div id=\"df-3d11e6f4-9473-4b4e-835b-72fda1743e45\">\n",
              "    <div class=\"colab-df-container\">\n",
              "      <div>\n",
              "<style scoped>\n",
              "    .dataframe tbody tr th:only-of-type {\n",
              "        vertical-align: middle;\n",
              "    }\n",
              "\n",
              "    .dataframe tbody tr th {\n",
              "        vertical-align: top;\n",
              "    }\n",
              "\n",
              "    .dataframe thead th {\n",
              "        text-align: right;\n",
              "    }\n",
              "</style>\n",
              "<table border=\"1\" class=\"dataframe\">\n",
              "  <thead>\n",
              "    <tr style=\"text-align: right;\">\n",
              "      <th></th>\n",
              "      <th>age</th>\n",
              "      <th>sex</th>\n",
              "      <th>bmi</th>\n",
              "      <th>children</th>\n",
              "      <th>smoker</th>\n",
              "      <th>region</th>\n",
              "      <th>charges</th>\n",
              "    </tr>\n",
              "  </thead>\n",
              "  <tbody>\n",
              "    <tr>\n",
              "      <th>0</th>\n",
              "      <td>19</td>\n",
              "      <td>female</td>\n",
              "      <td>27.900</td>\n",
              "      <td>0</td>\n",
              "      <td>yes</td>\n",
              "      <td>southwest</td>\n",
              "      <td>16884.92400</td>\n",
              "    </tr>\n",
              "    <tr>\n",
              "      <th>1</th>\n",
              "      <td>18</td>\n",
              "      <td>male</td>\n",
              "      <td>33.770</td>\n",
              "      <td>1</td>\n",
              "      <td>no</td>\n",
              "      <td>southeast</td>\n",
              "      <td>1725.55230</td>\n",
              "    </tr>\n",
              "    <tr>\n",
              "      <th>2</th>\n",
              "      <td>28</td>\n",
              "      <td>male</td>\n",
              "      <td>33.000</td>\n",
              "      <td>3</td>\n",
              "      <td>no</td>\n",
              "      <td>southeast</td>\n",
              "      <td>4449.46200</td>\n",
              "    </tr>\n",
              "    <tr>\n",
              "      <th>3</th>\n",
              "      <td>33</td>\n",
              "      <td>male</td>\n",
              "      <td>22.705</td>\n",
              "      <td>0</td>\n",
              "      <td>no</td>\n",
              "      <td>northwest</td>\n",
              "      <td>21984.47061</td>\n",
              "    </tr>\n",
              "    <tr>\n",
              "      <th>4</th>\n",
              "      <td>32</td>\n",
              "      <td>male</td>\n",
              "      <td>28.880</td>\n",
              "      <td>0</td>\n",
              "      <td>no</td>\n",
              "      <td>northwest</td>\n",
              "      <td>3866.85520</td>\n",
              "    </tr>\n",
              "    <tr>\n",
              "      <th>...</th>\n",
              "      <td>...</td>\n",
              "      <td>...</td>\n",
              "      <td>...</td>\n",
              "      <td>...</td>\n",
              "      <td>...</td>\n",
              "      <td>...</td>\n",
              "      <td>...</td>\n",
              "    </tr>\n",
              "    <tr>\n",
              "      <th>1333</th>\n",
              "      <td>50</td>\n",
              "      <td>male</td>\n",
              "      <td>30.970</td>\n",
              "      <td>3</td>\n",
              "      <td>no</td>\n",
              "      <td>northwest</td>\n",
              "      <td>10600.54830</td>\n",
              "    </tr>\n",
              "    <tr>\n",
              "      <th>1334</th>\n",
              "      <td>18</td>\n",
              "      <td>female</td>\n",
              "      <td>31.920</td>\n",
              "      <td>0</td>\n",
              "      <td>no</td>\n",
              "      <td>northeast</td>\n",
              "      <td>2205.98080</td>\n",
              "    </tr>\n",
              "    <tr>\n",
              "      <th>1335</th>\n",
              "      <td>18</td>\n",
              "      <td>female</td>\n",
              "      <td>36.850</td>\n",
              "      <td>0</td>\n",
              "      <td>no</td>\n",
              "      <td>southeast</td>\n",
              "      <td>1629.83350</td>\n",
              "    </tr>\n",
              "    <tr>\n",
              "      <th>1336</th>\n",
              "      <td>21</td>\n",
              "      <td>female</td>\n",
              "      <td>25.800</td>\n",
              "      <td>0</td>\n",
              "      <td>no</td>\n",
              "      <td>southwest</td>\n",
              "      <td>2007.94500</td>\n",
              "    </tr>\n",
              "    <tr>\n",
              "      <th>1337</th>\n",
              "      <td>61</td>\n",
              "      <td>female</td>\n",
              "      <td>29.070</td>\n",
              "      <td>0</td>\n",
              "      <td>yes</td>\n",
              "      <td>northwest</td>\n",
              "      <td>29141.36030</td>\n",
              "    </tr>\n",
              "  </tbody>\n",
              "</table>\n",
              "<p>1338 rows × 7 columns</p>\n",
              "</div>\n",
              "      <button class=\"colab-df-convert\" onclick=\"convertToInteractive('df-3d11e6f4-9473-4b4e-835b-72fda1743e45')\"\n",
              "              title=\"Convert this dataframe to an interactive table.\"\n",
              "              style=\"display:none;\">\n",
              "        \n",
              "  <svg xmlns=\"http://www.w3.org/2000/svg\" height=\"24px\"viewBox=\"0 0 24 24\"\n",
              "       width=\"24px\">\n",
              "    <path d=\"M0 0h24v24H0V0z\" fill=\"none\"/>\n",
              "    <path d=\"M18.56 5.44l.94 2.06.94-2.06 2.06-.94-2.06-.94-.94-2.06-.94 2.06-2.06.94zm-11 1L8.5 8.5l.94-2.06 2.06-.94-2.06-.94L8.5 2.5l-.94 2.06-2.06.94zm10 10l.94 2.06.94-2.06 2.06-.94-2.06-.94-.94-2.06-.94 2.06-2.06.94z\"/><path d=\"M17.41 7.96l-1.37-1.37c-.4-.4-.92-.59-1.43-.59-.52 0-1.04.2-1.43.59L10.3 9.45l-7.72 7.72c-.78.78-.78 2.05 0 2.83L4 21.41c.39.39.9.59 1.41.59.51 0 1.02-.2 1.41-.59l7.78-7.78 2.81-2.81c.8-.78.8-2.07 0-2.86zM5.41 20L4 18.59l7.72-7.72 1.47 1.35L5.41 20z\"/>\n",
              "  </svg>\n",
              "      </button>\n",
              "      \n",
              "  <style>\n",
              "    .colab-df-container {\n",
              "      display:flex;\n",
              "      flex-wrap:wrap;\n",
              "      gap: 12px;\n",
              "    }\n",
              "\n",
              "    .colab-df-convert {\n",
              "      background-color: #E8F0FE;\n",
              "      border: none;\n",
              "      border-radius: 50%;\n",
              "      cursor: pointer;\n",
              "      display: none;\n",
              "      fill: #1967D2;\n",
              "      height: 32px;\n",
              "      padding: 0 0 0 0;\n",
              "      width: 32px;\n",
              "    }\n",
              "\n",
              "    .colab-df-convert:hover {\n",
              "      background-color: #E2EBFA;\n",
              "      box-shadow: 0px 1px 2px rgba(60, 64, 67, 0.3), 0px 1px 3px 1px rgba(60, 64, 67, 0.15);\n",
              "      fill: #174EA6;\n",
              "    }\n",
              "\n",
              "    [theme=dark] .colab-df-convert {\n",
              "      background-color: #3B4455;\n",
              "      fill: #D2E3FC;\n",
              "    }\n",
              "\n",
              "    [theme=dark] .colab-df-convert:hover {\n",
              "      background-color: #434B5C;\n",
              "      box-shadow: 0px 1px 3px 1px rgba(0, 0, 0, 0.15);\n",
              "      filter: drop-shadow(0px 1px 2px rgba(0, 0, 0, 0.3));\n",
              "      fill: #FFFFFF;\n",
              "    }\n",
              "  </style>\n",
              "\n",
              "      <script>\n",
              "        const buttonEl =\n",
              "          document.querySelector('#df-3d11e6f4-9473-4b4e-835b-72fda1743e45 button.colab-df-convert');\n",
              "        buttonEl.style.display =\n",
              "          google.colab.kernel.accessAllowed ? 'block' : 'none';\n",
              "\n",
              "        async function convertToInteractive(key) {\n",
              "          const element = document.querySelector('#df-3d11e6f4-9473-4b4e-835b-72fda1743e45');\n",
              "          const dataTable =\n",
              "            await google.colab.kernel.invokeFunction('convertToInteractive',\n",
              "                                                     [key], {});\n",
              "          if (!dataTable) return;\n",
              "\n",
              "          const docLinkHtml = 'Like what you see? Visit the ' +\n",
              "            '<a target=\"_blank\" href=https://colab.research.google.com/notebooks/data_table.ipynb>data table notebook</a>'\n",
              "            + ' to learn more about interactive tables.';\n",
              "          element.innerHTML = '';\n",
              "          dataTable['output_type'] = 'display_data';\n",
              "          await google.colab.output.renderOutput(dataTable, element);\n",
              "          const docLink = document.createElement('div');\n",
              "          docLink.innerHTML = docLinkHtml;\n",
              "          element.appendChild(docLink);\n",
              "        }\n",
              "      </script>\n",
              "    </div>\n",
              "  </div>\n",
              "  "
            ]
          },
          "metadata": {},
          "execution_count": 99
        }
      ]
    },
    {
      "cell_type": "markdown",
      "source": [
        "To prepare our data, we can borrow a few classes from Scikit-Learn."
      ],
      "metadata": {
        "id": "T7kyN2oCkKCC"
      }
    },
    {
      "cell_type": "code",
      "source": [
        "from sklearn.compose import make_column_transformer\n",
        "from sklearn.preprocessing import  MinMaxScaler, OneHotEncoder\n",
        "from sklearn.model_selection import train_test_split\n",
        "\n",
        "# Create a column transformer\n",
        "ct = make_column_transformer(\n",
        "    (MinMaxScaler(), [\"age\", \"bmi\", \"children\"]), # turn all values in these columns between 0 and 1\n",
        "    (OneHotEncoder(handle_unknown=\"ignore\"), [\"sex\", \"smoker\", \"region\"])\n",
        ")\n",
        "\n",
        "# Create X & y values\n",
        "X = insurance.drop(\"charges\", axis=1)\n",
        "y = insurance[\"charges\"]\n",
        "\n",
        "# Build your train and test sets\n",
        "X_train, X_test, y_train, y_test = train_test_split(X, y, test_size=0.2, random_state=42)\n",
        "\n",
        "# Fit the columns transformer to our training data\n",
        "ct.fit(X_train)\n",
        "\n",
        "# Transform training and test data with normalization (MinMaxScaler) and OneHotEncoder\n",
        "X_train_normal = ct.transform(X_train)\n",
        "X_test_normal = ct.transform(X_test)"
      ],
      "metadata": {
        "id": "R3VyWD2ET3-B"
      },
      "execution_count": 103,
      "outputs": []
    },
    {
      "cell_type": "code",
      "source": [
        "# What does our data look like now ?\n",
        "X_train.loc[0]"
      ],
      "metadata": {
        "colab": {
          "base_uri": "https://localhost:8080/"
        },
        "id": "wENOjz5DmAeP",
        "outputId": "fcd5acd0-8fb3-45d7-d388-b07a3588ead2"
      },
      "execution_count": 105,
      "outputs": [
        {
          "output_type": "execute_result",
          "data": {
            "text/plain": [
              "age                19\n",
              "sex            female\n",
              "bmi              27.9\n",
              "children            0\n",
              "smoker            yes\n",
              "region      southwest\n",
              "Name: 0, dtype: object"
            ]
          },
          "metadata": {},
          "execution_count": 105
        }
      ]
    },
    {
      "cell_type": "code",
      "source": [
        "X_train_normal[0]"
      ],
      "metadata": {
        "colab": {
          "base_uri": "https://localhost:8080/"
        },
        "id": "FZBqggzKhjhN",
        "outputId": "c9a73119-bdf8-49ef-819b-f6cf99828e51"
      },
      "execution_count": 110,
      "outputs": [
        {
          "output_type": "execute_result",
          "data": {
            "text/plain": [
              "array([0.60869565, 0.10734463, 0.4       , 1.        , 0.        ,\n",
              "       1.        , 0.        , 0.        , 1.        , 0.        ,\n",
              "       0.        ])"
            ]
          },
          "metadata": {},
          "execution_count": 110
        }
      ]
    },
    {
      "cell_type": "code",
      "source": [
        "X_train.shape, X_train_normal.shape"
      ],
      "metadata": {
        "colab": {
          "base_uri": "https://localhost:8080/"
        },
        "id": "UKGBvKsGho5b",
        "outputId": "fec0a16b-00cf-48a8-f40f-48a4690c3a15"
      },
      "execution_count": 111,
      "outputs": [
        {
          "output_type": "execute_result",
          "data": {
            "text/plain": [
              "((1070, 6), (1070, 11))"
            ]
          },
          "metadata": {},
          "execution_count": 111
        }
      ]
    },
    {
      "cell_type": "markdown",
      "source": [
        "Our data has been normalizzed and one hot encoded. Now let's build a neural  network model on it and see how it goes."
      ],
      "metadata": {
        "id": "4wx8b2IYhx4R"
      }
    },
    {
      "cell_type": "code",
      "source": [
        "# Build a neural network model to fit on our normalized data\n",
        "tf.random.set_seed(42)\n",
        "\n",
        "# 1. Create the model\n",
        "insurance_model_4 = tf.keras.Sequential([\n",
        "  tf.keras.layers.Dense(100),\n",
        "  tf.keras.layers.Dense(10),\n",
        "  tf.keras.layers.Dense(1)\n",
        "])\n",
        "\n",
        "# 2. Compile the model\n",
        "insurance_model_4.compile(loss=tf.keras.losses.mae,\n",
        "                          optimizer=tf.keras.optimizers.Adam(),\n",
        "                          metrics=[\"mae\"])\n",
        "\n",
        "# 3. Fit the model\n",
        "insurance_model_4.fit(X_train_normal, y_train, epochs=100)"
      ],
      "metadata": {
        "colab": {
          "base_uri": "https://localhost:8080/"
        },
        "id": "AmY4PfM-h3Vf",
        "outputId": "f84ca5bf-296e-48db-d704-1d143a3052b1"
      },
      "execution_count": 114,
      "outputs": [
        {
          "output_type": "stream",
          "name": "stdout",
          "text": [
            "Epoch 1/100\n",
            "34/34 [==============================] - 1s 7ms/step - loss: 13342.6494 - mae: 13342.6494\n",
            "Epoch 2/100\n",
            "34/34 [==============================] - 0s 7ms/step - loss: 13333.4795 - mae: 13333.4795\n",
            "Epoch 3/100\n",
            "34/34 [==============================] - 0s 7ms/step - loss: 13312.0234 - mae: 13312.0234\n",
            "Epoch 4/100\n",
            "34/34 [==============================] - 0s 7ms/step - loss: 13267.7930 - mae: 13267.7930\n",
            "Epoch 5/100\n",
            "34/34 [==============================] - 0s 6ms/step - loss: 13189.5850 - mae: 13189.5850\n",
            "Epoch 6/100\n",
            "34/34 [==============================] - 0s 7ms/step - loss: 13066.4482 - mae: 13066.4482\n",
            "Epoch 7/100\n",
            "34/34 [==============================] - 0s 7ms/step - loss: 12888.1953 - mae: 12888.1953\n",
            "Epoch 8/100\n",
            "34/34 [==============================] - 0s 7ms/step - loss: 12644.6523 - mae: 12644.6523\n",
            "Epoch 9/100\n",
            "34/34 [==============================] - 0s 7ms/step - loss: 12325.5469 - mae: 12325.5469\n",
            "Epoch 10/100\n",
            "34/34 [==============================] - 0s 6ms/step - loss: 11925.9658 - mae: 11925.9658\n",
            "Epoch 11/100\n",
            "34/34 [==============================] - 0s 7ms/step - loss: 11454.3350 - mae: 11454.3350\n",
            "Epoch 12/100\n",
            "34/34 [==============================] - 0s 6ms/step - loss: 10949.8066 - mae: 10949.8066\n",
            "Epoch 13/100\n",
            "34/34 [==============================] - 0s 8ms/step - loss: 10448.9395 - mae: 10448.9395\n",
            "Epoch 14/100\n",
            "34/34 [==============================] - 0s 7ms/step - loss: 9951.6250 - mae: 9951.6250\n",
            "Epoch 15/100\n",
            "34/34 [==============================] - 0s 6ms/step - loss: 9482.7422 - mae: 9482.7422\n",
            "Epoch 16/100\n",
            "34/34 [==============================] - 0s 7ms/step - loss: 9066.7461 - mae: 9066.7461\n",
            "Epoch 17/100\n",
            "34/34 [==============================] - 0s 8ms/step - loss: 8721.9844 - mae: 8721.9844\n",
            "Epoch 18/100\n",
            "34/34 [==============================] - 0s 9ms/step - loss: 8441.1992 - mae: 8441.1992\n",
            "Epoch 19/100\n",
            "34/34 [==============================] - 0s 8ms/step - loss: 8227.5117 - mae: 8227.5117\n",
            "Epoch 20/100\n",
            "34/34 [==============================] - 0s 8ms/step - loss: 8081.9775 - mae: 8081.9775\n",
            "Epoch 21/100\n",
            "34/34 [==============================] - 0s 6ms/step - loss: 7973.8945 - mae: 7973.8945\n",
            "Epoch 22/100\n",
            "34/34 [==============================] - 0s 8ms/step - loss: 7899.1597 - mae: 7899.1597\n",
            "Epoch 23/100\n",
            "34/34 [==============================] - 0s 7ms/step - loss: 7840.3906 - mae: 7840.3906\n",
            "Epoch 24/100\n",
            "34/34 [==============================] - 0s 7ms/step - loss: 7787.9619 - mae: 7787.9619\n",
            "Epoch 25/100\n",
            "34/34 [==============================] - 0s 7ms/step - loss: 7749.2622 - mae: 7749.2622\n",
            "Epoch 26/100\n",
            "34/34 [==============================] - 0s 8ms/step - loss: 7697.9595 - mae: 7697.9595\n",
            "Epoch 27/100\n",
            "34/34 [==============================] - 0s 8ms/step - loss: 7656.0273 - mae: 7656.0273\n",
            "Epoch 28/100\n",
            "34/34 [==============================] - 0s 7ms/step - loss: 7613.4780 - mae: 7613.4780\n",
            "Epoch 29/100\n",
            "34/34 [==============================] - 0s 7ms/step - loss: 7570.9482 - mae: 7570.9482\n",
            "Epoch 30/100\n",
            "34/34 [==============================] - 0s 7ms/step - loss: 7527.4175 - mae: 7527.4175\n",
            "Epoch 31/100\n",
            "34/34 [==============================] - 0s 6ms/step - loss: 7483.5947 - mae: 7483.5947\n",
            "Epoch 32/100\n",
            "34/34 [==============================] - 0s 7ms/step - loss: 7439.4429 - mae: 7439.4429\n",
            "Epoch 33/100\n",
            "34/34 [==============================] - 0s 6ms/step - loss: 7395.0547 - mae: 7395.0547\n",
            "Epoch 34/100\n",
            "34/34 [==============================] - 0s 7ms/step - loss: 7346.8125 - mae: 7346.8125\n",
            "Epoch 35/100\n",
            "34/34 [==============================] - 0s 7ms/step - loss: 7300.0488 - mae: 7300.0488\n",
            "Epoch 36/100\n",
            "34/34 [==============================] - 0s 6ms/step - loss: 7249.8452 - mae: 7249.8452\n",
            "Epoch 37/100\n",
            "34/34 [==============================] - 0s 7ms/step - loss: 7199.5308 - mae: 7199.5308\n",
            "Epoch 38/100\n",
            "34/34 [==============================] - 0s 7ms/step - loss: 7148.4805 - mae: 7148.4805\n",
            "Epoch 39/100\n",
            "34/34 [==============================] - 0s 7ms/step - loss: 7093.6660 - mae: 7093.6660\n",
            "Epoch 40/100\n",
            "34/34 [==============================] - 0s 6ms/step - loss: 7038.1797 - mae: 7038.1797\n",
            "Epoch 41/100\n",
            "34/34 [==============================] - 0s 6ms/step - loss: 6981.7397 - mae: 6981.7397\n",
            "Epoch 42/100\n",
            "34/34 [==============================] - 0s 6ms/step - loss: 6922.7847 - mae: 6922.7847\n",
            "Epoch 43/100\n",
            "34/34 [==============================] - 0s 7ms/step - loss: 6860.1724 - mae: 6860.1724\n",
            "Epoch 44/100\n",
            "34/34 [==============================] - 0s 6ms/step - loss: 6793.7974 - mae: 6793.7974\n",
            "Epoch 45/100\n",
            "34/34 [==============================] - 0s 6ms/step - loss: 6726.6201 - mae: 6726.6201\n",
            "Epoch 46/100\n",
            "34/34 [==============================] - 0s 7ms/step - loss: 6657.4683 - mae: 6657.4683\n",
            "Epoch 47/100\n",
            "34/34 [==============================] - 0s 8ms/step - loss: 6586.3086 - mae: 6586.3086\n",
            "Epoch 48/100\n",
            "34/34 [==============================] - 0s 7ms/step - loss: 6507.5063 - mae: 6507.5063\n",
            "Epoch 49/100\n",
            "34/34 [==============================] - 0s 7ms/step - loss: 6428.6025 - mae: 6428.6025\n",
            "Epoch 50/100\n",
            "34/34 [==============================] - 0s 7ms/step - loss: 6342.7109 - mae: 6342.7109\n",
            "Epoch 51/100\n",
            "34/34 [==============================] - 0s 7ms/step - loss: 6258.0718 - mae: 6258.0718\n",
            "Epoch 52/100\n",
            "34/34 [==============================] - 0s 6ms/step - loss: 6164.7046 - mae: 6164.7046\n",
            "Epoch 53/100\n",
            "34/34 [==============================] - 0s 7ms/step - loss: 6068.6748 - mae: 6068.6748\n",
            "Epoch 54/100\n",
            "34/34 [==============================] - 0s 8ms/step - loss: 5970.0981 - mae: 5970.0981\n",
            "Epoch 55/100\n",
            "34/34 [==============================] - 0s 8ms/step - loss: 5862.5625 - mae: 5862.5625\n",
            "Epoch 56/100\n",
            "34/34 [==============================] - 0s 6ms/step - loss: 5753.9531 - mae: 5753.9531\n",
            "Epoch 57/100\n",
            "34/34 [==============================] - 0s 7ms/step - loss: 5638.0947 - mae: 5638.0947\n",
            "Epoch 58/100\n",
            "34/34 [==============================] - 0s 7ms/step - loss: 5519.8691 - mae: 5519.8691\n",
            "Epoch 59/100\n",
            "34/34 [==============================] - 0s 7ms/step - loss: 5401.3208 - mae: 5401.3208\n",
            "Epoch 60/100\n",
            "34/34 [==============================] - 0s 8ms/step - loss: 5277.3511 - mae: 5277.3511\n",
            "Epoch 61/100\n",
            "34/34 [==============================] - 0s 7ms/step - loss: 5149.7642 - mae: 5149.7642\n",
            "Epoch 62/100\n",
            "34/34 [==============================] - 0s 6ms/step - loss: 5019.3540 - mae: 5019.3540\n",
            "Epoch 63/100\n",
            "34/34 [==============================] - 0s 7ms/step - loss: 4889.6865 - mae: 4889.6865\n",
            "Epoch 64/100\n",
            "34/34 [==============================] - 0s 7ms/step - loss: 4756.8564 - mae: 4756.8564\n",
            "Epoch 65/100\n",
            "34/34 [==============================] - 0s 6ms/step - loss: 4629.4375 - mae: 4629.4375\n",
            "Epoch 66/100\n",
            "34/34 [==============================] - 0s 6ms/step - loss: 4503.6001 - mae: 4503.6001\n",
            "Epoch 67/100\n",
            "34/34 [==============================] - 0s 7ms/step - loss: 4392.9927 - mae: 4392.9927\n",
            "Epoch 68/100\n",
            "34/34 [==============================] - 0s 7ms/step - loss: 4284.3872 - mae: 4284.3872\n",
            "Epoch 69/100\n",
            "34/34 [==============================] - 0s 6ms/step - loss: 4182.6182 - mae: 4182.6182\n",
            "Epoch 70/100\n",
            "34/34 [==============================] - 0s 6ms/step - loss: 4089.5725 - mae: 4089.5725\n",
            "Epoch 71/100\n",
            "34/34 [==============================] - 0s 7ms/step - loss: 4003.3901 - mae: 4003.3901\n",
            "Epoch 72/100\n",
            "34/34 [==============================] - 0s 7ms/step - loss: 3929.0093 - mae: 3929.0093\n",
            "Epoch 73/100\n",
            "34/34 [==============================] - 0s 6ms/step - loss: 3866.3115 - mae: 3866.3115\n",
            "Epoch 74/100\n",
            "34/34 [==============================] - 0s 7ms/step - loss: 3813.7146 - mae: 3813.7146\n",
            "Epoch 75/100\n",
            "34/34 [==============================] - 0s 7ms/step - loss: 3773.0320 - mae: 3773.0320\n",
            "Epoch 76/100\n",
            "34/34 [==============================] - 0s 7ms/step - loss: 3744.1997 - mae: 3744.1997\n",
            "Epoch 77/100\n",
            "34/34 [==============================] - 0s 7ms/step - loss: 3719.6870 - mae: 3719.6870\n",
            "Epoch 78/100\n",
            "34/34 [==============================] - 0s 7ms/step - loss: 3702.9114 - mae: 3702.9114\n",
            "Epoch 79/100\n",
            "34/34 [==============================] - 0s 7ms/step - loss: 3691.8794 - mae: 3691.8794\n",
            "Epoch 80/100\n",
            "34/34 [==============================] - 0s 8ms/step - loss: 3682.8350 - mae: 3682.8350\n",
            "Epoch 81/100\n",
            "34/34 [==============================] - 0s 9ms/step - loss: 3676.9766 - mae: 3676.9766\n",
            "Epoch 82/100\n",
            "34/34 [==============================] - 0s 7ms/step - loss: 3673.9495 - mae: 3673.9495\n",
            "Epoch 83/100\n",
            "34/34 [==============================] - 0s 7ms/step - loss: 3667.8452 - mae: 3667.8452\n",
            "Epoch 84/100\n",
            "34/34 [==============================] - 0s 7ms/step - loss: 3664.5759 - mae: 3664.5759\n",
            "Epoch 85/100\n",
            "34/34 [==============================] - 0s 6ms/step - loss: 3661.8562 - mae: 3661.8562\n",
            "Epoch 86/100\n",
            "34/34 [==============================] - 0s 7ms/step - loss: 3660.3049 - mae: 3660.3049\n",
            "Epoch 87/100\n",
            "34/34 [==============================] - 0s 7ms/step - loss: 3657.5134 - mae: 3657.5134\n",
            "Epoch 88/100\n",
            "34/34 [==============================] - 0s 7ms/step - loss: 3655.2202 - mae: 3655.2202\n",
            "Epoch 89/100\n",
            "34/34 [==============================] - 0s 6ms/step - loss: 3653.8833 - mae: 3653.8833\n",
            "Epoch 90/100\n",
            "34/34 [==============================] - 0s 7ms/step - loss: 3652.0198 - mae: 3652.0198\n",
            "Epoch 91/100\n",
            "34/34 [==============================] - 0s 7ms/step - loss: 3648.9990 - mae: 3648.9990\n",
            "Epoch 92/100\n",
            "34/34 [==============================] - 0s 7ms/step - loss: 3648.4463 - mae: 3648.4463\n",
            "Epoch 93/100\n",
            "34/34 [==============================] - 0s 7ms/step - loss: 3646.2300 - mae: 3646.2300\n",
            "Epoch 94/100\n",
            "34/34 [==============================] - 0s 7ms/step - loss: 3644.4377 - mae: 3644.4377\n",
            "Epoch 95/100\n",
            "34/34 [==============================] - 0s 8ms/step - loss: 3645.8770 - mae: 3645.8770\n",
            "Epoch 96/100\n",
            "34/34 [==============================] - 0s 7ms/step - loss: 3642.2571 - mae: 3642.2571\n",
            "Epoch 97/100\n",
            "34/34 [==============================] - 0s 7ms/step - loss: 3640.1184 - mae: 3640.1184\n",
            "Epoch 98/100\n",
            "34/34 [==============================] - 0s 7ms/step - loss: 3638.0649 - mae: 3638.0649\n",
            "Epoch 99/100\n",
            "34/34 [==============================] - 0s 6ms/step - loss: 3637.2053 - mae: 3637.2053\n",
            "Epoch 100/100\n",
            "34/34 [==============================] - 0s 7ms/step - loss: 3636.1707 - mae: 3636.1707\n"
          ]
        },
        {
          "output_type": "execute_result",
          "data": {
            "text/plain": [
              "<keras.callbacks.History at 0x7f6a27989710>"
            ]
          },
          "metadata": {},
          "execution_count": 114
        }
      ]
    },
    {
      "cell_type": "code",
      "source": [
        "# Evaluate our insurance model trained on normalized data\n",
        "insurance_model_4.evaluate(X_test_normal, y_test)"
      ],
      "metadata": {
        "colab": {
          "base_uri": "https://localhost:8080/"
        },
        "id": "R2I9YlmNpcZB",
        "outputId": "9abb661b-dd8c-4796-c6ab-685b3175257d"
      },
      "execution_count": 115,
      "outputs": [
        {
          "output_type": "stream",
          "name": "stdout",
          "text": [
            "9/9 [==============================] - 0s 4ms/step - loss: 3438.7844 - mae: 3438.7844\n"
          ]
        },
        {
          "output_type": "execute_result",
          "data": {
            "text/plain": [
              "[3438.784423828125, 3438.784423828125]"
            ]
          },
          "metadata": {},
          "execution_count": 115
        }
      ]
    },
    {
      "cell_type": "code",
      "source": [
        ""
      ],
      "metadata": {
        "id": "uqUubvwtp1mH"
      },
      "execution_count": null,
      "outputs": []
    }
  ]
}