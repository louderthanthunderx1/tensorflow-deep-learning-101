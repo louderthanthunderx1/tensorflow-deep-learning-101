{
 "cells": [
  {
   "cell_type": "markdown",
   "id": "06780ea0",
   "metadata": {},
   "source": [
    "# Transfer Learning with TensorFlow Part 2: Fine-tuning\n",
    "\n",
    "In the previous notebook, we covered transfer learning feature extraction, now it's time to learn about a new kind of transfer learning: fine-tuning"
   ]
  },
  {
   "cell_type": "code",
   "execution_count": 1,
   "id": "99cd371b",
   "metadata": {},
   "outputs": [
    {
     "name": "stdout",
     "output_type": "stream",
     "text": [
      "Thu Jun 30 11:48:59 2022       \n",
      "+-----------------------------------------------------------------------------+\n",
      "| NVIDIA-SMI 512.15       Driver Version: 512.15       CUDA Version: 11.6     |\n",
      "|-------------------------------+----------------------+----------------------+\n",
      "| GPU  Name            TCC/WDDM | Bus-Id        Disp.A | Volatile Uncorr. ECC |\n",
      "| Fan  Temp  Perf  Pwr:Usage/Cap|         Memory-Usage | GPU-Util  Compute M. |\n",
      "|                               |                      |               MIG M. |\n",
      "|===============================+======================+======================|\n",
      "|   0  NVIDIA GeForce ... WDDM  | 00000000:01:00.0  On |                  N/A |\n",
      "| N/A   45C    P8     5W /  N/A |   2401MiB /  4096MiB |      6%      Default |\n",
      "|                               |                      |                  N/A |\n",
      "+-------------------------------+----------------------+----------------------+\n",
      "                                                                               \n",
      "+-----------------------------------------------------------------------------+\n",
      "| Processes:                                                                  |\n",
      "|  GPU   GI   CI        PID   Type   Process name                  GPU Memory |\n",
      "|        ID   ID                                                   Usage      |\n",
      "|=============================================================================|\n",
      "|    0   N/A  N/A      1504      C   ...nvs\\tensorflow\\python.exe    N/A      |\n",
      "|    0   N/A  N/A      1904    C+G                                   N/A      |\n",
      "|    0   N/A  N/A      5376      C   ...nvs\\tensorflow\\python.exe    N/A      |\n",
      "|    0   N/A  N/A      9192    C+G   ...r\\RoundedTB\\RoundedTB.exe    N/A      |\n",
      "|    0   N/A  N/A     11732    C+G   ...bbwe\\Microsoft.Photos.exe    N/A      |\n",
      "|    0   N/A  N/A     21572    C+G   ...wekyb3d8bbwe\\Video.UI.exe    N/A      |\n",
      "+-----------------------------------------------------------------------------+\n"
     ]
    }
   ],
   "source": [
    "# CHECK GPU\n",
    "!nvidia-smi"
   ]
  },
  {
   "cell_type": "markdown",
   "id": "dbf18301",
   "metadata": {},
   "source": [
    "## Creating helper functions\n"
   ]
  },
  {
   "cell_type": "code",
   "execution_count": 5,
   "id": "3147907a",
   "metadata": {},
   "outputs": [],
   "source": [
    "# Import helper function we're going to use in this notebook\n",
    "from helper_functions import create_tensorboard_callback, plot_loss_curves, unzip_data, walk_through_dir"
   ]
  },
  {
   "cell_type": "markdown",
   "id": "97a0c814",
   "metadata": {},
   "source": [
    "# Let's get some data"
   ]
  },
  {
   "cell_type": "markdown",
   "id": "323b6738",
   "metadata": {},
   "source": [
    "This time we're going to see how we can use the pretrained models within tf.keras.applications and apply them to our own problem (recognizing image of food).\n",
    "\n",
    "link: https://www.tensorflow.org/api_docs/python/tf/keras/applications"
   ]
  },
  {
   "cell_type": "code",
   "execution_count": 7,
   "id": "34c35aa5",
   "metadata": {
    "scrolled": false
   },
   "outputs": [
    {
     "name": "stderr",
     "output_type": "stream",
     "text": [
      "SYSTEM_WGETRC = c:/progra~1/wget/etc/wgetrc\n",
      "syswgetrc = C:\\Program Files (x86)\\GnuWin32/etc/wgetrc\n",
      "--2022-06-30 11:58:03--  https://storage.googleapis.com/ztm_tf_course/food_vision/10_food_classes_10_percent.zip\n",
      "Resolving storage.googleapis.com... 172.217.166.144, 142.250.199.48, 172.217.26.80, ...\n",
      "Connecting to storage.googleapis.com|172.217.166.144|:443... connected.\n",
      "ERROR: cannot verify storage.googleapis.com's certificate, issued by `/C=US/O=Google Trust Services LLC/CN=GTS CA 1C3':\n",
      "  Unable to locally verify the issuer's authority.\n",
      "ERROR: certificate common name `*.storage.googleapis.com' doesn't match requested host name `storage.googleapis.com'.\n",
      "To connect to storage.googleapis.com insecurely, use `--no-check-certificate'.\n",
      "Unable to establish SSL connection.\n"
     ]
    },
    {
     "ename": "BadZipFile",
     "evalue": "File is not a zip file",
     "output_type": "error",
     "traceback": [
      "\u001b[1;31m---------------------------------------------------------------------------\u001b[0m",
      "\u001b[1;31mBadZipFile\u001b[0m                                Traceback (most recent call last)",
      "\u001b[1;32m<ipython-input-7-d0025e52c0c5>\u001b[0m in \u001b[0;36m<module>\u001b[1;34m\u001b[0m\n\u001b[0;32m      2\u001b[0m \u001b[0mget_ipython\u001b[0m\u001b[1;33m(\u001b[0m\u001b[1;33m)\u001b[0m\u001b[1;33m.\u001b[0m\u001b[0msystem\u001b[0m\u001b[1;33m(\u001b[0m\u001b[1;34m'wget https://storage.googleapis.com/ztm_tf_course/food_vision/10_food_classes_10_percent.zip'\u001b[0m\u001b[1;33m)\u001b[0m\u001b[1;33m\u001b[0m\u001b[1;33m\u001b[0m\u001b[0m\n\u001b[0;32m      3\u001b[0m \u001b[1;33m\u001b[0m\u001b[0m\n\u001b[1;32m----> 4\u001b[1;33m \u001b[0munzip_data\u001b[0m\u001b[1;33m(\u001b[0m\u001b[1;34m\"10_food_classes_10_percent.zip\"\u001b[0m\u001b[1;33m)\u001b[0m\u001b[1;33m\u001b[0m\u001b[1;33m\u001b[0m\u001b[0m\n\u001b[0m",
      "\u001b[1;32m~\\Desktop\\tensorflow-deep-learning-101\\05-transfer-learning-in-tensorflow-part-2-fine-tuning\\helper_functions.py\u001b[0m in \u001b[0;36munzip_data\u001b[1;34m(filename)\u001b[0m\n\u001b[0;32m    241\u001b[0m     \u001b[0mfilename\u001b[0m \u001b[1;33m(\u001b[0m\u001b[0mstr\u001b[0m\u001b[1;33m)\u001b[0m\u001b[1;33m:\u001b[0m \u001b[0ma\u001b[0m \u001b[0mfilepath\u001b[0m \u001b[0mto\u001b[0m \u001b[0ma\u001b[0m \u001b[0mtarget\u001b[0m \u001b[0mzip\u001b[0m \u001b[0mfolder\u001b[0m \u001b[0mto\u001b[0m \u001b[0mbe\u001b[0m \u001b[0munzipped\u001b[0m\u001b[1;33m.\u001b[0m\u001b[1;33m\u001b[0m\u001b[1;33m\u001b[0m\u001b[0m\n\u001b[0;32m    242\u001b[0m   \"\"\"\n\u001b[1;32m--> 243\u001b[1;33m   \u001b[0mzip_ref\u001b[0m \u001b[1;33m=\u001b[0m \u001b[0mzipfile\u001b[0m\u001b[1;33m.\u001b[0m\u001b[0mZipFile\u001b[0m\u001b[1;33m(\u001b[0m\u001b[0mfilename\u001b[0m\u001b[1;33m,\u001b[0m \u001b[1;34m\"r\"\u001b[0m\u001b[1;33m)\u001b[0m\u001b[1;33m\u001b[0m\u001b[1;33m\u001b[0m\u001b[0m\n\u001b[0m\u001b[0;32m    244\u001b[0m   \u001b[0mzip_ref\u001b[0m\u001b[1;33m.\u001b[0m\u001b[0mextractall\u001b[0m\u001b[1;33m(\u001b[0m\u001b[1;33m)\u001b[0m\u001b[1;33m\u001b[0m\u001b[1;33m\u001b[0m\u001b[0m\n\u001b[0;32m    245\u001b[0m   \u001b[0mzip_ref\u001b[0m\u001b[1;33m.\u001b[0m\u001b[0mclose\u001b[0m\u001b[1;33m(\u001b[0m\u001b[1;33m)\u001b[0m\u001b[1;33m\u001b[0m\u001b[1;33m\u001b[0m\u001b[0m\n",
      "\u001b[1;32m~\\miniconda3\\envs\\tensorflow\\lib\\zipfile.py\u001b[0m in \u001b[0;36m__init__\u001b[1;34m(self, file, mode, compression, allowZip64)\u001b[0m\n\u001b[0;32m   1129\u001b[0m         \u001b[1;32mtry\u001b[0m\u001b[1;33m:\u001b[0m\u001b[1;33m\u001b[0m\u001b[1;33m\u001b[0m\u001b[0m\n\u001b[0;32m   1130\u001b[0m             \u001b[1;32mif\u001b[0m \u001b[0mmode\u001b[0m \u001b[1;33m==\u001b[0m \u001b[1;34m'r'\u001b[0m\u001b[1;33m:\u001b[0m\u001b[1;33m\u001b[0m\u001b[1;33m\u001b[0m\u001b[0m\n\u001b[1;32m-> 1131\u001b[1;33m                 \u001b[0mself\u001b[0m\u001b[1;33m.\u001b[0m\u001b[0m_RealGetContents\u001b[0m\u001b[1;33m(\u001b[0m\u001b[1;33m)\u001b[0m\u001b[1;33m\u001b[0m\u001b[1;33m\u001b[0m\u001b[0m\n\u001b[0m\u001b[0;32m   1132\u001b[0m             \u001b[1;32melif\u001b[0m \u001b[0mmode\u001b[0m \u001b[1;32min\u001b[0m \u001b[1;33m(\u001b[0m\u001b[1;34m'w'\u001b[0m\u001b[1;33m,\u001b[0m \u001b[1;34m'x'\u001b[0m\u001b[1;33m)\u001b[0m\u001b[1;33m:\u001b[0m\u001b[1;33m\u001b[0m\u001b[1;33m\u001b[0m\u001b[0m\n\u001b[0;32m   1133\u001b[0m                 \u001b[1;31m# set the modified flag so central directory gets written\u001b[0m\u001b[1;33m\u001b[0m\u001b[1;33m\u001b[0m\u001b[1;33m\u001b[0m\u001b[0m\n",
      "\u001b[1;32m~\\miniconda3\\envs\\tensorflow\\lib\\zipfile.py\u001b[0m in \u001b[0;36m_RealGetContents\u001b[1;34m(self)\u001b[0m\n\u001b[0;32m   1196\u001b[0m             \u001b[1;32mraise\u001b[0m \u001b[0mBadZipFile\u001b[0m\u001b[1;33m(\u001b[0m\u001b[1;34m\"File is not a zip file\"\u001b[0m\u001b[1;33m)\u001b[0m\u001b[1;33m\u001b[0m\u001b[1;33m\u001b[0m\u001b[0m\n\u001b[0;32m   1197\u001b[0m         \u001b[1;32mif\u001b[0m \u001b[1;32mnot\u001b[0m \u001b[0mendrec\u001b[0m\u001b[1;33m:\u001b[0m\u001b[1;33m\u001b[0m\u001b[1;33m\u001b[0m\u001b[0m\n\u001b[1;32m-> 1198\u001b[1;33m             \u001b[1;32mraise\u001b[0m \u001b[0mBadZipFile\u001b[0m\u001b[1;33m(\u001b[0m\u001b[1;34m\"File is not a zip file\"\u001b[0m\u001b[1;33m)\u001b[0m\u001b[1;33m\u001b[0m\u001b[1;33m\u001b[0m\u001b[0m\n\u001b[0m\u001b[0;32m   1199\u001b[0m         \u001b[1;32mif\u001b[0m \u001b[0mself\u001b[0m\u001b[1;33m.\u001b[0m\u001b[0mdebug\u001b[0m \u001b[1;33m>\u001b[0m \u001b[1;36m1\u001b[0m\u001b[1;33m:\u001b[0m\u001b[1;33m\u001b[0m\u001b[1;33m\u001b[0m\u001b[0m\n\u001b[0;32m   1200\u001b[0m             \u001b[0mprint\u001b[0m\u001b[1;33m(\u001b[0m\u001b[0mendrec\u001b[0m\u001b[1;33m)\u001b[0m\u001b[1;33m\u001b[0m\u001b[1;33m\u001b[0m\u001b[0m\n",
      "\u001b[1;31mBadZipFile\u001b[0m: File is not a zip file"
     ]
    }
   ],
   "source": [
    "# get 10% of training data of 10 classes of Food101\n",
    "!wget https://storage.googleapis.com/ztm_tf_course/food_vision/10_food_classes_10_percent.zip\n",
    "\n",
    "unzip_data(\"10_food_classes_10_percent.zip\")"
   ]
  },
  {
   "cell_type": "code",
   "execution_count": 8,
   "id": "e13f0b87",
   "metadata": {},
   "outputs": [
    {
     "name": "stdout",
     "output_type": "stream",
     "text": [
      "There are 2 directories and 0 images in '10_food_classes_10_percent'.\n",
      "There are 10 directories and 0 images in '10_food_classes_10_percent\\test'.\n",
      "There are 0 directories and 250 images in '10_food_classes_10_percent\\test\\chicken_curry'.\n",
      "There are 0 directories and 250 images in '10_food_classes_10_percent\\test\\chicken_wings'.\n",
      "There are 0 directories and 250 images in '10_food_classes_10_percent\\test\\fried_rice'.\n",
      "There are 0 directories and 250 images in '10_food_classes_10_percent\\test\\grilled_salmon'.\n",
      "There are 0 directories and 250 images in '10_food_classes_10_percent\\test\\hamburger'.\n",
      "There are 0 directories and 250 images in '10_food_classes_10_percent\\test\\ice_cream'.\n",
      "There are 0 directories and 250 images in '10_food_classes_10_percent\\test\\pizza'.\n",
      "There are 0 directories and 250 images in '10_food_classes_10_percent\\test\\ramen'.\n",
      "There are 0 directories and 250 images in '10_food_classes_10_percent\\test\\steak'.\n",
      "There are 0 directories and 250 images in '10_food_classes_10_percent\\test\\sushi'.\n",
      "There are 10 directories and 0 images in '10_food_classes_10_percent\\train'.\n",
      "There are 0 directories and 75 images in '10_food_classes_10_percent\\train\\chicken_curry'.\n",
      "There are 0 directories and 75 images in '10_food_classes_10_percent\\train\\chicken_wings'.\n",
      "There are 0 directories and 75 images in '10_food_classes_10_percent\\train\\fried_rice'.\n",
      "There are 0 directories and 75 images in '10_food_classes_10_percent\\train\\grilled_salmon'.\n",
      "There are 0 directories and 75 images in '10_food_classes_10_percent\\train\\hamburger'.\n",
      "There are 0 directories and 75 images in '10_food_classes_10_percent\\train\\ice_cream'.\n",
      "There are 0 directories and 75 images in '10_food_classes_10_percent\\train\\pizza'.\n",
      "There are 0 directories and 75 images in '10_food_classes_10_percent\\train\\ramen'.\n",
      "There are 0 directories and 75 images in '10_food_classes_10_percent\\train\\steak'.\n",
      "There are 0 directories and 75 images in '10_food_classes_10_percent\\train\\sushi'.\n"
     ]
    }
   ],
   "source": [
    "# Check out how many images and subdirectories are in our dataset\n",
    "walk_through_dir('10_food_classes_10_percent')"
   ]
  },
  {
   "cell_type": "code",
   "execution_count": 9,
   "id": "c53591d3",
   "metadata": {},
   "outputs": [],
   "source": [
    "# Create training and test directory paths\n",
    "train_dir = '10_food_classes_10_percent/train'\n",
    "test_dir = '10_food_classes_10_percent/test'"
   ]
  },
  {
   "cell_type": "code",
   "execution_count": 11,
   "id": "f2db8a75",
   "metadata": {},
   "outputs": [
    {
     "name": "stdout",
     "output_type": "stream",
     "text": [
      "Found 750 files belonging to 10 classes.\n",
      "Found 2500 files belonging to 10 classes.\n"
     ]
    }
   ],
   "source": [
    "import tensorflow as tf\n",
    "IMG_SIZE = (224, 224)\n",
    "BATCH_SIZE = 32\n",
    "train_data_10_percent = tf.keras.preprocessing.image_dataset_from_directory(directory=train_dir,\n",
    "                                                                            image_size=IMG_SIZE,\n",
    "                                                                            label_mode='categorical',\n",
    "                                                                            batch_size=BATCH_SIZE)\n",
    "\n",
    "test_data = tf.keras.preprocessing.image_dataset_from_directory(directory=test_dir,\n",
    "                                                               image_size=IMG_SIZE,\n",
    "                                                               label_mode='categorical',\n",
    "                                                               batch_size=BATCH_SIZE)"
   ]
  },
  {
   "cell_type": "code",
   "execution_count": 12,
   "id": "b8bd35bb",
   "metadata": {},
   "outputs": [
    {
     "data": {
      "text/plain": [
       "<BatchDataset shapes: ((None, 224, 224, 3), (None, 10)), types: (tf.float32, tf.float32)>"
      ]
     },
     "execution_count": 12,
     "metadata": {},
     "output_type": "execute_result"
    }
   ],
   "source": [
    "train_data_10_percent"
   ]
  },
  {
   "cell_type": "code",
   "execution_count": 13,
   "id": "67a13887",
   "metadata": {},
   "outputs": [
    {
     "data": {
      "text/plain": [
       "['chicken_curry',\n",
       " 'chicken_wings',\n",
       " 'fried_rice',\n",
       " 'grilled_salmon',\n",
       " 'hamburger',\n",
       " 'ice_cream',\n",
       " 'pizza',\n",
       " 'ramen',\n",
       " 'steak',\n",
       " 'sushi']"
      ]
     },
     "execution_count": 13,
     "metadata": {},
     "output_type": "execute_result"
    }
   ],
   "source": [
    "# Check out the class names of our dataset\n",
    "train_data_10_percent.class_names"
   ]
  },
  {
   "cell_type": "code",
   "execution_count": 14,
   "id": "88d0a104",
   "metadata": {},
   "outputs": [
    {
     "name": "stdout",
     "output_type": "stream",
     "text": [
      "tf.Tensor(\n",
      "[[[[ 21.084822    27.084822    27.084822  ]\n",
      "   [ 21.097895    27.097895    27.097895  ]\n",
      "   [ 19.909756    25.909756    25.909756  ]\n",
      "   ...\n",
      "   [ 93.7019     107.7019     108.7019    ]\n",
      "   [ 95.73463    109.73463    110.73463   ]\n",
      "   [ 81.3563      95.3563      96.3563    ]]\n",
      "\n",
      "  [[ 17.549107    23.549107    22.450893  ]\n",
      "   [ 17.581314    23.581314    22.483099  ]\n",
      "   [ 16.43144     22.43144     21.333227  ]\n",
      "   ...\n",
      "   [ 79.003235    93.003235    94.003235  ]\n",
      "   [ 82.74364     96.74364     97.74364   ]\n",
      "   [ 84.740135    98.740135    99.740135  ]]\n",
      "\n",
      "  [[ 19.830357    25.830357    23.830357  ]\n",
      "   [ 19.830357    25.830357    23.830357  ]\n",
      "   [ 18.61607     24.61607     22.61607   ]\n",
      "   ...\n",
      "   [ 77.119545    91.119545    92.119545  ]\n",
      "   [ 71.41679     85.41679     86.41679   ]\n",
      "   [ 76.46534     90.46534     91.46534   ]]\n",
      "\n",
      "  ...\n",
      "\n",
      "  [[ 79.24846     74.24846     68.24846   ]\n",
      "   [ 76.32465     71.32465     65.32465   ]\n",
      "   [ 76.18348     71.464424    64.62159   ]\n",
      "   ...\n",
      "   [246.         251.         245.        ]\n",
      "   [246.         251.         245.        ]\n",
      "   [246.         251.         245.        ]]\n",
      "\n",
      "  [[ 81.96078     76.96078     70.96078   ]\n",
      "   [ 80.0893      74.18751     67.28571   ]\n",
      "   [ 82.07716     76.72447     68.17537   ]\n",
      "   ...\n",
      "   [245.5491     250.5491     244.5491    ]\n",
      "   [246.03221    251.03221    245.03221   ]\n",
      "   [246.         251.         245.        ]]\n",
      "\n",
      "  [[ 81.183014    76.183014    70.183014  ]\n",
      "   [ 80.65174     73.65174     65.65174   ]\n",
      "   [ 79.93045     72.580315    64.40524   ]\n",
      "   ...\n",
      "   [245.         250.         244.        ]\n",
      "   [246.07144    251.07144    245.07144   ]\n",
      "   [246.         251.         245.        ]]]\n",
      "\n",
      "\n",
      " [[[ 30.07653     27.07653     20.07653   ]\n",
      "   [ 25.163265    24.163265    19.163265  ]\n",
      "   [ 29.061224    28.27551     24.704082  ]\n",
      "   ...\n",
      "   [158.21933    143.21933    110.21934   ]\n",
      "   [152.14287    137.14287    105.33673   ]\n",
      "   [153.10197    138.10197    105.92847   ]]\n",
      "\n",
      "  [[ 26.67347     23.67347     18.67347   ]\n",
      "   [ 25.510206    24.510206    19.510206  ]\n",
      "   [ 30.760202    29.97449     26.40306   ]\n",
      "   ...\n",
      "   [160.47453    145.47453    116.33167   ]\n",
      "   [152.72957    137.72957    108.71936   ]\n",
      "   [152.07143    137.07143    108.0204    ]]\n",
      "\n",
      "  [[ 31.795918    29.224491    24.438776  ]\n",
      "   [ 28.571426    27.571426    24.        ]\n",
      "   [ 20.857143    20.857143    19.62245   ]\n",
      "   ...\n",
      "   [151.94397    136.3266     109.08686   ]\n",
      "   [152.6735     136.94391    110.102036  ]\n",
      "   [154.71936    139.21428    111.57643   ]]\n",
      "\n",
      "  ...\n",
      "\n",
      "  [[ 99.07147    111.285736    27.714264  ]\n",
      "   [ 92.18368    105.12755     23.127552  ]\n",
      "   [ 86.57143    100.29079     19.999977  ]\n",
      "   ...\n",
      "   [168.9336     139.76524     99.765236  ]\n",
      "   [163.05614    135.05614     95.05614   ]\n",
      "   [167.49976    142.49976    101.499756  ]]\n",
      "\n",
      "  [[ 99.62249    108.62249     25.622484  ]\n",
      "   [ 96.867325   108.867325    24.867323  ]\n",
      "   [ 89.86226    102.775505    21.219389  ]\n",
      "   ...\n",
      "   [172.55623    143.55623     99.55623   ]\n",
      "   [164.20923    137.20923     94.20922   ]\n",
      "   [167.31116    143.31116     99.311165  ]]\n",
      "\n",
      "  [[104.24491    113.24491     30.244907  ]\n",
      "   [ 99.617485   108.617485    25.617483  ]\n",
      "   [ 92.54599    103.489784    22.413279  ]\n",
      "   ...\n",
      "   [171.29582    143.29582     96.29582   ]\n",
      "   [167.05104    140.05104     95.05103   ]\n",
      "   [168.87242    144.87242    100.87242   ]]]\n",
      "\n",
      "\n",
      " [[[ 77.22959     51.22959     36.22959   ]\n",
      "   [ 75.40306     49.40306     34.40306   ]\n",
      "   [ 76.78062     50.780613    35.780613  ]\n",
      "   ...\n",
      "   [218.64293    200.64293    164.2144    ]\n",
      "   [216.40308    198.40308    162.40308   ]\n",
      "   [221.08669    203.08669    167.08669   ]]\n",
      "\n",
      "  [[ 78.02551     52.02551     37.02551   ]\n",
      "   [ 77.          51.          36.        ]\n",
      "   [ 76.81632     50.816326    35.816326  ]\n",
      "   ...\n",
      "   [220.25517    202.25517    164.25517   ]\n",
      "   [216.44899    198.44899    162.44899   ]\n",
      "   [221.12238    203.12238    167.12238   ]]\n",
      "\n",
      "  [[ 75.71939     52.719387    34.719387  ]\n",
      "   [ 76.78571     53.785713    35.785713  ]\n",
      "   [ 72.66326     49.663265    31.663265  ]\n",
      "   ...\n",
      "   [218.02556    200.02556    161.59698   ]\n",
      "   [210.70407    192.70407    154.2755    ]\n",
      "   [210.51518    192.51518    154.51518   ]]\n",
      "\n",
      "  ...\n",
      "\n",
      "  [[158.42859    144.42859    107.4286    ]\n",
      "   [159.51535    145.51535    108.51535   ]\n",
      "   [159.4031     145.4031     108.4031    ]\n",
      "   ...\n",
      "   [135.34216     99.535934    55.153313  ]\n",
      "   [141.592      105.13273     60.14804   ]\n",
      "   [142.63268    104.84694     59.423378  ]]\n",
      "\n",
      "  [[153.59692    140.59692    105.59693   ]\n",
      "   [154.9949     141.9949     106.994896  ]\n",
      "   [156.         143.         108.        ]\n",
      "   ...\n",
      "   [142.05614    100.94386     55.        ]\n",
      "   [142.21942     99.347       53.938766  ]\n",
      "   [147.89803    105.75514     57.82658   ]]\n",
      "\n",
      "  [[151.69888    138.69888    103.69889   ]\n",
      "   [153.85704    140.85704    105.85704   ]\n",
      "   [155.005      142.005      107.005005  ]\n",
      "   ...\n",
      "   [145.92847    102.14273     55.57126   ]\n",
      "   [147.44902    102.64282     54.836617  ]\n",
      "   [146.25516    100.25515     51.255154  ]]]\n",
      "\n",
      "\n",
      " ...\n",
      "\n",
      "\n",
      " [[[193.12755     87.12755     39.12755   ]\n",
      "   [197.31122     89.311226    42.311226  ]\n",
      "   [199.42857     91.42857     44.428574  ]\n",
      "   ...\n",
      "   [ 43.642857    12.285649     0.        ]\n",
      "   [ 39.954075     7.9540734    0.        ]\n",
      "   [ 39.714287     6.714286     0.        ]]\n",
      "\n",
      "  [[188.38266     81.38265     35.382652  ]\n",
      "   [192.93367     85.93368     39.933674  ]\n",
      "   [196.57143     88.57143     42.57143   ]\n",
      "   ...\n",
      "   [ 43.428528    14.428528     0.39791882]\n",
      "   [ 40.78569      7.8520136    0.        ]\n",
      "   [ 37.928574     4.9285717    0.        ]]\n",
      "\n",
      "  [[181.14285     76.29082     32.714287  ]\n",
      "   [184.64285     80.01531     35.642853  ]\n",
      "   [188.57143     81.78571     38.214287  ]\n",
      "   ...\n",
      "   [ 37.096943     7.3112288    0.        ]\n",
      "   [ 38.841846     7.841847     3.3979928 ]\n",
      "   [ 39.785713     8.785714     6.        ]]\n",
      "\n",
      "  ...\n",
      "\n",
      "  [[179.87743     84.86213     52.510124  ]\n",
      "   [177.62749     84.30098     51.142838  ]\n",
      "   [179.05106     88.40826     54.40826   ]\n",
      "   ...\n",
      "   [120.30608     53.73461     26.688702  ]\n",
      "   [118.50009     51.92862     24.714355  ]\n",
      "   [124.50527     57.9338      30.719536  ]]\n",
      "\n",
      "  [[179.59172     88.73459     57.66315   ]\n",
      "   [174.79071     85.85708     53.857063  ]\n",
      "   [172.0152      86.15809     53.086643  ]\n",
      "   ...\n",
      "   [126.04598     56.688774    30.688774  ]\n",
      "   [127.51012     57.510117    31.510117  ]\n",
      "   [125.97959     55.97959     29.979593  ]]\n",
      "\n",
      "  [[164.22986     78.22986     45.22986   ]\n",
      "   [168.11761     84.02579     50.07171   ]\n",
      "   [168.77571     86.00532     52.357353  ]\n",
      "   ...\n",
      "   [125.6225      54.051025    29.051025  ]\n",
      "   [123.04601     51.046017    26.046017  ]\n",
      "   [125.10203     53.102024    28.102026  ]]]\n",
      "\n",
      "\n",
      " [[[177.26021    104.26021     36.260204  ]\n",
      "   [178.05103    104.05102     39.05102   ]\n",
      "   [177.44897    103.44898     38.877552  ]\n",
      "   ...\n",
      "   [152.64793    118.64793     83.2194    ]\n",
      "   [148.14287    113.14287     81.14287   ]\n",
      "   [147.71422    112.71422     80.71422   ]]\n",
      "\n",
      "  [[183.28572    110.28572     42.285713  ]\n",
      "   [180.78572    107.78572     39.785717  ]\n",
      "   [184.15817    110.94387     43.586735  ]\n",
      "   ...\n",
      "   [164.65814    130.65814     95.229614  ]\n",
      "   [156.36732    122.367325    87.367325  ]\n",
      "   [152.9285     118.928505    83.928505  ]]\n",
      "\n",
      "  [[180.29082    107.29082     38.290817  ]\n",
      "   [180.7296     107.72959     38.729595  ]\n",
      "   [182.21428    109.21429     40.382652  ]\n",
      "   ...\n",
      "   [180.09694    145.88266    108.66837   ]\n",
      "   [171.01529    136.801       99.49996   ]\n",
      "   [168.0765     133.86221     96.21422   ]]\n",
      "\n",
      "  ...\n",
      "\n",
      "  [[141.19405     85.62257     38.83683   ]\n",
      "   [136.82655     82.65819     36.71431   ]\n",
      "   [136.3011      82.515366    37.28064   ]\n",
      "   ...\n",
      "   [214.3777     191.3318     160.46953   ]\n",
      "   [217.74496    193.1735     162.1735    ]\n",
      "   [221.35204    196.78056    165.78056   ]]\n",
      "\n",
      "  [[143.54594     85.545944    39.545937  ]\n",
      "   [141.93367     85.65814     38.795906  ]\n",
      "   [142.11731     85.71423     40.515255  ]\n",
      "   ...\n",
      "   [219.6123     195.04083    164.04083   ]\n",
      "   [217.27046    192.27046    161.27046   ]\n",
      "   [220.8317     196.8317     162.8317    ]]\n",
      "\n",
      "  [[154.69913     96.699135    48.69913   ]\n",
      "   [146.18887     88.18887     42.188877  ]\n",
      "   [141.5666      84.79103     38.500244  ]\n",
      "   ...\n",
      "   [217.301      192.72952    161.72952   ]\n",
      "   [222.71925    198.71925    164.71925   ]\n",
      "   [219.32669    195.32669    161.32669   ]]]\n",
      "\n",
      "\n",
      " [[[228.84184    199.84184    185.84184   ]\n",
      "   [227.7857     198.7857     182.7857    ]\n",
      "   [224.42348    195.42348    179.42348   ]\n",
      "   ...\n",
      "   [230.41837    219.41837    213.41837   ]\n",
      "   [230.35715    221.35715    214.35715   ]\n",
      "   [230.87247    221.87247    214.87247   ]]\n",
      "\n",
      "  [[229.92857    200.92857    184.92857   ]\n",
      "   [229.92857    200.92857    183.20407   ]\n",
      "   [228.64287    199.64287    181.64287   ]\n",
      "   ...\n",
      "   [229.42853    220.         213.21426   ]\n",
      "   [230.00002    221.00002    214.00002   ]\n",
      "   [233.31126    224.31126    217.31126   ]]\n",
      "\n",
      "  [[226.85713    199.9949     179.28061   ]\n",
      "   [229.14285    201.57143    180.14285   ]\n",
      "   [230.26021    202.59694    181.21428   ]\n",
      "   ...\n",
      "   [231.04593    222.04593    215.04593   ]\n",
      "   [231.78572    222.78572    215.78572   ]\n",
      "   [230.50508    221.93364    214.71936   ]]\n",
      "\n",
      "  ...\n",
      "\n",
      "  [[223.49998    203.07146    153.28572   ]\n",
      "   [232.92856    210.92856    160.92856   ]\n",
      "   [231.3112     209.97446    155.14284   ]\n",
      "   ...\n",
      "   [132.40312     91.66329     39.188854  ]\n",
      "   [130.77043     87.77043     36.3419    ]\n",
      "   [132.28583     89.28583     37.8573    ]]\n",
      "\n",
      "  [[225.07144    205.07144    155.07144   ]\n",
      "   [227.93367    205.93367    155.93367   ]\n",
      "   [223.42859    200.00002    146.11227   ]\n",
      "   ...\n",
      "   [130.96945     89.540855    39.41334   ]\n",
      "   [130.29086     88.29087     38.29087   ]\n",
      "   [138.28586     94.28586     45.28586   ]]\n",
      "\n",
      "  [[230.1991     210.1991     160.1991    ]\n",
      "   [228.12245    206.12245    156.12245   ]\n",
      "   [222.28561    198.85704    146.42847   ]\n",
      "   ...\n",
      "   [133.27553     93.704056    44.857117  ]\n",
      "   [134.59178     92.59179     42.59179   ]\n",
      "   [136.03049     92.030495    43.03049   ]]]], shape=(32, 224, 224, 3), dtype=float32) tf.Tensor(\n",
      "[[0. 0. 0. 0. 1. 0. 0. 0. 0. 0.]\n",
      " [0. 1. 0. 0. 0. 0. 0. 0. 0. 0.]\n",
      " [0. 0. 0. 1. 0. 0. 0. 0. 0. 0.]\n",
      " [1. 0. 0. 0. 0. 0. 0. 0. 0. 0.]\n",
      " [1. 0. 0. 0. 0. 0. 0. 0. 0. 0.]\n",
      " [0. 0. 0. 0. 0. 0. 0. 1. 0. 0.]\n",
      " [0. 0. 0. 0. 0. 1. 0. 0. 0. 0.]\n",
      " [0. 0. 0. 0. 0. 0. 0. 0. 1. 0.]\n",
      " [1. 0. 0. 0. 0. 0. 0. 0. 0. 0.]\n",
      " [0. 0. 0. 0. 0. 0. 0. 1. 0. 0.]\n",
      " [0. 1. 0. 0. 0. 0. 0. 0. 0. 0.]\n",
      " [0. 0. 0. 0. 0. 1. 0. 0. 0. 0.]\n",
      " [0. 0. 0. 1. 0. 0. 0. 0. 0. 0.]\n",
      " [0. 0. 0. 1. 0. 0. 0. 0. 0. 0.]\n",
      " [0. 0. 0. 0. 0. 0. 0. 0. 1. 0.]\n",
      " [0. 0. 0. 0. 0. 1. 0. 0. 0. 0.]\n",
      " [0. 0. 0. 0. 0. 0. 0. 1. 0. 0.]\n",
      " [0. 1. 0. 0. 0. 0. 0. 0. 0. 0.]\n",
      " [0. 0. 0. 0. 0. 1. 0. 0. 0. 0.]\n",
      " [0. 0. 0. 0. 1. 0. 0. 0. 0. 0.]\n",
      " [0. 0. 0. 0. 1. 0. 0. 0. 0. 0.]\n",
      " [0. 0. 1. 0. 0. 0. 0. 0. 0. 0.]\n",
      " [1. 0. 0. 0. 0. 0. 0. 0. 0. 0.]\n",
      " [1. 0. 0. 0. 0. 0. 0. 0. 0. 0.]\n",
      " [0. 0. 1. 0. 0. 0. 0. 0. 0. 0.]\n",
      " [0. 0. 0. 0. 0. 0. 0. 1. 0. 0.]\n",
      " [0. 0. 0. 0. 0. 0. 0. 1. 0. 0.]\n",
      " [0. 1. 0. 0. 0. 0. 0. 0. 0. 0.]\n",
      " [0. 0. 0. 0. 0. 0. 0. 0. 0. 1.]\n",
      " [0. 0. 0. 0. 0. 0. 0. 1. 0. 0.]\n",
      " [0. 0. 0. 0. 0. 0. 0. 0. 0. 1.]\n",
      " [0. 0. 1. 0. 0. 0. 0. 0. 0. 0.]], shape=(32, 10), dtype=float32)\n"
     ]
    }
   ],
   "source": [
    "# See an example of a batch of data \n",
    "for images, labels in train_data_10_percent.take(1):\n",
    "    print(images, labels)"
   ]
  },
  {
   "cell_type": "markdown",
   "id": "7b217afe",
   "metadata": {},
   "source": [
    "## Model 0 : Building a transfer learning feature extraction model using the Keras Functional API\n",
    "\n",
    "The sequential API is straight-forward, it runs our layers in sequentail order.\n",
    "\n",
    "But the fucntional API gives us more flexiblity of our models - https://www.tensorflow.org/guide/keras/functional"
   ]
  },
  {
   "cell_type": "code",
   "execution_count": 18,
   "id": "72c326dd",
   "metadata": {},
   "outputs": [
    {
     "name": "stdout",
     "output_type": "stream",
     "text": [
      "Shape after passing inputs through base model: (None, 7, 7, 1280)\n",
      "Shape after GlobalAveragePooling2D: (None, 1280)\n",
      "Saving TensorBoard log files to: transfer_learning/10_percent_feature_extraction/20220630-145337\n"
     ]
    },
    {
     "name": "stderr",
     "output_type": "stream",
     "text": [
      "C:\\Users\\LENOVO\\miniconda3\\envs\\tensorflow\\lib\\site-packages\\keras\\utils\\generic_utils.py:497: CustomMaskWarning: Custom mask layers require a config and must override get_config. When loading, the custom mask layer must be passed to the custom_objects argument.\n",
      "  category=CustomMaskWarning)\n"
     ]
    },
    {
     "name": "stdout",
     "output_type": "stream",
     "text": [
      "Epoch 1/5\n",
      "24/24 [==============================] - 16s 268ms/step - loss: 1.9465 - accuracy: 0.3653 - val_loss: 1.3943 - val_accuracy: 0.6776\n",
      "Epoch 2/5\n",
      "24/24 [==============================] - 4s 177ms/step - loss: 1.1660 - accuracy: 0.7360 - val_loss: 0.9170 - val_accuracy: 0.8109\n",
      "Epoch 3/5\n",
      "24/24 [==============================] - 4s 177ms/step - loss: 0.8510 - accuracy: 0.8080 - val_loss: 0.7460 - val_accuracy: 0.8355\n",
      "Epoch 4/5\n",
      "24/24 [==============================] - 4s 177ms/step - loss: 0.6959 - accuracy: 0.8307 - val_loss: 0.6566 - val_accuracy: 0.8174\n",
      "Epoch 5/5\n",
      "24/24 [==============================] - 4s 178ms/step - loss: 0.6005 - accuracy: 0.8493 - val_loss: 0.6037 - val_accuracy: 0.8339\n"
     ]
    }
   ],
   "source": [
    "# 1. Create base model with tf.keras.applications\n",
    "base_model = tf.keras.applications.EfficientNetB0(include_top=False)\n",
    "\n",
    "# 2. Freeze the base model (so the underlying  pre-trained patterns aren't updated during training)\n",
    "base_model.trainable = False\n",
    "\n",
    "# 3. Create input into our model\n",
    "inputs = tf.keras.layers.Input(shape=(224, 224, 3), name=\"input_layer\")\n",
    "\n",
    "# 4.If using model like ResNet50V2 you will need to normalize inputs (you don't have to for EfficientNet's)\n",
    "# x = tf.keras.layers.experimental.preprocessing.Rescaling(1/255.)(inputs)\n",
    "\n",
    "# 5. Pass the inputs to the base_model\n",
    "x = base_model(inputs)\n",
    "print(f\"Shape after passing inputs through base model: {x.shape}\")\n",
    "\n",
    "# 6. Average pool the outputs of the base model (aggregate all the most important information, reduce number of computations )\n",
    "x = tf.keras.layers.GlobalAveragePooling2D(name=\"global_average_pooling_layer\")(x)\n",
    "print(f\"Shape after GlobalAveragePooling2D: {x.shape}\")\n",
    "\n",
    "# 7. Create the output activation layer\n",
    "outputs = tf.keras.layers.Dense(10, activation=\"softmax\", name=\"output_layer\")(x)\n",
    "\n",
    "# 8. Combine the inputs with the output into a model\n",
    "model_0 = tf.keras.Model(inputs, outputs)\n",
    "\n",
    "# 9. Compile for the model\n",
    "model_0.compile(loss=\"categorical_crossentropy\",\n",
    "               optimizer=tf.keras.optimizers.Adam(),\n",
    "               metrics=[\"accuracy\"])\n",
    "\n",
    "# 10. Fit the model and save its history\n",
    "history_10_percent = model_0.fit(train_data_10_percent,\n",
    "                                epochs=5,\n",
    "                                steps_per_epoch=len(train_data_10_percent),\n",
    "                                validation_data=test_data,\n",
    "                                validation_steps=int(0.25 * len(test_data)), # 25% of test_data\n",
    "                                callbacks=[create_tensorboard_callback(dir_name=\"transfer_learning\",\n",
    "                                                                      experiment_name=\"10_percent_feature_extraction\")])"
   ]
  },
  {
   "cell_type": "code",
   "execution_count": 19,
   "id": "69b5f350",
   "metadata": {},
   "outputs": [
    {
     "name": "stdout",
     "output_type": "stream",
     "text": [
      "79/79 [==============================] - 9s 105ms/step - loss: 0.6249 - accuracy: 0.8348\n"
     ]
    },
    {
     "data": {
      "text/plain": [
       "[0.6248597502708435, 0.8348000049591064]"
      ]
     },
     "execution_count": 19,
     "metadata": {},
     "output_type": "execute_result"
    }
   ],
   "source": [
    "# Evaluate on the full test dataset\n",
    "model_0.evaluate(test_data)"
   ]
  },
  {
   "cell_type": "code",
   "execution_count": 20,
   "id": "cd7496f7",
   "metadata": {},
   "outputs": [
    {
     "name": "stdout",
     "output_type": "stream",
     "text": [
      "0 input_2\n",
      "1 rescaling_1\n",
      "2 normalization_1\n",
      "3 stem_conv_pad\n",
      "4 stem_conv\n",
      "5 stem_bn\n",
      "6 stem_activation\n",
      "7 block1a_dwconv\n",
      "8 block1a_bn\n",
      "9 block1a_activation\n",
      "10 block1a_se_squeeze\n",
      "11 block1a_se_reshape\n",
      "12 block1a_se_reduce\n",
      "13 block1a_se_expand\n",
      "14 block1a_se_excite\n",
      "15 block1a_project_conv\n",
      "16 block1a_project_bn\n",
      "17 block2a_expand_conv\n",
      "18 block2a_expand_bn\n",
      "19 block2a_expand_activation\n",
      "20 block2a_dwconv_pad\n",
      "21 block2a_dwconv\n",
      "22 block2a_bn\n",
      "23 block2a_activation\n",
      "24 block2a_se_squeeze\n",
      "25 block2a_se_reshape\n",
      "26 block2a_se_reduce\n",
      "27 block2a_se_expand\n",
      "28 block2a_se_excite\n",
      "29 block2a_project_conv\n",
      "30 block2a_project_bn\n",
      "31 block2b_expand_conv\n",
      "32 block2b_expand_bn\n",
      "33 block2b_expand_activation\n",
      "34 block2b_dwconv\n",
      "35 block2b_bn\n",
      "36 block2b_activation\n",
      "37 block2b_se_squeeze\n",
      "38 block2b_se_reshape\n",
      "39 block2b_se_reduce\n",
      "40 block2b_se_expand\n",
      "41 block2b_se_excite\n",
      "42 block2b_project_conv\n",
      "43 block2b_project_bn\n",
      "44 block2b_drop\n",
      "45 block2b_add\n",
      "46 block3a_expand_conv\n",
      "47 block3a_expand_bn\n",
      "48 block3a_expand_activation\n",
      "49 block3a_dwconv_pad\n",
      "50 block3a_dwconv\n",
      "51 block3a_bn\n",
      "52 block3a_activation\n",
      "53 block3a_se_squeeze\n",
      "54 block3a_se_reshape\n",
      "55 block3a_se_reduce\n",
      "56 block3a_se_expand\n",
      "57 block3a_se_excite\n",
      "58 block3a_project_conv\n",
      "59 block3a_project_bn\n",
      "60 block3b_expand_conv\n",
      "61 block3b_expand_bn\n",
      "62 block3b_expand_activation\n",
      "63 block3b_dwconv\n",
      "64 block3b_bn\n",
      "65 block3b_activation\n",
      "66 block3b_se_squeeze\n",
      "67 block3b_se_reshape\n",
      "68 block3b_se_reduce\n",
      "69 block3b_se_expand\n",
      "70 block3b_se_excite\n",
      "71 block3b_project_conv\n",
      "72 block3b_project_bn\n",
      "73 block3b_drop\n",
      "74 block3b_add\n",
      "75 block4a_expand_conv\n",
      "76 block4a_expand_bn\n",
      "77 block4a_expand_activation\n",
      "78 block4a_dwconv_pad\n",
      "79 block4a_dwconv\n",
      "80 block4a_bn\n",
      "81 block4a_activation\n",
      "82 block4a_se_squeeze\n",
      "83 block4a_se_reshape\n",
      "84 block4a_se_reduce\n",
      "85 block4a_se_expand\n",
      "86 block4a_se_excite\n",
      "87 block4a_project_conv\n",
      "88 block4a_project_bn\n",
      "89 block4b_expand_conv\n",
      "90 block4b_expand_bn\n",
      "91 block4b_expand_activation\n",
      "92 block4b_dwconv\n",
      "93 block4b_bn\n",
      "94 block4b_activation\n",
      "95 block4b_se_squeeze\n",
      "96 block4b_se_reshape\n",
      "97 block4b_se_reduce\n",
      "98 block4b_se_expand\n",
      "99 block4b_se_excite\n",
      "100 block4b_project_conv\n",
      "101 block4b_project_bn\n",
      "102 block4b_drop\n",
      "103 block4b_add\n",
      "104 block4c_expand_conv\n",
      "105 block4c_expand_bn\n",
      "106 block4c_expand_activation\n",
      "107 block4c_dwconv\n",
      "108 block4c_bn\n",
      "109 block4c_activation\n",
      "110 block4c_se_squeeze\n",
      "111 block4c_se_reshape\n",
      "112 block4c_se_reduce\n",
      "113 block4c_se_expand\n",
      "114 block4c_se_excite\n",
      "115 block4c_project_conv\n",
      "116 block4c_project_bn\n",
      "117 block4c_drop\n",
      "118 block4c_add\n",
      "119 block5a_expand_conv\n",
      "120 block5a_expand_bn\n",
      "121 block5a_expand_activation\n",
      "122 block5a_dwconv\n",
      "123 block5a_bn\n",
      "124 block5a_activation\n",
      "125 block5a_se_squeeze\n",
      "126 block5a_se_reshape\n",
      "127 block5a_se_reduce\n",
      "128 block5a_se_expand\n",
      "129 block5a_se_excite\n",
      "130 block5a_project_conv\n",
      "131 block5a_project_bn\n",
      "132 block5b_expand_conv\n",
      "133 block5b_expand_bn\n",
      "134 block5b_expand_activation\n",
      "135 block5b_dwconv\n",
      "136 block5b_bn\n",
      "137 block5b_activation\n",
      "138 block5b_se_squeeze\n",
      "139 block5b_se_reshape\n",
      "140 block5b_se_reduce\n",
      "141 block5b_se_expand\n",
      "142 block5b_se_excite\n",
      "143 block5b_project_conv\n",
      "144 block5b_project_bn\n",
      "145 block5b_drop\n",
      "146 block5b_add\n",
      "147 block5c_expand_conv\n",
      "148 block5c_expand_bn\n",
      "149 block5c_expand_activation\n",
      "150 block5c_dwconv\n",
      "151 block5c_bn\n",
      "152 block5c_activation\n",
      "153 block5c_se_squeeze\n",
      "154 block5c_se_reshape\n",
      "155 block5c_se_reduce\n",
      "156 block5c_se_expand\n",
      "157 block5c_se_excite\n",
      "158 block5c_project_conv\n",
      "159 block5c_project_bn\n",
      "160 block5c_drop\n",
      "161 block5c_add\n",
      "162 block6a_expand_conv\n",
      "163 block6a_expand_bn\n",
      "164 block6a_expand_activation\n",
      "165 block6a_dwconv_pad\n",
      "166 block6a_dwconv\n",
      "167 block6a_bn\n",
      "168 block6a_activation\n",
      "169 block6a_se_squeeze\n",
      "170 block6a_se_reshape\n",
      "171 block6a_se_reduce\n",
      "172 block6a_se_expand\n",
      "173 block6a_se_excite\n",
      "174 block6a_project_conv\n",
      "175 block6a_project_bn\n",
      "176 block6b_expand_conv\n",
      "177 block6b_expand_bn\n",
      "178 block6b_expand_activation\n",
      "179 block6b_dwconv\n",
      "180 block6b_bn\n",
      "181 block6b_activation\n",
      "182 block6b_se_squeeze\n",
      "183 block6b_se_reshape\n",
      "184 block6b_se_reduce\n",
      "185 block6b_se_expand\n",
      "186 block6b_se_excite\n",
      "187 block6b_project_conv\n",
      "188 block6b_project_bn\n",
      "189 block6b_drop\n",
      "190 block6b_add\n",
      "191 block6c_expand_conv\n",
      "192 block6c_expand_bn\n",
      "193 block6c_expand_activation\n",
      "194 block6c_dwconv\n",
      "195 block6c_bn\n",
      "196 block6c_activation\n",
      "197 block6c_se_squeeze\n",
      "198 block6c_se_reshape\n",
      "199 block6c_se_reduce\n",
      "200 block6c_se_expand\n",
      "201 block6c_se_excite\n",
      "202 block6c_project_conv\n",
      "203 block6c_project_bn\n",
      "204 block6c_drop\n",
      "205 block6c_add\n",
      "206 block6d_expand_conv\n",
      "207 block6d_expand_bn\n",
      "208 block6d_expand_activation\n",
      "209 block6d_dwconv\n",
      "210 block6d_bn\n",
      "211 block6d_activation\n",
      "212 block6d_se_squeeze\n",
      "213 block6d_se_reshape\n",
      "214 block6d_se_reduce\n",
      "215 block6d_se_expand\n",
      "216 block6d_se_excite\n",
      "217 block6d_project_conv\n",
      "218 block6d_project_bn\n",
      "219 block6d_drop\n",
      "220 block6d_add\n",
      "221 block7a_expand_conv\n",
      "222 block7a_expand_bn\n",
      "223 block7a_expand_activation\n",
      "224 block7a_dwconv\n",
      "225 block7a_bn\n",
      "226 block7a_activation\n",
      "227 block7a_se_squeeze\n",
      "228 block7a_se_reshape\n",
      "229 block7a_se_reduce\n",
      "230 block7a_se_expand\n",
      "231 block7a_se_excite\n",
      "232 block7a_project_conv\n",
      "233 block7a_project_bn\n",
      "234 top_conv\n",
      "235 top_bn\n",
      "236 top_activation\n"
     ]
    }
   ],
   "source": [
    "# Check the layers in our base model\n",
    "for layer_number, layer in enumerate(base_model.layers):\n",
    "    print(layer_number, layer.name)"
   ]
  },
  {
   "cell_type": "code",
   "execution_count": 21,
   "id": "f19606ba",
   "metadata": {},
   "outputs": [
    {
     "name": "stdout",
     "output_type": "stream",
     "text": [
      "Model: \"efficientnetb0\"\n",
      "__________________________________________________________________________________________________\n",
      "Layer (type)                    Output Shape         Param #     Connected to                     \n",
      "==================================================================================================\n",
      "input_2 (InputLayer)            [(None, None, None,  0                                            \n",
      "__________________________________________________________________________________________________\n",
      "rescaling_1 (Rescaling)         (None, None, None, 3 0           input_2[0][0]                    \n",
      "__________________________________________________________________________________________________\n",
      "normalization_1 (Normalization) (None, None, None, 3 7           rescaling_1[0][0]                \n",
      "__________________________________________________________________________________________________\n",
      "stem_conv_pad (ZeroPadding2D)   (None, None, None, 3 0           normalization_1[0][0]            \n",
      "__________________________________________________________________________________________________\n",
      "stem_conv (Conv2D)              (None, None, None, 3 864         stem_conv_pad[0][0]              \n",
      "__________________________________________________________________________________________________\n",
      "stem_bn (BatchNormalization)    (None, None, None, 3 128         stem_conv[0][0]                  \n",
      "__________________________________________________________________________________________________\n",
      "stem_activation (Activation)    (None, None, None, 3 0           stem_bn[0][0]                    \n",
      "__________________________________________________________________________________________________\n",
      "block1a_dwconv (DepthwiseConv2D (None, None, None, 3 288         stem_activation[0][0]            \n",
      "__________________________________________________________________________________________________\n",
      "block1a_bn (BatchNormalization) (None, None, None, 3 128         block1a_dwconv[0][0]             \n",
      "__________________________________________________________________________________________________\n",
      "block1a_activation (Activation) (None, None, None, 3 0           block1a_bn[0][0]                 \n",
      "__________________________________________________________________________________________________\n",
      "block1a_se_squeeze (GlobalAvera (None, 32)           0           block1a_activation[0][0]         \n",
      "__________________________________________________________________________________________________\n",
      "block1a_se_reshape (Reshape)    (None, 1, 1, 32)     0           block1a_se_squeeze[0][0]         \n",
      "__________________________________________________________________________________________________\n",
      "block1a_se_reduce (Conv2D)      (None, 1, 1, 8)      264         block1a_se_reshape[0][0]         \n",
      "__________________________________________________________________________________________________\n",
      "block1a_se_expand (Conv2D)      (None, 1, 1, 32)     288         block1a_se_reduce[0][0]          \n",
      "__________________________________________________________________________________________________\n",
      "block1a_se_excite (Multiply)    (None, None, None, 3 0           block1a_activation[0][0]         \n",
      "                                                                 block1a_se_expand[0][0]          \n",
      "__________________________________________________________________________________________________\n",
      "block1a_project_conv (Conv2D)   (None, None, None, 1 512         block1a_se_excite[0][0]          \n",
      "__________________________________________________________________________________________________\n",
      "block1a_project_bn (BatchNormal (None, None, None, 1 64          block1a_project_conv[0][0]       \n",
      "__________________________________________________________________________________________________\n",
      "block2a_expand_conv (Conv2D)    (None, None, None, 9 1536        block1a_project_bn[0][0]         \n",
      "__________________________________________________________________________________________________\n",
      "block2a_expand_bn (BatchNormali (None, None, None, 9 384         block2a_expand_conv[0][0]        \n",
      "__________________________________________________________________________________________________\n",
      "block2a_expand_activation (Acti (None, None, None, 9 0           block2a_expand_bn[0][0]          \n",
      "__________________________________________________________________________________________________\n",
      "block2a_dwconv_pad (ZeroPadding (None, None, None, 9 0           block2a_expand_activation[0][0]  \n",
      "__________________________________________________________________________________________________\n",
      "block2a_dwconv (DepthwiseConv2D (None, None, None, 9 864         block2a_dwconv_pad[0][0]         \n",
      "__________________________________________________________________________________________________\n",
      "block2a_bn (BatchNormalization) (None, None, None, 9 384         block2a_dwconv[0][0]             \n",
      "__________________________________________________________________________________________________\n",
      "block2a_activation (Activation) (None, None, None, 9 0           block2a_bn[0][0]                 \n",
      "__________________________________________________________________________________________________\n",
      "block2a_se_squeeze (GlobalAvera (None, 96)           0           block2a_activation[0][0]         \n",
      "__________________________________________________________________________________________________\n",
      "block2a_se_reshape (Reshape)    (None, 1, 1, 96)     0           block2a_se_squeeze[0][0]         \n",
      "__________________________________________________________________________________________________\n",
      "block2a_se_reduce (Conv2D)      (None, 1, 1, 4)      388         block2a_se_reshape[0][0]         \n",
      "__________________________________________________________________________________________________\n",
      "block2a_se_expand (Conv2D)      (None, 1, 1, 96)     480         block2a_se_reduce[0][0]          \n",
      "__________________________________________________________________________________________________\n",
      "block2a_se_excite (Multiply)    (None, None, None, 9 0           block2a_activation[0][0]         \n",
      "                                                                 block2a_se_expand[0][0]          \n",
      "__________________________________________________________________________________________________\n",
      "block2a_project_conv (Conv2D)   (None, None, None, 2 2304        block2a_se_excite[0][0]          \n",
      "__________________________________________________________________________________________________\n",
      "block2a_project_bn (BatchNormal (None, None, None, 2 96          block2a_project_conv[0][0]       \n",
      "__________________________________________________________________________________________________\n",
      "block2b_expand_conv (Conv2D)    (None, None, None, 1 3456        block2a_project_bn[0][0]         \n",
      "__________________________________________________________________________________________________\n",
      "block2b_expand_bn (BatchNormali (None, None, None, 1 576         block2b_expand_conv[0][0]        \n",
      "__________________________________________________________________________________________________\n",
      "block2b_expand_activation (Acti (None, None, None, 1 0           block2b_expand_bn[0][0]          \n",
      "__________________________________________________________________________________________________\n",
      "block2b_dwconv (DepthwiseConv2D (None, None, None, 1 1296        block2b_expand_activation[0][0]  \n",
      "__________________________________________________________________________________________________\n",
      "block2b_bn (BatchNormalization) (None, None, None, 1 576         block2b_dwconv[0][0]             \n",
      "__________________________________________________________________________________________________\n",
      "block2b_activation (Activation) (None, None, None, 1 0           block2b_bn[0][0]                 \n",
      "__________________________________________________________________________________________________\n",
      "block2b_se_squeeze (GlobalAvera (None, 144)          0           block2b_activation[0][0]         \n",
      "__________________________________________________________________________________________________\n",
      "block2b_se_reshape (Reshape)    (None, 1, 1, 144)    0           block2b_se_squeeze[0][0]         \n",
      "__________________________________________________________________________________________________\n",
      "block2b_se_reduce (Conv2D)      (None, 1, 1, 6)      870         block2b_se_reshape[0][0]         \n",
      "__________________________________________________________________________________________________\n",
      "block2b_se_expand (Conv2D)      (None, 1, 1, 144)    1008        block2b_se_reduce[0][0]          \n",
      "__________________________________________________________________________________________________\n",
      "block2b_se_excite (Multiply)    (None, None, None, 1 0           block2b_activation[0][0]         \n",
      "                                                                 block2b_se_expand[0][0]          \n",
      "__________________________________________________________________________________________________\n",
      "block2b_project_conv (Conv2D)   (None, None, None, 2 3456        block2b_se_excite[0][0]          \n",
      "__________________________________________________________________________________________________\n",
      "block2b_project_bn (BatchNormal (None, None, None, 2 96          block2b_project_conv[0][0]       \n",
      "__________________________________________________________________________________________________\n",
      "block2b_drop (Dropout)          (None, None, None, 2 0           block2b_project_bn[0][0]         \n",
      "__________________________________________________________________________________________________\n",
      "block2b_add (Add)               (None, None, None, 2 0           block2b_drop[0][0]               \n",
      "                                                                 block2a_project_bn[0][0]         \n",
      "__________________________________________________________________________________________________\n",
      "block3a_expand_conv (Conv2D)    (None, None, None, 1 3456        block2b_add[0][0]                \n",
      "__________________________________________________________________________________________________\n",
      "block3a_expand_bn (BatchNormali (None, None, None, 1 576         block3a_expand_conv[0][0]        \n",
      "__________________________________________________________________________________________________\n",
      "block3a_expand_activation (Acti (None, None, None, 1 0           block3a_expand_bn[0][0]          \n",
      "__________________________________________________________________________________________________\n",
      "block3a_dwconv_pad (ZeroPadding (None, None, None, 1 0           block3a_expand_activation[0][0]  \n",
      "__________________________________________________________________________________________________\n",
      "block3a_dwconv (DepthwiseConv2D (None, None, None, 1 3600        block3a_dwconv_pad[0][0]         \n",
      "__________________________________________________________________________________________________\n",
      "block3a_bn (BatchNormalization) (None, None, None, 1 576         block3a_dwconv[0][0]             \n",
      "__________________________________________________________________________________________________\n",
      "block3a_activation (Activation) (None, None, None, 1 0           block3a_bn[0][0]                 \n",
      "__________________________________________________________________________________________________\n",
      "block3a_se_squeeze (GlobalAvera (None, 144)          0           block3a_activation[0][0]         \n",
      "__________________________________________________________________________________________________\n",
      "block3a_se_reshape (Reshape)    (None, 1, 1, 144)    0           block3a_se_squeeze[0][0]         \n",
      "__________________________________________________________________________________________________\n",
      "block3a_se_reduce (Conv2D)      (None, 1, 1, 6)      870         block3a_se_reshape[0][0]         \n",
      "__________________________________________________________________________________________________\n",
      "block3a_se_expand (Conv2D)      (None, 1, 1, 144)    1008        block3a_se_reduce[0][0]          \n",
      "__________________________________________________________________________________________________\n",
      "block3a_se_excite (Multiply)    (None, None, None, 1 0           block3a_activation[0][0]         \n",
      "                                                                 block3a_se_expand[0][0]          \n",
      "__________________________________________________________________________________________________\n",
      "block3a_project_conv (Conv2D)   (None, None, None, 4 5760        block3a_se_excite[0][0]          \n",
      "__________________________________________________________________________________________________\n",
      "block3a_project_bn (BatchNormal (None, None, None, 4 160         block3a_project_conv[0][0]       \n",
      "__________________________________________________________________________________________________\n",
      "block3b_expand_conv (Conv2D)    (None, None, None, 2 9600        block3a_project_bn[0][0]         \n",
      "__________________________________________________________________________________________________\n",
      "block3b_expand_bn (BatchNormali (None, None, None, 2 960         block3b_expand_conv[0][0]        \n",
      "__________________________________________________________________________________________________\n",
      "block3b_expand_activation (Acti (None, None, None, 2 0           block3b_expand_bn[0][0]          \n",
      "__________________________________________________________________________________________________\n",
      "block3b_dwconv (DepthwiseConv2D (None, None, None, 2 6000        block3b_expand_activation[0][0]  \n",
      "__________________________________________________________________________________________________\n",
      "block3b_bn (BatchNormalization) (None, None, None, 2 960         block3b_dwconv[0][0]             \n",
      "__________________________________________________________________________________________________\n",
      "block3b_activation (Activation) (None, None, None, 2 0           block3b_bn[0][0]                 \n",
      "__________________________________________________________________________________________________\n",
      "block3b_se_squeeze (GlobalAvera (None, 240)          0           block3b_activation[0][0]         \n",
      "__________________________________________________________________________________________________\n",
      "block3b_se_reshape (Reshape)    (None, 1, 1, 240)    0           block3b_se_squeeze[0][0]         \n",
      "__________________________________________________________________________________________________\n",
      "block3b_se_reduce (Conv2D)      (None, 1, 1, 10)     2410        block3b_se_reshape[0][0]         \n",
      "__________________________________________________________________________________________________\n",
      "block3b_se_expand (Conv2D)      (None, 1, 1, 240)    2640        block3b_se_reduce[0][0]          \n",
      "__________________________________________________________________________________________________\n",
      "block3b_se_excite (Multiply)    (None, None, None, 2 0           block3b_activation[0][0]         \n",
      "                                                                 block3b_se_expand[0][0]          \n",
      "__________________________________________________________________________________________________\n",
      "block3b_project_conv (Conv2D)   (None, None, None, 4 9600        block3b_se_excite[0][0]          \n",
      "__________________________________________________________________________________________________\n",
      "block3b_project_bn (BatchNormal (None, None, None, 4 160         block3b_project_conv[0][0]       \n",
      "__________________________________________________________________________________________________\n",
      "block3b_drop (Dropout)          (None, None, None, 4 0           block3b_project_bn[0][0]         \n",
      "__________________________________________________________________________________________________\n",
      "block3b_add (Add)               (None, None, None, 4 0           block3b_drop[0][0]               \n",
      "                                                                 block3a_project_bn[0][0]         \n",
      "__________________________________________________________________________________________________\n",
      "block4a_expand_conv (Conv2D)    (None, None, None, 2 9600        block3b_add[0][0]                \n",
      "__________________________________________________________________________________________________\n",
      "block4a_expand_bn (BatchNormali (None, None, None, 2 960         block4a_expand_conv[0][0]        \n",
      "__________________________________________________________________________________________________\n",
      "block4a_expand_activation (Acti (None, None, None, 2 0           block4a_expand_bn[0][0]          \n",
      "__________________________________________________________________________________________________\n",
      "block4a_dwconv_pad (ZeroPadding (None, None, None, 2 0           block4a_expand_activation[0][0]  \n",
      "__________________________________________________________________________________________________\n",
      "block4a_dwconv (DepthwiseConv2D (None, None, None, 2 2160        block4a_dwconv_pad[0][0]         \n",
      "__________________________________________________________________________________________________\n",
      "block4a_bn (BatchNormalization) (None, None, None, 2 960         block4a_dwconv[0][0]             \n",
      "__________________________________________________________________________________________________\n",
      "block4a_activation (Activation) (None, None, None, 2 0           block4a_bn[0][0]                 \n",
      "__________________________________________________________________________________________________\n",
      "block4a_se_squeeze (GlobalAvera (None, 240)          0           block4a_activation[0][0]         \n",
      "__________________________________________________________________________________________________\n",
      "block4a_se_reshape (Reshape)    (None, 1, 1, 240)    0           block4a_se_squeeze[0][0]         \n",
      "__________________________________________________________________________________________________\n",
      "block4a_se_reduce (Conv2D)      (None, 1, 1, 10)     2410        block4a_se_reshape[0][0]         \n",
      "__________________________________________________________________________________________________\n",
      "block4a_se_expand (Conv2D)      (None, 1, 1, 240)    2640        block4a_se_reduce[0][0]          \n",
      "__________________________________________________________________________________________________\n",
      "block4a_se_excite (Multiply)    (None, None, None, 2 0           block4a_activation[0][0]         \n",
      "                                                                 block4a_se_expand[0][0]          \n",
      "__________________________________________________________________________________________________\n",
      "block4a_project_conv (Conv2D)   (None, None, None, 8 19200       block4a_se_excite[0][0]          \n",
      "__________________________________________________________________________________________________\n",
      "block4a_project_bn (BatchNormal (None, None, None, 8 320         block4a_project_conv[0][0]       \n",
      "__________________________________________________________________________________________________\n",
      "block4b_expand_conv (Conv2D)    (None, None, None, 4 38400       block4a_project_bn[0][0]         \n",
      "__________________________________________________________________________________________________\n",
      "block4b_expand_bn (BatchNormali (None, None, None, 4 1920        block4b_expand_conv[0][0]        \n",
      "__________________________________________________________________________________________________\n",
      "block4b_expand_activation (Acti (None, None, None, 4 0           block4b_expand_bn[0][0]          \n",
      "__________________________________________________________________________________________________\n",
      "block4b_dwconv (DepthwiseConv2D (None, None, None, 4 4320        block4b_expand_activation[0][0]  \n",
      "__________________________________________________________________________________________________\n",
      "block4b_bn (BatchNormalization) (None, None, None, 4 1920        block4b_dwconv[0][0]             \n",
      "__________________________________________________________________________________________________\n",
      "block4b_activation (Activation) (None, None, None, 4 0           block4b_bn[0][0]                 \n",
      "__________________________________________________________________________________________________\n",
      "block4b_se_squeeze (GlobalAvera (None, 480)          0           block4b_activation[0][0]         \n",
      "__________________________________________________________________________________________________\n",
      "block4b_se_reshape (Reshape)    (None, 1, 1, 480)    0           block4b_se_squeeze[0][0]         \n",
      "__________________________________________________________________________________________________\n",
      "block4b_se_reduce (Conv2D)      (None, 1, 1, 20)     9620        block4b_se_reshape[0][0]         \n",
      "__________________________________________________________________________________________________\n",
      "block4b_se_expand (Conv2D)      (None, 1, 1, 480)    10080       block4b_se_reduce[0][0]          \n",
      "__________________________________________________________________________________________________\n",
      "block4b_se_excite (Multiply)    (None, None, None, 4 0           block4b_activation[0][0]         \n",
      "                                                                 block4b_se_expand[0][0]          \n",
      "__________________________________________________________________________________________________\n",
      "block4b_project_conv (Conv2D)   (None, None, None, 8 38400       block4b_se_excite[0][0]          \n",
      "__________________________________________________________________________________________________\n",
      "block4b_project_bn (BatchNormal (None, None, None, 8 320         block4b_project_conv[0][0]       \n",
      "__________________________________________________________________________________________________\n",
      "block4b_drop (Dropout)          (None, None, None, 8 0           block4b_project_bn[0][0]         \n",
      "__________________________________________________________________________________________________\n",
      "block4b_add (Add)               (None, None, None, 8 0           block4b_drop[0][0]               \n",
      "                                                                 block4a_project_bn[0][0]         \n",
      "__________________________________________________________________________________________________\n",
      "block4c_expand_conv (Conv2D)    (None, None, None, 4 38400       block4b_add[0][0]                \n",
      "__________________________________________________________________________________________________\n",
      "block4c_expand_bn (BatchNormali (None, None, None, 4 1920        block4c_expand_conv[0][0]        \n",
      "__________________________________________________________________________________________________\n",
      "block4c_expand_activation (Acti (None, None, None, 4 0           block4c_expand_bn[0][0]          \n",
      "__________________________________________________________________________________________________\n",
      "block4c_dwconv (DepthwiseConv2D (None, None, None, 4 4320        block4c_expand_activation[0][0]  \n",
      "__________________________________________________________________________________________________\n",
      "block4c_bn (BatchNormalization) (None, None, None, 4 1920        block4c_dwconv[0][0]             \n",
      "__________________________________________________________________________________________________\n",
      "block4c_activation (Activation) (None, None, None, 4 0           block4c_bn[0][0]                 \n",
      "__________________________________________________________________________________________________\n",
      "block4c_se_squeeze (GlobalAvera (None, 480)          0           block4c_activation[0][0]         \n",
      "__________________________________________________________________________________________________\n",
      "block4c_se_reshape (Reshape)    (None, 1, 1, 480)    0           block4c_se_squeeze[0][0]         \n",
      "__________________________________________________________________________________________________\n",
      "block4c_se_reduce (Conv2D)      (None, 1, 1, 20)     9620        block4c_se_reshape[0][0]         \n",
      "__________________________________________________________________________________________________\n",
      "block4c_se_expand (Conv2D)      (None, 1, 1, 480)    10080       block4c_se_reduce[0][0]          \n",
      "__________________________________________________________________________________________________\n",
      "block4c_se_excite (Multiply)    (None, None, None, 4 0           block4c_activation[0][0]         \n",
      "                                                                 block4c_se_expand[0][0]          \n",
      "__________________________________________________________________________________________________\n",
      "block4c_project_conv (Conv2D)   (None, None, None, 8 38400       block4c_se_excite[0][0]          \n",
      "__________________________________________________________________________________________________\n",
      "block4c_project_bn (BatchNormal (None, None, None, 8 320         block4c_project_conv[0][0]       \n",
      "__________________________________________________________________________________________________\n",
      "block4c_drop (Dropout)          (None, None, None, 8 0           block4c_project_bn[0][0]         \n",
      "__________________________________________________________________________________________________\n",
      "block4c_add (Add)               (None, None, None, 8 0           block4c_drop[0][0]               \n",
      "                                                                 block4b_add[0][0]                \n",
      "__________________________________________________________________________________________________\n",
      "block5a_expand_conv (Conv2D)    (None, None, None, 4 38400       block4c_add[0][0]                \n",
      "__________________________________________________________________________________________________\n",
      "block5a_expand_bn (BatchNormali (None, None, None, 4 1920        block5a_expand_conv[0][0]        \n",
      "__________________________________________________________________________________________________\n",
      "block5a_expand_activation (Acti (None, None, None, 4 0           block5a_expand_bn[0][0]          \n",
      "__________________________________________________________________________________________________\n",
      "block5a_dwconv (DepthwiseConv2D (None, None, None, 4 12000       block5a_expand_activation[0][0]  \n",
      "__________________________________________________________________________________________________\n",
      "block5a_bn (BatchNormalization) (None, None, None, 4 1920        block5a_dwconv[0][0]             \n",
      "__________________________________________________________________________________________________\n",
      "block5a_activation (Activation) (None, None, None, 4 0           block5a_bn[0][0]                 \n",
      "__________________________________________________________________________________________________\n",
      "block5a_se_squeeze (GlobalAvera (None, 480)          0           block5a_activation[0][0]         \n",
      "__________________________________________________________________________________________________\n",
      "block5a_se_reshape (Reshape)    (None, 1, 1, 480)    0           block5a_se_squeeze[0][0]         \n",
      "__________________________________________________________________________________________________\n",
      "block5a_se_reduce (Conv2D)      (None, 1, 1, 20)     9620        block5a_se_reshape[0][0]         \n",
      "__________________________________________________________________________________________________\n",
      "block5a_se_expand (Conv2D)      (None, 1, 1, 480)    10080       block5a_se_reduce[0][0]          \n",
      "__________________________________________________________________________________________________\n",
      "block5a_se_excite (Multiply)    (None, None, None, 4 0           block5a_activation[0][0]         \n",
      "                                                                 block5a_se_expand[0][0]          \n",
      "__________________________________________________________________________________________________\n",
      "block5a_project_conv (Conv2D)   (None, None, None, 1 53760       block5a_se_excite[0][0]          \n",
      "__________________________________________________________________________________________________\n",
      "block5a_project_bn (BatchNormal (None, None, None, 1 448         block5a_project_conv[0][0]       \n",
      "__________________________________________________________________________________________________\n",
      "block5b_expand_conv (Conv2D)    (None, None, None, 6 75264       block5a_project_bn[0][0]         \n",
      "__________________________________________________________________________________________________\n",
      "block5b_expand_bn (BatchNormali (None, None, None, 6 2688        block5b_expand_conv[0][0]        \n",
      "__________________________________________________________________________________________________\n",
      "block5b_expand_activation (Acti (None, None, None, 6 0           block5b_expand_bn[0][0]          \n",
      "__________________________________________________________________________________________________\n",
      "block5b_dwconv (DepthwiseConv2D (None, None, None, 6 16800       block5b_expand_activation[0][0]  \n",
      "__________________________________________________________________________________________________\n",
      "block5b_bn (BatchNormalization) (None, None, None, 6 2688        block5b_dwconv[0][0]             \n",
      "__________________________________________________________________________________________________\n",
      "block5b_activation (Activation) (None, None, None, 6 0           block5b_bn[0][0]                 \n",
      "__________________________________________________________________________________________________\n",
      "block5b_se_squeeze (GlobalAvera (None, 672)          0           block5b_activation[0][0]         \n",
      "__________________________________________________________________________________________________\n",
      "block5b_se_reshape (Reshape)    (None, 1, 1, 672)    0           block5b_se_squeeze[0][0]         \n",
      "__________________________________________________________________________________________________\n",
      "block5b_se_reduce (Conv2D)      (None, 1, 1, 28)     18844       block5b_se_reshape[0][0]         \n",
      "__________________________________________________________________________________________________\n",
      "block5b_se_expand (Conv2D)      (None, 1, 1, 672)    19488       block5b_se_reduce[0][0]          \n",
      "__________________________________________________________________________________________________\n",
      "block5b_se_excite (Multiply)    (None, None, None, 6 0           block5b_activation[0][0]         \n",
      "                                                                 block5b_se_expand[0][0]          \n",
      "__________________________________________________________________________________________________\n",
      "block5b_project_conv (Conv2D)   (None, None, None, 1 75264       block5b_se_excite[0][0]          \n",
      "__________________________________________________________________________________________________\n",
      "block5b_project_bn (BatchNormal (None, None, None, 1 448         block5b_project_conv[0][0]       \n",
      "__________________________________________________________________________________________________\n",
      "block5b_drop (Dropout)          (None, None, None, 1 0           block5b_project_bn[0][0]         \n",
      "__________________________________________________________________________________________________\n",
      "block5b_add (Add)               (None, None, None, 1 0           block5b_drop[0][0]               \n",
      "                                                                 block5a_project_bn[0][0]         \n",
      "__________________________________________________________________________________________________\n",
      "block5c_expand_conv (Conv2D)    (None, None, None, 6 75264       block5b_add[0][0]                \n",
      "__________________________________________________________________________________________________\n",
      "block5c_expand_bn (BatchNormali (None, None, None, 6 2688        block5c_expand_conv[0][0]        \n",
      "__________________________________________________________________________________________________\n",
      "block5c_expand_activation (Acti (None, None, None, 6 0           block5c_expand_bn[0][0]          \n",
      "__________________________________________________________________________________________________\n",
      "block5c_dwconv (DepthwiseConv2D (None, None, None, 6 16800       block5c_expand_activation[0][0]  \n",
      "__________________________________________________________________________________________________\n",
      "block5c_bn (BatchNormalization) (None, None, None, 6 2688        block5c_dwconv[0][0]             \n",
      "__________________________________________________________________________________________________\n",
      "block5c_activation (Activation) (None, None, None, 6 0           block5c_bn[0][0]                 \n",
      "__________________________________________________________________________________________________\n",
      "block5c_se_squeeze (GlobalAvera (None, 672)          0           block5c_activation[0][0]         \n",
      "__________________________________________________________________________________________________\n",
      "block5c_se_reshape (Reshape)    (None, 1, 1, 672)    0           block5c_se_squeeze[0][0]         \n",
      "__________________________________________________________________________________________________\n",
      "block5c_se_reduce (Conv2D)      (None, 1, 1, 28)     18844       block5c_se_reshape[0][0]         \n",
      "__________________________________________________________________________________________________\n",
      "block5c_se_expand (Conv2D)      (None, 1, 1, 672)    19488       block5c_se_reduce[0][0]          \n",
      "__________________________________________________________________________________________________\n",
      "block5c_se_excite (Multiply)    (None, None, None, 6 0           block5c_activation[0][0]         \n",
      "                                                                 block5c_se_expand[0][0]          \n",
      "__________________________________________________________________________________________________\n",
      "block5c_project_conv (Conv2D)   (None, None, None, 1 75264       block5c_se_excite[0][0]          \n",
      "__________________________________________________________________________________________________\n",
      "block5c_project_bn (BatchNormal (None, None, None, 1 448         block5c_project_conv[0][0]       \n",
      "__________________________________________________________________________________________________\n",
      "block5c_drop (Dropout)          (None, None, None, 1 0           block5c_project_bn[0][0]         \n",
      "__________________________________________________________________________________________________\n",
      "block5c_add (Add)               (None, None, None, 1 0           block5c_drop[0][0]               \n",
      "                                                                 block5b_add[0][0]                \n",
      "__________________________________________________________________________________________________\n",
      "block6a_expand_conv (Conv2D)    (None, None, None, 6 75264       block5c_add[0][0]                \n",
      "__________________________________________________________________________________________________\n",
      "block6a_expand_bn (BatchNormali (None, None, None, 6 2688        block6a_expand_conv[0][0]        \n",
      "__________________________________________________________________________________________________\n",
      "block6a_expand_activation (Acti (None, None, None, 6 0           block6a_expand_bn[0][0]          \n",
      "__________________________________________________________________________________________________\n",
      "block6a_dwconv_pad (ZeroPadding (None, None, None, 6 0           block6a_expand_activation[0][0]  \n",
      "__________________________________________________________________________________________________\n",
      "block6a_dwconv (DepthwiseConv2D (None, None, None, 6 16800       block6a_dwconv_pad[0][0]         \n",
      "__________________________________________________________________________________________________\n",
      "block6a_bn (BatchNormalization) (None, None, None, 6 2688        block6a_dwconv[0][0]             \n",
      "__________________________________________________________________________________________________\n",
      "block6a_activation (Activation) (None, None, None, 6 0           block6a_bn[0][0]                 \n",
      "__________________________________________________________________________________________________\n",
      "block6a_se_squeeze (GlobalAvera (None, 672)          0           block6a_activation[0][0]         \n",
      "__________________________________________________________________________________________________\n",
      "block6a_se_reshape (Reshape)    (None, 1, 1, 672)    0           block6a_se_squeeze[0][0]         \n",
      "__________________________________________________________________________________________________\n",
      "block6a_se_reduce (Conv2D)      (None, 1, 1, 28)     18844       block6a_se_reshape[0][0]         \n",
      "__________________________________________________________________________________________________\n",
      "block6a_se_expand (Conv2D)      (None, 1, 1, 672)    19488       block6a_se_reduce[0][0]          \n",
      "__________________________________________________________________________________________________\n",
      "block6a_se_excite (Multiply)    (None, None, None, 6 0           block6a_activation[0][0]         \n",
      "                                                                 block6a_se_expand[0][0]          \n",
      "__________________________________________________________________________________________________\n",
      "block6a_project_conv (Conv2D)   (None, None, None, 1 129024      block6a_se_excite[0][0]          \n",
      "__________________________________________________________________________________________________\n",
      "block6a_project_bn (BatchNormal (None, None, None, 1 768         block6a_project_conv[0][0]       \n",
      "__________________________________________________________________________________________________\n",
      "block6b_expand_conv (Conv2D)    (None, None, None, 1 221184      block6a_project_bn[0][0]         \n",
      "__________________________________________________________________________________________________\n",
      "block6b_expand_bn (BatchNormali (None, None, None, 1 4608        block6b_expand_conv[0][0]        \n",
      "__________________________________________________________________________________________________\n",
      "block6b_expand_activation (Acti (None, None, None, 1 0           block6b_expand_bn[0][0]          \n",
      "__________________________________________________________________________________________________\n",
      "block6b_dwconv (DepthwiseConv2D (None, None, None, 1 28800       block6b_expand_activation[0][0]  \n",
      "__________________________________________________________________________________________________\n",
      "block6b_bn (BatchNormalization) (None, None, None, 1 4608        block6b_dwconv[0][0]             \n",
      "__________________________________________________________________________________________________\n",
      "block6b_activation (Activation) (None, None, None, 1 0           block6b_bn[0][0]                 \n",
      "__________________________________________________________________________________________________\n",
      "block6b_se_squeeze (GlobalAvera (None, 1152)         0           block6b_activation[0][0]         \n",
      "__________________________________________________________________________________________________\n",
      "block6b_se_reshape (Reshape)    (None, 1, 1, 1152)   0           block6b_se_squeeze[0][0]         \n",
      "__________________________________________________________________________________________________\n",
      "block6b_se_reduce (Conv2D)      (None, 1, 1, 48)     55344       block6b_se_reshape[0][0]         \n",
      "__________________________________________________________________________________________________\n",
      "block6b_se_expand (Conv2D)      (None, 1, 1, 1152)   56448       block6b_se_reduce[0][0]          \n",
      "__________________________________________________________________________________________________\n",
      "block6b_se_excite (Multiply)    (None, None, None, 1 0           block6b_activation[0][0]         \n",
      "                                                                 block6b_se_expand[0][0]          \n",
      "__________________________________________________________________________________________________\n",
      "block6b_project_conv (Conv2D)   (None, None, None, 1 221184      block6b_se_excite[0][0]          \n",
      "__________________________________________________________________________________________________\n",
      "block6b_project_bn (BatchNormal (None, None, None, 1 768         block6b_project_conv[0][0]       \n",
      "__________________________________________________________________________________________________\n",
      "block6b_drop (Dropout)          (None, None, None, 1 0           block6b_project_bn[0][0]         \n",
      "__________________________________________________________________________________________________\n",
      "block6b_add (Add)               (None, None, None, 1 0           block6b_drop[0][0]               \n",
      "                                                                 block6a_project_bn[0][0]         \n",
      "__________________________________________________________________________________________________\n",
      "block6c_expand_conv (Conv2D)    (None, None, None, 1 221184      block6b_add[0][0]                \n",
      "__________________________________________________________________________________________________\n",
      "block6c_expand_bn (BatchNormali (None, None, None, 1 4608        block6c_expand_conv[0][0]        \n",
      "__________________________________________________________________________________________________\n",
      "block6c_expand_activation (Acti (None, None, None, 1 0           block6c_expand_bn[0][0]          \n",
      "__________________________________________________________________________________________________\n",
      "block6c_dwconv (DepthwiseConv2D (None, None, None, 1 28800       block6c_expand_activation[0][0]  \n",
      "__________________________________________________________________________________________________\n",
      "block6c_bn (BatchNormalization) (None, None, None, 1 4608        block6c_dwconv[0][0]             \n",
      "__________________________________________________________________________________________________\n",
      "block6c_activation (Activation) (None, None, None, 1 0           block6c_bn[0][0]                 \n",
      "__________________________________________________________________________________________________\n",
      "block6c_se_squeeze (GlobalAvera (None, 1152)         0           block6c_activation[0][0]         \n",
      "__________________________________________________________________________________________________\n",
      "block6c_se_reshape (Reshape)    (None, 1, 1, 1152)   0           block6c_se_squeeze[0][0]         \n",
      "__________________________________________________________________________________________________\n",
      "block6c_se_reduce (Conv2D)      (None, 1, 1, 48)     55344       block6c_se_reshape[0][0]         \n",
      "__________________________________________________________________________________________________\n",
      "block6c_se_expand (Conv2D)      (None, 1, 1, 1152)   56448       block6c_se_reduce[0][0]          \n",
      "__________________________________________________________________________________________________\n",
      "block6c_se_excite (Multiply)    (None, None, None, 1 0           block6c_activation[0][0]         \n",
      "                                                                 block6c_se_expand[0][0]          \n",
      "__________________________________________________________________________________________________\n",
      "block6c_project_conv (Conv2D)   (None, None, None, 1 221184      block6c_se_excite[0][0]          \n",
      "__________________________________________________________________________________________________\n",
      "block6c_project_bn (BatchNormal (None, None, None, 1 768         block6c_project_conv[0][0]       \n",
      "__________________________________________________________________________________________________\n",
      "block6c_drop (Dropout)          (None, None, None, 1 0           block6c_project_bn[0][0]         \n",
      "__________________________________________________________________________________________________\n",
      "block6c_add (Add)               (None, None, None, 1 0           block6c_drop[0][0]               \n",
      "                                                                 block6b_add[0][0]                \n",
      "__________________________________________________________________________________________________\n",
      "block6d_expand_conv (Conv2D)    (None, None, None, 1 221184      block6c_add[0][0]                \n",
      "__________________________________________________________________________________________________\n",
      "block6d_expand_bn (BatchNormali (None, None, None, 1 4608        block6d_expand_conv[0][0]        \n",
      "__________________________________________________________________________________________________\n",
      "block6d_expand_activation (Acti (None, None, None, 1 0           block6d_expand_bn[0][0]          \n",
      "__________________________________________________________________________________________________\n",
      "block6d_dwconv (DepthwiseConv2D (None, None, None, 1 28800       block6d_expand_activation[0][0]  \n",
      "__________________________________________________________________________________________________\n",
      "block6d_bn (BatchNormalization) (None, None, None, 1 4608        block6d_dwconv[0][0]             \n",
      "__________________________________________________________________________________________________\n",
      "block6d_activation (Activation) (None, None, None, 1 0           block6d_bn[0][0]                 \n",
      "__________________________________________________________________________________________________\n",
      "block6d_se_squeeze (GlobalAvera (None, 1152)         0           block6d_activation[0][0]         \n",
      "__________________________________________________________________________________________________\n",
      "block6d_se_reshape (Reshape)    (None, 1, 1, 1152)   0           block6d_se_squeeze[0][0]         \n",
      "__________________________________________________________________________________________________\n",
      "block6d_se_reduce (Conv2D)      (None, 1, 1, 48)     55344       block6d_se_reshape[0][0]         \n",
      "__________________________________________________________________________________________________\n",
      "block6d_se_expand (Conv2D)      (None, 1, 1, 1152)   56448       block6d_se_reduce[0][0]          \n",
      "__________________________________________________________________________________________________\n",
      "block6d_se_excite (Multiply)    (None, None, None, 1 0           block6d_activation[0][0]         \n",
      "                                                                 block6d_se_expand[0][0]          \n",
      "__________________________________________________________________________________________________\n",
      "block6d_project_conv (Conv2D)   (None, None, None, 1 221184      block6d_se_excite[0][0]          \n",
      "__________________________________________________________________________________________________\n",
      "block6d_project_bn (BatchNormal (None, None, None, 1 768         block6d_project_conv[0][0]       \n",
      "__________________________________________________________________________________________________\n",
      "block6d_drop (Dropout)          (None, None, None, 1 0           block6d_project_bn[0][0]         \n",
      "__________________________________________________________________________________________________\n",
      "block6d_add (Add)               (None, None, None, 1 0           block6d_drop[0][0]               \n",
      "                                                                 block6c_add[0][0]                \n",
      "__________________________________________________________________________________________________\n",
      "block7a_expand_conv (Conv2D)    (None, None, None, 1 221184      block6d_add[0][0]                \n",
      "__________________________________________________________________________________________________\n",
      "block7a_expand_bn (BatchNormali (None, None, None, 1 4608        block7a_expand_conv[0][0]        \n",
      "__________________________________________________________________________________________________\n",
      "block7a_expand_activation (Acti (None, None, None, 1 0           block7a_expand_bn[0][0]          \n",
      "__________________________________________________________________________________________________\n",
      "block7a_dwconv (DepthwiseConv2D (None, None, None, 1 10368       block7a_expand_activation[0][0]  \n",
      "__________________________________________________________________________________________________\n",
      "block7a_bn (BatchNormalization) (None, None, None, 1 4608        block7a_dwconv[0][0]             \n",
      "__________________________________________________________________________________________________\n",
      "block7a_activation (Activation) (None, None, None, 1 0           block7a_bn[0][0]                 \n",
      "__________________________________________________________________________________________________\n",
      "block7a_se_squeeze (GlobalAvera (None, 1152)         0           block7a_activation[0][0]         \n",
      "__________________________________________________________________________________________________\n",
      "block7a_se_reshape (Reshape)    (None, 1, 1, 1152)   0           block7a_se_squeeze[0][0]         \n",
      "__________________________________________________________________________________________________\n",
      "block7a_se_reduce (Conv2D)      (None, 1, 1, 48)     55344       block7a_se_reshape[0][0]         \n",
      "__________________________________________________________________________________________________\n",
      "block7a_se_expand (Conv2D)      (None, 1, 1, 1152)   56448       block7a_se_reduce[0][0]          \n",
      "__________________________________________________________________________________________________\n",
      "block7a_se_excite (Multiply)    (None, None, None, 1 0           block7a_activation[0][0]         \n",
      "                                                                 block7a_se_expand[0][0]          \n",
      "__________________________________________________________________________________________________\n",
      "block7a_project_conv (Conv2D)   (None, None, None, 3 368640      block7a_se_excite[0][0]          \n",
      "__________________________________________________________________________________________________\n",
      "block7a_project_bn (BatchNormal (None, None, None, 3 1280        block7a_project_conv[0][0]       \n",
      "__________________________________________________________________________________________________\n",
      "top_conv (Conv2D)               (None, None, None, 1 409600      block7a_project_bn[0][0]         \n",
      "__________________________________________________________________________________________________\n",
      "top_bn (BatchNormalization)     (None, None, None, 1 5120        top_conv[0][0]                   \n",
      "__________________________________________________________________________________________________\n",
      "top_activation (Activation)     (None, None, None, 1 0           top_bn[0][0]                     \n",
      "==================================================================================================\n",
      "Total params: 4,049,571\n",
      "Trainable params: 0\n",
      "Non-trainable params: 4,049,571\n",
      "__________________________________________________________________________________________________\n"
     ]
    }
   ],
   "source": [
    "# How about we get a summary of the base model?\n",
    "base_model.summary()"
   ]
  },
  {
   "cell_type": "code",
   "execution_count": 22,
   "id": "710768ae",
   "metadata": {},
   "outputs": [
    {
     "name": "stdout",
     "output_type": "stream",
     "text": [
      "Model: \"model\"\n",
      "_________________________________________________________________\n",
      "Layer (type)                 Output Shape              Param #   \n",
      "=================================================================\n",
      "input_layer (InputLayer)     [(None, 224, 224, 3)]     0         \n",
      "_________________________________________________________________\n",
      "efficientnetb0 (Functional)  (None, None, None, 1280)  4049571   \n",
      "_________________________________________________________________\n",
      "global_average_pooling_layer (None, 1280)              0         \n",
      "_________________________________________________________________\n",
      "output_layer (Dense)         (None, 10)                12810     \n",
      "=================================================================\n",
      "Total params: 4,062,381\n",
      "Trainable params: 12,810\n",
      "Non-trainable params: 4,049,571\n",
      "_________________________________________________________________\n"
     ]
    }
   ],
   "source": [
    "#  How about a summary of our whole model?\n",
    "model_0.summary()"
   ]
  },
  {
   "cell_type": "code",
   "execution_count": 23,
   "id": "62ebbfac",
   "metadata": {},
   "outputs": [
    {
     "data": {
      "image/png": "[encoded data removed]",
      "text/plain": [
       "<Figure size 432x288 with 1 Axes>"
      ]
     },
     "metadata": {
      "needs_background": "light"
     },
     "output_type": "display_data"
    },
    {
     "data": {
      "image/png": "[encoded data removed]",
      "text/plain": [
       "<Figure size 432x288 with 1 Axes>"
      ]
     },
     "metadata": {
      "needs_background": "light"
     },
     "output_type": "display_data"
    }
   ],
   "source": [
    "# Check out our model's training curves\n",
    "plot_loss_curves(history_10_percent)"
   ]
  },
  {
   "cell_type": "markdown",
   "id": "9e0b0191",
   "metadata": {},
   "source": [
    "## Getting a feature vector for a trained model\n",
    "\n",
    "Let's demonstrate the Global Average Pooling 2D layer...\n",
    "\n",
    "We have a tensor after our model goes through `base_model` of shape (None, 7, 7, 1280).\n",
    "\n",
    "But then when it passes through GlobalAveragePooling2D, it turns into (None, 1280).\n",
    "\n",
    "Let's use a similar shaped tensor of (1, 4, 4, 3) and then pass it to GlobalAveragePooling2D."
   ]
  },
  {
   "cell_type": "code",
   "execution_count": 27,
   "id": "fa579afc",
   "metadata": {},
   "outputs": [
    {
     "name": "stdout",
     "output_type": "stream",
     "text": [
      "Random input tensor:\n",
      " [[[[ 0.3274685  -0.8426258   0.3194337 ]\n",
      "   [-1.4075519  -2.3880599  -1.0392479 ]\n",
      "   [-0.5573232   0.539707    1.6994323 ]\n",
      "   [ 0.28893656 -1.5066116  -0.2645474 ]]\n",
      "\n",
      "  [[-0.59722406 -1.9171132  -0.62044144]\n",
      "   [ 0.8504023  -0.40604794 -3.0258412 ]\n",
      "   [ 0.9058464   0.29855987 -0.22561555]\n",
      "   [-0.7616443  -1.8917141  -0.93847126]]\n",
      "\n",
      "  [[ 0.77852213 -0.47338897  0.97772694]\n",
      "   [ 0.24694404  0.20573747 -0.5256233 ]\n",
      "   [ 0.32410017  0.02545409 -0.10638497]\n",
      "   [-0.6369475   1.1603122   0.2507359 ]]\n",
      "\n",
      "  [[-0.41728503  0.4012578  -1.4145443 ]\n",
      "   [-0.5931857  -1.6617213   0.33567193]\n",
      "   [ 0.10815629  0.23479682 -0.56668764]\n",
      "   [-0.35819843  0.88698614  0.52744764]]]]\n",
      "\n",
      "2D global average pooled random tensor:\n",
      " [[-0.09368646 -0.45840448 -0.2885598 ]]\n",
      "\n",
      "Shape of input tensor: (1, 4, 4, 3)\n",
      "Shape of Global Average Pooled 2D tensor: (1, 3)\n"
     ]
    }
   ],
   "source": [
    "# Define the input shape\n",
    "input_shape = (1, 4, 4, 3)\n",
    "\n",
    "# create a random tensor\n",
    "tf.random.set_seed(42)\n",
    "input_tensor = tf.random.normal(input_shape)\n",
    "print(f\"Random input tensor:\\n {input_tensor}\\n\")\n",
    "\n",
    "# Pass the random tensor through a global average pooling 2D layer\n",
    "global_average_pooled_tensor = tf.keras.layers.GlobalAveragePooling2D()(input_tensor)\n",
    "print(f\"2D global average pooled random tensor:\\n {global_average_pooled_tensor}\\n\")\n",
    "\n",
    "# Check the shape of the different tensors\n",
    "print(f\"Shape of input tensor: {input_tensor.shape}\")\n",
    "print(f\"Shape of Global Average Pooled 2D tensor: {global_average_pooled_tensor.shape}\")"
   ]
  },
  {
   "cell_type": "code",
   "execution_count": 28,
   "id": "12015543",
   "metadata": {},
   "outputs": [
    {
     "data": {
      "text/plain": [
       "<tf.Tensor: shape=(1, 3), dtype=float32, numpy=array([[-0.09368646, -0.45840448, -0.2885598 ]], dtype=float32)>"
      ]
     },
     "execution_count": 28,
     "metadata": {},
     "output_type": "execute_result"
    }
   ],
   "source": [
    "# Let's replicate the GlobalAverage2D layer\n",
    "tf.reduce_mean(input_tensor, axis=[1, 2])"
   ]
  },
  {
   "cell_type": "markdown",
   "id": "c8932379",
   "metadata": {},
   "source": [
    "Doing this not only makes the output of the base model compatible with the input shape requirement of our output layer `(tf.keras.layers.Dense())`, it also condenses the information found by the base model into a lower dimension **feature vector**."
   ]
  },
  {
   "cell_type": "markdown",
   "id": "40afc02e",
   "metadata": {},
   "source": [
    "**Note**: One of the reasons feature extraction transfer learning is named how it is is because what often happens is a pretrained model outputs a **feature vector** (a long tensor of numbers, in our case, this is the output of the `tf.keras.layers.GlobalAveragePooling2D()` layer) which can then be used to extract patterns out of."
   ]
  },
  {
   "cell_type": "markdown",
   "id": "88041432",
   "metadata": {},
   "source": [
    "**Practice**: Do the same as the above cell but for `tf.keras.layers.GlobalMaxPool2D()`."
   ]
  },
  {
   "cell_type": "code",
   "execution_count": 33,
   "id": "9dbdeed8",
   "metadata": {},
   "outputs": [
    {
     "name": "stdout",
     "output_type": "stream",
     "text": [
      "Random input tensor:\n",
      " [[[[ 0.3274685  -0.8426258   0.3194337 ]\n",
      "   [-1.4075519  -2.3880599  -1.0392479 ]\n",
      "   [-0.5573232   0.539707    1.6994323 ]\n",
      "   [ 0.28893656 -1.5066116  -0.2645474 ]]\n",
      "\n",
      "  [[-0.59722406 -1.9171132  -0.62044144]\n",
      "   [ 0.8504023  -0.40604794 -3.0258412 ]\n",
      "   [ 0.9058464   0.29855987 -0.22561555]\n",
      "   [-0.7616443  -1.8917141  -0.93847126]]\n",
      "\n",
      "  [[ 0.77852213 -0.47338897  0.97772694]\n",
      "   [ 0.24694404  0.20573747 -0.5256233 ]\n",
      "   [ 0.32410017  0.02545409 -0.10638497]\n",
      "   [-0.6369475   1.1603122   0.2507359 ]]\n",
      "\n",
      "  [[-0.41728503  0.4012578  -1.4145443 ]\n",
      "   [-0.5931857  -1.6617213   0.33567193]\n",
      "   [ 0.10815629  0.23479682 -0.56668764]\n",
      "   [-0.35819843  0.88698614  0.52744764]]]]\n",
      "\n",
      "2D global Max pooled random tensor:\n",
      " [[0.9058464 1.1603122 1.6994323]]\n",
      "\n",
      "Shape of input tensor: (1, 4, 4, 3)\n",
      "Shape of Global Max Pooled 2D tensor: (1, 3)\n"
     ]
    }
   ],
   "source": [
    "# Define the input shape\n",
    "input_shape = (1, 4, 4, 3)\n",
    "\n",
    "# create a random tensor\n",
    "tf.random.set_seed(42)\n",
    "input_tensor = tf.random.normal(input_shape)\n",
    "print(f\"Random input tensor:\\n {input_tensor}\\n\")\n",
    "\n",
    "# Pass the random tensor through a global average pooling 2D layer\n",
    "global_max_pooled_tensor = tf.keras.layers.GlobalMaxPool2D()(input_tensor)\n",
    "print(f\"2D global Max pooled random tensor:\\n {global_max_pooled_tensor}\\n\")\n",
    "\n",
    "# Check the shape of the different tensors\n",
    "print(f\"Shape of input tensor: {input_tensor.shape}\")\n",
    "print(f\"Shape of Global Max Pooled 2D tensor: {global_max_pooled_tensor.shape}\")"
   ]
  },
  {
   "cell_type": "code",
   "execution_count": 34,
   "id": "2027ec61",
   "metadata": {},
   "outputs": [
    {
     "data": {
      "text/plain": [
       "<tf.Tensor: shape=(1, 3), dtype=float32, numpy=array([[-0.09368646, -0.45840448, -0.2885598 ]], dtype=float32)>"
      ]
     },
     "execution_count": 34,
     "metadata": {},
     "output_type": "execute_result"
    }
   ],
   "source": [
    "# Let's replicate the GlobalAverage2D layer\n",
    "tf.reduce_mean(input_tensor, axis=[1, 2])"
   ]
  },
  {
   "cell_type": "markdown",
   "id": "cc146a51",
   "metadata": {},
   "source": [
    "Looks like `tf.keras.layers.GlobalMaxPool2D()` is return max random tensor number"
   ]
  },
  {
   "cell_type": "markdown",
   "id": "aa0cc267",
   "metadata": {},
   "source": [
    "## Running a series of transfer learning experiments\n",
    "\n",
    "We've seen the increadible results transfer learning can get with inly 10% of the training data, but how does it go with 1% of the training data... how about we setup a bunch of experiments to find out:\n",
    "\n",
    "1. `model_1` - use feature extraction transfer learning with 1% of the training data with data augmentation\n",
    "2. `model_2` - use feature extraction transfer learning with 10% of the traiining data with data augmentation\n",
    "3. `model_3` - use fine-tuning transfer learning on 10% of the training data with data augmentation\n",
    "4. `model_4` - use fine-tuning transfer learning on 100% of the training data with data augmentation\n",
    "\n",
    "> **NOTE:** thoughtout all experiments the same test dataset will be used to evaluate our model... this ensures consistency across evaluation metrics."
   ]
  },
  {
   "cell_type": "markdown",
   "id": "eb549315",
   "metadata": {},
   "source": [
    "## Getting and preprocessing for model_1"
   ]
  },
  {
   "cell_type": "code",
   "execution_count": 40,
   "id": "c335f5e2",
   "metadata": {},
   "outputs": [],
   "source": [
    "# Download and unzip data - preprocessed from Food101\n",
    "import urllib.request\n",
    "url = 'https://storage.googleapis.com/ztm_tf_course/food_vision/10_food_classes_1_percent.zip'\n",
    "filename = '10_food_classes_1_percent.zip'\n",
    "urllib.request.urlretrieve(url, filename)\n",
    "\n",
    "#  unzip data\n",
    "unzip_data(filename)"
   ]
  },
  {
   "cell_type": "code",
   "execution_count": 41,
   "id": "bb62f712",
   "metadata": {},
   "outputs": [],
   "source": [
    "# Create training and test dirs\n",
    "train_dir_1_percent = \"10_food_classes_1_percent/train\"\n",
    "test_dir_1_percent = \"10_food_classes_1_percent/test\""
   ]
  },
  {
   "cell_type": "code",
   "execution_count": 42,
   "id": "d7f80a09",
   "metadata": {},
   "outputs": [
    {
     "name": "stdout",
     "output_type": "stream",
     "text": [
      "There are 2 directories and 0 images in '10_food_classes_1_percent'.\n",
      "There are 10 directories and 0 images in '10_food_classes_1_percent\\test'.\n",
      "There are 0 directories and 250 images in '10_food_classes_1_percent\\test\\chicken_curry'.\n",
      "There are 0 directories and 250 images in '10_food_classes_1_percent\\test\\chicken_wings'.\n",
      "There are 0 directories and 250 images in '10_food_classes_1_percent\\test\\fried_rice'.\n",
      "There are 0 directories and 250 images in '10_food_classes_1_percent\\test\\grilled_salmon'.\n",
      "There are 0 directories and 250 images in '10_food_classes_1_percent\\test\\hamburger'.\n",
      "There are 0 directories and 250 images in '10_food_classes_1_percent\\test\\ice_cream'.\n",
      "There are 0 directories and 250 images in '10_food_classes_1_percent\\test\\pizza'.\n",
      "There are 0 directories and 250 images in '10_food_classes_1_percent\\test\\ramen'.\n",
      "There are 0 directories and 250 images in '10_food_classes_1_percent\\test\\steak'.\n",
      "There are 0 directories and 250 images in '10_food_classes_1_percent\\test\\sushi'.\n",
      "There are 10 directories and 0 images in '10_food_classes_1_percent\\train'.\n",
      "There are 0 directories and 7 images in '10_food_classes_1_percent\\train\\chicken_curry'.\n",
      "There are 0 directories and 7 images in '10_food_classes_1_percent\\train\\chicken_wings'.\n",
      "There are 0 directories and 7 images in '10_food_classes_1_percent\\train\\fried_rice'.\n",
      "There are 0 directories and 7 images in '10_food_classes_1_percent\\train\\grilled_salmon'.\n",
      "There are 0 directories and 7 images in '10_food_classes_1_percent\\train\\hamburger'.\n",
      "There are 0 directories and 7 images in '10_food_classes_1_percent\\train\\ice_cream'.\n",
      "There are 0 directories and 7 images in '10_food_classes_1_percent\\train\\pizza'.\n",
      "There are 0 directories and 7 images in '10_food_classes_1_percent\\train\\ramen'.\n",
      "There are 0 directories and 7 images in '10_food_classes_1_percent\\train\\steak'.\n",
      "There are 0 directories and 7 images in '10_food_classes_1_percent\\train\\sushi'.\n"
     ]
    }
   ],
   "source": [
    "# How many images are we working with?\n",
    "walk_through_dir(\"10_food_classes_1_percent\")"
   ]
  },
  {
   "cell_type": "code",
   "execution_count": 43,
   "id": "bd146545",
   "metadata": {},
   "outputs": [
    {
     "name": "stdout",
     "output_type": "stream",
     "text": [
      "Found 70 files belonging to 10 classes.\n",
      "Found 2500 files belonging to 10 classes.\n"
     ]
    }
   ],
   "source": [
    "# setup data loaders\n",
    "IMG_SIZE = (224, 224)\n",
    "BATCH_SIZE = 32\n",
    "train_data_1_percent = tf.keras.preprocessing.image_dataset_from_directory(train_dir_1_percent,\n",
    "                                                                          image_size=IMG_SIZE,\n",
    "                                                                          batch_size=BATCH_SIZE,\n",
    "                                                                          label_mode=\"categorical\")\n",
    "\n",
    "test_data = tf.keras.preprocessing.image_dataset_from_directory(test_dir_1_percent,\n",
    "                                                               image_size=IMG_SIZE,\n",
    "                                                               batch_size=BATCH_SIZE,\n",
    "                                                               label_mode=\"categorical\")"
   ]
  },
  {
   "cell_type": "markdown",
   "id": "f25b605d",
   "metadata": {},
   "source": [
    "## Adding data augmentation right into the model\n",
    "\n",
    "To add data augmentation right into our models, we can use the layers inside:\n",
    "\n",
    "* `tf.keras.layers.experimental.preprocessing()`\n",
    "\n",
    "We can see the benefits of doing this within the TensorFlow Data augmentation documentation:https://www.tensorflow.org/tutorials/images/data_augmentation#use_keras_preprocessing_layers\n",
    "\n",
    "off the top our of heads, after reading the docs, the benefits of using data augmentation inside the model are:\n",
    "* Preprocessing of images (augmentating them) happens on the GPU (much faster) rather than the CPU\n",
    "* Image data augmentation only happens during training, so we can still export our whole model and use it elsewhere."
   ]
  },
  {
   "cell_type": "code",
   "execution_count": 45,
   "id": "829dcba2",
   "metadata": {},
   "outputs": [],
   "source": [
    "import tensorflow as tf\n",
    "from tensorflow import keras\n",
    "from tensorflow.keras import layers\n",
    "from tensorflow.keras.layers.experimental import preprocessing\n",
    "\n",
    "# Create data augmentation stage with horizontal flipping, rotations, zooms, etc\n",
    "data_augmentation = keras.Sequential([\n",
    "    preprocessing.RandomFlip(\"horizontal\"),\n",
    "    preprocessing.RandomRotation(0.2),\n",
    "    preprocessing.RandomZoom(0.2),\n",
    "    preprocessing.RandomHeight(0.2),\n",
    "    preprocessing.RandomWidth(0.2),\n",
    "#     preprocessing.Rescale(1/255.) # Keep for models like ResNet50V2 but EfficientNet has Rescling built-in layers\n",
    "], name=\"data_augmentation\")"
   ]
  },
  {
   "cell_type": "markdown",
   "id": "c9cdc5e5",
   "metadata": {},
   "source": [
    "### Visualize our data augmentation layers(and see what happens to our data)"
   ]
  },
  {
   "cell_type": "code",
   "execution_count": 67,
   "id": "54cd89aa",
   "metadata": {},
   "outputs": [
    {
     "name": "stdout",
     "output_type": "stream",
     "text": [
      "10_food_classes_1_percent/train/hamburger/1928916.jpg\n"
     ]
    },
    {
     "data": {
      "text/plain": [
       "(-0.5, 493.5, 335.5, -0.5)"
      ]
     },
     "execution_count": 67,
     "metadata": {},
     "output_type": "execute_result"
    },
    {
     "data": {
      "image/png": "[encoded data removed]",
      "text/plain": [
       "<Figure size 432x288 with 1 Axes>"
      ]
     },
     "metadata": {
      "needs_background": "light"
     },
     "output_type": "display_data"
    },
    {
     "data": {
      "image/png": "[encoded data removed]",
      "text/plain": [
       "<Figure size 432x288 with 1 Axes>"
      ]
     },
     "metadata": {
      "needs_background": "light"
     },
     "output_type": "display_data"
    }
   ],
   "source": [
    "# view a random image and compare it to its augmented version\n",
    "import matplotlib.pyplot as plt\n",
    "import matplotlib.image as mpimg\n",
    "import os\n",
    "import random\n",
    "\n",
    "target_class = random.choice(train_data_1_percent.class_names)\n",
    "target_dir = \"10_food_classes_1_percent/train/\" + target_class\n",
    "random_image = random.choice(os.listdir(target_dir))\n",
    "random_image_path = target_dir + \"/\" + random_image\n",
    "print(random_image_path)\n",
    "\n",
    "# Read the random image\n",
    "img = mpimg.imread(random_image_path)\n",
    "plt.imshow(img)\n",
    "plt.title(f\"Original random image from class: {target_class}\")\n",
    "plt.axis(False);\n",
    "\n",
    "# Now let's plot our augmented random image\n",
    "augmented_img = data_augmentation(tf.expand_dims(img, axis=0))\n",
    "plt.figure()\n",
    "plt.imshow(tf.squeeze(augmented_img)/255.)\n",
    "plt.title(f\"Augmented random image from class: {target_class}\")\n",
    "plt.axis(False)"
   ]
  },
  {
   "cell_type": "markdown",
   "id": "832c879a",
   "metadata": {},
   "source": [
    "## Model 1: Feature extraction transfer learning on 1% of the data with data augmentation"
   ]
  },
  {
   "cell_type": "code",
   "execution_count": 70,
   "id": "95567efd",
   "metadata": {},
   "outputs": [
    {
     "name": "stdout",
     "output_type": "stream",
     "text": [
      "WARNING:tensorflow:Model was constructed with shape (None, 512, 3) for input KerasTensor(type_spec=TensorSpec(shape=(None, 512, 3), dtype=tf.uint8, name='random_flip_input'), name='random_flip_input', description=\"created by layer 'random_flip_input'\"), but it was called on an input with incompatible shape (None, 224, 224, 3).\n"
     ]
    },
    {
     "name": "stderr",
     "output_type": "stream",
     "text": [
      "WARNING:tensorflow:Model was constructed with shape (None, 512, 3) for input KerasTensor(type_spec=TensorSpec(shape=(None, 512, 3), dtype=tf.uint8, name='random_flip_input'), name='random_flip_input', description=\"created by layer 'random_flip_input'\"), but it was called on an input with incompatible shape (None, 224, 224, 3).\n"
     ]
    },
    {
     "name": "stdout",
     "output_type": "stream",
     "text": [
      "Saving TensorBoard log files to: transfer_learning/1_percent_data_aug/20220630-164507\n",
      "Epoch 1/5\n",
      "WARNING:tensorflow:Model was constructed with shape (None, 512, 3) for input KerasTensor(type_spec=TensorSpec(shape=(None, 512, 3), dtype=tf.uint8, name='random_flip_input'), name='random_flip_input', description=\"created by layer 'random_flip_input'\"), but it was called on an input with incompatible shape (None, 224, 224, 3).\n"
     ]
    },
    {
     "name": "stderr",
     "output_type": "stream",
     "text": [
      "C:\\Users\\LENOVO\\miniconda3\\envs\\tensorflow\\lib\\site-packages\\keras\\utils\\generic_utils.py:497: CustomMaskWarning: Custom mask layers require a config and must override get_config. When loading, the custom mask layer must be passed to the custom_objects argument.\n",
      "  category=CustomMaskWarning)\n",
      "WARNING:tensorflow:Model was constructed with shape (None, 512, 3) for input KerasTensor(type_spec=TensorSpec(shape=(None, 512, 3), dtype=tf.uint8, name='random_flip_input'), name='random_flip_input', description=\"created by layer 'random_flip_input'\"), but it was called on an input with incompatible shape (None, 224, 224, 3).\n"
     ]
    },
    {
     "name": "stdout",
     "output_type": "stream",
     "text": [
      "WARNING:tensorflow:Model was constructed with shape (None, 512, 3) for input KerasTensor(type_spec=TensorSpec(shape=(None, 512, 3), dtype=tf.uint8, name='random_flip_input'), name='random_flip_input', description=\"created by layer 'random_flip_input'\"), but it was called on an input with incompatible shape (None, 224, 224, 3).\n"
     ]
    },
    {
     "name": "stderr",
     "output_type": "stream",
     "text": [
      "WARNING:tensorflow:Model was constructed with shape (None, 512, 3) for input KerasTensor(type_spec=TensorSpec(shape=(None, 512, 3), dtype=tf.uint8, name='random_flip_input'), name='random_flip_input', description=\"created by layer 'random_flip_input'\"), but it was called on an input with incompatible shape (None, 224, 224, 3).\n"
     ]
    },
    {
     "name": "stdout",
     "output_type": "stream",
     "text": [
      "3/3 [==============================] - ETA: 0s - loss: 2.4214 - accuracy: 0.0857WARNING:tensorflow:Model was constructed with shape (None, 512, 3) for input KerasTensor(type_spec=TensorSpec(shape=(None, 512, 3), dtype=tf.uint8, name='random_flip_input'), name='random_flip_input', description=\"created by layer 'random_flip_input'\"), but it was called on an input with incompatible shape (None, 224, 224, 3).\n"
     ]
    },
    {
     "name": "stderr",
     "output_type": "stream",
     "text": [
      "WARNING:tensorflow:Model was constructed with shape (None, 512, 3) for input KerasTensor(type_spec=TensorSpec(shape=(None, 512, 3), dtype=tf.uint8, name='random_flip_input'), name='random_flip_input', description=\"created by layer 'random_flip_input'\"), but it was called on an input with incompatible shape (None, 224, 224, 3).\n"
     ]
    },
    {
     "name": "stdout",
     "output_type": "stream",
     "text": [
      "3/3 [==============================] - 10s 2s/step - loss: 2.4214 - accuracy: 0.0857 - val_loss: 2.2361 - val_accuracy: 0.1776\n",
      "Epoch 2/5\n",
      "3/3 [==============================] - 4s 2s/step - loss: 2.1635 - accuracy: 0.3286 - val_loss: 2.1123 - val_accuracy: 0.2401\n",
      "Epoch 3/5\n",
      "3/3 [==============================] - 4s 2s/step - loss: 1.9759 - accuracy: 0.4429 - val_loss: 2.0184 - val_accuracy: 0.3158\n",
      "Epoch 4/5\n",
      "3/3 [==============================] - 4s 2s/step - loss: 1.8155 - accuracy: 0.5143 - val_loss: 1.9331 - val_accuracy: 0.3651\n",
      "Epoch 5/5\n",
      "3/3 [==============================] - 4s 1s/step - loss: 1.6730 - accuracy: 0.6571 - val_loss: 1.8508 - val_accuracy: 0.4194\n"
     ]
    }
   ],
   "source": [
    "# Setup input shape and base model, freezing the base model layers\n",
    "input_shape = (224, 224, 3)\n",
    "base_model = tf.keras.applications.EfficientNetB0(include_top=False)\n",
    "base_model.trainable = False\n",
    "\n",
    "# Create input layer\n",
    "inputs = layers.Input(shape=input_shape, name=\"input_layer\")\n",
    "\n",
    "# Add in data augmentation Sequential model as a layer\n",
    "x = data_augmentation(inputs)\n",
    "\n",
    "# Give base_model the inputs (after augmentation) and don't train it\n",
    "x = base_model(x, training=False)\n",
    "\n",
    "# Pool output features of the base model\n",
    "x = layers.GlobalAveragePooling2D(name=\"global_average_pooling_layer\")(x)\n",
    "\n",
    "# Put a dense layer on as the output\n",
    "outputs = layers.Dense(10, activation=\"softmax\", name=\"output_layer\")(x)\n",
    "\n",
    "# Make a model using the inputs and output\n",
    "model_1 = keras.Model(inputs, outputs)\n",
    "\n",
    "# Compile the model\n",
    "model_1.compile(loss=\"categorical_crossentropy\",\n",
    "               optimizer=tf.keras.optimizers.Adam(),\n",
    "               metrics=[\"accuracy\"])\n",
    "\n",
    "# Fit the model\n",
    "history_1_percent = model_1.fit(train_data_1_percent,\n",
    "                               epochs=5,\n",
    "                               steps_per_epoch=len(train_data_1_percent),\n",
    "                               validation_data=test_data,\n",
    "                               validation_steps=int(0.25 * len(test_data)),\n",
    "                               # Track model training logs\n",
    "                               callbacks=[create_tensorboard_callback(dir_name=\"transfer_learning\",\n",
    "                                                                     experiment_name=\"1_percent_data_aug\")])"
   ]
  },
  {
   "cell_type": "code",
   "execution_count": 71,
   "id": "5e665e78",
   "metadata": {},
   "outputs": [
    {
     "name": "stdout",
     "output_type": "stream",
     "text": [
      "Model: \"model_1\"\n",
      "_________________________________________________________________\n",
      "Layer (type)                 Output Shape              Param #   \n",
      "=================================================================\n",
      "input_layer (InputLayer)     [(None, 224, 224, 3)]     0         \n",
      "_________________________________________________________________\n",
      "data_augmentation (Sequentia (None, None, 3)           0         \n",
      "_________________________________________________________________\n",
      "efficientnetb0 (Functional)  (None, None, None, 1280)  4049571   \n",
      "_________________________________________________________________\n",
      "global_average_pooling_layer (None, 1280)              0         \n",
      "_________________________________________________________________\n",
      "output_layer (Dense)         (None, 10)                12810     \n",
      "=================================================================\n",
      "Total params: 4,062,381\n",
      "Trainable params: 12,810\n",
      "Non-trainable params: 4,049,571\n",
      "_________________________________________________________________\n"
     ]
    }
   ],
   "source": [
    "# Check out a model summary\n",
    "model_1.summary()"
   ]
  },
  {
   "cell_type": "code",
   "execution_count": 73,
   "id": "3bedc13b",
   "metadata": {},
   "outputs": [
    {
     "name": "stdout",
     "output_type": "stream",
     "text": [
      "79/79 [==============================] - 8s 95ms/step - loss: 1.8230 - accuracy: 0.4548\n"
     ]
    },
    {
     "data": {
      "text/plain": [
       "[1.823020100593567, 0.454800009727478]"
      ]
     },
     "execution_count": 73,
     "metadata": {},
     "output_type": "execute_result"
    }
   ],
   "source": [
    "# Evaluate on the full test dataset\n",
    "result_1_percent_data_aug = model_1.evaluate(test_data)\n",
    "result_1_percent_data_aug"
   ]
  },
  {
   "cell_type": "code",
   "execution_count": 74,
   "id": "4457412a",
   "metadata": {},
   "outputs": [
    {
     "data": {
      "image/png": "[encoded data removed]",
      "text/plain": [
       "<Figure size 432x288 with 1 Axes>"
      ]
     },
     "metadata": {
      "needs_background": "light"
     },
     "output_type": "display_data"
    },
    {
     "data": {
      "image/png": "[encoded data removed]",
      "text/plain": [
       "<Figure size 432x288 with 1 Axes>"
      ]
     },
     "metadata": {
      "needs_background": "light"
     },
     "output_type": "display_data"
    }
   ],
   "source": [
    "# How do  the model with 1% of the data and with data augmentation loss curves?\n",
    "plot_loss_curves(history_1_percent)"
   ]
  },
  {
   "cell_type": "markdown",
   "id": "a8f24510",
   "metadata": {},
   "source": [
    "## Model 2: feature extraction transfer learning with 10% of data and data augmentatioin"
   ]
  },
  {
   "cell_type": "code",
   "execution_count": 78,
   "id": "17062d69",
   "metadata": {},
   "outputs": [],
   "source": [
    "# get 10% of data...\n",
    "\n",
    "train_dir_10_percent = \"10_food_classes_10_percent/train\"\n",
    "test_dir_10_percent = \"10_food_classes_10_percent/test\""
   ]
  },
  {
   "cell_type": "code",
   "execution_count": 79,
   "id": "f92b88f3",
   "metadata": {},
   "outputs": [
    {
     "name": "stdout",
     "output_type": "stream",
     "text": [
      "There are 2 directories and 0 images in '10_food_classes_10_percent'.\n",
      "There are 10 directories and 0 images in '10_food_classes_10_percent\\test'.\n",
      "There are 0 directories and 250 images in '10_food_classes_10_percent\\test\\chicken_curry'.\n",
      "There are 0 directories and 250 images in '10_food_classes_10_percent\\test\\chicken_wings'.\n",
      "There are 0 directories and 250 images in '10_food_classes_10_percent\\test\\fried_rice'.\n",
      "There are 0 directories and 250 images in '10_food_classes_10_percent\\test\\grilled_salmon'.\n",
      "There are 0 directories and 250 images in '10_food_classes_10_percent\\test\\hamburger'.\n",
      "There are 0 directories and 250 images in '10_food_classes_10_percent\\test\\ice_cream'.\n",
      "There are 0 directories and 250 images in '10_food_classes_10_percent\\test\\pizza'.\n",
      "There are 0 directories and 250 images in '10_food_classes_10_percent\\test\\ramen'.\n",
      "There are 0 directories and 250 images in '10_food_classes_10_percent\\test\\steak'.\n",
      "There are 0 directories and 250 images in '10_food_classes_10_percent\\test\\sushi'.\n",
      "There are 10 directories and 0 images in '10_food_classes_10_percent\\train'.\n",
      "There are 0 directories and 75 images in '10_food_classes_10_percent\\train\\chicken_curry'.\n",
      "There are 0 directories and 75 images in '10_food_classes_10_percent\\train\\chicken_wings'.\n",
      "There are 0 directories and 75 images in '10_food_classes_10_percent\\train\\fried_rice'.\n",
      "There are 0 directories and 75 images in '10_food_classes_10_percent\\train\\grilled_salmon'.\n",
      "There are 0 directories and 75 images in '10_food_classes_10_percent\\train\\hamburger'.\n",
      "There are 0 directories and 75 images in '10_food_classes_10_percent\\train\\ice_cream'.\n",
      "There are 0 directories and 75 images in '10_food_classes_10_percent\\train\\pizza'.\n",
      "There are 0 directories and 75 images in '10_food_classes_10_percent\\train\\ramen'.\n",
      "There are 0 directories and 75 images in '10_food_classes_10_percent\\train\\steak'.\n",
      "There are 0 directories and 75 images in '10_food_classes_10_percent\\train\\sushi'.\n"
     ]
    }
   ],
   "source": [
    "# How many images are in our directories?\n",
    "walk_through_dir(\"10_food_classes_10_percent\")"
   ]
  },
  {
   "cell_type": "code",
   "execution_count": 81,
   "id": "def77e2d",
   "metadata": {},
   "outputs": [
    {
     "name": "stdout",
     "output_type": "stream",
     "text": [
      "Found 750 files belonging to 10 classes.\n",
      "Found 2500 files belonging to 10 classes.\n"
     ]
    }
   ],
   "source": [
    "# Set data input\n",
    "import tensorflow as tf\n",
    "IMG_SIZE = (224, 224)\n",
    "BATCH_SIZE = 32\n",
    "train_data_10_percent = tf.keras.preprocessing.image_dataset_from_directory(train_dir_10_percent,\n",
    "                                                                           label_mode=\"categorical\",\n",
    "                                                                           image_size=IMG_SIZE,\n",
    "                                                                           batch_size=BATCH_SIZE)\n",
    "\n",
    "test_data  = tf.keras.preprocessing.image_dataset_from_directory(test_dir_10_percent,\n",
    "                                                                label_mode=\"categorical\",\n",
    "                                                                image_size=IMG_SIZE,\n",
    "                                                                batch_size=BATCH_SIZE)"
   ]
  },
  {
   "cell_type": "code",
   "execution_count": 85,
   "id": "eeab3a5f",
   "metadata": {},
   "outputs": [],
   "source": [
    "# Create model_2 with data augmentation built in\n",
    "from tensorflow.keras import layers\n",
    "from tensorflow.keras.layers.experimental import preprocessing\n",
    "from tensorflow.keras.models import Sequential\n",
    "\n",
    "# Build data augmentation layer\n",
    "data_augmentation = Sequential([\n",
    "    preprocessing.RandomFlip(\"horizontal\"),\n",
    "    preprocessing.RandomHeight(0.2),\n",
    "    preprocessing.RandomWidth(0.2),\n",
    "    preprocessing.RandomZoom(0.2),\n",
    "    preprocessing.RandomRotation(0.25)\n",
    "], name=\"data_augmentation\")\n",
    "\n",
    "# setup the input shape to our model\n",
    "input_shape = (224, 224, 3)\n",
    "\n",
    "# create a frozen base model (also called the backbone)\n",
    "base_model = tf.keras.applications.EfficientNetB0(include_top=False)\n",
    "base_model.trainable = False\n",
    "\n",
    "# Create the inputs and outputs (including the layers in between)\n",
    "inputs = layers.Input(shape=input_shape, name=\"input_layer\")\n",
    "x = data_augmentation(inputs) # augmentation our traning data\n",
    "x = base_model(x, training=False) # pass augmented images to base model but keep it in inference mode, this also insures batchnorm layesr don't get updated - https://keras.io/guides/transfer_learning/\n",
    "x = layers.GlobalAveragePooling2D(name=\"global_average_pooling_2D\")(x)\n",
    "outputs = layers.Dense(10, activation=\"softmax\", name=\"output_layer\")(x)\n",
    "model_2 = tf.keras.Model(inputs, outputs)\n",
    "\n",
    "# compile the model\n",
    "model_2.compile(loss=\"categorical_crossentropy\",\n",
    "               optimizer=tf.keras.optimizers.Adam(),\n",
    "               metrics=[\"accuracy\"])"
   ]
  },
  {
   "cell_type": "markdown",
   "id": "85e94783",
   "metadata": {},
   "source": [
    "### Creating model checkpoint callbacks\n",
    "\n",
    "The ModelCheckpoint callback intermediately saves our model (the full model or just the weight) during training. This is useful so we can come and start where we left off."
   ]
  },
  {
   "cell_type": "code",
   "execution_count": 88,
   "id": "6b109668",
   "metadata": {},
   "outputs": [],
   "source": [
    "# Set checkpoint path\n",
    "checkpoint_path = \"ten_percent_model_checkpoint_weight/checkpoint.ckpt\"\n",
    "\n",
    "# create a ModelCheckpoint callback that saves the model's weight only\n",
    "checkpoint_callback = tf.keras.callbacks.ModelCheckpoint(filepath=checkpoint_path,\n",
    "                                                        save_weights_only=True,\n",
    "                                                        save_best_only=True,\n",
    "                                                        save_freq=\"epoch\", # save every epoch\n",
    "                                                        verbose=1)"
   ]
  },
  {
   "cell_type": "markdown",
   "id": "3c5f7a48",
   "metadata": {},
   "source": [
    "### Fit model 2 passing in the ModelCheckpoint callback"
   ]
  },
  {
   "cell_type": "code",
   "execution_count": 91,
   "id": "41bc4e3c",
   "metadata": {},
   "outputs": [
    {
     "name": "stdout",
     "output_type": "stream",
     "text": [
      "Saving TensorBoard log files to: transfer_learning/10_percent_data_aug/20220630-183124\n",
      "Epoch 1/5\n"
     ]
    },
    {
     "name": "stderr",
     "output_type": "stream",
     "text": [
      "C:\\Users\\LENOVO\\miniconda3\\envs\\tensorflow\\lib\\site-packages\\keras\\utils\\generic_utils.py:497: CustomMaskWarning: Custom mask layers require a config and must override get_config. When loading, the custom mask layer must be passed to the custom_objects argument.\n",
      "  category=CustomMaskWarning)\n"
     ]
    },
    {
     "name": "stdout",
     "output_type": "stream",
     "text": [
      "24/24 [==============================] - 22s 758ms/step - loss: 2.0121 - accuracy: 0.3427 - val_loss: 1.5086 - val_accuracy: 0.6414\n",
      "\n",
      "Epoch 00001: val_loss improved from inf to 1.50859, saving model to ten_percent_model_checkpoint_weight\\checkpoint.ckpt\n",
      "Epoch 2/5\n",
      "24/24 [==============================] - 13s 527ms/step - loss: 1.3930 - accuracy: 0.6293 - val_loss: 1.1030 - val_accuracy: 0.7237\n",
      "\n",
      "Epoch 00002: val_loss improved from 1.50859 to 1.10302, saving model to ten_percent_model_checkpoint_weight\\checkpoint.ckpt\n",
      "Epoch 3/5\n",
      "24/24 [==============================] - 13s 553ms/step - loss: 1.1040 - accuracy: 0.7360 - val_loss: 0.8984 - val_accuracy: 0.7664\n",
      "\n",
      "Epoch 00003: val_loss improved from 1.10302 to 0.89836, saving model to ten_percent_model_checkpoint_weight\\checkpoint.ckpt\n",
      "Epoch 4/5\n",
      "24/24 [==============================] - 10s 399ms/step - loss: 0.9264 - accuracy: 0.7747 - val_loss: 0.7808 - val_accuracy: 0.7862\n",
      "\n",
      "Epoch 00004: val_loss improved from 0.89836 to 0.78084, saving model to ten_percent_model_checkpoint_weight\\checkpoint.ckpt\n",
      "Epoch 5/5\n",
      "24/24 [==============================] - 10s 426ms/step - loss: 0.8429 - accuracy: 0.7920 - val_loss: 0.7270 - val_accuracy: 0.7878\n",
      "\n",
      "Epoch 00005: val_loss improved from 0.78084 to 0.72705, saving model to ten_percent_model_checkpoint_weight\\checkpoint.ckpt\n"
     ]
    }
   ],
   "source": [
    "# Fit the model saving checkpoint every epoch\n",
    "initial_epochs = 5\n",
    "history_10_percent_data_aug = model_2.fit(train_data_10_percent,\n",
    "                                          epochs=initial_epochs,\n",
    "                                          validation_data=test_data,\n",
    "                                          validation_steps=int(0.25 * len(test_data)),\n",
    "                                          callbacks=[create_tensorboard_callback(dir_name=\"transfer_learning\",\n",
    "                                                                                experiment_name=\"10_percent_data_aug\"),\n",
    "                                                     checkpoint_callback])"
   ]
  },
  {
   "cell_type": "code",
   "execution_count": 92,
   "id": "bfaf3760",
   "metadata": {},
   "outputs": [
    {
     "name": "stdout",
     "output_type": "stream",
     "text": [
      "79/79 [==============================] - 8s 96ms/step - loss: 0.6249 - accuracy: 0.8348\n"
     ]
    },
    {
     "data": {
      "text/plain": [
       "[0.6248597502708435, 0.8348000049591064]"
      ]
     },
     "execution_count": 92,
     "metadata": {},
     "output_type": "execute_result"
    }
   ],
   "source": [
    "# What were model_0 results?\n",
    "model_0.evaluate(test_data)"
   ]
  },
  {
   "cell_type": "code",
   "execution_count": 94,
   "id": "efbd258e",
   "metadata": {},
   "outputs": [
    {
     "name": "stdout",
     "output_type": "stream",
     "text": [
      "79/79 [==============================] - 8s 96ms/step - loss: 0.7155 - accuracy: 0.8112\n"
     ]
    },
    {
     "data": {
      "text/plain": [
       "[0.7154952883720398, 0.8112000226974487]"
      ]
     },
     "execution_count": 94,
     "metadata": {},
     "output_type": "execute_result"
    }
   ],
   "source": [
    "# Check model_2 result on all test_data\n",
    "results_10_percent_data_aug = model_2.evaluate(test_data)\n",
    "results_10_percent_data_aug"
   ]
  },
  {
   "cell_type": "code",
   "execution_count": 96,
   "id": "58d643f1",
   "metadata": {},
   "outputs": [
    {
     "data": {
      "image/png": "[encoded data removed]",
      "text/plain": [
       "<Figure size 432x288 with 1 Axes>"
      ]
     },
     "metadata": {
      "needs_background": "light"
     },
     "output_type": "display_data"
    },
    {
     "data": {
      "image/png": "[encoded data removed]",
      "text/plain": [
       "<Figure size 432x288 with 1 Axes>"
      ]
     },
     "metadata": {
      "needs_background": "light"
     },
     "output_type": "display_data"
    }
   ],
   "source": [
    "# plot model loss curves\n",
    "plot_loss_curves(history_10_percent)"
   ]
  },
  {
   "cell_type": "markdown",
   "id": "bb1a6f2a",
   "metadata": {},
   "source": [
    "### Loadding in checkpointed weights\n",
    "\n",
    "Loading in checkpointed weights returns a model to specific checkpoint."
   ]
  },
  {
   "cell_type": "code",
   "execution_count": 98,
   "id": "024ea6d6",
   "metadata": {},
   "outputs": [
    {
     "data": {
      "text/plain": [
       "<tensorflow.python.training.tracking.util.CheckpointLoadStatus at 0x1df769e3f98>"
      ]
     },
     "execution_count": 98,
     "metadata": {},
     "output_type": "execute_result"
    }
   ],
   "source": [
    "# Load in saved model weights and evaluate model\n",
    "model_2.load_weights(checkpoint_path)"
   ]
  },
  {
   "cell_type": "code",
   "execution_count": 99,
   "id": "8ee2c19d",
   "metadata": {},
   "outputs": [
    {
     "name": "stdout",
     "output_type": "stream",
     "text": [
      "79/79 [==============================] - 8s 94ms/step - loss: 0.7155 - accuracy: 0.8112\n"
     ]
    }
   ],
   "source": [
    "# Evaluate model_2 with loaded weights\n",
    "loaded_weights_model_results = model_2.evaluate(test_data)"
   ]
  },
  {
   "cell_type": "code",
   "execution_count": 100,
   "id": "cfc76897",
   "metadata": {},
   "outputs": [
    {
     "data": {
      "text/plain": [
       "False"
      ]
     },
     "execution_count": 100,
     "metadata": {},
     "output_type": "execute_result"
    }
   ],
   "source": [
    "# If the result from our previously evaluated model_2 match the loaded weights, everything has work.\n",
    "results_10_percent_data_aug == loaded_weights_model_results"
   ]
  },
  {
   "cell_type": "code",
   "execution_count": 101,
   "id": "b316c578",
   "metadata": {},
   "outputs": [
    {
     "data": {
      "text/plain": [
       "[0.7154952883720398, 0.8112000226974487]"
      ]
     },
     "execution_count": 101,
     "metadata": {},
     "output_type": "execute_result"
    }
   ],
   "source": [
    "results_10_percent_data_aug"
   ]
  },
  {
   "cell_type": "code",
   "execution_count": 102,
   "id": "7982bb93",
   "metadata": {},
   "outputs": [
    {
     "data": {
      "text/plain": [
       "[0.7154951691627502, 0.8112000226974487]"
      ]
     },
     "execution_count": 102,
     "metadata": {},
     "output_type": "execute_result"
    }
   ],
   "source": [
    "loaded_weights_model_results"
   ]
  },
  {
   "cell_type": "code",
   "execution_count": 103,
   "id": "66797bd8",
   "metadata": {},
   "outputs": [
    {
     "data": {
      "text/plain": [
       "array([ True,  True])"
      ]
     },
     "execution_count": 103,
     "metadata": {},
     "output_type": "execute_result"
    }
   ],
   "source": [
    "# Check to see if loaded model results are very close to our previious non-loaded model results\n",
    "import numpy as np\n",
    "np.isclose(np.array(results_10_percent_data_aug), np.array(loaded_weights_model_results))"
   ]
  },
  {
   "cell_type": "code",
   "execution_count": 104,
   "id": "8cefced0",
   "metadata": {},
   "outputs": [
    {
     "name": "stdout",
     "output_type": "stream",
     "text": [
      "[1.1920929e-07 0.0000000e+00]\n"
     ]
    }
   ],
   "source": [
    "# Check the difference between the two results\n",
    "print(np.array(results_10_percent_data_aug) - np.array(loaded_weights_model_results))"
   ]
  },
  {
   "cell_type": "markdown",
   "id": "53c14736",
   "metadata": {},
   "source": [
    "# Model 3: Fine-tuning an existing model on 10% of the data\n",
    "\n",
    "> **NOTE:** Fine-tuning usually works best *after* training a feature extraction model for a few epochs with large amounts of custom data."
   ]
  },
  {
   "cell_type": "code",
   "execution_count": 105,
   "id": "c2f0ff78",
   "metadata": {},
   "outputs": [
    {
     "data": {
      "text/plain": [
       "[<keras.engine.input_layer.InputLayer at 0x1df641b3978>,\n",
       " <keras.engine.sequential.Sequential at 0x1df67d0cfd0>,\n",
       " <keras.engine.functional.Functional at 0x1df708bb4a8>,\n",
       " <keras.layers.pooling.GlobalAveragePooling2D at 0x1df708760b8>,\n",
       " <keras.layers.core.Dense at 0x1df4186e278>]"
      ]
     },
     "execution_count": 105,
     "metadata": {},
     "output_type": "execute_result"
    }
   ],
   "source": [
    "# layer in loaded model\n",
    "model_2.layers"
   ]
  },
  {
   "cell_type": "code",
   "execution_count": 106,
   "id": "d628f10a",
   "metadata": {},
   "outputs": [
    {
     "name": "stdout",
     "output_type": "stream",
     "text": [
      "<keras.engine.input_layer.InputLayer object at 0x000001DF641B3978> True\n",
      "<keras.engine.sequential.Sequential object at 0x000001DF67D0CFD0> True\n",
      "<keras.engine.functional.Functional object at 0x000001DF708BB4A8> False\n",
      "<keras.layers.pooling.GlobalAveragePooling2D object at 0x000001DF708760B8> True\n",
      "<keras.layers.core.Dense object at 0x000001DF4186E278> True\n"
     ]
    }
   ],
   "source": [
    "# Are these layers trainable?\n",
    "for layer in model_2.layers:\n",
    "    print(layer, layer.trainable)"
   ]
  },
  {
   "cell_type": "code",
   "execution_count": 109,
   "id": "6869fa0b",
   "metadata": {},
   "outputs": [
    {
     "name": "stdout",
     "output_type": "stream",
     "text": [
      "0\n"
     ]
    }
   ],
   "source": [
    "# How many trainable variables are in our base model?\n",
    "print(len(model_2.layers[2].trainable_variables))  # layer at index 2 is the EfficientNetB0 layer (the base model)"
   ]
  },
  {
   "cell_type": "markdown",
   "id": "0b2b9401",
   "metadata": {},
   "source": [
    "We can even check layer by layer to see if the they're trainable."
   ]
  },
  {
   "cell_type": "code",
   "execution_count": 108,
   "id": "6ef6444a",
   "metadata": {},
   "outputs": [
    {
     "name": "stdout",
     "output_type": "stream",
     "text": [
      "0 input_5 False\n",
      "1 rescaling_4 False\n",
      "2 normalization_4 False\n",
      "3 stem_conv_pad False\n",
      "4 stem_conv False\n",
      "5 stem_bn False\n",
      "6 stem_activation False\n",
      "7 block1a_dwconv False\n",
      "8 block1a_bn False\n",
      "9 block1a_activation False\n",
      "10 block1a_se_squeeze False\n",
      "11 block1a_se_reshape False\n",
      "12 block1a_se_reduce False\n",
      "13 block1a_se_expand False\n",
      "14 block1a_se_excite False\n",
      "15 block1a_project_conv False\n",
      "16 block1a_project_bn False\n",
      "17 block2a_expand_conv False\n",
      "18 block2a_expand_bn False\n",
      "19 block2a_expand_activation False\n",
      "20 block2a_dwconv_pad False\n",
      "21 block2a_dwconv False\n",
      "22 block2a_bn False\n",
      "23 block2a_activation False\n",
      "24 block2a_se_squeeze False\n",
      "25 block2a_se_reshape False\n",
      "26 block2a_se_reduce False\n",
      "27 block2a_se_expand False\n",
      "28 block2a_se_excite False\n",
      "29 block2a_project_conv False\n",
      "30 block2a_project_bn False\n",
      "31 block2b_expand_conv False\n",
      "32 block2b_expand_bn False\n",
      "33 block2b_expand_activation False\n",
      "34 block2b_dwconv False\n",
      "35 block2b_bn False\n",
      "36 block2b_activation False\n",
      "37 block2b_se_squeeze False\n",
      "38 block2b_se_reshape False\n",
      "39 block2b_se_reduce False\n",
      "40 block2b_se_expand False\n",
      "41 block2b_se_excite False\n",
      "42 block2b_project_conv False\n",
      "43 block2b_project_bn False\n",
      "44 block2b_drop False\n",
      "45 block2b_add False\n",
      "46 block3a_expand_conv False\n",
      "47 block3a_expand_bn False\n",
      "48 block3a_expand_activation False\n",
      "49 block3a_dwconv_pad False\n",
      "50 block3a_dwconv False\n",
      "51 block3a_bn False\n",
      "52 block3a_activation False\n",
      "53 block3a_se_squeeze False\n",
      "54 block3a_se_reshape False\n",
      "55 block3a_se_reduce False\n",
      "56 block3a_se_expand False\n",
      "57 block3a_se_excite False\n",
      "58 block3a_project_conv False\n",
      "59 block3a_project_bn False\n",
      "60 block3b_expand_conv False\n",
      "61 block3b_expand_bn False\n",
      "62 block3b_expand_activation False\n",
      "63 block3b_dwconv False\n",
      "64 block3b_bn False\n",
      "65 block3b_activation False\n",
      "66 block3b_se_squeeze False\n",
      "67 block3b_se_reshape False\n",
      "68 block3b_se_reduce False\n",
      "69 block3b_se_expand False\n",
      "70 block3b_se_excite False\n",
      "71 block3b_project_conv False\n",
      "72 block3b_project_bn False\n",
      "73 block3b_drop False\n",
      "74 block3b_add False\n",
      "75 block4a_expand_conv False\n",
      "76 block4a_expand_bn False\n",
      "77 block4a_expand_activation False\n",
      "78 block4a_dwconv_pad False\n",
      "79 block4a_dwconv False\n",
      "80 block4a_bn False\n",
      "81 block4a_activation False\n",
      "82 block4a_se_squeeze False\n",
      "83 block4a_se_reshape False\n",
      "84 block4a_se_reduce False\n",
      "85 block4a_se_expand False\n",
      "86 block4a_se_excite False\n",
      "87 block4a_project_conv False\n",
      "88 block4a_project_bn False\n",
      "89 block4b_expand_conv False\n",
      "90 block4b_expand_bn False\n",
      "91 block4b_expand_activation False\n",
      "92 block4b_dwconv False\n",
      "93 block4b_bn False\n",
      "94 block4b_activation False\n",
      "95 block4b_se_squeeze False\n",
      "96 block4b_se_reshape False\n",
      "97 block4b_se_reduce False\n",
      "98 block4b_se_expand False\n",
      "99 block4b_se_excite False\n",
      "100 block4b_project_conv False\n",
      "101 block4b_project_bn False\n",
      "102 block4b_drop False\n",
      "103 block4b_add False\n",
      "104 block4c_expand_conv False\n",
      "105 block4c_expand_bn False\n",
      "106 block4c_expand_activation False\n",
      "107 block4c_dwconv False\n",
      "108 block4c_bn False\n",
      "109 block4c_activation False\n",
      "110 block4c_se_squeeze False\n",
      "111 block4c_se_reshape False\n",
      "112 block4c_se_reduce False\n",
      "113 block4c_se_expand False\n",
      "114 block4c_se_excite False\n",
      "115 block4c_project_conv False\n",
      "116 block4c_project_bn False\n",
      "117 block4c_drop False\n",
      "118 block4c_add False\n",
      "119 block5a_expand_conv False\n",
      "120 block5a_expand_bn False\n",
      "121 block5a_expand_activation False\n",
      "122 block5a_dwconv False\n",
      "123 block5a_bn False\n",
      "124 block5a_activation False\n",
      "125 block5a_se_squeeze False\n",
      "126 block5a_se_reshape False\n",
      "127 block5a_se_reduce False\n",
      "128 block5a_se_expand False\n",
      "129 block5a_se_excite False\n",
      "130 block5a_project_conv False\n",
      "131 block5a_project_bn False\n",
      "132 block5b_expand_conv False\n",
      "133 block5b_expand_bn False\n",
      "134 block5b_expand_activation False\n",
      "135 block5b_dwconv False\n",
      "136 block5b_bn False\n",
      "137 block5b_activation False\n",
      "138 block5b_se_squeeze False\n",
      "139 block5b_se_reshape False\n",
      "140 block5b_se_reduce False\n",
      "141 block5b_se_expand False\n",
      "142 block5b_se_excite False\n",
      "143 block5b_project_conv False\n",
      "144 block5b_project_bn False\n",
      "145 block5b_drop False\n",
      "146 block5b_add False\n",
      "147 block5c_expand_conv False\n",
      "148 block5c_expand_bn False\n",
      "149 block5c_expand_activation False\n",
      "150 block5c_dwconv False\n",
      "151 block5c_bn False\n",
      "152 block5c_activation False\n",
      "153 block5c_se_squeeze False\n",
      "154 block5c_se_reshape False\n",
      "155 block5c_se_reduce False\n",
      "156 block5c_se_expand False\n",
      "157 block5c_se_excite False\n",
      "158 block5c_project_conv False\n",
      "159 block5c_project_bn False\n",
      "160 block5c_drop False\n",
      "161 block5c_add False\n",
      "162 block6a_expand_conv False\n",
      "163 block6a_expand_bn False\n",
      "164 block6a_expand_activation False\n",
      "165 block6a_dwconv_pad False\n",
      "166 block6a_dwconv False\n",
      "167 block6a_bn False\n",
      "168 block6a_activation False\n",
      "169 block6a_se_squeeze False\n",
      "170 block6a_se_reshape False\n",
      "171 block6a_se_reduce False\n",
      "172 block6a_se_expand False\n",
      "173 block6a_se_excite False\n",
      "174 block6a_project_conv False\n",
      "175 block6a_project_bn False\n",
      "176 block6b_expand_conv False\n",
      "177 block6b_expand_bn False\n",
      "178 block6b_expand_activation False\n",
      "179 block6b_dwconv False\n",
      "180 block6b_bn False\n",
      "181 block6b_activation False\n",
      "182 block6b_se_squeeze False\n",
      "183 block6b_se_reshape False\n",
      "184 block6b_se_reduce False\n",
      "185 block6b_se_expand False\n",
      "186 block6b_se_excite False\n",
      "187 block6b_project_conv False\n",
      "188 block6b_project_bn False\n",
      "189 block6b_drop False\n",
      "190 block6b_add False\n",
      "191 block6c_expand_conv False\n",
      "192 block6c_expand_bn False\n",
      "193 block6c_expand_activation False\n",
      "194 block6c_dwconv False\n",
      "195 block6c_bn False\n",
      "196 block6c_activation False\n",
      "197 block6c_se_squeeze False\n",
      "198 block6c_se_reshape False\n",
      "199 block6c_se_reduce False\n",
      "200 block6c_se_expand False\n",
      "201 block6c_se_excite False\n",
      "202 block6c_project_conv False\n",
      "203 block6c_project_bn False\n",
      "204 block6c_drop False\n",
      "205 block6c_add False\n",
      "206 block6d_expand_conv False\n",
      "207 block6d_expand_bn False\n",
      "208 block6d_expand_activation False\n",
      "209 block6d_dwconv False\n",
      "210 block6d_bn False\n",
      "211 block6d_activation False\n",
      "212 block6d_se_squeeze False\n",
      "213 block6d_se_reshape False\n",
      "214 block6d_se_reduce False\n",
      "215 block6d_se_expand False\n",
      "216 block6d_se_excite False\n",
      "217 block6d_project_conv False\n",
      "218 block6d_project_bn False\n",
      "219 block6d_drop False\n",
      "220 block6d_add False\n",
      "221 block7a_expand_conv False\n",
      "222 block7a_expand_bn False\n",
      "223 block7a_expand_activation False\n",
      "224 block7a_dwconv False\n",
      "225 block7a_bn False\n",
      "226 block7a_activation False\n",
      "227 block7a_se_squeeze False\n",
      "228 block7a_se_reshape False\n",
      "229 block7a_se_reduce False\n",
      "230 block7a_se_expand False\n",
      "231 block7a_se_excite False\n",
      "232 block7a_project_conv False\n",
      "233 block7a_project_bn False\n",
      "234 top_conv False\n",
      "235 top_bn False\n",
      "236 top_activation False\n"
     ]
    }
   ],
   "source": [
    "# What layers are in our base_model (EfficientNetB0) and are they trainable?\n",
    "for i, layer in enumerate(model_2.layers[2].layers):\n",
    "    print(i, layer.name, layer.trainable)"
   ]
  },
  {
   "cell_type": "markdown",
   "id": "24033916",
   "metadata": {},
   "source": [
    "Now to fine-tune the base model to our own data, we're going to unfreeze the top 10 layers and continue training our model for another 5 epochs.\n",
    "\n",
    "This means all of the base model's layers except for the last 10 will remain frozen and untrainable. And the weights in the remaining unfrozen layers will be updated during training.\n",
    "\n",
    "Ideally, we should see the model's performance improve.\n",
    "\n",
    "> **Question:** How many layers should you unfreeze when training?\n",
    "\n",
    "There's no set rule for this. You could unfreeze every layer in the pretrained model or you could try unfreezing one layer at a time. Best to experiment with different amounts of unfreezing and fine-tuning to see what happens. Generally, the less data you have, the less layers you want to unfreeze and the more gradually you want to fine-tune.\n",
    "\n",
    "> **Resource:** The [ULMFiT (Universal Language Model Fine-tuning for Text Classification) paper](https://arxiv.org/abs/1801.06146) has a great series of experiments on fine-tuning models.\n",
    "\n",
    "To begin fine-tuning, we'll unfreeze the entire base model by setting its `trainable` attribute to `True`. Then we'll refreeze every layer in the base model except for the last 10 by looping through them and setting their `trainable` attribute to `False`. Finally, we'll recompile the model."
   ]
  },
  {
   "cell_type": "code",
   "execution_count": 111,
   "id": "011142bc",
   "metadata": {},
   "outputs": [
    {
     "name": "stderr",
     "output_type": "stream",
     "text": [
      "C:\\Users\\LENOVO\\miniconda3\\envs\\tensorflow\\lib\\site-packages\\keras\\optimizer_v2\\optimizer_v2.py:356: UserWarning: The `lr` argument is deprecated, use `learning_rate` instead.\n",
      "  \"The `lr` argument is deprecated, use `learning_rate` instead.\")\n"
     ]
    }
   ],
   "source": [
    "# To begin fine-tuning, let's start by setting the last 10 layers of our base_model.trainable = True\n",
    "base_model.trainable = True\n",
    "\n",
    "# Freeze all layers except for the last 10\n",
    "for layer in base_model.layers[:-10]:\n",
    "    layer.trainable = False\n",
    "\n",
    "# Recompile (we have to recompile our models every time we mmake a change)\n",
    "model_2.compile(loss=\"categorical_crossentropy\",\n",
    "               optimizer=tf.keras.optimizers.Adam(lr=0.0001), # when fine-tuning you typically want to lower the learning rate by 10x\n",
    "               metrics=[\"accuracy\"])"
   ]
  },
  {
   "cell_type": "code",
   "execution_count": null,
   "id": "032d792f",
   "metadata": {},
   "outputs": [],
   "source": []
  },
  {
   "cell_type": "code",
   "execution_count": 113,
   "id": "f670afa8",
   "metadata": {},
   "outputs": [
    {
     "name": "stdout",
     "output_type": "stream",
     "text": [
      "0 input_5 False\n",
      "1 rescaling_4 False\n",
      "2 normalization_4 False\n",
      "3 stem_conv_pad False\n",
      "4 stem_conv False\n",
      "5 stem_bn False\n",
      "6 stem_activation False\n",
      "7 block1a_dwconv False\n",
      "8 block1a_bn False\n",
      "9 block1a_activation False\n",
      "10 block1a_se_squeeze False\n",
      "11 block1a_se_reshape False\n",
      "12 block1a_se_reduce False\n",
      "13 block1a_se_expand False\n",
      "14 block1a_se_excite False\n",
      "15 block1a_project_conv False\n",
      "16 block1a_project_bn False\n",
      "17 block2a_expand_conv False\n",
      "18 block2a_expand_bn False\n",
      "19 block2a_expand_activation False\n",
      "20 block2a_dwconv_pad False\n",
      "21 block2a_dwconv False\n",
      "22 block2a_bn False\n",
      "23 block2a_activation False\n",
      "24 block2a_se_squeeze False\n",
      "25 block2a_se_reshape False\n",
      "26 block2a_se_reduce False\n",
      "27 block2a_se_expand False\n",
      "28 block2a_se_excite False\n",
      "29 block2a_project_conv False\n",
      "30 block2a_project_bn False\n",
      "31 block2b_expand_conv False\n",
      "32 block2b_expand_bn False\n",
      "33 block2b_expand_activation False\n",
      "34 block2b_dwconv False\n",
      "35 block2b_bn False\n",
      "36 block2b_activation False\n",
      "37 block2b_se_squeeze False\n",
      "38 block2b_se_reshape False\n",
      "39 block2b_se_reduce False\n",
      "40 block2b_se_expand False\n",
      "41 block2b_se_excite False\n",
      "42 block2b_project_conv False\n",
      "43 block2b_project_bn False\n",
      "44 block2b_drop False\n",
      "45 block2b_add False\n",
      "46 block3a_expand_conv False\n",
      "47 block3a_expand_bn False\n",
      "48 block3a_expand_activation False\n",
      "49 block3a_dwconv_pad False\n",
      "50 block3a_dwconv False\n",
      "51 block3a_bn False\n",
      "52 block3a_activation False\n",
      "53 block3a_se_squeeze False\n",
      "54 block3a_se_reshape False\n",
      "55 block3a_se_reduce False\n",
      "56 block3a_se_expand False\n",
      "57 block3a_se_excite False\n",
      "58 block3a_project_conv False\n",
      "59 block3a_project_bn False\n",
      "60 block3b_expand_conv False\n",
      "61 block3b_expand_bn False\n",
      "62 block3b_expand_activation False\n",
      "63 block3b_dwconv False\n",
      "64 block3b_bn False\n",
      "65 block3b_activation False\n",
      "66 block3b_se_squeeze False\n",
      "67 block3b_se_reshape False\n",
      "68 block3b_se_reduce False\n",
      "69 block3b_se_expand False\n",
      "70 block3b_se_excite False\n",
      "71 block3b_project_conv False\n",
      "72 block3b_project_bn False\n",
      "73 block3b_drop False\n",
      "74 block3b_add False\n",
      "75 block4a_expand_conv False\n",
      "76 block4a_expand_bn False\n",
      "77 block4a_expand_activation False\n",
      "78 block4a_dwconv_pad False\n",
      "79 block4a_dwconv False\n",
      "80 block4a_bn False\n",
      "81 block4a_activation False\n",
      "82 block4a_se_squeeze False\n",
      "83 block4a_se_reshape False\n",
      "84 block4a_se_reduce False\n",
      "85 block4a_se_expand False\n",
      "86 block4a_se_excite False\n",
      "87 block4a_project_conv False\n",
      "88 block4a_project_bn False\n",
      "89 block4b_expand_conv False\n",
      "90 block4b_expand_bn False\n",
      "91 block4b_expand_activation False\n",
      "92 block4b_dwconv False\n",
      "93 block4b_bn False\n",
      "94 block4b_activation False\n",
      "95 block4b_se_squeeze False\n",
      "96 block4b_se_reshape False\n",
      "97 block4b_se_reduce False\n",
      "98 block4b_se_expand False\n",
      "99 block4b_se_excite False\n",
      "100 block4b_project_conv False\n",
      "101 block4b_project_bn False\n",
      "102 block4b_drop False\n",
      "103 block4b_add False\n",
      "104 block4c_expand_conv False\n",
      "105 block4c_expand_bn False\n",
      "106 block4c_expand_activation False\n",
      "107 block4c_dwconv False\n",
      "108 block4c_bn False\n",
      "109 block4c_activation False\n",
      "110 block4c_se_squeeze False\n",
      "111 block4c_se_reshape False\n",
      "112 block4c_se_reduce False\n",
      "113 block4c_se_expand False\n",
      "114 block4c_se_excite False\n",
      "115 block4c_project_conv False\n",
      "116 block4c_project_bn False\n",
      "117 block4c_drop False\n",
      "118 block4c_add False\n",
      "119 block5a_expand_conv False\n",
      "120 block5a_expand_bn False\n",
      "121 block5a_expand_activation False\n",
      "122 block5a_dwconv False\n",
      "123 block5a_bn False\n",
      "124 block5a_activation False\n",
      "125 block5a_se_squeeze False\n",
      "126 block5a_se_reshape False\n",
      "127 block5a_se_reduce False\n",
      "128 block5a_se_expand False\n",
      "129 block5a_se_excite False\n",
      "130 block5a_project_conv False\n",
      "131 block5a_project_bn False\n",
      "132 block5b_expand_conv False\n",
      "133 block5b_expand_bn False\n",
      "134 block5b_expand_activation False\n",
      "135 block5b_dwconv False\n",
      "136 block5b_bn False\n",
      "137 block5b_activation False\n",
      "138 block5b_se_squeeze False\n",
      "139 block5b_se_reshape False\n",
      "140 block5b_se_reduce False\n",
      "141 block5b_se_expand False\n",
      "142 block5b_se_excite False\n",
      "143 block5b_project_conv False\n",
      "144 block5b_project_bn False\n",
      "145 block5b_drop False\n",
      "146 block5b_add False\n",
      "147 block5c_expand_conv False\n",
      "148 block5c_expand_bn False\n",
      "149 block5c_expand_activation False\n",
      "150 block5c_dwconv False\n",
      "151 block5c_bn False\n",
      "152 block5c_activation False\n",
      "153 block5c_se_squeeze False\n",
      "154 block5c_se_reshape False\n",
      "155 block5c_se_reduce False\n",
      "156 block5c_se_expand False\n",
      "157 block5c_se_excite False\n",
      "158 block5c_project_conv False\n",
      "159 block5c_project_bn False\n",
      "160 block5c_drop False\n",
      "161 block5c_add False\n",
      "162 block6a_expand_conv False\n",
      "163 block6a_expand_bn False\n",
      "164 block6a_expand_activation False\n",
      "165 block6a_dwconv_pad False\n",
      "166 block6a_dwconv False\n",
      "167 block6a_bn False\n",
      "168 block6a_activation False\n",
      "169 block6a_se_squeeze False\n",
      "170 block6a_se_reshape False\n",
      "171 block6a_se_reduce False\n",
      "172 block6a_se_expand False\n",
      "173 block6a_se_excite False\n",
      "174 block6a_project_conv False\n",
      "175 block6a_project_bn False\n",
      "176 block6b_expand_conv False\n",
      "177 block6b_expand_bn False\n",
      "178 block6b_expand_activation False\n",
      "179 block6b_dwconv False\n",
      "180 block6b_bn False\n",
      "181 block6b_activation False\n",
      "182 block6b_se_squeeze False\n",
      "183 block6b_se_reshape False\n",
      "184 block6b_se_reduce False\n",
      "185 block6b_se_expand False\n",
      "186 block6b_se_excite False\n",
      "187 block6b_project_conv False\n",
      "188 block6b_project_bn False\n",
      "189 block6b_drop False\n",
      "190 block6b_add False\n",
      "191 block6c_expand_conv False\n",
      "192 block6c_expand_bn False\n",
      "193 block6c_expand_activation False\n",
      "194 block6c_dwconv False\n",
      "195 block6c_bn False\n",
      "196 block6c_activation False\n",
      "197 block6c_se_squeeze False\n",
      "198 block6c_se_reshape False\n",
      "199 block6c_se_reduce False\n",
      "200 block6c_se_expand False\n",
      "201 block6c_se_excite False\n",
      "202 block6c_project_conv False\n",
      "203 block6c_project_bn False\n",
      "204 block6c_drop False\n",
      "205 block6c_add False\n",
      "206 block6d_expand_conv False\n",
      "207 block6d_expand_bn False\n",
      "208 block6d_expand_activation False\n",
      "209 block6d_dwconv False\n",
      "210 block6d_bn False\n",
      "211 block6d_activation False\n",
      "212 block6d_se_squeeze False\n",
      "213 block6d_se_reshape False\n",
      "214 block6d_se_reduce False\n",
      "215 block6d_se_expand False\n",
      "216 block6d_se_excite False\n",
      "217 block6d_project_conv False\n",
      "218 block6d_project_bn False\n",
      "219 block6d_drop False\n",
      "220 block6d_add False\n",
      "221 block7a_expand_conv False\n",
      "222 block7a_expand_bn False\n",
      "223 block7a_expand_activation False\n",
      "224 block7a_dwconv False\n",
      "225 block7a_bn False\n",
      "226 block7a_activation False\n",
      "227 block7a_se_squeeze True\n",
      "228 block7a_se_reshape True\n",
      "229 block7a_se_reduce True\n",
      "230 block7a_se_expand True\n",
      "231 block7a_se_excite True\n",
      "232 block7a_project_conv True\n",
      "233 block7a_project_bn True\n",
      "234 top_conv True\n",
      "235 top_bn True\n",
      "236 top_activation True\n"
     ]
    }
   ],
   "source": [
    "# Check which layers are tunable (trainable)\n",
    "for layer_number, layer in enumerate(model_2.layers[2].layers):\n",
    "    print(layer_number, layer.name, layer.trainable)"
   ]
  },
  {
   "cell_type": "code",
   "execution_count": 114,
   "id": "f7f2bf8e",
   "metadata": {},
   "outputs": [
    {
     "name": "stdout",
     "output_type": "stream",
     "text": [
      "12\n"
     ]
    }
   ],
   "source": [
    "# Now we've unfrozen some of the layers closer to the top, how many trainable variable are there?\n",
    "print(len(model_2.trainable_variables))"
   ]
  },
  {
   "cell_type": "code",
   "execution_count": 116,
   "id": "994ea80c",
   "metadata": {},
   "outputs": [
    {
     "name": "stdout",
     "output_type": "stream",
     "text": [
      "Saving TensorBoard log files to: transfer_learning/10_percent_fine_tune_last_10/20220630-225654\n",
      "Epoch 5/10\n"
     ]
    },
    {
     "name": "stderr",
     "output_type": "stream",
     "text": [
      "C:\\Users\\LENOVO\\miniconda3\\envs\\tensorflow\\lib\\site-packages\\keras\\utils\\generic_utils.py:497: CustomMaskWarning: Custom mask layers require a config and must override get_config. When loading, the custom mask layer must be passed to the custom_objects argument.\n",
      "  category=CustomMaskWarning)\n"
     ]
    },
    {
     "name": "stdout",
     "output_type": "stream",
     "text": [
      "24/24 [==============================] - 21s 632ms/step - loss: 0.7426 - accuracy: 0.7800 - val_loss: 0.5703 - val_accuracy: 0.8273\n",
      "Epoch 6/10\n",
      "24/24 [==============================] - 11s 462ms/step - loss: 0.5963 - accuracy: 0.8173 - val_loss: 0.5418 - val_accuracy: 0.8174\n",
      "Epoch 7/10\n",
      "24/24 [==============================] - 11s 463ms/step - loss: 0.5117 - accuracy: 0.8280 - val_loss: 0.5452 - val_accuracy: 0.8207\n",
      "Epoch 8/10\n",
      "24/24 [==============================] - 11s 455ms/step - loss: 0.5107 - accuracy: 0.8307 - val_loss: 0.5452 - val_accuracy: 0.8109\n",
      "Epoch 9/10\n",
      "24/24 [==============================] - 11s 470ms/step - loss: 0.4310 - accuracy: 0.8667 - val_loss: 0.5348 - val_accuracy: 0.8158\n",
      "Epoch 10/10\n",
      "24/24 [==============================] - 9s 390ms/step - loss: 0.4290 - accuracy: 0.8667 - val_loss: 0.4985 - val_accuracy: 0.8306\n"
     ]
    }
   ],
   "source": [
    "# Fine tune for another 5 epochs\n",
    "fine_tune_epochs = initial_epochs + 5\n",
    "\n",
    "# Refit the model (same as model_2 except with more trainable layers)\n",
    "history_fine_10_percent_data_aug = model_2.fit(train_data_10_percent,\n",
    "                                              epochs=fine_tune_epochs,\n",
    "                                              validation_data=test_data,\n",
    "                                              validation_steps=int(0.25 * len(test_data)),\n",
    "                                              initial_epoch=history_10_percent_data_aug.epoch[-1], # start training from previous last epochs\n",
    "                                              callbacks=[create_tensorboard_callback(dir_name=\"transfer_learning\",\n",
    "                                                                                    experiment_name=\"10_percent_fine_tune_last_10\")])"
   ]
  },
  {
   "cell_type": "code",
   "execution_count": 119,
   "id": "83d634ea",
   "metadata": {},
   "outputs": [
    {
     "name": "stdout",
     "output_type": "stream",
     "text": [
      "79/79 [==============================] - 8s 94ms/step - loss: 0.5094 - accuracy: 0.8276\n"
     ]
    }
   ],
   "source": [
    "# Evaluate the fine-tuned model (model_3 which is actually model_2 fine-tuned for another 5 epochs)\n",
    "results_fine_tune_10_percent = model_2.evaluate(test_data)"
   ]
  },
  {
   "cell_type": "code",
   "execution_count": 120,
   "id": "9877780f",
   "metadata": {},
   "outputs": [
    {
     "data": {
      "text/plain": [
       "[0.7154952883720398, 0.8112000226974487]"
      ]
     },
     "execution_count": 120,
     "metadata": {},
     "output_type": "execute_result"
    }
   ],
   "source": [
    "results_10_percent_data_aug"
   ]
  },
  {
   "cell_type": "code",
   "execution_count": 121,
   "id": "4bec0df8",
   "metadata": {},
   "outputs": [
    {
     "data": {
      "image/png": "[encoded data removed]",
      "text/plain": [
       "<Figure size 432x288 with 1 Axes>"
      ]
     },
     "metadata": {
      "needs_background": "light"
     },
     "output_type": "display_data"
    },
    {
     "data": {
      "image/png": "[encoded data removed]",
      "text/plain": [
       "<Figure size 432x288 with 1 Axes>"
      ]
     },
     "metadata": {
      "needs_background": "light"
     },
     "output_type": "display_data"
    }
   ],
   "source": [
    "# check out the loss curves of our fine-tune model\n",
    "plot_loss_curves(history_fine_10_percent_data_aug)"
   ]
  },
  {
   "cell_type": "markdown",
   "id": "446b6ab5",
   "metadata": {},
   "source": [
    "The `plot_loss_curves` function works great with models which have only been fit once, however, we want somthing to compare one series of running `fit()` with another (e.g. before and after fine-tuning)."
   ]
  },
  {
   "cell_type": "code",
   "execution_count": 123,
   "id": "16560e2b",
   "metadata": {},
   "outputs": [],
   "source": [
    "# let's create a function to compare training histories\n",
    "def compare_historys(original_history, new_history, initial_epochs=5):\n",
    "    \"\"\"\n",
    "    Compares two TensorFlow history objects.\n",
    "    \"\"\"\n",
    "    # get original history measurements\n",
    "    acc = original_history.history[\"accuracy\"]\n",
    "    loss = original_history.history[\"loss\"]\n",
    "    \n",
    "    val_acc = original_history.history[\"val_accuracy\"]\n",
    "    val_loss = original_history.history[\"val_loss\"]\n",
    "    \n",
    "    # Combine original history\n",
    "    total_acc = acc + new_history.history[\"accuracy\"]\n",
    "    total_loss = loss + new_history.history[\"loss\"]\n",
    "    \n",
    "    total_val_acc = val_acc + new_history.history[\"val_accuracy\"]\n",
    "    total_val_loss = val_loss + new_history.history[\"val_loss\"]\n",
    "    \n",
    "    # Make plots for accuracy\n",
    "    plt.figure(figsize=(8, 8))\n",
    "    plt.subplot(2, 1, 1)\n",
    "    plt.plot(total_acc, label=\"Training Accuracy\")\n",
    "    plt.plot(total_val_acc, label=\"Val Accuracy\")\n",
    "    plt.plot([initial_epochs-1, initial_epochs-1], plt.ylim(), label=\"Start Fine Tuning\")\n",
    "    plt.legend(loc=\"lower right\")\n",
    "    plt.title(\"Training and Validation Accuracy\")\n",
    "    \n",
    "    # Make plots for accuracy\n",
    "    plt.figure(figsize=(8, 8))\n",
    "    plt.subplot(2, 1, 1)\n",
    "    plt.plot(total_loss, label=\"Training Loss\")\n",
    "    plt.plot(total_val_loss, label=\"Val Loss\")\n",
    "    plt.plot([initial_epochs-1, initial_epochs-1], plt.ylim(), label=\"Start Fine Tuning\")\n",
    "    plt.legend(loc=\"upper right\")\n",
    "    plt.title(\"Training and Validation Loss\")"
   ]
  },
  {
   "cell_type": "code",
   "execution_count": 124,
   "id": "1ed90716",
   "metadata": {},
   "outputs": [
    {
     "data": {
      "image/png": "[encoded data removed]",
      "text/plain": [
       "<Figure size 576x576 with 1 Axes>"
      ]
     },
     "metadata": {
      "needs_background": "light"
     },
     "output_type": "display_data"
    },
    {
     "data": {
      "image/png": "[encoded data removed]",
      "text/plain": [
       "<Figure size 576x576 with 1 Axes>"
      ]
     },
     "metadata": {
      "needs_background": "light"
     },
     "output_type": "display_data"
    }
   ],
   "source": [
    "compare_historys(history_10_percent_data_aug,\n",
    "                history_fine_10_percent_data_aug,\n",
    "                initial_epochs=5)"
   ]
  },
  {
   "cell_type": "markdown",
   "id": "3aeb590b",
   "metadata": {},
   "source": [
    "# Model 4: Fine-tuning and existing model on all of the data"
   ]
  },
  {
   "cell_type": "code",
   "execution_count": 125,
   "id": "5b1ec673",
   "metadata": {},
   "outputs": [],
   "source": [
    "# Download and unzip data - preprocessed from Food101\n",
    "import urllib.request\n",
    "url = 'https://storage.googleapis.com/ztm_tf_course/food_vision/10_food_classes_all_data.zip'\n",
    "filename = '10_food_classes_all_data.zip'\n",
    "urllib.request.urlretrieve(url, filename)\n",
    "\n",
    "#  unzip data\n",
    "unzip_data(filename)"
   ]
  },
  {
   "cell_type": "code",
   "execution_count": 126,
   "id": "d8bae7d9",
   "metadata": {},
   "outputs": [],
   "source": [
    "# setup training and test dir\n",
    "train_dir = \"10_food_classes_all_data/train\"\n",
    "test_dir = \"10_food_classes_all_data/test\""
   ]
  },
  {
   "cell_type": "code",
   "execution_count": 127,
   "id": "db5a1e5d",
   "metadata": {},
   "outputs": [
    {
     "name": "stdout",
     "output_type": "stream",
     "text": [
      "There are 2 directories and 0 images in '10_food_classes_all_data'.\n",
      "There are 10 directories and 0 images in '10_food_classes_all_data\\test'.\n",
      "There are 0 directories and 250 images in '10_food_classes_all_data\\test\\chicken_curry'.\n",
      "There are 0 directories and 250 images in '10_food_classes_all_data\\test\\chicken_wings'.\n",
      "There are 0 directories and 250 images in '10_food_classes_all_data\\test\\fried_rice'.\n",
      "There are 0 directories and 250 images in '10_food_classes_all_data\\test\\grilled_salmon'.\n",
      "There are 0 directories and 250 images in '10_food_classes_all_data\\test\\hamburger'.\n",
      "There are 0 directories and 250 images in '10_food_classes_all_data\\test\\ice_cream'.\n",
      "There are 0 directories and 250 images in '10_food_classes_all_data\\test\\pizza'.\n",
      "There are 0 directories and 250 images in '10_food_classes_all_data\\test\\ramen'.\n",
      "There are 0 directories and 250 images in '10_food_classes_all_data\\test\\steak'.\n",
      "There are 0 directories and 250 images in '10_food_classes_all_data\\test\\sushi'.\n",
      "There are 10 directories and 0 images in '10_food_classes_all_data\\train'.\n",
      "There are 0 directories and 750 images in '10_food_classes_all_data\\train\\chicken_curry'.\n",
      "There are 0 directories and 750 images in '10_food_classes_all_data\\train\\chicken_wings'.\n",
      "There are 0 directories and 750 images in '10_food_classes_all_data\\train\\fried_rice'.\n",
      "There are 0 directories and 750 images in '10_food_classes_all_data\\train\\grilled_salmon'.\n",
      "There are 0 directories and 750 images in '10_food_classes_all_data\\train\\hamburger'.\n",
      "There are 0 directories and 750 images in '10_food_classes_all_data\\train\\ice_cream'.\n",
      "There are 0 directories and 750 images in '10_food_classes_all_data\\train\\pizza'.\n",
      "There are 0 directories and 750 images in '10_food_classes_all_data\\train\\ramen'.\n",
      "There are 0 directories and 750 images in '10_food_classes_all_data\\train\\steak'.\n",
      "There are 0 directories and 750 images in '10_food_classes_all_data\\train\\sushi'.\n"
     ]
    }
   ],
   "source": [
    "# How many images are we working with now?\n",
    "walk_through_dir(\"10_food_classes_all_data\")"
   ]
  },
  {
   "cell_type": "code",
   "execution_count": 128,
   "id": "aa615553",
   "metadata": {},
   "outputs": [
    {
     "name": "stdout",
     "output_type": "stream",
     "text": [
      "Found 7500 files belonging to 10 classes.\n",
      "Found 2500 files belonging to 10 classes.\n"
     ]
    }
   ],
   "source": [
    "# setup data input\n",
    "import tensorflow as tf\n",
    "IMG_SIZE = (224, 224)\n",
    "BATCH_SIZE = 32\n",
    "train_data_10_classes_full = tf.keras.preprocessing.image_dataset_from_directory(train_dir,\n",
    "                                                                                image_size=IMG_SIZE,\n",
    "                                                                                batch_size=BATCH_SIZE,\n",
    "                                                                                label_mode=\"categorical\")\n",
    "test_data = tf.keras.preprocessing.image_dataset_from_directory(test_dir,\n",
    "                                                               image_size=IMG_SIZE,\n",
    "                                                               batch_size=BATCH_SIZE,\n",
    "                                                               label_mode=\"categorical\")"
   ]
  },
  {
   "cell_type": "markdown",
   "id": "1a2f6137",
   "metadata": {},
   "source": [
    "The test dataset we've loadded in is the same as what we've been using for previous experiments (all experiments have used the same test dataset)"
   ]
  },
  {
   "cell_type": "code",
   "execution_count": 129,
   "id": "79383cf8",
   "metadata": {},
   "outputs": [
    {
     "name": "stdout",
     "output_type": "stream",
     "text": [
      "79/79 [==============================] - 8s 95ms/step - loss: 0.5094 - accuracy: 0.8276\n"
     ]
    },
    {
     "data": {
      "text/plain": [
       "[0.509421169757843, 0.8276000022888184]"
      ]
     },
     "execution_count": 129,
     "metadata": {},
     "output_type": "execute_result"
    }
   ],
   "source": [
    "# Evaluate the model 2 (this is the fine-tuned on 10 percet of data version)\n",
    "model_2.evaluate(test_data)"
   ]
  },
  {
   "cell_type": "code",
   "execution_count": 130,
   "id": "8a12a7ba",
   "metadata": {},
   "outputs": [
    {
     "data": {
      "text/plain": [
       "[0.5094212889671326, 0.8276000022888184]"
      ]
     },
     "execution_count": 130,
     "metadata": {},
     "output_type": "execute_result"
    }
   ],
   "source": [
    "results_fine_tune_10_percent"
   ]
  },
  {
   "cell_type": "markdown",
   "id": "d03d1b3f",
   "metadata": {},
   "source": [
    "To train a fine-tuning model (model_4) we need to revert model_2 back to its feature extraction weights"
   ]
  },
  {
   "cell_type": "code",
   "execution_count": 131,
   "id": "b5d4d6fd",
   "metadata": {},
   "outputs": [
    {
     "data": {
      "text/plain": [
       "<tensorflow.python.training.tracking.util.CheckpointLoadStatus at 0x1df924edf98>"
      ]
     },
     "execution_count": 131,
     "metadata": {},
     "output_type": "execute_result"
    }
   ],
   "source": [
    "# Load weights from checkpoint, that way we can fine-tune from \n",
    "# the samme stage the 10 percent data model was fine-tuned from\n",
    "model_2.load_weights(checkpoint_path)"
   ]
  },
  {
   "cell_type": "code",
   "execution_count": 132,
   "id": "dd5a07a2",
   "metadata": {},
   "outputs": [
    {
     "name": "stdout",
     "output_type": "stream",
     "text": [
      "79/79 [==============================] - 8s 95ms/step - loss: 0.7155 - accuracy: 0.8112\n"
     ]
    },
    {
     "data": {
      "text/plain": [
       "[0.7154952883720398, 0.8112000226974487]"
      ]
     },
     "execution_count": 132,
     "metadata": {},
     "output_type": "execute_result"
    }
   ],
   "source": [
    "# Let's evaluate model_2 now\n",
    "model_2.evaluate(test_data)"
   ]
  },
  {
   "cell_type": "code",
   "execution_count": 133,
   "id": "88857c9a",
   "metadata": {},
   "outputs": [
    {
     "data": {
      "text/plain": [
       "[0.7154952883720398, 0.8112000226974487]"
      ]
     },
     "execution_count": 133,
     "metadata": {},
     "output_type": "execute_result"
    }
   ],
   "source": [
    "# Check to see if our model_2 has been reverted back to feature extration results\n",
    "results_10_percent_data_aug"
   ]
  },
  {
   "cell_type": "markdown",
   "id": "76499cdd",
   "metadata": {},
   "source": [
    "The previous steps might seem quite confusing but all we've done is:\n",
    "\n",
    "1. Trained a feature extraction transfer learning model for 5 epochs on 10% of the data with data augmentation (model_2) and we saved model's weights using `ModelCheckpoint` callback.\n",
    "2. Fine-Tuned the same model on the same 10% of the data for a further 5 epochs with the top 10 layers of the base model unfrozen (model_3)\n",
    "3. Saved the results and training logs each time.\n",
    "4. Reloaded the model from step 1 to do the same steps as step 2 except this time we're going to use all of the data (model_4)"
   ]
  },
  {
   "cell_type": "code",
   "execution_count": 134,
   "id": "c12568bd",
   "metadata": {},
   "outputs": [
    {
     "name": "stdout",
     "output_type": "stream",
     "text": [
      "0 input_layer True\n",
      "1 data_augmentation True\n",
      "2 efficientnetb0 True\n",
      "3 global_average_pooling_2D True\n",
      "4 output_layer True\n"
     ]
    }
   ],
   "source": [
    "# Check witch layers are tunable in the whole model\n",
    "for layer_number, layer in enumerate(model_2.layers):\n",
    "    print(layer_number, layer.name, layer.trainable)"
   ]
  },
  {
   "cell_type": "code",
   "execution_count": 135,
   "id": "24a1cb88",
   "metadata": {},
   "outputs": [
    {
     "name": "stdout",
     "output_type": "stream",
     "text": [
      "0 input_5 False\n",
      "1 rescaling_4 False\n",
      "2 normalization_4 False\n",
      "3 stem_conv_pad False\n",
      "4 stem_conv False\n",
      "5 stem_bn False\n",
      "6 stem_activation False\n",
      "7 block1a_dwconv False\n",
      "8 block1a_bn False\n",
      "9 block1a_activation False\n",
      "10 block1a_se_squeeze False\n",
      "11 block1a_se_reshape False\n",
      "12 block1a_se_reduce False\n",
      "13 block1a_se_expand False\n",
      "14 block1a_se_excite False\n",
      "15 block1a_project_conv False\n",
      "16 block1a_project_bn False\n",
      "17 block2a_expand_conv False\n",
      "18 block2a_expand_bn False\n",
      "19 block2a_expand_activation False\n",
      "20 block2a_dwconv_pad False\n",
      "21 block2a_dwconv False\n",
      "22 block2a_bn False\n",
      "23 block2a_activation False\n",
      "24 block2a_se_squeeze False\n",
      "25 block2a_se_reshape False\n",
      "26 block2a_se_reduce False\n",
      "27 block2a_se_expand False\n",
      "28 block2a_se_excite False\n",
      "29 block2a_project_conv False\n",
      "30 block2a_project_bn False\n",
      "31 block2b_expand_conv False\n",
      "32 block2b_expand_bn False\n",
      "33 block2b_expand_activation False\n",
      "34 block2b_dwconv False\n",
      "35 block2b_bn False\n",
      "36 block2b_activation False\n",
      "37 block2b_se_squeeze False\n",
      "38 block2b_se_reshape False\n",
      "39 block2b_se_reduce False\n",
      "40 block2b_se_expand False\n",
      "41 block2b_se_excite False\n",
      "42 block2b_project_conv False\n",
      "43 block2b_project_bn False\n",
      "44 block2b_drop False\n",
      "45 block2b_add False\n",
      "46 block3a_expand_conv False\n",
      "47 block3a_expand_bn False\n",
      "48 block3a_expand_activation False\n",
      "49 block3a_dwconv_pad False\n",
      "50 block3a_dwconv False\n",
      "51 block3a_bn False\n",
      "52 block3a_activation False\n",
      "53 block3a_se_squeeze False\n",
      "54 block3a_se_reshape False\n",
      "55 block3a_se_reduce False\n",
      "56 block3a_se_expand False\n",
      "57 block3a_se_excite False\n",
      "58 block3a_project_conv False\n",
      "59 block3a_project_bn False\n",
      "60 block3b_expand_conv False\n",
      "61 block3b_expand_bn False\n",
      "62 block3b_expand_activation False\n",
      "63 block3b_dwconv False\n",
      "64 block3b_bn False\n",
      "65 block3b_activation False\n",
      "66 block3b_se_squeeze False\n",
      "67 block3b_se_reshape False\n",
      "68 block3b_se_reduce False\n",
      "69 block3b_se_expand False\n",
      "70 block3b_se_excite False\n",
      "71 block3b_project_conv False\n",
      "72 block3b_project_bn False\n",
      "73 block3b_drop False\n",
      "74 block3b_add False\n",
      "75 block4a_expand_conv False\n",
      "76 block4a_expand_bn False\n",
      "77 block4a_expand_activation False\n",
      "78 block4a_dwconv_pad False\n",
      "79 block4a_dwconv False\n",
      "80 block4a_bn False\n",
      "81 block4a_activation False\n",
      "82 block4a_se_squeeze False\n",
      "83 block4a_se_reshape False\n",
      "84 block4a_se_reduce False\n",
      "85 block4a_se_expand False\n",
      "86 block4a_se_excite False\n",
      "87 block4a_project_conv False\n",
      "88 block4a_project_bn False\n",
      "89 block4b_expand_conv False\n",
      "90 block4b_expand_bn False\n",
      "91 block4b_expand_activation False\n",
      "92 block4b_dwconv False\n",
      "93 block4b_bn False\n",
      "94 block4b_activation False\n",
      "95 block4b_se_squeeze False\n",
      "96 block4b_se_reshape False\n",
      "97 block4b_se_reduce False\n",
      "98 block4b_se_expand False\n",
      "99 block4b_se_excite False\n",
      "100 block4b_project_conv False\n",
      "101 block4b_project_bn False\n",
      "102 block4b_drop False\n",
      "103 block4b_add False\n",
      "104 block4c_expand_conv False\n",
      "105 block4c_expand_bn False\n",
      "106 block4c_expand_activation False\n",
      "107 block4c_dwconv False\n",
      "108 block4c_bn False\n",
      "109 block4c_activation False\n",
      "110 block4c_se_squeeze False\n",
      "111 block4c_se_reshape False\n",
      "112 block4c_se_reduce False\n",
      "113 block4c_se_expand False\n",
      "114 block4c_se_excite False\n",
      "115 block4c_project_conv False\n",
      "116 block4c_project_bn False\n",
      "117 block4c_drop False\n",
      "118 block4c_add False\n",
      "119 block5a_expand_conv False\n",
      "120 block5a_expand_bn False\n",
      "121 block5a_expand_activation False\n",
      "122 block5a_dwconv False\n",
      "123 block5a_bn False\n",
      "124 block5a_activation False\n",
      "125 block5a_se_squeeze False\n",
      "126 block5a_se_reshape False\n",
      "127 block5a_se_reduce False\n",
      "128 block5a_se_expand False\n",
      "129 block5a_se_excite False\n",
      "130 block5a_project_conv False\n",
      "131 block5a_project_bn False\n",
      "132 block5b_expand_conv False\n",
      "133 block5b_expand_bn False\n",
      "134 block5b_expand_activation False\n",
      "135 block5b_dwconv False\n",
      "136 block5b_bn False\n",
      "137 block5b_activation False\n",
      "138 block5b_se_squeeze False\n",
      "139 block5b_se_reshape False\n",
      "140 block5b_se_reduce False\n",
      "141 block5b_se_expand False\n",
      "142 block5b_se_excite False\n",
      "143 block5b_project_conv False\n",
      "144 block5b_project_bn False\n",
      "145 block5b_drop False\n",
      "146 block5b_add False\n",
      "147 block5c_expand_conv False\n",
      "148 block5c_expand_bn False\n",
      "149 block5c_expand_activation False\n",
      "150 block5c_dwconv False\n",
      "151 block5c_bn False\n",
      "152 block5c_activation False\n",
      "153 block5c_se_squeeze False\n",
      "154 block5c_se_reshape False\n",
      "155 block5c_se_reduce False\n",
      "156 block5c_se_expand False\n",
      "157 block5c_se_excite False\n",
      "158 block5c_project_conv False\n",
      "159 block5c_project_bn False\n",
      "160 block5c_drop False\n",
      "161 block5c_add False\n",
      "162 block6a_expand_conv False\n",
      "163 block6a_expand_bn False\n",
      "164 block6a_expand_activation False\n",
      "165 block6a_dwconv_pad False\n",
      "166 block6a_dwconv False\n",
      "167 block6a_bn False\n",
      "168 block6a_activation False\n",
      "169 block6a_se_squeeze False\n",
      "170 block6a_se_reshape False\n",
      "171 block6a_se_reduce False\n",
      "172 block6a_se_expand False\n",
      "173 block6a_se_excite False\n",
      "174 block6a_project_conv False\n",
      "175 block6a_project_bn False\n",
      "176 block6b_expand_conv False\n",
      "177 block6b_expand_bn False\n",
      "178 block6b_expand_activation False\n",
      "179 block6b_dwconv False\n",
      "180 block6b_bn False\n",
      "181 block6b_activation False\n",
      "182 block6b_se_squeeze False\n",
      "183 block6b_se_reshape False\n",
      "184 block6b_se_reduce False\n",
      "185 block6b_se_expand False\n",
      "186 block6b_se_excite False\n",
      "187 block6b_project_conv False\n",
      "188 block6b_project_bn False\n",
      "189 block6b_drop False\n",
      "190 block6b_add False\n",
      "191 block6c_expand_conv False\n",
      "192 block6c_expand_bn False\n",
      "193 block6c_expand_activation False\n",
      "194 block6c_dwconv False\n",
      "195 block6c_bn False\n",
      "196 block6c_activation False\n",
      "197 block6c_se_squeeze False\n",
      "198 block6c_se_reshape False\n",
      "199 block6c_se_reduce False\n",
      "200 block6c_se_expand False\n",
      "201 block6c_se_excite False\n",
      "202 block6c_project_conv False\n",
      "203 block6c_project_bn False\n",
      "204 block6c_drop False\n",
      "205 block6c_add False\n",
      "206 block6d_expand_conv False\n",
      "207 block6d_expand_bn False\n",
      "208 block6d_expand_activation False\n",
      "209 block6d_dwconv False\n",
      "210 block6d_bn False\n",
      "211 block6d_activation False\n",
      "212 block6d_se_squeeze False\n",
      "213 block6d_se_reshape False\n",
      "214 block6d_se_reduce False\n",
      "215 block6d_se_expand False\n",
      "216 block6d_se_excite False\n",
      "217 block6d_project_conv False\n",
      "218 block6d_project_bn False\n",
      "219 block6d_drop False\n",
      "220 block6d_add False\n",
      "221 block7a_expand_conv False\n",
      "222 block7a_expand_bn False\n",
      "223 block7a_expand_activation False\n",
      "224 block7a_dwconv False\n",
      "225 block7a_bn False\n",
      "226 block7a_activation False\n",
      "227 block7a_se_squeeze True\n",
      "228 block7a_se_reshape True\n",
      "229 block7a_se_reduce True\n",
      "230 block7a_se_expand True\n",
      "231 block7a_se_excite True\n",
      "232 block7a_project_conv True\n",
      "233 block7a_project_bn True\n",
      "234 top_conv True\n",
      "235 top_bn True\n",
      "236 top_activation True\n"
     ]
    }
   ],
   "source": [
    "# Let's drill into our base_model (EfficientNetB0) and see what layers are trainable\n",
    "for layer_number, layer in enumerate(model_2.layers[2].layers):\n",
    "    print(layer_number, layer.name, layer.trainable)"
   ]
  },
  {
   "cell_type": "code",
   "execution_count": 136,
   "id": "253e0948",
   "metadata": {},
   "outputs": [
    {
     "name": "stderr",
     "output_type": "stream",
     "text": [
      "C:\\Users\\LENOVO\\miniconda3\\envs\\tensorflow\\lib\\site-packages\\keras\\optimizer_v2\\optimizer_v2.py:356: UserWarning: The `lr` argument is deprecated, use `learning_rate` instead.\n",
      "  \"The `lr` argument is deprecated, use `learning_rate` instead.\")\n"
     ]
    }
   ],
   "source": [
    "# Compile the model\n",
    "model_2.compile(loss=\"categorical_crossentropy\",\n",
    "               optimizer=tf.keras.optimizers.Adam(lr=0.0001),\n",
    "               metrics=[\"accuracy\"])"
   ]
  },
  {
   "cell_type": "code",
   "execution_count": 137,
   "id": "5a853cea",
   "metadata": {},
   "outputs": [
    {
     "name": "stdout",
     "output_type": "stream",
     "text": [
      "Saving TensorBoard log files to: transfer_learning/full_10_classes_fine_tune_last_10/20220701-091452\n",
      "Epoch 5/10\n"
     ]
    },
    {
     "name": "stderr",
     "output_type": "stream",
     "text": [
      "C:\\Users\\LENOVO\\miniconda3\\envs\\tensorflow\\lib\\site-packages\\keras\\utils\\generic_utils.py:497: CustomMaskWarning: Custom mask layers require a config and must override get_config. When loading, the custom mask layer must be passed to the custom_objects argument.\n",
      "  category=CustomMaskWarning)\n"
     ]
    },
    {
     "name": "stdout",
     "output_type": "stream",
     "text": [
      "235/235 [==============================] - 53s 205ms/step - loss: 0.7461 - accuracy: 0.7599 - val_loss: 0.4271 - val_accuracy: 0.8635\n",
      "Epoch 6/10\n",
      "235/235 [==============================] - 64s 271ms/step - loss: 0.6071 - accuracy: 0.8041 - val_loss: 0.3592 - val_accuracy: 0.8980\n",
      "Epoch 7/10\n",
      "235/235 [==============================] - 60s 255ms/step - loss: 0.5580 - accuracy: 0.8168 - val_loss: 0.3565 - val_accuracy: 0.8882\n",
      "Epoch 8/10\n",
      "235/235 [==============================] - 56s 237ms/step - loss: 0.5001 - accuracy: 0.8413 - val_loss: 0.3657 - val_accuracy: 0.8898\n",
      "Epoch 9/10\n",
      "235/235 [==============================] - 52s 219ms/step - loss: 0.4642 - accuracy: 0.8535 - val_loss: 0.3334 - val_accuracy: 0.9079\n",
      "Epoch 10/10\n",
      "235/235 [==============================] - 50s 210ms/step - loss: 0.4401 - accuracy: 0.8611 - val_loss: 0.2899 - val_accuracy: 0.9161\n"
     ]
    }
   ],
   "source": [
    "# Continue to train and fine-tune the model to our data (100% of training data)\n",
    "fine_tune_epochs  = initial_epochs + 5\n",
    "\n",
    "history_fine_10_classes_full = model_2.fit(train_data_10_classes_full,\n",
    "                                          epochs=fine_tune_epochs,\n",
    "                                          validation_data=test_data,\n",
    "                                          validation_steps=int(0.25 * len(test_data)),\n",
    "                                          initial_epoch=history_10_percent_data_aug.epoch[-1],\n",
    "                                          callbacks=[create_tensorboard_callback(dir_name=\"transfer_learning\",\n",
    "                                                                                experiment_name=\"full_10_classes_fine_tune_last_10\")])"
   ]
  },
  {
   "cell_type": "code",
   "execution_count": 138,
   "id": "bed49d72",
   "metadata": {},
   "outputs": [
    {
     "name": "stdout",
     "output_type": "stream",
     "text": [
      "79/79 [==============================] - 8s 94ms/step - loss: 0.3234 - accuracy: 0.8968\n"
     ]
    },
    {
     "data": {
      "text/plain": [
       "[0.3233560621738434, 0.8967999815940857]"
      ]
     },
     "execution_count": 138,
     "metadata": {},
     "output_type": "execute_result"
    }
   ],
   "source": [
    "# Let's evaluate on all of the test_data\n",
    "results_fine_tune_full_data = model_2.evaluate(test_data)\n",
    "results_fine_tune_full_data"
   ]
  },
  {
   "cell_type": "code",
   "execution_count": 139,
   "id": "2a7b8e7c",
   "metadata": {},
   "outputs": [
    {
     "data": {
      "image/png": "[encoded data removed]",
      "text/plain": [
       "<Figure size 576x576 with 1 Axes>"
      ]
     },
     "metadata": {
      "needs_background": "light"
     },
     "output_type": "display_data"
    },
    {
     "data": {
      "image/png": "[encoded data removed]",
      "text/plain": [
       "<Figure size 576x576 with 1 Axes>"
      ]
     },
     "metadata": {
      "needs_background": "light"
     },
     "output_type": "display_data"
    }
   ],
   "source": [
    "# How did fine-tuning go with more data ?\n",
    "compare_historys(original_history=history_10_percent_data_aug,\n",
    "                new_history=history_fine_10_classes_full,\n",
    "                initial_epochs=5)"
   ]
  },
  {
   "cell_type": "markdown",
   "id": "ba866384",
   "metadata": {},
   "source": [
    "## Viewing our experiment data on TensorBoard\n",
    "\n",
    "> **NOTE:** Anything you upload to Tensorboard.dev is goin to be public. So if you have private data, do not upload "
   ]
  },
  {
   "cell_type": "code",
   "execution_count": null,
   "id": "5aff601a",
   "metadata": {},
   "outputs": [],
   "source": [
    "!tensorboard dev list"
   ]
  },
  {
   "cell_type": "code",
   "execution_count": 143,
   "id": "4827b577",
   "metadata": {
    "scrolled": true
   },
   "outputs": [
    {
     "name": "stdout",
     "output_type": "stream",
     "text": [
      "^C\n"
     ]
    }
   ],
   "source": [
    "# View tensorboard logs of transfer learning modelling experiments (should ~4 models)\n",
    "# Upload TensorBoard dev records\n",
    "!tensorboard dev upload --logdir ./trainsfer_learning \\\n",
    "    --name \"Transfer learning Experiments with 10 Food101 Classes\" \\\n",
    "    --description \"A series of different transfer learning experiments with varying amounts of data and fine-tuning\" \\\n",
    "    --one_shot "
   ]
  }
 ],
 "metadata": {
  "kernelspec": {
   "display_name": "Python 3",
   "language": "python",
   "name": "python3"
  },
  "language_info": {
   "codemirror_mode": {
    "name": "ipython",
    "version": 3
   },
   "file_extension": ".py",
   "mimetype": "text/x-python",
   "name": "python",
   "nbconvert_exporter": "python",
   "pygments_lexer": "ipython3",
   "version": "3.6.13"
  }
 },
 "nbformat": 4,
 "nbformat_minor": 5
}
