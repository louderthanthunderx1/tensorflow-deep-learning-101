{
  "nbformat": 4,
  "nbformat_minor": 0,
  "metadata": {
    "colab": {
      "name": "00-tensorflow-fundamentals-Exercises.ipynb",
      "provenance": []
    },
    "kernelspec": {
      "name": "python3",
      "display_name": "Python 3"
    },
    "language_info": {
      "name": "python"
    }
  },
  "cells": [
    {
      "cell_type": "markdown",
      "source": [
        "# 🪖 00. TensorFlow Fundamentals Exercises\n",
        "\n",
        "1. Create a vector, scalar, matrix and tensor with values of your choosing using `tf.constant()`.\n",
        "2. Find the shape, rank and size of the tensors you created in 1.\n",
        "3. Create two tensors containing random values between 0 and 1 with shape `[5, 300]`.\n",
        "4. Multiply the two tensors you created in 3 using matrix multiplication.\n",
        "5. Multiply the two tensors you created in 3 using dot product.\n",
        "6. Create a tensor with random values between 0 and 1 with shape `[224, 224, 3]`.\n",
        "7. Find the min and max values of the tensor you created in 6 along the first axis.\n",
        "8. Created a tensor with random values of shape `[1, 224, 224, 3]` then squeeze it to change the shape to `[224, 224, 3]`.\n",
        "9. Create a tensor with shape `[10]` using your own choice of values, then find the index which has the maximum value.\n",
        "10. One-hot encode the tensor you created in 9."
      ],
      "metadata": {
        "id": "7-hELLsp5Xn8"
      }
    },
    {
      "cell_type": "code",
      "source": [
        "# initial setting\n",
        "import tensorflow as tf\n",
        "tf.__version__\n",
        "import numpy as np"
      ],
      "metadata": {
        "id": "qhRc4DbS6h48"
      },
      "execution_count": 46,
      "outputs": []
    },
    {
      "cell_type": "markdown",
      "source": [
        "### 1. Create a vector, scalar, matrix and tensor with values of your choosing using `tf.constant()`"
      ],
      "metadata": {
        "id": "WSXiv7ZB5w4g"
      }
    },
    {
      "cell_type": "code",
      "source": [
        "# Create a vector\n",
        "vector = tf.constant([9, 7])\n",
        "\n",
        "# Create a scalar\n",
        "scalar = tf.constant(8)\n",
        "\n",
        "# Create a matrix\n",
        "matrix_1 = tf.constant([[1, 2],\n",
        "                      [3, 4]])\n",
        "\n",
        "matrix_2 = tf.constant([[7, 8],\n",
        "                        [9, 10],\n",
        "                        [11, 12]])\n",
        "\n",
        "# create a tensor\n",
        "tensor = tf.constant([[[1, 2, 3],\n",
        "                      [4, 5, 6]],\n",
        "                     [[7, 8, 9],\n",
        "                      [10, 11, 12]],\n",
        "                      [[13, 14, 15],\n",
        "                       [16, 17, 18]]])\n",
        "\n",
        "vector, scalar, matrix_1, matrix_2, tensor"
      ],
      "metadata": {
        "colab": {
          "base_uri": "https://localhost:8080/"
        },
        "id": "MEEOOPmM6Rsr",
        "outputId": "9e9970c1-05c6-4329-ec08-dc737b4b587f"
      },
      "execution_count": 17,
      "outputs": [
        {
          "output_type": "execute_result",
          "data": {
            "text/plain": [
              "(<tf.Tensor: shape=(2,), dtype=int32, numpy=array([9, 7], dtype=int32)>,\n",
              " <tf.Tensor: shape=(), dtype=int32, numpy=8>,\n",
              " <tf.Tensor: shape=(2, 2), dtype=int32, numpy=\n",
              " array([[1, 2],\n",
              "        [3, 4]], dtype=int32)>,\n",
              " <tf.Tensor: shape=(3, 2), dtype=int32, numpy=\n",
              " array([[ 7,  8],\n",
              "        [ 9, 10],\n",
              "        [11, 12]], dtype=int32)>,\n",
              " <tf.Tensor: shape=(3, 2, 3), dtype=int32, numpy=\n",
              " array([[[ 1,  2,  3],\n",
              "         [ 4,  5,  6]],\n",
              " \n",
              "        [[ 7,  8,  9],\n",
              "         [10, 11, 12]],\n",
              " \n",
              "        [[13, 14, 15],\n",
              "         [16, 17, 18]]], dtype=int32)>)"
            ]
          },
          "metadata": {},
          "execution_count": 17
        }
      ]
    },
    {
      "cell_type": "markdown",
      "source": [
        "### 2. Find the shape, rank and size of the tensors you created in 1."
      ],
      "metadata": {
        "id": "fz-c0E3n6am9"
      }
    },
    {
      "cell_type": "code",
      "source": [
        "# shape, rank, size\n",
        "tensor.shape, tensor.ndim , tf.size(tensor)"
      ],
      "metadata": {
        "colab": {
          "base_uri": "https://localhost:8080/"
        },
        "id": "LgyBoz3f8fIV",
        "outputId": "51fe970f-cd1d-4825-aaaf-0ae183c9613f"
      },
      "execution_count": 20,
      "outputs": [
        {
          "output_type": "execute_result",
          "data": {
            "text/plain": [
              "(TensorShape([3, 2, 3]), 3, <tf.Tensor: shape=(), dtype=int32, numpy=18>)"
            ]
          },
          "metadata": {},
          "execution_count": 20
        }
      ]
    },
    {
      "cell_type": "markdown",
      "source": [
        "###3.Create two tensors containing random values between 0 and 1 with shape `[5, 300]`."
      ],
      "metadata": {
        "id": "KtoK_r9n8tcC"
      }
    },
    {
      "cell_type": "code",
      "source": [
        "# Using tf.random.uniform to create random values between 0 and 1 and set_seed =  42\n",
        "tf.random.set_seed(42)\n",
        "\n",
        "A = tf.random.uniform(shape=[5, 300])\n",
        "B = tf.random.uniform(shape=[5, 300])"
      ],
      "metadata": {
        "id": "EJWMBeq39UxP"
      },
      "execution_count": 40,
      "outputs": []
    },
    {
      "cell_type": "code",
      "source": [
        "A, A.shape, B, B.shape"
      ],
      "metadata": {
        "colab": {
          "base_uri": "https://localhost:8080/"
        },
        "id": "CjUXuNtv90iQ",
        "outputId": "7fe53dee-2c71-4d1c-8e7b-da6078258626"
      },
      "execution_count": 42,
      "outputs": [
        {
          "output_type": "execute_result",
          "data": {
            "text/plain": [
              "(<tf.Tensor: shape=(5, 300), dtype=float32, numpy=\n",
              " array([[0.6645621 , 0.44100678, 0.3528825 , ..., 0.31410468, 0.7593535 ,\n",
              "         0.03699052],\n",
              "        [0.532024  , 0.29129946, 0.10571766, ..., 0.54052293, 0.31425726,\n",
              "         0.2200619 ],\n",
              "        [0.08404207, 0.03614604, 0.97732127, ..., 0.21516645, 0.9786098 ,\n",
              "         0.00726748],\n",
              "        [0.7396945 , 0.6653172 , 0.0787828 , ..., 0.7117733 , 0.07013571,\n",
              "         0.9409125 ],\n",
              "        [0.15861344, 0.12024033, 0.27218235, ..., 0.8824879 , 0.1432488 ,\n",
              "         0.44135118]], dtype=float32)>,\n",
              " TensorShape([5, 300]),\n",
              " <tf.Tensor: shape=(5, 300), dtype=float32, numpy=\n",
              " array([[0.68789124, 0.48447883, 0.9309944 , ..., 0.6920762 , 0.33180213,\n",
              "         0.9212563 ],\n",
              "        [0.27369928, 0.10631859, 0.6218617 , ..., 0.4382149 , 0.30427706,\n",
              "         0.51477313],\n",
              "        [0.00920248, 0.37280262, 0.8177401 , ..., 0.56786287, 0.49201214,\n",
              "         0.9892651 ],\n",
              "        [0.88608265, 0.08672249, 0.12160683, ..., 0.91770685, 0.72545695,\n",
              "         0.8280058 ],\n",
              "        [0.36690474, 0.9200133 , 0.9646884 , ..., 0.69012   , 0.7137332 ,\n",
              "         0.2584542 ]], dtype=float32)>,\n",
              " TensorShape([5, 300]))"
            ]
          },
          "metadata": {},
          "execution_count": 42
        }
      ]
    },
    {
      "cell_type": "markdown",
      "source": [
        "### 4.Multiply the two tensors you created in 3 using matrix multiplication."
      ],
      "metadata": {
        "id": "IgvZmCx1-nDm"
      }
    },
    {
      "cell_type": "code",
      "source": [
        "# using tf.mtmul() and  tf.transpose() shape of B\n",
        "tf.matmul(A, tf.transpose(B))"
      ],
      "metadata": {
        "colab": {
          "base_uri": "https://localhost:8080/"
        },
        "id": "Lal1_ORX-8eq",
        "outputId": "82b262f4-d48b-4759-fdc1-58753d9b5671"
      },
      "execution_count": 44,
      "outputs": [
        {
          "output_type": "execute_result",
          "data": {
            "text/plain": [
              "<tf.Tensor: shape=(5, 5), dtype=float32, numpy=\n",
              "array([[80.33344 , 73.40498 , 77.15962 , 73.98368 , 80.90053 ],\n",
              "       [75.146355, 68.80437 , 74.24302 , 71.841835, 75.60206 ],\n",
              "       [79.7594  , 75.644554, 77.797585, 74.74873 , 80.559845],\n",
              "       [75.085266, 69.06406 , 74.307755, 72.27616 , 76.05668 ],\n",
              "       [85.056885, 74.266266, 78.00687 , 74.88678 , 83.13418 ]],\n",
              "      dtype=float32)>"
            ]
          },
          "metadata": {},
          "execution_count": 44
        }
      ]
    },
    {
      "cell_type": "markdown",
      "source": [
        "### 5.Multiply the two tensors you created in 3 using dot product."
      ],
      "metadata": {
        "id": "vCPKgJOA_ABi"
      }
    },
    {
      "cell_type": "code",
      "source": [
        "# using tf.tensordot() tf.transpose() shape of B and config axes=1\n",
        "tf.tensordot(A, tf.transpose(B), axes=1)"
      ],
      "metadata": {
        "colab": {
          "base_uri": "https://localhost:8080/"
        },
        "id": "aaxAp1nu_V8d",
        "outputId": "3d55d85f-e4df-4c94-fd3e-3a9e674b6f9d"
      },
      "execution_count": 45,
      "outputs": [
        {
          "output_type": "execute_result",
          "data": {
            "text/plain": [
              "<tf.Tensor: shape=(5, 5), dtype=float32, numpy=\n",
              "array([[80.33344 , 73.40498 , 77.15962 , 73.98368 , 80.90053 ],\n",
              "       [75.146355, 68.80437 , 74.24302 , 71.841835, 75.60206 ],\n",
              "       [79.7594  , 75.644554, 77.797585, 74.74873 , 80.559845],\n",
              "       [75.085266, 69.06406 , 74.307755, 72.27616 , 76.05668 ],\n",
              "       [85.056885, 74.266266, 78.00687 , 74.88678 , 83.13418 ]],\n",
              "      dtype=float32)>"
            ]
          },
          "metadata": {},
          "execution_count": 45
        }
      ]
    },
    {
      "cell_type": "markdown",
      "source": [
        "### 6.Create a tensor with random values between 0 and 1 with shape [224, 224, 3]."
      ],
      "metadata": {
        "id": "7qEjC3sl_nC4"
      }
    },
    {
      "cell_type": "code",
      "source": [
        "# using tf.random.uniform()\n",
        "# set_seed = 42\n",
        "tf.random.set_seed(42)\n",
        "\n",
        "C = tf.random.uniform(shape=[224, 224, 3])\n",
        "C"
      ],
      "metadata": {
        "colab": {
          "base_uri": "https://localhost:8080/"
        },
        "id": "b3glTBaWAbRo",
        "outputId": "f9486754-bf10-4802-bf39-66345be12fa6"
      },
      "execution_count": 48,
      "outputs": [
        {
          "output_type": "execute_result",
          "data": {
            "text/plain": [
              "<tf.Tensor: shape=(224, 224, 3), dtype=float32, numpy=\n",
              "array([[[0.6645621 , 0.44100678, 0.3528825 ],\n",
              "        [0.46448255, 0.03366041, 0.68467236],\n",
              "        [0.74011743, 0.8724445 , 0.22632635],\n",
              "        ...,\n",
              "        [0.42612267, 0.09686017, 0.16105258],\n",
              "        [0.1487099 , 0.04513884, 0.9497483 ],\n",
              "        [0.4393103 , 0.28527975, 0.96971095]],\n",
              "\n",
              "       [[0.73308516, 0.5657046 , 0.33238935],\n",
              "        [0.8838178 , 0.87544763, 0.56711245],\n",
              "        [0.8879347 , 0.47661996, 0.42041814],\n",
              "        ...,\n",
              "        [0.7716515 , 0.9116473 , 0.3229897 ],\n",
              "        [0.43050945, 0.83253574, 0.45549798],\n",
              "        [0.29816985, 0.9639522 , 0.3316357 ]],\n",
              "\n",
              "       [[0.41132426, 0.2179662 , 0.53570235],\n",
              "        [0.5112119 , 0.6484759 , 0.8894886 ],\n",
              "        [0.42459428, 0.20189774, 0.85781324],\n",
              "        ...,\n",
              "        [0.02888799, 0.3995477 , 0.11355484],\n",
              "        [0.68524575, 0.04945195, 0.17778492],\n",
              "        [0.97627187, 0.79811585, 0.9411576 ]],\n",
              "\n",
              "       ...,\n",
              "\n",
              "       [[0.9019445 , 0.27011132, 0.8090267 ],\n",
              "        [0.32395256, 0.6672456 , 0.940673  ],\n",
              "        [0.7166116 , 0.8860713 , 0.6777594 ],\n",
              "        ...,\n",
              "        [0.8318608 , 0.39227867, 0.68916583],\n",
              "        [0.1599741 , 0.46428144, 0.4656595 ],\n",
              "        [0.8619243 , 0.24755931, 0.33835268]],\n",
              "\n",
              "       [[0.47570062, 0.09377229, 0.11811328],\n",
              "        [0.0523994 , 0.38206005, 0.12188685],\n",
              "        [0.2757113 , 0.44918692, 0.9179864 ],\n",
              "        ...,\n",
              "        [0.4974177 , 0.4562863 , 0.8261535 ],\n",
              "        [0.60251105, 0.27676368, 0.258716  ],\n",
              "        [0.7977431 , 0.74125385, 0.76062095]],\n",
              "\n",
              "       [[0.4755299 , 0.4661665 , 0.14167643],\n",
              "        [0.9103775 , 0.41117966, 0.83182037],\n",
              "        [0.79765654, 0.38330686, 0.5313202 ],\n",
              "        ...,\n",
              "        [0.94517136, 0.17730081, 0.00362825],\n",
              "        [0.6170398 , 0.9977623 , 0.8315122 ],\n",
              "        [0.6683676 , 0.68716586, 0.4447713 ]]], dtype=float32)>"
            ]
          },
          "metadata": {},
          "execution_count": 48
        }
      ]
    },
    {
      "cell_type": "markdown",
      "source": [
        "### 7.Find the min and max values of the tensor you created in 6 along the first axis."
      ],
      "metadata": {
        "id": "1Y8NJvUjBB5a"
      }
    },
    {
      "cell_type": "code",
      "source": [
        "# find the minimum using tf.reduce_min()\n",
        "tf.reduce_min(C)"
      ],
      "metadata": {
        "colab": {
          "base_uri": "https://localhost:8080/"
        },
        "id": "aQLONaF6BOdU",
        "outputId": "0c4e731e-3421-4842-bdc0-152dd1fe1629"
      },
      "execution_count": 50,
      "outputs": [
        {
          "output_type": "execute_result",
          "data": {
            "text/plain": [
              "<tf.Tensor: shape=(), dtype=float32, numpy=3.5762787e-07>"
            ]
          },
          "metadata": {},
          "execution_count": 50
        }
      ]
    },
    {
      "cell_type": "code",
      "source": [
        "# find the maximum using tf.reduce_max()\n",
        "tf.reduce_max(C)"
      ],
      "metadata": {
        "colab": {
          "base_uri": "https://localhost:8080/"
        },
        "id": "CTJNl0VCBtFR",
        "outputId": "46bb6cb4-39aa-4c6a-eef1-a1fbf60af7ce"
      },
      "execution_count": 51,
      "outputs": [
        {
          "output_type": "execute_result",
          "data": {
            "text/plain": [
              "<tf.Tensor: shape=(), dtype=float32, numpy=0.999998>"
            ]
          },
          "metadata": {},
          "execution_count": 51
        }
      ]
    },
    {
      "cell_type": "markdown",
      "source": [
        "### 8.Created a tensor with random values of shape `[1, 224, 224, 3]` then squeeze it to change the shape to `[224, 224, 3]`."
      ],
      "metadata": {
        "id": "4cnt9aFXB7zR"
      }
    },
    {
      "cell_type": "code",
      "source": [
        "# Create tensor with random values of shape [1, 224, 244, 3]\n",
        "# set seed = 42\n",
        "tf.random.set_seed(42)\n",
        "\n",
        "# using tf.random.uniform and set shape = [1, 244, 244, 3] containing to D\n",
        "D = tf.random.uniform(shape=[1, 244, 244, 3])\n",
        "D, D.shape"
      ],
      "metadata": {
        "colab": {
          "base_uri": "https://localhost:8080/"
        },
        "id": "xlhDY3zmCFW4",
        "outputId": "58d52532-7177-403e-f30b-da9f796b9e71"
      },
      "execution_count": 55,
      "outputs": [
        {
          "output_type": "execute_result",
          "data": {
            "text/plain": [
              "(<tf.Tensor: shape=(1, 244, 244, 3), dtype=float32, numpy=\n",
              " array([[[[0.6645621 , 0.44100678, 0.3528825 ],\n",
              "          [0.46448255, 0.03366041, 0.68467236],\n",
              "          [0.74011743, 0.8724445 , 0.22632635],\n",
              "          ...,\n",
              "          [0.14993274, 0.95743346, 0.0678556 ],\n",
              "          [0.33755875, 0.2586832 , 0.31682265],\n",
              "          [0.12932086, 0.6521549 , 0.6951654 ]],\n",
              " \n",
              "         [[0.26241148, 0.36942792, 0.53326666],\n",
              "          [0.2040397 , 0.21521878, 0.48851562],\n",
              "          [0.5410471 , 0.55548096, 0.46440542],\n",
              "          ...,\n",
              "          [0.9536427 , 0.66850245, 0.50709856],\n",
              "          [0.560426  , 0.6647233 , 0.1626333 ],\n",
              "          [0.56197023, 0.4659928 , 0.8837141 ]],\n",
              " \n",
              "         [[0.67773116, 0.88375974, 0.7615204 ],\n",
              "          [0.53757155, 0.5554961 , 0.3356905 ],\n",
              "          [0.7514802 , 0.10988402, 0.46292984],\n",
              "          ...,\n",
              "          [0.28655422, 0.00708723, 0.39797664],\n",
              "          [0.32293415, 0.68600273, 0.2258904 ],\n",
              "          [0.3624704 , 0.2741145 , 0.6718725 ]],\n",
              " \n",
              "         ...,\n",
              " \n",
              "         [[0.1581651 , 0.0120461 , 0.37919486],\n",
              "          [0.5001323 , 0.8272053 , 0.22083938],\n",
              "          [0.3060074 , 0.79719913, 0.943571  ],\n",
              "          ...,\n",
              "          [0.87691283, 0.07822609, 0.02516437],\n",
              "          [0.76372766, 0.3627776 , 0.6275084 ],\n",
              "          [0.08343816, 0.27704644, 0.7373805 ]],\n",
              " \n",
              "         [[0.438125  , 0.6665685 , 0.17449224],\n",
              "          [0.22584939, 0.79596007, 0.5488591 ],\n",
              "          [0.22034144, 0.79884017, 0.62174785],\n",
              "          ...,\n",
              "          [0.08197904, 0.9438381 , 0.07644618],\n",
              "          [0.8251891 , 0.99572563, 0.9366641 ],\n",
              "          [0.22721207, 0.5737803 , 0.36763227]],\n",
              " \n",
              "         [[0.62615466, 0.08960044, 0.9523599 ],\n",
              "          [0.45630825, 0.18031716, 0.2717396 ],\n",
              "          [0.41115046, 0.77536   , 0.2236408 ],\n",
              "          ...,\n",
              "          [0.1636014 , 0.28872573, 0.04311168],\n",
              "          [0.30812   , 0.18930984, 0.7547977 ],\n",
              "          [0.91364396, 0.26925588, 0.77478504]]]], dtype=float32)>,\n",
              " TensorShape([1, 244, 244, 3]))"
            ]
          },
          "metadata": {},
          "execution_count": 55
        }
      ]
    },
    {
      "cell_type": "code",
      "source": [
        "# using tf.squeeze() to change shape\n",
        "D_squeeze = tf.squeeze(D)\n",
        "D_squeeze, D_squeeze.shape"
      ],
      "metadata": {
        "colab": {
          "base_uri": "https://localhost:8080/"
        },
        "id": "eASe4tXWCdoN",
        "outputId": "fdbe3c82-86d4-4be6-c03b-7b613c075b19"
      },
      "execution_count": 56,
      "outputs": [
        {
          "output_type": "execute_result",
          "data": {
            "text/plain": [
              "(<tf.Tensor: shape=(244, 244, 3), dtype=float32, numpy=\n",
              " array([[[0.6645621 , 0.44100678, 0.3528825 ],\n",
              "         [0.46448255, 0.03366041, 0.68467236],\n",
              "         [0.74011743, 0.8724445 , 0.22632635],\n",
              "         ...,\n",
              "         [0.14993274, 0.95743346, 0.0678556 ],\n",
              "         [0.33755875, 0.2586832 , 0.31682265],\n",
              "         [0.12932086, 0.6521549 , 0.6951654 ]],\n",
              " \n",
              "        [[0.26241148, 0.36942792, 0.53326666],\n",
              "         [0.2040397 , 0.21521878, 0.48851562],\n",
              "         [0.5410471 , 0.55548096, 0.46440542],\n",
              "         ...,\n",
              "         [0.9536427 , 0.66850245, 0.50709856],\n",
              "         [0.560426  , 0.6647233 , 0.1626333 ],\n",
              "         [0.56197023, 0.4659928 , 0.8837141 ]],\n",
              " \n",
              "        [[0.67773116, 0.88375974, 0.7615204 ],\n",
              "         [0.53757155, 0.5554961 , 0.3356905 ],\n",
              "         [0.7514802 , 0.10988402, 0.46292984],\n",
              "         ...,\n",
              "         [0.28655422, 0.00708723, 0.39797664],\n",
              "         [0.32293415, 0.68600273, 0.2258904 ],\n",
              "         [0.3624704 , 0.2741145 , 0.6718725 ]],\n",
              " \n",
              "        ...,\n",
              " \n",
              "        [[0.1581651 , 0.0120461 , 0.37919486],\n",
              "         [0.5001323 , 0.8272053 , 0.22083938],\n",
              "         [0.3060074 , 0.79719913, 0.943571  ],\n",
              "         ...,\n",
              "         [0.87691283, 0.07822609, 0.02516437],\n",
              "         [0.76372766, 0.3627776 , 0.6275084 ],\n",
              "         [0.08343816, 0.27704644, 0.7373805 ]],\n",
              " \n",
              "        [[0.438125  , 0.6665685 , 0.17449224],\n",
              "         [0.22584939, 0.79596007, 0.5488591 ],\n",
              "         [0.22034144, 0.79884017, 0.62174785],\n",
              "         ...,\n",
              "         [0.08197904, 0.9438381 , 0.07644618],\n",
              "         [0.8251891 , 0.99572563, 0.9366641 ],\n",
              "         [0.22721207, 0.5737803 , 0.36763227]],\n",
              " \n",
              "        [[0.62615466, 0.08960044, 0.9523599 ],\n",
              "         [0.45630825, 0.18031716, 0.2717396 ],\n",
              "         [0.41115046, 0.77536   , 0.2236408 ],\n",
              "         ...,\n",
              "         [0.1636014 , 0.28872573, 0.04311168],\n",
              "         [0.30812   , 0.18930984, 0.7547977 ],\n",
              "         [0.91364396, 0.26925588, 0.77478504]]], dtype=float32)>,\n",
              " TensorShape([244, 244, 3]))"
            ]
          },
          "metadata": {},
          "execution_count": 56
        }
      ]
    },
    {
      "cell_type": "markdown",
      "source": [
        "### 9.Create a tensor with shape [10] using your own choice of values, then find the index which has the maximum value."
      ],
      "metadata": {
        "id": "B5eyG76XDNsK"
      }
    },
    {
      "cell_type": "code",
      "source": [
        "# create a tensor with shape 10\n",
        "# set seed = 42\n",
        "tf.random.set_seed(42)\n",
        "\n",
        "# using tf.random.uniform() to create tensor\n",
        "E = tf.random.uniform(shape=[10])\n",
        "E"
      ],
      "metadata": {
        "colab": {
          "base_uri": "https://localhost:8080/"
        },
        "id": "NEeKM3ZgDbDF",
        "outputId": "d62b543e-d3ea-45e8-c153-9ec59e2eb6e5"
      },
      "execution_count": 59,
      "outputs": [
        {
          "output_type": "execute_result",
          "data": {
            "text/plain": [
              "<tf.Tensor: shape=(10,), dtype=float32, numpy=\n",
              "array([0.6645621 , 0.44100678, 0.3528825 , 0.46448255, 0.03366041,\n",
              "       0.68467236, 0.74011743, 0.8724445 , 0.22632635, 0.22319686],\n",
              "      dtype=float32)>"
            ]
          },
          "metadata": {},
          "execution_count": 59
        }
      ]
    },
    {
      "cell_type": "code",
      "source": [
        "# Find the index which has the maximum using tf.argmax() in tensor E\n",
        "E[tf.argmax(E)]"
      ],
      "metadata": {
        "colab": {
          "base_uri": "https://localhost:8080/"
        },
        "id": "HPPUqdiUDpzP",
        "outputId": "96ae8c62-b075-4e24-c7d7-41a3e49f709e"
      },
      "execution_count": 62,
      "outputs": [
        {
          "output_type": "execute_result",
          "data": {
            "text/plain": [
              "<tf.Tensor: shape=(), dtype=float32, numpy=0.8724445>"
            ]
          },
          "metadata": {},
          "execution_count": 62
        }
      ]
    },
    {
      "cell_type": "markdown",
      "source": [
        "# 10.One-hot encode the tensor you created in 9."
      ],
      "metadata": {
        "id": "4vpD6mbPD-Op"
      }
    },
    {
      "cell_type": "code",
      "source": [
        "# One-hot encoder using tf.one_hot()\n",
        "# change dtype from float to int32\n",
        "E = tf.cast(E, dtype=tf.int32)\n",
        "\n",
        "# using tf.one_hot() to encode chage the shape to one hot tensor\n",
        "tf.one_hot(E, depth=3)"
      ],
      "metadata": {
        "colab": {
          "base_uri": "https://localhost:8080/"
        },
        "id": "A7pY6EJcEkWY",
        "outputId": "add01739-e907-4515-a45b-8774823ae177"
      },
      "execution_count": 73,
      "outputs": [
        {
          "output_type": "execute_result",
          "data": {
            "text/plain": [
              "<tf.Tensor: shape=(10, 3), dtype=float32, numpy=\n",
              "array([[1., 0., 0.],\n",
              "       [1., 0., 0.],\n",
              "       [1., 0., 0.],\n",
              "       [1., 0., 0.],\n",
              "       [1., 0., 0.],\n",
              "       [1., 0., 0.],\n",
              "       [1., 0., 0.],\n",
              "       [1., 0., 0.],\n",
              "       [1., 0., 0.],\n",
              "       [1., 0., 0.]], dtype=float32)>"
            ]
          },
          "metadata": {},
          "execution_count": 73
        }
      ]
    },
    {
      "cell_type": "code",
      "source": [
        ""
      ],
      "metadata": {
        "id": "vJygWTuNEz8w"
      },
      "execution_count": null,
      "outputs": []
    }
  ]
}